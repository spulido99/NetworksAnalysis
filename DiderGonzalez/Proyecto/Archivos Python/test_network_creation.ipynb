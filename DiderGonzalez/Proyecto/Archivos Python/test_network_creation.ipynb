{
 "cells": [
  {
   "cell_type": "code",
   "execution_count": 10,
   "metadata": {
    "collapsed": false
   },
   "outputs": [],
   "source": [
    "import networkx as nx\n",
    "from networkx.algorithms import bipartite\n",
    "import matplotlib.pyplot as plt\n",
    "import seaborn as sns\n",
    "import numpy as np\n",
    "from scipy.stats import powerlaw\n",
    "%matplotlib inline\n",
    "sns.set()\n",
    "\n",
    "all_edges = set()\n",
    "with open('Relacion_autores.txt') as f:\n",
    "    for line in f:\n",
    "        users = line.replace('\\n','').split(',')\n",
    "        for user1 in users:\n",
    "            for user2 in users:\n",
    "                if ((user1,user2) not in all_edges and (user2,user1) not in all_edges) and (user1 != user2) and (user1 != \"\") and (user2 != \"\"):\n",
    "                    all_edges.add((user1,user2))\n",
    "    \n",
    "edges_file = open('users_network.txt', 'w')\n",
    "\n",
    "\n",
    "for k, v in sorted(all_edges):\n",
    "    print(k+';'+v, file=edges_file)"
   ]
  },
  {
   "cell_type": "code",
   "execution_count": null,
   "metadata": {
    "collapsed": true
   },
   "outputs": [],
   "source": []
  },
  {
   "cell_type": "code",
   "execution_count": 11,
   "metadata": {
    "collapsed": true
   },
   "outputs": [],
   "source": [
    "all_edges_gephi = set()\n",
    "with open('Relacion_autores.txt') as f:\n",
    "    for line_gephi in f:\n",
    "        users_gephi = line_gephi.replace('\\n','').split(',')\n",
    "        for user1_gephi in users_gephi:\n",
    "            for user2_gephi in users_gephi:\n",
    "                if ((user1_gephi,user2_gephi) not in all_edges_gephi and (user2_gephi,user1_gephi) not in all_edges_gephi) and (user1_gephi != user2_gephi) and (user1_gephi != \"\") and (user2_gephi != \"\"):\n",
    "                    all_edges_gephi.add((user1_gephi,user2_gephi))\n",
    "    \n",
    "edges_file = open('gephi_users_network.txt', 'w')\n",
    "\n",
    "print('Source;Target;Type', file=edges_file)\n",
    "for k, v in sorted(all_edges_gephi):\n",
    "    print(k+';'+v+';'+'undirected', file=edges_file)"
   ]
  },
  {
   "cell_type": "code",
   "execution_count": null,
   "metadata": {
    "collapsed": true
   },
   "outputs": [],
   "source": []
  }
 ],
 "metadata": {
  "kernelspec": {
   "display_name": "Python 3",
   "language": "python",
   "name": "python3"
  },
  "language_info": {
   "codemirror_mode": {
    "name": "ipython",
    "version": 3
   },
   "file_extension": ".py",
   "mimetype": "text/x-python",
   "name": "python",
   "nbconvert_exporter": "python",
   "pygments_lexer": "ipython3",
   "version": "3.6.0"
  }
 },
 "nbformat": 4,
 "nbformat_minor": 2
}
