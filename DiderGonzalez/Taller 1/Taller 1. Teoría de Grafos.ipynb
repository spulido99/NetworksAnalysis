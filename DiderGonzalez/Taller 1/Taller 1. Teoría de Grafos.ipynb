{
 "cells": [
  {
   "cell_type": "markdown",
   "metadata": {},
   "source": [
    "# Aerolínea: Mejor lugar para vivir\n",
    "\n",
    "Una aerolínea tiene las siguientes rutas desde las ciudades a las que sirve (cada par tiene servicio en ambas direcciones).\n",
    "\n",
    "(Similar al Ejercicio 2.3 de los Ejercicios 1.1)"
   ]
  },
  {
   "cell_type": "code",
   "execution_count": 5,
   "metadata": {
    "collapsed": false
   },
   "outputs": [],
   "source": [
    "# Se agrega la distancia en Kilometros, tomada de https://www.timeanddate.com/worldclock/distance.html\n",
    "routemap =  [('St. Louis', 'Miami',1707), \n",
    "             ('St. Louis', 'San Diego',2518), \n",
    "             ('St. Louis', 'Chicago',422), \n",
    "             ('San Diego', 'Chicago',2792), \n",
    "             ('San Diego', 'San Francisco',737), \n",
    "             ('San Diego', 'Minneapolis',2466), \n",
    "             ('San Diego', 'Boston',4159), \n",
    "             ('San Diego', 'Portland(Maine)',4224), \n",
    "             ('San Diego', 'Seattle',1712), \n",
    "             ('Tulsa', 'New York',1979), \n",
    "             ('Tulsa', 'Dallas',382), \n",
    "             ('Phoenix', 'Cleveland(Ohio)',2815), \n",
    "             ('Phoenix', 'Denver',943), \n",
    "             ('Phoenix', 'Dallas',1426), \n",
    "             ('Chicago', 'New York',1147), \n",
    "             ('Chicago', 'Los Angeles',2811), \n",
    "             ('Miami', 'New York',1753), \n",
    "             ('Miami', 'Philadelphia',1641), \n",
    "             ('Miami', 'Denver',2778), \n",
    "             ('Boston', 'Atlanta(Georgia)',1506), \n",
    "             ('Dallas', 'Cleveland(Ohio)',1651), \n",
    "             ('Dallas', 'Albuquerque',946), \n",
    "             ('Philadelphia', 'Atlanta(Georgia)',1070), \n",
    "             ('Denver', 'Minneapolis',1125), \n",
    "             ('Denver', 'Cleveland(Ohio)',1975), \n",
    "             ('Albuquerque', 'Atlanta(Georgia)',2048), \n",
    "             ('Minneapolis', 'Portland(Maine)',1836), \n",
    "             ('Los Angeles', 'Seattle',1545), \n",
    "             ('San Francisco', 'Portland(Maine)',4382), \n",
    "             ('San Francisco', 'Seattle',1093), \n",
    "             ('San Francisco', 'Cleveland(Ohio)',3488), \n",
    "             ('Seattle', 'Portland(Maine)',4008)]"
   ]
  },
  {
   "cell_type": "code",
   "execution_count": 13,
   "metadata": {
    "collapsed": false
   },
   "outputs": [],
   "source": [
    "import matplotlib\n",
    "%matplotlib inline\n",
    "import networkx as nx\n",
    "G = nx.Graph()\n",
    "G.add_weighted_edges_from(routemap)\n"
   ]
  },
  {
   "cell_type": "markdown",
   "metadata": {},
   "source": [
    "+ Calcule la distancia entre cada par de ciudades, añada esa distancia como pesos de la red.\n",
    "\n",
    "Imprima la nueva red con pesos"
   ]
  },
  {
   "cell_type": "code",
   "execution_count": 26,
   "metadata": {
    "collapsed": false
   },
   "outputs": [
    {
     "name": "stdout",
     "output_type": "stream",
     "text": [
      "\n"
     ]
    }
   ],
   "source": [
    "print(G)"
   ]
  },
  {
   "cell_type": "markdown",
   "metadata": {},
   "source": [
    "+ Cuál es el máximo número de intercambios que tendría que hacer un pasajero en un solo viaje entre dos ciudades servidas? (suponiendo rutas óptimas)"
   ]
  },
  {
   "cell_type": "code",
   "execution_count": null,
   "metadata": {
    "collapsed": true
   },
   "outputs": [],
   "source": []
  },
  {
   "cell_type": "markdown",
   "metadata": {},
   "source": [
    "+ Si usted necesitara viajar mucho en esta aerolínea, cual sería el lugar óptimo para vivir? (i.e. minimizar el tiempo de viaje para llegar a cualquier ciudad. Asuma que el tiempo entre intercambios es de 1 hora y que los aviones viajan a 500 km/hora)"
   ]
  },
  {
   "cell_type": "code",
   "execution_count": null,
   "metadata": {
    "collapsed": true
   },
   "outputs": [],
   "source": []
  },
  {
   "cell_type": "markdown",
   "metadata": {},
   "source": [
    "+ Calcule diferentes medidas de centralidad. Es el nodo que escogió para vivir el más importante según estas medidas? Explique"
   ]
  },
  {
   "cell_type": "code",
   "execution_count": null,
   "metadata": {
    "collapsed": true
   },
   "outputs": [],
   "source": []
  },
  {
   "cell_type": "markdown",
   "metadata": {},
   "source": [
    "# Modelos Generativos\n",
    "\n",
    "__Simulación de Red de Citaciones__ (Similar al Ejercicio 1.2.1 de los Ejercicios 1.4)\n",
    "\n",
    "Con un número de papers _N = 1000_. Los papers van a ser publicados en orden (primero 1, después 2, etc.) Defina el promedio de citaciones de cada paper (e.g. 3 citaciones). Cree un grupo inicial de papers. Cada nuevo paper tendrá ___c___ citaciones. Esas citaciones van a ser a papers ya existentes y proporcional al número de papers que citan a cada paper. \n",
    "\n",
    "+ Cree una red con estas propiedades"
   ]
  },
  {
   "cell_type": "code",
   "execution_count": null,
   "metadata": {
    "collapsed": true
   },
   "outputs": [],
   "source": []
  },
  {
   "cell_type": "markdown",
   "metadata": {},
   "source": [
    "+ Compare la distribución de grados de esta red con una red aleatoria con el mismo número de nodos y enlaces"
   ]
  },
  {
   "cell_type": "code",
   "execution_count": null,
   "metadata": {
    "collapsed": true
   },
   "outputs": [],
   "source": []
  },
  {
   "cell_type": "markdown",
   "metadata": {},
   "source": [
    "+ Calcule 5 diferentes medidas de centralidad para esta red (incluyendo degree centrality, i.e. descubra los Hubs)"
   ]
  },
  {
   "cell_type": "code",
   "execution_count": null,
   "metadata": {
    "collapsed": true
   },
   "outputs": [],
   "source": []
  },
  {
   "cell_type": "markdown",
   "metadata": {},
   "source": [
    "+ Cree 10 nuevas redes con este proceso y compare cuáles son los nodos que se vuelven Hubs y tienen altos niveles de centralidad\n",
    "    + Son siempre los mismos nodos los que se vuelven hubs y tienen alta centralidad?\n",
    "    + Cómo estas obsrevaciones tiene relación con la vida real?"
   ]
  },
  {
   "cell_type": "code",
   "execution_count": null,
   "metadata": {
    "collapsed": true
   },
   "outputs": [],
   "source": []
  },
  {
   "cell_type": "markdown",
   "metadata": {},
   "source": [
    "+ Cuantos componentes tiene la red? (Explique por qué)"
   ]
  },
  {
   "cell_type": "code",
   "execution_count": null,
   "metadata": {
    "collapsed": true
   },
   "outputs": [],
   "source": []
  }
 ],
 "metadata": {
  "kernelspec": {
   "display_name": "Python 3",
   "language": "python",
   "name": "python3"
  },
  "language_info": {
   "codemirror_mode": {
    "name": "ipython",
    "version": 3
   },
   "file_extension": ".py",
   "mimetype": "text/x-python",
   "name": "python",
   "nbconvert_exporter": "python",
   "pygments_lexer": "ipython3",
   "version": "3.6.0"
  },
  "toc": {
   "colors": {
    "hover_highlight": "#DAA520",
    "running_highlight": "#FF0000",
    "selected_highlight": "#FFD700"
   },
   "moveMenuLeft": true,
   "nav_menu": {
    "height": "49px",
    "width": "252px"
   },
   "navigate_menu": true,
   "number_sections": true,
   "sideBar": true,
   "threshold": 4,
   "toc_cell": false,
   "toc_section_display": "block",
   "toc_window_display": false
  }
 },
 "nbformat": 4,
 "nbformat_minor": 1
}
