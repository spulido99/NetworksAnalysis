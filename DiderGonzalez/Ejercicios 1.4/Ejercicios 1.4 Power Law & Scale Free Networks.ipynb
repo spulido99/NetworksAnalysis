{
 "cells": [
  {
   "cell_type": "markdown",
   "metadata": {},
   "source": [
    "# Ejercicios Power Law & Scale Free Network"
   ]
  },
  {
   "cell_type": "markdown",
   "metadata": {},
   "source": [
    "## Power Law Distribution\n",
    "\n",
    "Grafique en Log-Log la distribución de grados de una red de escala libre (una red real o creada).\n",
    "\n",
    "Calcule el coeficiente de la power law graficada."
   ]
  },
  {
   "cell_type": "code",
   "execution_count": 23,
   "metadata": {
    "collapsed": false
   },
   "outputs": [
    {
     "name": "stderr",
     "output_type": "stream",
     "text": [
      "/Users/didergonzalezarroyave/anaconda/lib/python3.6/site-packages/statsmodels/nonparametric/kdetools.py:20: VisibleDeprecationWarning: using a non-integer number instead of an integer will result in an error in the future\n",
      "  y = X[:m/2+1] + np.r_[0,X[m/2+1:],0]*1j\n"
     ]
    },
    {
     "data": {
      "text/plain": [
       "<matplotlib.axes._subplots.AxesSubplot at 0x1181541d0>"
      ]
     },
     "execution_count": 23,
     "metadata": {},
     "output_type": "execute_result"
    },
    {
     "data": {
      "image/png": "[encoded data removed]",
      "text/plain": [
       "<matplotlib.figure.Figure at 0x10c76dc88>"
      ]
     },
     "metadata": {},
     "output_type": "display_data"
    }
   ],
   "source": [
    "import numpy as np\n",
    "from scipy.stats import powerlaw\n",
    "import scipy as sp\n",
    "import seaborn as sns\n",
    "sns.set()\n",
    "%matplotlib inline\n",
    "\n",
    "edges =[]\n",
    "for line in open('facebook_combined.txt'):\n",
    "    if line[0] != '#':\n",
    "        # print(line.replace('\\n','').split(' ')) # \\n es salto de linea, .split(' ') -> separar por espacio, .split('\\t') -> si esta separado por tabulación\n",
    "        d = line.replace('\\n','').split(' ')\n",
    "        edges.append((d[0],d[1]))\n",
    "#print(edges)\n",
    "import networkx as nx\n",
    "G = nx.Graph()  # G = nx.Graph(edges), otro modo de crear el grafo\n",
    "G.add_edges_from(edges)\n",
    "degrees = [degree for _, degree in G.degree().items()]\n",
    "\n",
    "\n",
    "# print(degrees)\n",
    "\n",
    "\n",
    "\n",
    "sns.distplot(degrees)\n"
   ]
  },
  {
   "cell_type": "code",
   "execution_count": 28,
   "metadata": {
    "collapsed": false
   },
   "outputs": [
    {
     "name": "stderr",
     "output_type": "stream",
     "text": [
      "/Users/didergonzalezarroyave/anaconda/lib/python3.6/site-packages/statsmodels/nonparametric/kdetools.py:20: VisibleDeprecationWarning: using a non-integer number instead of an integer will result in an error in the future\n",
      "  y = X[:m/2+1] + np.r_[0,X[m/2+1:],0]*1j\n"
     ]
    },
    {
     "data": {
      "image/png": "[encoded data removed]",
      "text/plain": [
       "<matplotlib.figure.Figure at 0x11b7ed7b8>"
      ]
     },
     "metadata": {},
     "output_type": "display_data"
    }
   ],
   "source": [
    "e, l, s = sp.stats.powerlaw.fit(degrees)\n",
    "e, l, s\n",
    "ax = sns.distplot(sp.stats.powerlaw.rvs(e, l, s, size=100000))"
   ]
  },
  {
   "cell_type": "code",
   "execution_count": 29,
   "metadata": {
    "collapsed": false
   },
   "outputs": [
    {
     "data": {
      "text/plain": [
       "(array([ 173.,  192.,  400.,  712.,  869.,  804.,  593.,  289.,    3.,    4.]),\n",
       " array([ 0.        ,  0.69517722,  1.39035443,  2.08553165,  2.78070887,\n",
       "         3.47588608,  4.1710633 ,  4.86624052,  5.56141773,  6.25659495,\n",
       "         6.95177216]),\n",
       " <a list of 10 Patch objects>)"
      ]
     },
     "execution_count": 29,
     "metadata": {},
     "output_type": "execute_result"
    },
    {
     "data": {
      "image/png": "[encoded data removed]",
      "text/plain": [
       "<matplotlib.figure.Figure at 0x11b01ccc0>"
      ]
     },
     "metadata": {},
     "output_type": "display_data"
    }
   ],
   "source": [
    "import matplotlib.pyplot as plt\n",
    "log = np.log(degrees)\n",
    "plt.hist(log, log=True)"
   ]
  },
  {
   "cell_type": "markdown",
   "metadata": {},
   "source": [
    "## Generative Network Model\n",
    "\n",
    "### Simulación de Red de Citaciones\n",
    "\n",
    "Defina un número de papers N. Los papers van a ser publicados en orden (primero 1, después 2, etc.) Defina el promedio de citaciones de cada paper (e.g. 3 citaciones). Cree un grupo inicial de papers. Cada nuevo paper tendrá c citaciones. Esas citaciones van a ser a papers ya existentes y proporcional al número de papers que citan a cada paper.\n",
    "Se crearon Hubs? Cuál es la distribución de grados de la red?"
   ]
  },
  {
   "cell_type": "code",
   "execution_count": null,
   "metadata": {
    "collapsed": true
   },
   "outputs": [],
   "source": [
    "a,b,l,s = sp.stats.fit(r)\n",
    "(a,b,l,s)"
   ]
  },
  {
   "cell_type": "markdown",
   "metadata": {},
   "source": [
    "### Simulación Red de Proteinas\n",
    "\n",
    "Cuando un gen se duplica y evoluciona, el nuevo gen mantiene interacción a las mismas proteínas con las que trabaja el gen inicial y a algunas nuevas. El gen original pierde algunas de sus interacciones. Genere una red aleatoria y después cree N genes que sigan este esquema."
   ]
  },
  {
   "cell_type": "code",
   "execution_count": null,
   "metadata": {
    "collapsed": true
   },
   "outputs": [],
   "source": []
  },
  {
   "cell_type": "markdown",
   "metadata": {},
   "source": [
    "### Se repite la historia?\n",
    "\n",
    "Repetir alguno de los ejercicios anteriores varias veces. Siempre es el mismo nodo el que termina teniendo el mayor número de enlaces?"
   ]
  },
  {
   "cell_type": "code",
   "execution_count": null,
   "metadata": {
    "collapsed": true
   },
   "outputs": [],
   "source": []
  },
  {
   "cell_type": "code",
   "execution_count": null,
   "metadata": {
    "collapsed": true
   },
   "outputs": [],
   "source": []
  }
 ],
 "metadata": {
  "anaconda-cloud": {},
  "hide_input": false,
  "kernelspec": {
   "display_name": "Python 3",
   "language": "python",
   "name": "python3"
  },
  "language_info": {
   "codemirror_mode": {
    "name": "ipython",
    "version": 3
   },
   "file_extension": ".py",
   "mimetype": "text/x-python",
   "name": "python",
   "nbconvert_exporter": "python",
   "pygments_lexer": "ipython3",
   "version": "3.6.0"
  },
  "toc": {
   "colors": {
    "hover_highlight": "#DAA520",
    "running_highlight": "#FF0000",
    "selected_highlight": "#FFD700"
   },
   "moveMenuLeft": true,
   "nav_menu": {
    "height": "140px",
    "width": "252px"
   },
   "navigate_menu": true,
   "number_sections": true,
   "sideBar": true,
   "threshold": 4,
   "toc_cell": false,
   "toc_section_display": "block",
   "toc_window_display": false
  }
 },
 "nbformat": 4,
 "nbformat_minor": 1
}
