{
 "cells": [
  {
   "cell_type": "code",
   "execution_count": 6,
   "metadata": {
    "collapsed": false,
    "scrolled": true
   },
   "outputs": [
    {
     "data": {
      "image/png": "[encoded data removed]",
      "text/plain": [
       "<matplotlib.figure.Figure at 0x7fa1193a0a10>"
      ]
     },
     "metadata": {},
     "output_type": "display_data"
    }
   ],
   "source": [
    "    #!/usr/bin/env python\n",
    "    # -*- coding: utf-8 -*-\n",
    "    from matplotlib import pyplot\n",
    "    # Función cuadrática.\n",
    "    def f1(x):\n",
    "        return 2*(x**2) + 5*x - 2\n",
    "    # Función lineal.\n",
    "    def f2(x):\n",
    "        return 4*x + 1\n",
    "    # Valores del eje X que toma el gráfico.\n",
    "    x = range(-10, 15)\n",
    "    # Graficar ambas funciones.\n",
    "    pyplot.plot(x, [f1(i) for i in x])\n",
    "    pyplot.plot(x, [f2(i) for i in x])\n",
    "    # Establecer el color de los ejes.\n",
    "    pyplot.axhline(0, color=\"black\")\n",
    "    pyplot.axvline(0, color=\"black\")\n",
    "    # Limitar los valores de los ejes.\n",
    "    pyplot.xlim(-10, 10)\n",
    "    pyplot.ylim(-10, 10)\n",
    "    # Guardar gráfico como imágen PNG.\n",
    "    pyplot.savefig(\"output.png\")\n",
    "    # Mostrarlo.\n",
    "    pyplot.show()"
   ]
  },
  {
   "cell_type": "code",
   "execution_count": 15,
   "metadata": {
    "collapsed": false
   },
   "outputs": [
    {
     "ename": "IndentationError",
     "evalue": "unexpected indent (<ipython-input-15-d0936f917e5f>, line 4)",
     "output_type": "error",
     "traceback": [
      "\u001b[0;36m  File \u001b[0;32m\"<ipython-input-15-d0936f917e5f>\"\u001b[0;36m, line \u001b[0;32m4\u001b[0m\n\u001b[0;31m    def densidad(a,b):\u001b[0m\n\u001b[0m    ^\u001b[0m\n\u001b[0;31mIndentationError\u001b[0m\u001b[0;31m:\u001b[0m unexpected indent\n"
     ]
    }
   ],
   "source": [
    "from scipy import stats\n",
    "# Graficando Beta\n",
    "a, b = 5, 1 # parametros de forma.\n",
    "   def densidad(a,b):\n",
    "       \n",
    "beta = stats.beta(a, b)\n",
    "x = np.linspace(beta.ppf(0.01),\n",
    "                beta.ppf(0.99), 100)\n",
    "fp = beta.pdf(x) # Función de Probabilidad\n",
    "return beta\n",
    "plt.plot(x, fp)\n",
    "plt.title('Distribucion Beta')\n",
    "plt.ylabel('probabilidad')\n",
    "plt.xlabel('valores')\n",
    "plt.xlim(0, 1)\n",
    "plt.ylim(0, 2.5)\n",
    "plt.show()"
   ]
  },
  {
   "cell_type": "code",
   "execution_count": null,
   "metadata": {
    "collapsed": true
   },
   "outputs": [],
   "source": []
  }
 ],
 "metadata": {
  "kernelspec": {
   "display_name": "Python 2",
   "language": "python",
   "name": "python2"
  },
  "language_info": {
   "codemirror_mode": {
    "name": "ipython",
    "version": 2
   },
   "file_extension": ".py",
   "mimetype": "text/x-python",
   "name": "python",
   "nbconvert_exporter": "python",
   "pygments_lexer": "ipython2",
   "version": "2.7.13"
  }
 },
 "nbformat": 4,
 "nbformat_minor": 2
}
