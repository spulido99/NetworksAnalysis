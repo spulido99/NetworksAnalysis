{
 "cells": [
  {
   "cell_type": "markdown",
   "metadata": {
    "collapsed": true
   },
   "source": [
    "# Ejercicios Random Networks vs Real Networks"
   ]
  },
  {
   "cell_type": "markdown",
   "metadata": {},
   "source": [
    "## Ejercicios Diferencia en Distribución de Grados\n",
    "\n",
    "Compare la distribución de grados de una red real contra una red aleatoria.\n",
    "\n",
    "- Baje un red real de SNAP\n",
    "- Cree una red aleatoria con el mismo número de links y nodos\n",
    "- Compare la distribución de grados"
   ]
  },
  {
   "cell_type": "code",
   "execution_count": 1,
   "metadata": {
    "collapsed": false
   },
   "outputs": [],
   "source": [
    "edges =[]\n",
    "for line in open('facebook_combined.txt'):\n",
    "    if line[0] != '#':\n",
    "        # print(line.replace('\\n','').split(' ')) # \\n es salto de linea, .split(' ') -> separar por espacio, .split('\\t') -> si esta separado por tabulación\n",
    "        d = line.replace('\\n','').split(' ')\n",
    "        edges.append((d[0],d[1]))\n",
    "#print(edges)\n"
   ]
  },
  {
   "cell_type": "code",
   "execution_count": 3,
   "metadata": {
    "collapsed": false
   },
   "outputs": [
    {
     "name": "stdout",
     "output_type": "stream",
     "text": [
      "[347, 17, 10, 17, 10, 13, 6, 20, 8, 57, 10, 1, 1, 31, 15, 1, 9, 13, 1, 16, 15, 65, 11, 17, 16, 69, 68, 5, 13, 13, 17, 23, 6, 2, 5, 2, 11, 1, 9, 15, 44, 24, 2, 1, 6, 12, 5, 2, 22, 4, 11, 7, 2, 31, 8, 17, 78, 15, 12, 19, 8, 3, 26, 6, 7, 12, 15, 76, 9, 10, 2, 3, 24, 10, 1, 14, 3, 6, 9, 12, 23, 3, 34, 7, 13, 14, 6, 13, 20, 8, 2, 8, 21, 8, 22, 6, 9, 3, 49, 13, 9, 19, 6, 16, 32, 14, 8, 1045, 13, 37, 5, 14, 3, 40, 1, 21, 17, 6, 36, 62, 4, 12, 63, 18, 4, 4, 7, 16, 28, 7, 16, 7, 16, 18, 19, 10, 133, 16, 2, 9, 11, 28, 43, 12, 15, 2, 10, 6, 20, 14, 11, 7, 5, 2, 2, 3, 12, 3, 25, 14, 2, 25, 8, 6, 3, 11, 4, 7, 11, 38, 46, 22, 41, 12, 4, 17, 14, 11, 13, 3, 20, 10, 3, 2, 18, 26, 44, 16, 48, 7, 4, 3, 5, 5, 19, 9, 13, 16, 12, 47, 57, 4, 4, 57, 22, 2, 4, 3, 7, 1, 1, 30, 18, 39, 17, 1, 2, 8, 9, 6, 4, 8, 11, 27, 28, 10, 14, 15, 3, 6, 9, 21, 25, 2, 2, 5, 37, 7, 23, 59, 3, 2, 24, 8, 2, 5, 14, 3, 21, 24, 5, 14, 65, 3, 17, 2, 2, 18, 15, 8, 8, 38, 4, 7, 5, 27, 18, 2, 11, 6, 4, 73, 45, 9, 14, 10, 18, 65, 10, 2, 43, 16, 2, 5, 16, 47, 2, 1, 4, 4, 14, 36, 1, 3, 3, 10, 7, 25, 11, 20, 7, 3, 20, 21, 55, 2, 9, 4, 24, 10, 13, 7, 26, 37, 13, 56, 2, 7, 11, 8, 21, 3, 72, 39, 26, 39, 19, 4, 9, 30, 16, 20, 43, 8, 28, 1, 3, 9, 7, 27, 6, 12, 34, 18, 9, 16, 27, 7, 229, 159, 115, 792, 755, 2, 4, 4, 4, 18, 5, 102, 96, 97, 133, 48, 34, 122, 231, 107, 104, 98, 87, 91, 85, 84, 46, 25, 91, 11, 115, 66, 5, 73, 126, 66, 38, 3, 13, 34, 46, 34, 3, 17, 78, 13, 32, 12, 5, 1, 9, 44, 16, 35, 147, 130, 1, 29, 13, 106, 30, 8, 45, 167, 21, 75, 9, 5, 52, 15, 63, 25, 82, 7, 37, 7, 29, 17, 17, 54, 65, 12, 37, 4, 166, 115, 38, 23, 10, 20, 84, 109, 55, 10, 10, 65, 24, 46, 103, 13, 27, 33, 26, 16, 115, 107, 40, 32, 15, 34, 21, 18, 11, 54, 24, 26, 104, 10, 128, 47, 68, 62, 42, 7, 11, 6, 41, 35, 29, 19, 31, 154, 27, 66, 4, 96, 9, 77, 16, 39, 4, 95, 120, 14, 142, 16, 8, 57, 36, 32, 32, 12, 99, 36, 9, 149, 51, 58, 58, 61, 4, 9, 85, 29, 80, 3, 67, 79, 11, 4, 79, 17, 3, 26, 58, 37, 5, 27, 67, 48, 15, 12, 28, 12, 3, 65, 106, 82, 11, 46, 63, 8, 54, 14, 65, 5, 7, 165, 51, 10, 22, 22, 27, 2, 68, 76, 49, 21, 78, 3, 26, 10, 63, 80, 142, 15, 183, 123, 60, 30, 57, 106, 15, 66, 205, 7, 14, 14, 13, 20, 50, 9, 11, 24, 1, 36, 23, 56, 64, 123, 51, 8, 109, 4, 27, 141, 43, 38, 70, 9, 54, 47, 38, 36, 29, 122, 35, 1, 51, 24, 49, 71, 130, 117, 198, 21, 98, 60, 66, 32, 142, 6, 11, 68, 33, 29, 14, 24, 9, 18, 33, 14, 21, 1, 147, 5, 65, 102, 14, 6, 17, 139, 9, 45, 99, 5, 66, 61, 88, 19, 8, 100, 27, 26, 57, 28, 6, 19, 36, 24, 113, 115, 18, 132, 2, 15, 13, 45, 45, 89, 66, 34, 158, 156, 17, 20, 32, 38, 39, 110, 97, 9, 4, 49, 26, 15, 83, 217, 4, 58, 9, 8, 107, 102, 1, 72, 3, 76, 40, 173, 26, 20, 114, 43, 36, 47, 11, 54, 9, 71, 142, 22, 2, 30, 35, 84, 23, 47, 125, 74, 29, 2, 15, 107, 43, 60, 152, 9, 7, 20, 93, 112, 12, 40, 35, 24, 8, 15, 137, 12, 3, 3, 6, 124, 135, 55, 42, 47, 38, 68, 2, 6, 5, 31, 13, 120, 11, 126, 2, 96, 84, 64, 25, 57, 2, 124, 36, 44, 76, 41, 68, 32, 60, 55, 23, 66, 92, 85, 87, 113, 55, 48, 22, 5, 25, 6, 71, 31, 31, 6, 107, 48, 38, 104, 26, 31, 20, 43, 27, 24, 80, 34, 26, 44, 32, 21, 41, 27, 64, 25, 90, 77, 40, 18, 2, 49, 20, 136, 122, 146, 42, 33, 100, 128, 55, 36, 68, 100, 63, 123, 10, 37, 91, 97, 5, 74, 37, 42, 33, 67, 234, 3, 5, 37, 20, 31, 77, 84, 37, 137, 3, 21, 12, 42, 66, 166, 10, 53, 112, 37, 7, 73, 42, 74, 182, 190, 32, 51, 85, 27, 41, 4, 12, 15, 1, 9, 84, 46, 193, 175, 37, 53, 2, 2, 54, 16, 44, 178, 22, 12, 74, 9, 50, 50, 31, 37, 34, 106, 21, 10, 22, 60, 8, 30, 111, 5, 21, 24, 148, 24, 14, 61, 19, 34, 64, 66, 29, 38, 2, 220, 55, 23, 15, 56, 30, 56, 34, 21, 28, 16, 5, 9, 32, 9, 36, 142, 52, 90, 23, 31, 34, 28, 52, 5, 132, 62, 33, 102, 46, 8, 84, 10, 26, 108, 1, 124, 31, 57, 71, 169, 90, 54, 4, 72, 5, 9, 17, 84, 93, 17, 49, 96, 22, 47, 5, 63, 135, 22, 9, 125, 13, 26, 26, 67, 48, 29, 6, 12, 29, 18, 70, 28, 58, 59, 8, 37, 33, 131, 4, 30, 34, 52, 35, 69, 159, 36, 14, 33, 117, 6, 156, 69, 41, 57, 22, 12, 70, 42, 105, 22, 39, 35, 33, 64, 82, 19, 72, 79, 69, 33, 55, 33, 15, 43, 3, 122, 38, 49, 38, 171, 7, 37, 160, 35, 25, 151, 2, 186, 1, 25, 10, 112, 16, 44, 20, 33, 29, 48, 124, 60, 43, 89, 67, 20, 66, 170, 36, 5, 83, 1, 41, 97, 211, 20, 3, 53, 23, 205, 88, 95, 25, 32, 16, 39, 77, 112, 136, 11, 117, 32, 12, 145, 148, 90, 31, 5, 117, 92, 179, 72, 190, 182, 71, 24, 50, 117, 24, 114, 128, 189, 177, 100, 35, 25, 37, 3, 82, 22, 67, 9, 79, 23, 38, 34, 77, 99, 34, 78, 8, 14, 28, 100, 69, 56, 18, 50, 25, 35, 21, 4, 81, 74, 7, 56, 34, 5, 19, 82, 24, 80, 146, 235, 6, 127, 36, 27, 122, 137, 11, 32, 25, 40, 25, 117, 16, 36, 18, 27, 61, 25, 38, 123, 93, 35, 43, 95, 124, 2, 60, 50, 3, 34, 30, 12, 8, 19, 42, 17, 7, 45, 70, 25, 27, 42, 185, 10, 62, 15, 5, 105, 4, 187, 65, 60, 139, 155, 19, 49, 115, 56, 49, 59, 51, 21, 32, 32, 80, 226, 8, 48, 38, 49, 109, 156, 79, 26, 14, 37, 104, 79, 26, 37, 19, 202, 22, 13, 13, 126, 50, 115, 82, 57, 2, 16, 131, 27, 6, 3, 121, 4, 32, 25, 66, 40, 36, 209, 25, 47, 20, 61, 23, 40, 8, 5, 5, 38, 22, 20, 26, 67, 121, 17, 30, 97, 38, 10, 103, 38, 131, 6, 145, 57, 89, 71, 5, 34, 152, 245, 23, 12, 25, 195, 22, 32, 51, 14, 113, 102, 63, 44, 156, 10, 24, 131, 15, 30, 88, 67, 27, 12, 127, 58, 29, 102, 201, 56, 16, 16, 42, 46, 191, 1, 182, 25, 38, 6, 165, 10, 49, 119, 40, 70, 101, 38, 26, 36, 119, 29, 42, 22, 12, 2, 6, 4, 73, 29, 46, 17, 99, 54, 49, 107, 8, 31, 123, 121, 15, 23, 82, 50, 41, 13, 28, 56, 64, 35, 150, 32, 53, 51, 18, 32, 28, 105, 11, 254, 15, 6, 71, 12, 83, 63, 37, 9, 36, 101, 79, 26, 14, 130, 40, 30, 11, 22, 30, 10, 41, 31, 39, 134, 95, 79, 146, 64, 92, 70, 65, 39, 49, 63, 54, 60, 50, 171, 45, 55, 53, 44, 147, 123, 112, 96, 163, 141, 123, 129, 172, 132, 184, 65, 142, 112, 92, 159, 88, 138, 102, 139, 39, 66, 120, 114, 134, 148, 113, 175, 100, 116, 129, 42, 122, 109, 90, 75, 83, 130, 129, 161, 56, 160, 142, 123, 122, 125, 150, 35, 65, 50, 188, 108, 70, 94, 70, 49, 109, 99, 46, 124, 126, 132, 77, 97, 121, 39, 94, 43, 98, 138, 140, 36, 99, 56, 294, 54, 30, 46, 79, 164, 114, 127, 20, 38, 56, 100, 48, 122, 72, 38, 2, 2, 9, 5, 7, 5, 9, 7, 8, 8, 6, 8, 9, 5, 21, 23, 26, 39, 3, 18, 1, 26, 43, 23, 19, 6, 32, 34, 26, 71, 5, 17, 94, 68, 17, 2, 62, 2, 11, 12, 12, 3, 4, 8, 3, 36, 38, 6, 61, 39, 36, 77, 27, 47, 33, 73, 2, 57, 20, 51, 11, 4, 15, 55, 34, 15, 3, 99, 17, 26, 21, 62, 23, 57, 25, 60, 57, 17, 19, 18, 10, 38, 71, 55, 10, 33, 10, 60, 10, 71, 43, 14, 12, 2, 47, 27, 18, 1, 3, 10, 22, 25, 42, 5, 3, 37, 61, 20, 26, 10, 66, 53, 19, 43, 78, 9, 4, 2, 22, 16, 31, 5, 32, 20, 12, 8, 37, 7, 27, 34, 5, 16, 33, 28, 24, 13, 11, 65, 56, 23, 23, 40, 83, 6, 3, 83, 11, 58, 43, 13, 72, 65, 16, 15, 26, 30, 29, 89, 64, 61, 20, 19, 25, 50, 15, 11, 43, 64, 69, 46, 13, 9, 4, 40, 10, 6, 8, 12, 22, 40, 22, 8, 10, 58, 21, 67, 46, 30, 32, 32, 1, 17, 4, 85, 18, 38, 48, 37, 20, 83, 30, 81, 5, 20, 63, 12, 15, 35, 3, 4, 46, 3, 34, 35, 29, 13, 18, 33, 10, 14, 32, 16, 27, 7, 5, 4, 4, 18, 20, 11, 39, 26, 5, 30, 32, 12, 14, 22, 24, 39, 2, 21, 25, 15, 1, 14, 21, 41, 8, 19, 22, 16, 23, 24, 1, 18, 18, 1, 1, 16, 15, 1, 24, 19, 25, 24, 26, 7, 13, 17, 1, 21, 14, 24, 12, 11, 22, 15, 22, 25, 1, 11, 23, 2, 24, 25, 19, 2, 22, 28, 33, 6, 7, 24, 24, 3, 24, 24, 9, 17, 18, 3, 1, 23, 5, 8, 1, 23, 22, 7, 23, 13, 20, 17, 2, 547, 14, 10, 8, 16, 7, 59, 6, 4, 11, 170, 28, 45, 8, 9, 6, 1, 14, 54, 41, 31, 52, 68, 2, 7, 21, 8, 43, 5, 69, 18, 10, 29, 17, 8, 20, 13, 71, 14, 10, 12, 4, 30, 64, 18, 5, 14, 12, 47, 8, 36, 26, 38, 13, 15, 26, 14, 8, 23, 5, 14, 16, 25, 29, 8, 17, 12, 3, 2, 57, 9, 57, 19, 2, 2, 12, 38, 13, 30, 19, 10, 4, 20, 10, 30, 8, 13, 14, 28, 14, 35, 8, 14, 15, 27, 15, 18, 36, 37, 2, 9, 18, 16, 18, 34, 52, 13, 18, 40, 3, 9, 29, 4, 13, 4, 7, 23, 20, 14, 18, 7, 26, 7, 12, 37, 1, 5, 20, 16, 66, 15, 20, 9, 18, 32, 9, 8, 10, 26, 39, 9, 24, 16, 37, 38, 9, 15, 56, 58, 6, 11, 45, 79, 34, 55, 15, 4, 15, 43, 20, 12, 13, 22, 15, 27, 2, 37, 13, 14, 23, 6, 27, 21, 30, 10, 4, 4, 44, 3, 4, 39, 7, 12, 5, 2, 2, 10, 24, 11, 5, 4, 5, 8, 4, 7, 7, 7, 7, 6, 7, 1, 11, 4, 10, 6, 8, 7, 8, 1, 4, 9, 8, 6, 9, 13, 1, 1, 4, 4, 6, 51, 56, 44, 11, 8, 43, 50, 17, 19, 52, 13, 27, 65, 50, 67, 30, 19, 14, 59, 9, 11, 14, 15, 11, 13, 43, 17, 62, 10, 15, 14, 31, 58, 19, 18, 14, 26, 36, 34, 13, 14, 32, 38, 38, 18, 29, 61, 108, 59, 55, 29, 25, 39, 15, 10, 70, 7, 27, 70, 29, 19, 35, 70, 34, 57, 48, 63, 46, 35, 36, 62, 18, 70, 45, 27, 4, 43, 25, 16, 23, 41, 42, 68, 19, 123, 223, 108, 120, 106, 205, 115, 26, 156, 121, 94, 85, 90, 128, 109, 88, 109, 110, 55, 44, 234, 154, 55, 54, 73, 166, 103, 160, 109, 291, 110, 79, 105, 57, 77, 81, 22, 76, 134, 105, 88, 29, 196, 135, 116, 125, 105, 99, 127, 8, 26, 25, 18, 37, 32, 39, 7, 15, 47, 52, 16, 18, 18, 122, 48, 53, 19, 79, 93, 120, 93, 64, 85, 84, 96, 106, 76, 71, 49, 78, 86, 31, 117, 58, 119, 95, 91, 122, 23, 17, 79, 121, 30, 94, 28, 95, 17, 109, 60, 177, 35, 30, 101, 91, 94, 17, 49, 100, 8, 20, 30, 92, 26, 54, 41, 15, 52, 23, 99, 37, 26, 83, 50, 61, 20, 34, 97, 19, 6, 37, 29, 70, 38, 83, 93, 53, 45, 16, 78, 28, 12, 24, 21, 11, 67, 31, 3, 5, 93, 11, 19, 16, 69, 13, 15, 26, 24, 18, 27, 67, 34, 12, 13, 31, 44, 31, 3, 32, 95, 54, 37, 100, 49, 6, 3, 12, 17, 13, 38, 63, 89, 29, 8, 24, 19, 5, 21, 83, 31, 57, 116, 51, 13, 33, 15, 13, 75, 53, 85, 35, 52, 122, 89, 45, 83, 46, 22, 28, 21, 63, 47, 13, 6, 28, 12, 41, 14, 34, 57, 6, 6, 83, 95, 19, 59, 66, 98, 33, 28, 44, 102, 49, 2, 19, 9, 12, 3, 99, 19, 24, 60, 27, 3, 8, 82, 10, 10, 22, 9, 8, 50, 22, 3, 19, 58, 7, 25, 57, 11, 5, 16, 24, 15, 13, 38, 6, 20, 75, 78, 28, 22, 18, 30, 82, 9, 44, 31, 14, 137, 33, 31, 1, 29, 29, 26, 27, 12, 21, 81, 33, 22, 11, 62, 36, 4, 18, 2, 17, 20, 3, 11, 71, 104, 75, 39, 78, 80, 21, 22, 42, 76, 73, 47, 52, 14, 104, 11, 16, 66, 45, 10, 6, 10, 40, 15, 19, 88, 22, 8, 61, 9, 50, 54, 8, 6, 11, 77, 7, 72, 74, 92, 32, 27, 77, 83, 69, 61, 75, 41, 91, 87, 18, 20, 70, 74, 40, 3, 16, 40, 79, 10, 92, 86, 48, 8, 53, 40, 14, 20, 12, 60, 63, 69, 64, 10, 82, 106, 54, 59, 17, 21, 20, 48, 102, 3, 34, 13, 44, 96, 14, 42, 17, 92, 11, 4, 17, 107, 22, 71, 44, 17, 73, 59, 3, 33, 25, 5, 23, 15, 17, 24, 60, 100, 27, 63, 58, 13, 61, 72, 56, 65, 15, 39, 14, 3, 91, 72, 53, 2, 24, 16, 19, 32, 11, 24, 43, 10, 29, 70, 30, 50, 80, 35, 14, 54, 96, 66, 12, 52, 8, 1, 22, 88, 90, 38, 3, 88, 22, 51, 27, 20, 17, 6, 8, 37, 50, 15, 76, 16, 101, 50, 10, 83, 6, 78, 15, 5, 78, 14, 11, 64, 53, 14, 13, 16, 16, 62, 1, 46, 62, 6, 23, 86, 55, 99, 28, 25, 116, 10, 76, 52, 37, 51, 10, 52, 108, 6, 11, 16, 7, 15, 76, 65, 10, 49, 20, 83, 12, 62, 51, 63, 18, 17, 12, 68, 46, 61, 103, 63, 44, 69, 71, 4, 9, 33, 30, 2, 8, 6, 10, 35, 13, 8, 84, 10, 2, 35, 49, 19, 21, 71, 11, 56, 4, 16, 69, 61, 5, 30, 66, 89, 14, 85, 11, 91, 12, 13, 15, 52, 7, 30, 6, 23, 38, 17, 61, 25, 19, 72, 74, 6, 27, 41, 8, 8, 68, 1, 61, 80, 34, 51, 19, 12, 40, 16, 27, 17, 72, 40, 8, 86, 22, 11, 11, 31, 47, 51, 41, 15, 24, 14, 25, 35, 36, 63, 25, 7, 6, 9, 39, 54, 26, 23, 55, 28, 79, 5, 36, 14, 1, 28, 105, 33, 8, 21, 28, 41, 62, 66, 19, 15, 27, 14, 14, 66, 14, 34, 9, 86, 51, 12, 32, 63, 42, 31, 28, 54, 24, 31, 8, 72, 2, 9, 6, 5, 44, 26, 63, 29, 20, 71, 25, 107, 12, 2, 16, 70, 27, 23, 48, 48, 119, 12, 60, 23, 41, 63, 45, 60, 18, 40, 67, 36, 5, 22, 19, 9, 18, 5, 11, 17, 32, 16, 14, 39, 7, 20, 113, 69, 8, 7, 87, 19, 16, 50, 19, 93, 62, 7, 9, 65, 7, 24, 9, 73, 16, 31, 68, 14, 76, 65, 35, 76, 84, 12, 82, 84, 13, 62, 9, 20, 15, 11, 18, 74, 75, 131, 49, 46, 11, 9, 43, 6, 15, 7, 17, 16, 3, 8, 31, 60, 25, 21, 54, 17, 17, 49, 97, 10, 7, 25, 53, 17, 19, 31, 38, 76, 115, 8, 37, 35, 8, 15, 52, 13, 2, 2, 62, 3, 18, 29, 53, 89, 10, 63, 20, 40, 16, 7, 10, 113, 9, 8, 5, 21, 23, 6, 65, 107, 49, 7, 48, 53, 41, 17, 79, 48, 47, 11, 190, 161, 55, 40, 15, 56, 6, 125, 55, 23, 151, 13, 39, 11, 12, 50, 22, 4, 189, 39, 192, 29, 191, 8, 12, 17, 123, 8, 39, 34, 43, 7, 187, 86, 96, 20, 172, 35, 4, 72, 176, 7, 36, 9, 15, 176, 57, 55, 19, 199, 178, 224, 153, 36, 24, 87, 20, 15, 203, 4, 135, 34, 33, 155, 52, 7, 40, 15, 9, 10, 5, 18, 7, 19, 158, 31, 50, 25, 30, 34, 187, 173, 8, 30, 21, 173, 152, 8, 174, 25, 176, 123, 17, 37, 23, 9, 73, 115, 42, 76, 193, 106, 48, 141, 186, 9, 33, 168, 13, 195, 162, 48, 17, 126, 204, 1, 9, 18, 147, 141, 30, 136, 198, 23, 189, 34, 43, 177, 7, 154, 21, 38, 117, 16, 6, 184, 181, 11, 4, 37, 164, 135, 43, 160, 10, 15, 136, 188, 15, 23, 158, 146, 203, 169, 54, 38, 11, 198, 74, 178, 171, 24, 221, 43, 24, 41, 192, 18, 160, 27, 10, 48, 24, 82, 15, 92, 128, 9, 5, 3, 18, 193, 30, 8, 11, 3, 94, 17, 8, 186, 18, 194, 168, 41, 14, 1, 22, 173, 190, 49, 4, 14, 210, 22, 22, 36, 98, 54, 140, 103, 27, 133, 13, 205, 5, 195, 41, 46, 51, 7, 32, 207, 5, 36, 71, 222, 29, 70, 37, 124, 13, 201, 40, 59, 200, 7, 18, 19, 9, 10, 157, 10, 7, 155, 49, 55, 20, 129, 14, 7, 11, 1, 15, 180, 29, 35, 185, 154, 16, 174, 59, 9, 24, 68, 21, 184, 17, 34, 38, 155, 122, 10, 29, 66, 16, 113, 141, 156, 199, 23, 51, 16, 85, 19, 10, 36, 37, 16, 7, 46, 183, 197, 180, 124, 190, 139, 34, 182, 198, 26, 28, 52, 36, 151, 18, 28, 168, 86, 177, 172, 13, 6, 147, 12, 45, 25, 167, 55, 36, 50, 197, 158, 36, 12, 168, 6, 179, 36, 3, 176, 2, 24, 139, 50, 6, 49, 72, 92, 32, 179, 69, 35, 19, 21, 15, 17, 170, 20, 36, 89, 153, 178, 207, 32, 31, 183, 41, 37, 117, 8, 5, 165, 11, 36, 18, 25, 191, 86, 146, 5, 28, 147, 91, 27, 5, 68, 10, 34, 4, 3, 23, 16, 161, 33, 46, 12, 10, 14, 16, 16, 8, 1, 169, 96, 202, 11, 130, 135, 1, 49, 26, 36, 113, 93, 46, 27, 3, 160, 3, 126, 137, 18, 9, 39, 108, 15, 178, 6, 145, 25, 93, 181, 16, 151, 5, 124, 201, 15, 9, 13, 6, 48, 165, 141, 14, 17, 13, 35, 191, 4, 7, 23, 106, 18, 11, 63, 95, 140, 31, 2, 9, 144, 8, 161, 162, 158, 112, 173, 93, 131, 31, 22, 165, 201, 155, 14, 110, 188, 4, 26, 11, 1, 21, 19, 152, 103, 141, 45, 20, 164, 116, 6, 24, 15, 40, 187, 19, 197, 96, 185, 3, 1, 14, 182, 190, 198, 68, 196, 75, 195, 51, 207, 28, 31, 17, 185, 23, 164, 55, 6, 21, 130, 188, 186, 34, 41, 28, 173, 116, 7, 41, 5, 35, 166, 37, 19, 27, 54, 135, 48, 18, 7, 49, 151, 168, 16, 52, 36, 58, 24, 9, 6, 45, 22, 5, 7, 11, 6, 47, 45, 18, 1, 16, 1, 38, 6, 20, 15, 28, 8, 20, 24, 31, 16, 26, 3, 29, 28, 16, 25, 15, 17, 18, 32, 15, 6, 17, 15, 25, 14, 13, 13, 15, 19, 30, 47, 5, 15, 23, 9, 19, 4, 19, 24, 18, 21, 20, 8, 13, 8, 25, 48, 9, 24, 22, 20, 22, 13, 6, 41, 11, 14, 33, 17, 10, 58, 9, 14, 16, 30, 23, 36, 35, 8, 9, 15, 15, 23, 19, 11, 4, 20, 10, 12, 33, 10, 5, 83, 16, 13, 8, 15, 9, 7, 33, 21, 20, 31, 38, 27, 3, 15, 17, 17, 4, 9, 14, 35, 26, 1, 17, 8, 22, 15, 3, 42, 24, 16, 9, 12, 3, 10, 49, 8, 17, 4, 2, 27, 19, 47, 12, 14, 86, 3, 11, 33, 7, 21, 17, 9, 76, 39, 5, 8, 19, 15, 57, 19, 15, 10, 20, 12, 33, 20, 4, 16, 12, 19, 14, 37, 19, 23, 37, 13, 10, 6, 22, 27, 25, 5, 11, 12, 42, 10, 23, 24, 13, 18, 17, 8, 21, 15, 1, 7, 4, 12, 15, 22, 13, 16, 10, 6, 6, 17, 14, 10, 6, 9, 23, 11, 7, 22, 9, 47, 4, 14, 5, 5, 13, 43, 10, 9, 17, 15, 4, 33, 2, 3, 26, 3, 29, 5, 15, 15, 21, 18, 3, 7, 15, 38, 15, 2, 38, 25, 24, 15, 1, 26, 29, 8, 26, 26, 14, 7, 3, 27, 23, 10, 33, 6, 19, 15, 6, 28, 1, 28, 40, 2, 3, 49, 16, 12, 39, 30, 15, 27, 5, 19, 3, 6, 2, 22, 1, 6, 6, 19, 25, 8, 8, 17, 44, 19, 17, 21, 17, 12, 29, 4, 10, 10, 23, 13, 10, 7, 8, 14, 18, 9, 19, 10, 13, 16, 4, 32, 13, 12, 19, 21, 5, 12, 8, 45, 21, 15, 49, 35, 5, 11, 1, 14, 49, 3, 16, 21, 49, 5, 6, 2, 2, 16, 35, 3, 7, 7, 8, 15, 3, 12, 14, 13, 1, 26, 30, 14, 50, 27, 32, 8, 28, 37, 25, 12, 32, 7, 26, 22, 17, 61, 5, 12, 33, 41, 8, 5, 20, 2, 13, 6, 5, 20, 22, 1, 2, 15, 1, 11, 32, 6, 37, 19, 11, 7, 4, 19, 26, 18, 32, 26, 8, 38, 14, 2, 9, 10, 2, 10, 18, 4, 15, 34, 2, 5, 10, 15, 5, 24, 13, 6, 9, 13, 21, 4, 16, 7, 34, 8, 42, 18, 7, 8, 44, 26, 7, 22, 4, 7, 15, 18, 8, 22, 7, 15, 31, 12, 16, 30, 2, 7, 41, 5, 43, 24, 3, 15, 47, 22, 8, 22, 10, 1, 6, 14, 83, 4, 11, 7, 2, 13, 34, 4, 32, 12, 16, 35, 4, 4, 4, 3, 24, 18, 9, 2, 17, 6, 15, 4, 47, 16, 46, 25, 6, 47, 18, 8, 1, 15, 15, 6, 4, 12, 8, 14, 2, 1, 6, 9, 2, 7, 4, 3, 3, 6, 11, 9, 4, 11, 14, 4, 9, 2, 7, 5, 10, 3, 2, 4, 1, 10, 1, 2, 6, 12, 1, 4, 9, 7, 8, 8, 11, 1, 18, 1, 4, 9, 7, 2, 2, 19, 2, 3, 2, 1, 2, 4, 9]\n"
     ]
    }
   ],
   "source": [
    "import networkx as nx\n",
    "G = nx.Graph()  # G = nx.Graph(edges), otro modo de crear el grafo\n",
    "G.add_edges_from(edges)\n",
    "degrees = [degree for _, degree in G.degree().items()]\n",
    "print(degrees)"
   ]
  },
  {
   "cell_type": "code",
   "execution_count": 5,
   "metadata": {
    "collapsed": false
   },
   "outputs": [],
   "source": [
    "G_rand = nx.Graph()\n",
    "N = len(G.nodes())\n",
    "p = 2*len(edges)/(N*(N-1))\n",
    "G_rand = nx.gnp_random_graph(N,p)\n",
    "#print(d)"
   ]
  },
  {
   "cell_type": "code",
   "execution_count": 6,
   "metadata": {
    "collapsed": false
   },
   "outputs": [
    {
     "name": "stderr",
     "output_type": "stream",
     "text": [
      "/Users/didergonzalezarroyave/anaconda/lib/python3.6/site-packages/statsmodels/nonparametric/kdetools.py:20: VisibleDeprecationWarning: using a non-integer number instead of an integer will result in an error in the future\n",
      "  y = X[:m/2+1] + np.r_[0,X[m/2+1:],0]*1j\n"
     ]
    },
    {
     "data": {
      "text/plain": [
       "<matplotlib.axes._subplots.AxesSubplot at 0x115039908>"
      ]
     },
     "execution_count": 6,
     "metadata": {},
     "output_type": "execute_result"
    },
    {
     "data": {
      "image/png": "[encoded data removed]",
      "text/plain": [
       "<matplotlib.figure.Figure at 0x1149655c0>"
      ]
     },
     "metadata": {},
     "output_type": "display_data"
    }
   ],
   "source": [
    "import seaborn as sns\n",
    "sns.set()\n",
    "%matplotlib inline\n",
    "ax = sns.distplot(list(G.degree().values()))\n",
    "sns.distplot(list(G_rand.degree().values()))\n",
    "#ax.set(xscale=\"log\", yscale=\"log\")"
   ]
  },
  {
   "cell_type": "markdown",
   "metadata": {},
   "source": [
    "## Ejercicios Comparación Tamaño del componente Gigante\n",
    "\n",
    "Genere varias realizaciones de la red aleatoria y compare el tamaño del componente gigante contra el de la red real"
   ]
  },
  {
   "cell_type": "code",
   "execution_count": null,
   "metadata": {
    "collapsed": true
   },
   "outputs": [],
   "source": []
  },
  {
   "cell_type": "markdown",
   "metadata": {},
   "source": [
    "## Ejercicio Comparación Número de componentes\n",
    "\n",
    "Genera varias realizaciones de la red aleatoria y compare la cantidad de componentes"
   ]
  },
  {
   "cell_type": "code",
   "execution_count": null,
   "metadata": {
    "collapsed": true
   },
   "outputs": [],
   "source": []
  }
 ],
 "metadata": {
  "anaconda-cloud": {},
  "hide_input": false,
  "kernelspec": {
   "display_name": "Python 3",
   "language": "python",
   "name": "python3"
  },
  "language_info": {
   "codemirror_mode": {
    "name": "ipython",
    "version": 3
   },
   "file_extension": ".py",
   "mimetype": "text/x-python",
   "name": "python",
   "nbconvert_exporter": "python",
   "pygments_lexer": "ipython3",
   "version": "3.6.0"
  },
  "toc": {
   "colors": {
    "hover_highlight": "#DAA520",
    "running_highlight": "#FF0000",
    "selected_highlight": "#FFD700"
   },
   "moveMenuLeft": true,
   "nav_menu": {
    "height": "12px",
    "width": "252px"
   },
   "navigate_menu": true,
   "number_sections": true,
   "sideBar": true,
   "threshold": 4,
   "toc_cell": false,
   "toc_section_display": "block",
   "toc_window_display": false
  }
 },
 "nbformat": 4,
 "nbformat_minor": 1
}
