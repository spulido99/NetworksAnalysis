{
 "cells": [
  {
   "cell_type": "markdown",
   "metadata": {},
   "source": [
    "# Ejercicios Graphs, Paths & Components\n",
    "\n",
    "Ejercicios básicos de Grafos."
   ]
  },
  {
   "cell_type": "markdown",
   "metadata": {},
   "source": [
    "## Ejercicio - Número de Nodos y Enlaces\n",
    "\n",
    "_ (resuelva en código propio y usando la librería NetworkX (python) o iGraph (R)) _\n",
    "\n",
    "Cuente el número de nodos y enlaces con los siguientes links (asumiendo que el grafo puede ser dirigido Y no dirigido): "
   ]
  },
  {
   "cell_type": "code",
   "execution_count": 1,
   "metadata": {
    "collapsed": false
   },
   "outputs": [],
   "source": [
    "edges = set([(1, 2), (3, 1), (3, 2), (2, 4)])"
   ]
  },
  {
   "cell_type": "code",
   "execution_count": 2,
   "metadata": {
    "collapsed": false
   },
   "outputs": [
    {
     "name": "stdout",
     "output_type": "stream",
     "text": [
      "Número de nodos: 4\n",
      "Número de enlaces: 4\n",
      "Número de nodos: 4\n",
      "Número de aristas: 4\n"
     ]
    }
   ],
   "source": [
    "edges = set([(1, 2), (3, 1), (3, 2), (2, 4)])\n",
    "edges_list = [i[0] for i in edges] + [i[1] for i in edges]\n",
    "nodes = set(edges_list)\n",
    "\n",
    "edges_number = len(edges)\n",
    "nodes_number = len(nodes)\n",
    "\n",
    "print (\"Número de nodos: \" + str(nodes_number))\n",
    "print (\"Número de enlaces: \" + str(edges_number))\n",
    "\n",
    "\"\"\"Now using NetorkX\"\"\"\n",
    "import networkx as nx\n",
    "\n",
    "G = nx.Graph()\n",
    "G.add_edges_from(edges)\n",
    "\n",
    "print (\"Número de nodos: \" + str(G.number_of_nodes()))\n",
    "print (\"Número de aristas: \" + str(G.number_of_edges()))"
   ]
  },
  {
   "cell_type": "markdown",
   "metadata": {},
   "source": [
    "## Ejercicio - Matriz de Adyacencia\n",
    "\n",
    "_ (resuelva en código propio y usando la librería NetworkX (python) o iGraph (R)) _\n",
    "\n",
    "\n",
    "Cree la matriz de adyacencia del grafo del ejercicio anterior (para dirigido y no-dirigido)"
   ]
  },
  {
   "cell_type": "code",
   "execution_count": 3,
   "metadata": {
    "collapsed": false
   },
   "outputs": [
    {
     "name": "stdout",
     "output_type": "stream",
     "text": [
      "matriz para grafo dirigido:\n",
      "[[ 0.  1.  0.  0.]\n",
      " [ 0.  0.  0.  1.]\n",
      " [ 1.  1.  0.  0.]\n",
      " [ 0.  0.  0.  0.]]\n",
      "\n",
      "\n",
      "matriz para grafo no dirigido:\n",
      "[[ 0.  1.  1.  0.]\n",
      " [ 1.  0.  1.  1.]\n",
      " [ 1.  1.  0.  0.]\n",
      " [ 0.  1.  0.  0.]]\n",
      "  (0, 1)\t1\n",
      "  (0, 2)\t1\n",
      "  (1, 0)\t1\n",
      "  (1, 2)\t1\n",
      "  (1, 3)\t1\n",
      "  (2, 0)\t1\n",
      "  (2, 1)\t1\n",
      "  (3, 1)\t1\n",
      "\n",
      "\n",
      "  (0, 1)\t1\n",
      "  (1, 3)\t1\n",
      "  (2, 0)\t1\n",
      "  (2, 1)\t1\n"
     ]
    }
   ],
   "source": [
    "\"\"\"Código propio\"\"\"\n",
    "import numpy as np\n",
    "\n",
    "edges = set([(1,2), (3, 1), (3, 2), (2, 4)])\n",
    "\n",
    "def adj_matrix_dgraph(edges):\n",
    "    edges_list = [i[0] for i in edges] + [i[1] for i in edges]\n",
    "    nodes = set(edges_list)\n",
    "    \n",
    "    \"\"\"create matrix\"\"\"\n",
    "    matrix = np.zeros((len(nodes),len(nodes)))\n",
    "    \n",
    "    for edge in edges:\n",
    "        matrix[edge[0] - 1,edge[1] -1] = 1\n",
    "    \n",
    "    return matrix\n",
    "\n",
    "def adj_matrix(edges):\n",
    "    edges_list = [i[0] for i in edges] + [i[1] for i in edges]\n",
    "    nodes = set(edges_list)\n",
    "    \n",
    "    \"\"\"create matrix\"\"\"\n",
    "    matrix = np.zeros((len(nodes),len(nodes)))\n",
    "    \n",
    "    for edge in edges:\n",
    "        i = edge[0]-1\n",
    "        j = edge[1]-1\n",
    "        matrix[i,j] = 1\n",
    "        matrix[j,i] = 1\n",
    "    \n",
    "    return matrix\n",
    "\n",
    "print (\"matriz para grafo dirigido:\\n\" + str(adj_matrix_dgraph(edges)))\n",
    "print (\"\\n\")\n",
    "print (\"matriz para grafo no dirigido:\\n\" + str(adj_matrix(edges)))\n",
    "\n",
    "\"\"\"Solución con NetworkX\"\"\"\n",
    "\n",
    "import networkx as nx\n",
    "G = nx.Graph()\n",
    "G.add_edges_from(edges)\n",
    "\n",
    "matrix = nx.adjacency_matrix(G)\n",
    "\n",
    "print (matrix)\n",
    "\n",
    "DG = nx.DiGraph()\n",
    "DG.add_edges_from(edges)\n",
    "\n",
    "print (\"\\n\")\n",
    "print (nx.adjacency_matrix(DG))"
   ]
  },
  {
   "cell_type": "markdown",
   "metadata": {},
   "source": [
    "D## Ejercicio - Sparseness\n",
    "\n",
    "Calcule la proporción entre número de links existentes en 3 redes reales (http://snap.stanford.edu/data/index.html) contra el número de links posibles."
   ]
  },
  {
   "cell_type": "code",
   "execution_count": 4,
   "metadata": {
    "collapsed": false
   },
   "outputs": [
    {
     "name": "stdout",
     "output_type": "stream",
     "text": [
      "len(n) = 333\n",
      "possible_edges=55278\n",
      "0.09113933210318753\n",
      "len(n) = 224\n",
      "possible_edges=24976\n",
      "0.2556053811659193\n",
      "len(n) = 150\n",
      "possible_edges=11175\n",
      "0.3029977628635347\n",
      "possible_edges(G1)=55278\n",
      "\n",
      "\n",
      "0.045569666051593766\n",
      "0.12780269058295965\n",
      "0.15149888143176735\n"
     ]
    }
   ],
   "source": [
    "import numpy as np\n",
    "\n",
    "\"\"\" The entered datasets correspond to non-directed graphs\"\"\"\n",
    "\"\"\" information about the dataset can be found in the following link:\n",
    "    http://snap.stanford.edu/data/egonets-Facebook.html \"\"\"\n",
    "\n",
    "edges1 = np.genfromtxt('0.edges', dtype=\"int\", delimiter=\" \")\n",
    "\n",
    "edges2 = np.genfromtxt('348.edges', dtype=\"int\", delimiter=\" \")\n",
    "\n",
    "edges3 = np.genfromtxt('414.edges', dtype=\"int\", delimiter=\" \")\n",
    "\n",
    "def edges_to_nodes(edges):\n",
    "    edges_list = [i[0] for i in edges] + [i[1] for i in edges]\n",
    "    nodes = set(edges_list)\n",
    "    \n",
    "    return nodes\n",
    "\n",
    "\n",
    "def edge_rate(edges):\n",
    "    nodes = edges_to_nodes(edges)\n",
    "    n = len(nodes)\n",
    "    \n",
    "    print (\"len(n) = %d\" %(n))\n",
    "    \n",
    "    \"\"\" For a non-directed graph and excluding reflexive relations\"\"\"\n",
    "    possible_edges = (n*(n-1))/2\n",
    "    \n",
    "    print (\"possible_edges=%d\" % (possible_edges))\n",
    "    result = float(len(edges))/possible_edges\n",
    "    return result\n",
    "\n",
    "def edge_rate_dgraph(edges):\n",
    "    nodes = edges_to_nodes(edges)\n",
    "    n = len(nodes)\n",
    "    \n",
    "    \"\"\" For a directed graph including reflexive relations\"\"\"\n",
    "    possible_edges = n**2\n",
    "    result = float(len(edges))/possible_edges\n",
    "    return result\n",
    "\n",
    "print (edge_rate(edges1))\n",
    "print (edge_rate(edges2))\n",
    "print (edge_rate(edges3))\n",
    "\n",
    "\"\"\" With networkx \"\"\"\n",
    "\n",
    "import networkx as nx\n",
    "\n",
    "G1 = nx.read_edgelist('0.edges', delimiter=\" \")\n",
    "G2 = nx.read_edgelist('348.edges', delimiter=\" \")\n",
    "G3 = nx.read_edgelist('414.edges', delimiter=\" \")\n",
    "\n",
    "\n",
    "def possible_edges(graph):\n",
    "    nodes = graph.number_of_nodes()\n",
    "    return (nodes*(nodes-1))/2\n",
    "\n",
    "print (\"possible_edges(G1)=%d\" % (possible_edges(G1)))\n",
    "\n",
    "def edge_rate_nx(graph):\n",
    "    return float(graph.number_of_edges())/float(possible_edges(graph))\n",
    "\n",
    "print (\"\\n\")\n",
    "print (edge_rate_nx(G1))\n",
    "print (edge_rate_nx(G2))\n",
    "print (edge_rate_nx(G3))"
   ]
  },
  {
   "cell_type": "markdown",
   "metadata": {},
   "source": [
    "En la matriz de adyacencia de cada uno de las redes elegidas, cuantos ceros hay?"
   ]
  },
  {
   "cell_type": "code",
   "execution_count": 5,
   "metadata": {
    "collapsed": false
   },
   "outputs": [
    {
     "name": "stdout",
     "output_type": "stream",
     "text": [
      "5038\n",
      "6384\n",
      "3386\n",
      "len(nodes)=333\n",
      "number_of_zeroes(edges1)=105851\n",
      "len(nodes)=224\n",
      "number_of_zeroes(edges2)=43792\n",
      "len(nodes)=150\n",
      "number_of_zeroes(edges3)=19114\n"
     ]
    }
   ],
   "source": [
    "\"\"\" Without NetworkX \"\"\"\n",
    "import numpy as np\n",
    "\n",
    "def edges_to_nodes(edges):\n",
    "    edges_list = [i[0] for i in edges] + [i[1] for i in edges]\n",
    "    nodes = set(edges_list)\n",
    "    print (\"len(nodes)=%d\" %(len(nodes)))\n",
    "    return nodes\n",
    "\n",
    "\"\"\" The entered datasets correspond to non-directed graphs\"\"\"\n",
    "\"\"\" information about the dataset can be found in the following link:\n",
    "    http://snap.stanford.edu/data/egonets-Facebook.html \"\"\"\n",
    "\n",
    "edges1 = np.genfromtxt('0.edges', dtype=\"int\", delimiter=\" \")\n",
    "print (len(edges1))\n",
    "\n",
    "edges2 = np.genfromtxt('348.edges', dtype=\"int\", delimiter=\" \")\n",
    "print (len(edges2))\n",
    "\n",
    "edges3 = np.genfromtxt('414.edges', dtype=\"int\", delimiter=\" \")\n",
    "print (len(edges3))\n",
    "\n",
    "\"\"\" Asuming there aren't repeated elements in the dataset \"\"\"\n",
    "\n",
    "def number_of_zeroes(edges):\n",
    "    n = len(edges_to_nodes(edges))\n",
    "    zeroes = n**2 - len(edges)\n",
    "    return zeroes\n",
    "\n",
    "def number_of_zeroes_dgraph(edges):\n",
    "    n = len(edges_to_nodes(edges))\n",
    "    zeroes = n**2 - len(edges)\n",
    "    return zeroes\n",
    "\n",
    "\n",
    "print (\"number_of_zeroes(edges1)=%d\" %(number_of_zeroes(edges1)))\n",
    "print (\"number_of_zeroes(edges2)=%d\" %(number_of_zeroes(edges2)))\n",
    "print (\"number_of_zeroes(edges3)=%d\" %(number_of_zeroes(edges3)))\n"
   ]
  },
  {
   "cell_type": "code",
   "execution_count": 6,
   "metadata": {
    "collapsed": false
   },
   "outputs": [
    {
     "name": "stdout",
     "output_type": "stream",
     "text": [
      "2519\n",
      "3192\n",
      "1693\n",
      "zeroes=105851\n",
      "zeroes=43792\n",
      "zeroes=19114\n"
     ]
    },
    {
     "data": {
      "text/plain": [
       "19114"
      ]
     },
     "execution_count": 6,
     "metadata": {},
     "output_type": "execute_result"
    }
   ],
   "source": [
    "\"\"\" With NetworkX \"\"\"\n",
    "import networkx as nx\n",
    "\n",
    "\"\"\" The selected datasets are non-directed graphs. Therefore their adjacency matrix is simetrical \"\"\"\n",
    "\n",
    "\"\"\" For undirected graphs NetworkX stores only the edges of one of the matrix's triangles (upper or lower)\"\"\"\n",
    "\n",
    "G1 = nx.read_edgelist('0.edges', delimiter=\" \")\n",
    "print (len(G1.edges()))\n",
    "\n",
    "G2 = nx.read_edgelist('348.edges', delimiter=\" \")\n",
    "print (len(G2.edges()))\n",
    "\n",
    "G3 = nx.read_edgelist('414.edges', delimiter=\" \")\n",
    "print (len(G3.edges()))\n",
    "\n",
    "N1 = len(G1.nodes())\n",
    "N2 = len(G2.nodes())\n",
    "N3 = len(G3.nodes())\n",
    "\n",
    "def zeroes(graph):\n",
    "    N = len(graph.nodes())\n",
    "    result = N**2 - 2*len(graph.edges())\n",
    "    print (\"zeroes=%d\" %(result))\n",
    "    return result\n",
    "\n",
    "zeroes(G1)\n",
    "zeroes(G2)\n",
    "zeroes(G3)\n",
    "\n"
   ]
  },
  {
   "cell_type": "markdown",
   "metadata": {},
   "source": [
    "## Ejercicio - Redes Bipartitas\n",
    "\n",
    "Defina una red bipartita y genere ambas proyecciones, explique qué son los nodos y links tanto de la red original como de las proyeccciones"
   ]
  },
  {
   "cell_type": "code",
   "execution_count": 7,
   "metadata": {
    "collapsed": false
   },
   "outputs": [
    {
     "name": "stdout",
     "output_type": "stream",
     "text": [
      "{(5, 1), (3, 1), (2, 1), (4, 2), (4, 1), (3, 5)}\n",
      "{('d', 'a'), ('d', 'b'), ('a', 'b'), ('b', 'c')}\n"
     ]
    }
   ],
   "source": [
    "import numpy as np\n",
    "\n",
    "network1 = set([(1,'a'),(3,'b'), (4,'d'),(5,'b'),(1,'b'), (2,'d'), (1,'d'), (3,'c')])\n",
    "\n",
    "def projection_u(edges):\n",
    "    edges_list = list(edges)\n",
    "    result = []\n",
    "    for i in range(0,len(edges_list)):\n",
    "        for j in range(i+1, len(edges_list)):\n",
    "            if edges_list[i][1] == edges_list[j][1]:\n",
    "                tup = (edges_list[i][0], edges_list[j][0])\n",
    "                result.append(tup)\n",
    "    \n",
    "    return set(result)\n",
    "\n",
    "print (projection_u(network1))\n",
    "\n",
    "def projection_v(edges):\n",
    "    edges_list = list(edges)\n",
    "    result = []\n",
    "    for i in range(0,len(edges_list)):\n",
    "        for j in range(i+1, len(edges_list)):\n",
    "            if edges_list[i][0] == edges_list[j][0]:\n",
    "                tup = (edges_list[i][1], edges_list[j][1])\n",
    "                result.append(tup)\n",
    "    \n",
    "    return set(result)\n",
    "\n",
    "print (projection_v(network1))"
   ]
  },
  {
   "cell_type": "code",
   "execution_count": 8,
   "metadata": {
    "collapsed": false
   },
   "outputs": [
    {
     "name": "stdout",
     "output_type": "stream",
     "text": [
      "[(1, 2), (1, 3), (1, 4), (1, 5), (2, 4), (3, 5)]\n",
      "[('a', 'b'), ('a', 'd'), ('b', 'c'), ('b', 'd')]\n"
     ]
    }
   ],
   "source": [
    "\"\"\" With NetworkX \"\"\"\n",
    "import numpy as np\n",
    "import networkx as nx\n",
    "from networkx.algorithms import bipartite\n",
    "\n",
    "edges = set([(1,'a'),(3,'b'), (4,'d'),(5,'b'),(1,'b'), (2,'d'), (1,'d'), (3,'c')])\n",
    "B = nx.Graph()\n",
    "B.add_nodes_from([1,2,3,4,5], bipartite=0)\n",
    "B.add_nodes_from(['a','b','c','d'], bipartite=1)\n",
    "B.add_edges_from(edges)\n",
    "\n",
    "projection_u = bipartite.projected_graph(B, [1,2,3,4,5])\n",
    "print (projection_u.edges())\n",
    "\n",
    "projection_v = bipartite.projected_graph(B, ['a','b','c','d'])\n",
    "print (projection_v.edges())"
   ]
  },
  {
   "cell_type": "markdown",
   "metadata": {},
   "source": [
    "## Explicación\n",
    "Los nodos de la red original corresponden a elementos pertenecientes a dos conjuntos U y V. Para este caso particular los conjuntos son disjuntos y tienen tipos diferentes de datos. los links de la red original representan relaciones entre ambos conjuntos.\n",
    "\n",
    "En la red de proyecciones de U, los nodos representan elementos de un mismo conjunto y los enlaces representan relaciones entre elementos del mismo conjunto definidas a partir de elementos comunes del conjunto V con el cual un par de elementos x,y del conjunto U se relacionan. i.e. si 'x' y 'y', pertenecientes al conjunto, U se relacionan con un elemento 'w', perteneciente al conjunto V, entonces 'x' se relaciona con 'y', i.e. hay un link entre 'x' y 'y'.\n",
    "\n",
    "Para el caso de las proyecciones de V, la definición varía en que si un par de elementos 'x','y' pertenecientes al conjunto V se relacionan, i.e. hay un link entre ellos, entonces 'x' y 'y' se relacionan en la proyección de V."
   ]
  },
  {
   "cell_type": "markdown",
   "metadata": {},
   "source": [
    "## Ejercicio - Paths\n",
    "\n",
    "Cree un grafo de 5 nodos con 5 enlaces. Elija dos nodos cualquiera e imprima:\n",
    "+ 5 Paths diferentes entre los nodos\n",
    "+ El camino mas corto entre los nodos\n",
    "+ El diámetro de la red\n",
    "+ Un self-avoiding path\n"
   ]
  },
  {
   "cell_type": "code",
   "execution_count": 9,
   "metadata": {
    "collapsed": false
   },
   "outputs": [
    {
     "name": "stdout",
     "output_type": "stream",
     "text": [
      "{(4, 1), (3, 2), (5, 2), (1, 4), (2, 3), (4, 3), (4, 2), (2, 5), (3, 4), (2, 4)}\n",
      "[1, 4, 3, 2, 5]\n",
      "[1, 4, 2, 5]\n",
      "[1, 4, 2, 3, 2, 5]\n",
      "[1, 4, 3, 4, 2, 5]\n",
      "[1, 4, 2, 4, 2, 5]\n",
      "Shortest path is: [1, 4, 2, 5]\n"
     ]
    }
   ],
   "source": [
    "import numpy as np\n",
    "\n",
    "edges = set([(1,4),(2,3),(2,4),(2,5),(3,4),(4,1),(3,2),(4,2),(5,2),(4,3)])\n",
    "\n",
    "graph = {1:[4],\n",
    "         2:[3,4,5],\n",
    "         3:[2,4],\n",
    "         4:[3,2],\n",
    "         5:[2]}\n",
    "\n",
    "print (edges)\n",
    "\"\"\" From 1 to 5 \"\"\"\n",
    "path1 = [1,4,3,2,5]\n",
    "path2 = [1,4,2,5]\n",
    "path3 = [1,4,2,3,2,5]\n",
    "path4 = [1,4,3,4,2,5]\n",
    "path5 = [1,4,2,4,2,5]\n",
    "\n",
    "print(path1)\n",
    "print(path2)\n",
    "print(path3)\n",
    "print(path4)\n",
    "print(path5)\n",
    "\n",
    "\"\"\" Shortest path\"\"\"\n",
    "def find_shortest_path(graph, start, end, path=[]):\n",
    "    path = path + [start]\n",
    "    if start == end:\n",
    "        return path\n",
    "    if not start in graph:\n",
    "        return None\n",
    "    shortest = None\n",
    "    for node in graph[start]:\n",
    "        if node not in path:\n",
    "            newpath = find_shortest_path(graph, node, end, path)\n",
    "            if newpath:\n",
    "                if not shortest or len(newpath) < len(shortest):\n",
    "                    shortest = newpath\n",
    "    return shortest\n",
    "print (\"Shortest path is: %s\" %(str(find_shortest_path(graph,1,5))))"
   ]
  },
  {
   "cell_type": "code",
   "execution_count": 10,
   "metadata": {
    "collapsed": false
   },
   "outputs": [
    {
     "name": "stdout",
     "output_type": "stream",
     "text": [
      "[1, 4, 3, 2, 5]\n",
      "[1, 4, 2, 5]\n",
      "Shortest path is: [1, 4, 2, 5]\n"
     ]
    }
   ],
   "source": [
    "import numpy as np\n",
    "import networkx as nx\n",
    "\n",
    "edges = set([(1,4),(2,3),(2,4),(2,5),(3,4),(4,1),(3,2),(4,2),(5,2),(4,3)])\n",
    "\n",
    "G = nx.Graph()\n",
    "G.add_edges_from(edges)\n",
    "\n",
    "for path in nx.all_simple_paths(G, source=1,target=5):\n",
    "    print (path)\n",
    "    \n",
    "print (\"Shortest path is: %s\" %(str(nx.shortest_path(G,source=1,target=5))))"
   ]
  },
  {
   "cell_type": "markdown",
   "metadata": {},
   "source": [
    "# Ejercicio - Componentes\n",
    "\n",
    "Baje una red real (http://snap.stanford.edu/data/index.html) y lea el archivo "
   ]
  },
  {
   "cell_type": "code",
   "execution_count": 11,
   "metadata": {
    "collapsed": true
   },
   "outputs": [],
   "source": [
    "import numpy as np\n",
    "\n",
    "\"\"\" The entered datasets correspond to non-directed graphs\"\"\"\n",
    "\"\"\" information about the dataset can be found in the following link:\n",
    "    http://snap.stanford.edu/data/egonets-Facebook.html \"\"\"\n",
    "\n",
    "edges1 = np.genfromtxt('0.edges', dtype=\"int\", delimiter=\" \")"
   ]
  },
  {
   "cell_type": "code",
   "execution_count": 12,
   "metadata": {
    "collapsed": true
   },
   "outputs": [],
   "source": [
    "\"\"\" With NetworkX \"\"\"\n",
    "import numpy as np\n",
    "import networkx as nx\n",
    "\n",
    "G1 = nx.read_edgelist('0.edges', delimiter=\" \")"
   ]
  },
  {
   "cell_type": "markdown",
   "metadata": {},
   "source": [
    "Utilizando NetworkX o iGraph descubra el número de componentes"
   ]
  },
  {
   "cell_type": "code",
   "execution_count": 13,
   "metadata": {
    "collapsed": false
   },
   "outputs": [
    {
     "name": "stdout",
     "output_type": "stream",
     "text": [
      "number_connected_components=5\n"
     ]
    }
   ],
   "source": [
    "import numpy as np\n",
    "import networkx as nx\n",
    "\n",
    "G = nx.read_edgelist('0.edges', delimiter=\" \")\n",
    "\n",
    "print (\"number_connected_components=%d\" %(nx.number_connected_components(G)))"
   ]
  },
  {
   "cell_type": "markdown",
   "metadata": {},
   "source": [
    "Implemente el algorithmo Breadth First para encontrar el número de componentes (revise que el resultado es el mismo que utilizando la librería)"
   ]
  },
  {
   "cell_type": "code",
   "execution_count": 14,
   "metadata": {
    "collapsed": false
   },
   "outputs": [
    {
     "name": "stdout",
     "output_type": "stream",
     "text": [
      "Tuple 5 is:7\n",
      "Tuple 5 is:7\n",
      "{1: {2}, 2: {1, 3, 4}, 4: {2, 3, 5, 6}, 6: {4}, 5: {4}, 3: {2, 4}, 7: set()}\n",
      "2\n",
      "5\n"
     ]
    }
   ],
   "source": [
    "import numpy as np\n",
    "import collections\n",
    "from IPython.core.debugger import Tracer\n",
    "\n",
    "\"\"\" The entered datasets correspond to non-directed graphs\"\"\"\n",
    "\"\"\" information about the dataset can be found in the following link:\n",
    "    http://snap.stanford.edu/data/egonets-Facebook.html \"\"\"\n",
    "\n",
    "edges1 = np.genfromtxt('0.edges', dtype=\"int\", delimiter= \" \")\n",
    "\n",
    "edges2 = set([(1,2),(2,3),(2,4),(3,4),(4,5),(4,6),(7,)])\n",
    "\n",
    "\n",
    "e = list(edges2)\n",
    "\n",
    "print (\"Tuple 5 is:\" + str(e[4][0]))\n",
    "print (\"Tuple 5 is:\" + str(e[4][0]))\n",
    "\n",
    "\"\"\" This method is for undirected graphs \"\"\"\n",
    "\n",
    "def edges_to_graph(edges):\n",
    "    edges = list(edges)\n",
    "    graph = {}\n",
    "    \n",
    "    for i in range(0,len(edges)):\n",
    "        \n",
    "        if graph.get(edges[i][0], None):\n",
    "            graph[edges[i][0]].add(edges[i][1])\n",
    "        else:\n",
    "            if len(edges[i]) == 2:\n",
    "                graph[edges[i][0]] = set([edges[i][1]])\n",
    "            else:\n",
    "                graph[edges[i][0]] = set([])\n",
    "        \n",
    "        if len(edges[i]) == 2:\n",
    "            if graph.get(edges[i][1], None):\n",
    "                graph[edges[i][1]].add(edges[i][0])\n",
    "            else:\n",
    "                graph[edges[i][1]] = set([edges[i][0]])\n",
    "\n",
    "    return graph\n",
    "\n",
    "graph1 = edges_to_graph(edges1)\n",
    "graph2 = edges_to_graph(edges2)\n",
    "print (str(edges_to_graph(edges2)))\n",
    "\n",
    "\"\"\" The following code snippet was taken from Mann, Edd. Depth-First Search and Breadth-First Search in Python.\n",
    "    http://eddmann.com/posts/depth-first-search-and-breadth-first-search-in-python/ \"\"\"\n",
    "\n",
    "def bfs(graph, start):\n",
    "    visited, queue = set(), collections.deque([start])\n",
    "    while queue:\n",
    "        vertex = queue.popleft()\n",
    "        if vertex not in visited:\n",
    "            visited.add(vertex)\n",
    "            queue.extend(graph[vertex] - visited)\n",
    "    return visited\n",
    "\n",
    "def number_connected_components(graph):\n",
    "    nodes = set(graph.keys())\n",
    "    num = 0\n",
    "    while len(nodes):\n",
    "        root = next(iter(nodes))\n",
    "        visited = bfs(graph, root)\n",
    "        nodes = nodes - visited\n",
    "        num += 1\n",
    "        \n",
    "    return num\n",
    "\n",
    "print (str(number_connected_components(graph2)))\n",
    "\n",
    "print (str(number_connected_components(graph1)))"
   ]
  },
  {
   "cell_type": "markdown",
   "metadata": {},
   "source": [
    "## Ejercicio - Degree distribution\n",
    "\n",
    "_ (resuelva en código propio y usando la librería NetworkX (python) o iGraph (R)) _\n",
    "\n",
    "Haga un plot con la distribución de grados de la red real"
   ]
  },
  {
   "cell_type": "code",
   "execution_count": 30,
   "metadata": {
    "collapsed": false
   },
   "outputs": [
    {
     "name": "stdout",
     "output_type": "stream",
     "text": [
      "{'236': 36, '186': 43, '122': 62, '285': 46, '24': 15, '346': 26, '271': 72, '304': 54, '176': 13, '9': 56, '130': 15, '329': 29, '204': 21, '213': 38, '252': 64, '332': 42, '82': 33, '65': 11, '276': 17, '26': 67, '280': 42, '272': 44, '211': 29, '199': 46, '84': 12, '133': 17, '62': 25, '239': 58, '172': 40, '322': 71, '53': 30, '3': 16, '170': 45, '175': 16, '46': 4, '56': 77, '254': 16, '194': 18, '231': 20, '117': 5, '127': 15, '135': 9, '103': 15, '188': 47, '23': 16, '116': 16, '73': 9, '299': 19, '288': 3, '315': 55, '119': 61, '323': 38, '48': 21, '57': 14, '200': 56, '98': 48, '313': 36, '63': 5, '344': 8, '67': 75, '118': 35, '325': 38, '277': 64, '134': 18, '270': 3, '76': 2, '36': 10, '223': 26, '274': 13, '88': 19, '21': 64, '339': 26, '108': 12, '197': 15, '169': 37, '275': 9, '273': 8, '83': 6, '28': 12, '312': 25, '242': 23, '214': 16, '20': 14, '307': 3, '71': 2, '333': 7, '207': 2, '168': 10, '308': 23, '341': 11, '128': 27, '334': 27, '238': 22, '265': 26, '141': 27, '78': 8, '345': 15, '317': 6, '158': 24, '38': 8, '302': 19, '27': 4, '54': 7, '139': 8, '109': 36, '291': 35, '142': 42, '203': 56, '105': 13, '232': 24, '64': 6, '217': 7, '248': 20, '126': 6, '224': 27, '261': 37, '283': 4, '144': 14, '226': 13, '290': 13, '25': 68, '342': 33, '146': 9, '300': 6, '94': 21, '1': 16, '184': 17, '159': 13, '149': 13, '13': 30, '59': 18, '17': 12, '326': 18, '80': 22, '187': 15, '161': 24, '66': 14, '31': 22, '136': 21, '7': 19, '255': 1, '49': 3, '320': 20, '85': 13, '246': 13, '123': 17, '284': 15, '140': 10, '137': 15, '343': 17, '115': 20, '297': 24, '185': 25, '104': 31, '324': 25, '171': 7, '111': 13, '14': 14, '310': 12, '32': 5, '30': 16, '222': 10, '92': 20, '72': 23, '40': 43, '125': 3, '266': 17, '212': 17, '278': 9, '340': 5, '237': 6, '311': 6, '309': 9, '330': 15, '230': 8, '70': 1, '16': 8, '249': 23, '39': 14, '251': 13, '10': 9, '55': 16, '228': 2, '69': 9, '113': 39, '258': 14, '257': 17, '196': 12, '156': 11, '303': 20, '286': 1, '81': 2, '174': 3, '293': 2, '33': 1, '42': 1, '347': 6, '2': 9, '281': 15, '263': 6, '279': 1, '51': 6, '338': 6, '162': 7, '19': 15, '75': 13, '218': 8, '268': 10, '314': 12, '5': 12, '178': 12, '192': 4, '243': 7, '195': 8, '181': 9, '8': 7, '245': 4, '129': 6, '328': 8, '331': 19, '150': 10, '101': 18, '99': 12, '296': 6, '102': 5, '318': 10, '163': 5, '173': 5, '165': 10, '121': 11, '306': 8, '177': 10, '180': 19, '87': 12, '189': 6, '60': 7, '259': 7, '45': 11, '58': 3, '269': 5, '167': 6, '227': 14, '96': 8, '91': 7, '143': 11, '61': 2, '93': 7, '41': 23, '235': 4, '6': 5, '89': 7, '107': 2, '79': 11, '208': 6, '132': 15, '221': 7, '301': 2, '250': 4, '106': 7, '29': 12, '337': 8, '100': 8, '110': 4, '264': 4, '225': 9, '86': 5, '152': 4, '148': 19, '295': 9, '201': 3, '289': 3, '260': 7, '160': 1, '321': 2, '68': 8, '131': 6, '22': 10, '298': 10, '262': 3, '220': 3, '234': 1, '44': 5, '50': 10, '193': 4, '97': 2, '124': 3, '112': 2, '90': 1, '179': 2, '216': 1, '151': 6, '145': 1, '157': 2, '4': 9, '327': 3, '95': 5, '120': 3, '247': 2, '190': 3, '282': 1, '244': 1, '319': 7, '233': 1, '256': 1, '166': 3, '202': 3, '155': 2, '191': 2, '147': 5, '206': 3, '229': 5, '138': 1, '164': 2, '240': 2, '77': 5, '219': 5, '305': 1, '153': 1, '154': 1, '198': 1, '182': 2, '336': 2, '241': 1, '294': 2, '253': 2, '267': 1, '316': 1, '205': 1, '47': 1, '183': 1, '52': 1, '34': 1, '35': 1}\n"
     ]
    },
    {
     "name": "stderr",
     "output_type": "stream",
     "text": [
      "/home/sangeea/anaconda3/lib/python3.6/site-packages/statsmodels/nonparametric/kdetools.py:20: VisibleDeprecationWarning: using a non-integer number instead of an integer will result in an error in the future\n",
      "  y = X[:m/2+1] + np.r_[0,X[m/2+1:],0]*1j\n"
     ]
    },
    {
     "data": {
      "image/png": "[encoded data removed]",
      "text/plain": [
       "<matplotlib.figure.Figure at 0x7f03042e7ba8>"
      ]
     },
     "metadata": {},
     "output_type": "display_data"
    }
   ],
   "source": [
    "import numpy as np\n",
    "import networkx as nx\n",
    "import seaborn as sns\n",
    "\n",
    "%matplotlib inline\n",
    "\n",
    "edges1 = np.genfromtxt('0.edges', dtype=\"int\", delimiter=\" \")\n",
    "\n",
    "graph1 = edges_to_graph(edges1)\n",
    "\n",
    "def degrees(graph):\n",
    "    degrees = {}\n",
    "    for node, links in graph.items():\n",
    "        degrees[node] = len(links)\n",
    "    return degrees\n",
    "\n",
    "d = degrees(graph1)\n",
    "\n",
    "ax = sns.distplot(list(d.values()))\n",
    "\n",
    "\"\"\" With NetworkX \"\"\"\n",
    "G = nx.read_edgelist('0.edges', delimiter=\" \")\n",
    "\n",
    "print (G.degree())\n",
    "\n",
    "bx = sns.distplot(list(G.degree().values()))"
   ]
  },
  {
   "cell_type": "markdown",
   "metadata": {},
   "source": [
    "Calcule el grado promedio"
   ]
  },
  {
   "cell_type": "code",
   "execution_count": 33,
   "metadata": {
    "collapsed": false
   },
   "outputs": [
    {
     "name": "stdout",
     "output_type": "stream",
     "text": [
      "15.12912912912913\n",
      "15.12912912912913\n"
     ]
    }
   ],
   "source": [
    "\"\"\" Without NetworkX \"\"\"\n",
    "\n",
    "def k_mean(graph):\n",
    "    d = degrees(graph)\n",
    "    \n",
    "    return (float(sum(d.values()))/len(d))\n",
    "\n",
    "print (k_mean(graph1))\n",
    "\n",
    "\"\"\" With NetworkX \"\"\"\n",
    "d_nx = G.degree()\n",
    "k_mean_nx = sum(d_nx.values())/len(d_nx)\n",
    "print (k_mean_nx)"
   ]
  },
  {
   "cell_type": "markdown",
   "metadata": {},
   "source": [
    "## Ejercicio - Diámetro"
   ]
  },
  {
   "cell_type": "code",
   "execution_count": 34,
   "metadata": {
    "collapsed": true
   },
   "outputs": [],
   "source": [
    "N = 5"
   ]
  },
  {
   "cell_type": "markdown",
   "metadata": {},
   "source": [
    "Cree un grafo de N nodos con el máximo diámetro posible"
   ]
  },
  {
   "cell_type": "code",
   "execution_count": 36,
   "metadata": {
    "collapsed": false
   },
   "outputs": [
    {
     "name": "stdout",
     "output_type": "stream",
     "text": [
      "{1: {2}, 2: {1, 3}, 3: {2, 4}, 4: {3, 5}, 5: {4, 6}, 6: {5, 7}, 7: {8, 6}, 8: {9, 7}, 9: {8, 10}, 10: {9, 11}, 11: {10, 12}, 12: {11, 13}, 13: {12, 14}, 14: {13, 15}, 15: {16, 14}, 16: {17, 15}, 17: {16, 18}, 18: {17, 19}, 19: {18, 20}, 20: {19, 21}, 21: {20, 22}, 22: {21, 23}, 23: {24, 22}, 24: {25, 23}, 25: {24, 26}, 26: {25, 27}, 27: {26, 28}, 28: {27, 29}, 29: {28, 30}, 30: {29, 31}, 31: {32, 30}, 32: {33, 31}, 33: {32, 34}, 34: {33, 35}, 35: {34, 36}, 36: {35, 37}, 37: {36, 38}, 38: {37, 39}, 39: {40, 38}, 40: {41, 39}, 41: {40, 42}, 42: {41, 43}, 43: {42, 44}, 44: {43, 45}, 45: {44, 46}, 46: {45, 47}, 47: {48, 46}, 48: {49, 47}, 49: {48, 50}, 50: {49, 51}, 51: {50, 52}, 52: {51, 53}, 53: {52, 54}, 54: {53, 55}, 55: {56, 54}, 56: {57, 55}, 57: {56, 58}, 58: {57, 59}, 59: {58, 60}, 60: {59, 61}, 61: {60, 62}, 62: {61, 63}, 63: {64, 62}, 64: {65, 63}, 65: {64, 66}, 66: {65, 67}, 67: {66, 68}, 68: {67, 69}, 69: {68, 70}, 70: {69, 71}, 71: {72, 70}, 72: {73, 71}, 73: {72, 74}, 74: {73, 75}, 75: {74, 76}, 76: {75, 77}, 77: {76, 78}, 78: {77, 79}, 79: {80, 78}, 80: {81, 79}, 81: {80, 82}, 82: {81, 83}, 83: {82, 84}, 84: {83, 85}, 85: {84, 86}, 86: {85, 87}, 87: {88, 86}, 88: {89, 87}, 89: {88, 90}, 90: {89, 91}, 91: {90, 92}, 92: {91, 93}, 93: {92, 94}, 94: {93, 95}, 95: {96, 94}, 96: {97, 95}, 97: {96, 98}, 98: {97, 99}, 99: {98, 100}, 100: {99}}\n",
      "1.98\n"
     ]
    }
   ],
   "source": [
    "\"\"\" This is a method for undirected graphs \"\"\"\n",
    "def max_k(number_of_nodes):\n",
    "    edges = []\n",
    "    for i in range(1, number_of_nodes):\n",
    "        edges.append((i, i+1))\n",
    "    \n",
    "    graph = edges_to_graph(edges)\n",
    "    return graph\n",
    "\n",
    "G = max_k(100)\n",
    "print(G)"
   ]
  },
  {
   "cell_type": "markdown",
   "metadata": {},
   "source": [
    "Cree un grafo de N nodos con el mínimo diámetro posible"
   ]
  },
  {
   "cell_type": "code",
   "execution_count": 38,
   "metadata": {
    "collapsed": false
   },
   "outputs": [
    {
     "name": "stdout",
     "output_type": "stream",
     "text": [
      "{1: {2, 3, 4, 5, 6, 7, 8, 9, 10}, 2: {1, 3, 4, 5, 6, 7, 8, 9, 10}, 3: {1, 2, 4, 5, 6, 7, 8, 9, 10}, 4: {1, 2, 3, 5, 6, 7, 8, 9, 10}, 5: {1, 2, 3, 4, 6, 7, 8, 9, 10}, 6: {1, 2, 3, 4, 5, 7, 8, 9, 10}, 7: {1, 2, 3, 4, 5, 6, 8, 9, 10}, 8: {1, 2, 3, 4, 5, 6, 7, 9, 10}, 9: {1, 2, 3, 4, 5, 6, 7, 8, 10}, 10: {1, 2, 3, 4, 5, 6, 7, 8, 9}}\n"
     ]
    }
   ],
   "source": [
    "\"\"\" This is a method for undirected graphs \"\"\"\n",
    "def clique(number_of_nodes):\n",
    "    edges = []\n",
    "    for i in range(1, number_of_nodes+1):\n",
    "        for j in range (1, number_of_nodes+1):\n",
    "            if (i != j):\n",
    "                edges.append((i, j))\n",
    "    \n",
    "    graph = edges_to_graph(edges)\n",
    "    return graph\n",
    "\n",
    "G = clique(10)\n",
    "print(G)"
   ]
  },
  {
   "cell_type": "markdown",
   "metadata": {},
   "source": [
    "Cree un grafo de N nodos que sea un ciclo simple"
   ]
  },
  {
   "cell_type": "code",
   "execution_count": 41,
   "metadata": {
    "collapsed": false
   },
   "outputs": [
    {
     "name": "stdout",
     "output_type": "stream",
     "text": [
      "{1: {2, 5}, 2: {1, 3}, 3: {2, 4}, 4: {3, 5}, 5: {1, 4}}\n"
     ]
    }
   ],
   "source": [
    "\"\"\" This is a method for undierected graphs \"\"\"\n",
    "def simple_loop(number_of_nodes):\n",
    "    edges = []\n",
    "    for i in range(1, number_of_nodes):\n",
    "        edges.append((i,i+1))\n",
    "    \n",
    "    edges.append((number_of_nodes,1))\n",
    "    graph = edges_to_graph(edges)\n",
    "    \n",
    "    return graph\n",
    "\n",
    "G = simple_loop(5)\n",
    "print(G)"
   ]
  },
  {
   "cell_type": "markdown",
   "metadata": {},
   "source": [
    "## Ejercicio - Pregunta \"real\"\n",
    "\n",
    "Una aerolínea tiene las siguientes rutas desde las ciudades a las que sirve (cada par tiene servicio en ambas direcciones)."
   ]
  },
  {
   "cell_type": "code",
   "execution_count": 45,
   "metadata": {
    "collapsed": true
   },
   "outputs": [],
   "source": [
    "routemap =  [('St. Louis', 'Miami'), \n",
    "             ('St. Louis', 'San Diego'), \n",
    "             ('St. Louis', 'Chicago'), \n",
    "             ('San Diego', 'Chicago'), \n",
    "             ('San Diego', 'San Francisco'), \n",
    "             ('San Diego', 'Minneapolis'), \n",
    "             ('San Diego', 'Boston'), \n",
    "             ('San Diego', 'Portland'), \n",
    "             ('San Diego', 'Seattle'), \n",
    "             ('Tulsa', 'New York'), \n",
    "             ('Tulsa', 'Dallas'), \n",
    "             ('Phoenix', 'Cleveland'), \n",
    "             ('Phoenix', 'Denver'), \n",
    "             ('Phoenix', 'Dallas'), \n",
    "             ('Chicago', 'New York'), \n",
    "             ('Chicago', 'Los Angeles'), \n",
    "             ('Miami', 'New York'), \n",
    "             ('Miami', 'Philadelphia'), \n",
    "             ('Miami', 'Denver'), \n",
    "             ('Boston', 'Atlanta'), \n",
    "             ('Dallas', 'Cleveland'), \n",
    "             ('Dallas', 'Albuquerque'), \n",
    "             ('Philadelphia', 'Atlanta'), \n",
    "             ('Denver', 'Minneapolis'), \n",
    "             ('Denver', 'Cleveland'), \n",
    "             ('Albuquerque', 'Atlanta'), \n",
    "             ('Minneapolis', 'Portland'), \n",
    "             ('Los Angeles', 'Seattle'), \n",
    "             ('San Francisco', 'Portland'), \n",
    "             ('San Francisco', 'Seattle'), \n",
    "             ('San Francisco', 'Cleveland'), \n",
    "             ('Seattle', 'Portland')]"
   ]
  },
  {
   "cell_type": "markdown",
   "metadata": {},
   "source": [
    "Cuál es el máximo número de intercambios que tendría que hacer un pasajero en un solo viaje entre dos ciudades servidas? (suponiendo rutas óptimas)"
   ]
  },
  {
   "cell_type": "code",
   "execution_count": 46,
   "metadata": {
    "collapsed": false
   },
   "outputs": [
    {
     "name": "stdout",
     "output_type": "stream",
     "text": [
      "[[ 0.  1.  2.  4.  2.  1.  3.  5.  3.  4.  3.  2.  2.  4.  3.  3.  4.  4.\n",
      "   2.]\n",
      " [ 1.  0.  1.  3.  3.  2.  3.  4.  2.  3.  3.  1.  3.  3.  2.  3.  3.  3.\n",
      "   3.]\n",
      " [ 2.  1.  0.  2.  3.  3.  3.  3.  3.  2.  3.  2.  4.  2.  1.  2.  2.  2.\n",
      "   4.]\n",
      " [ 4.  3.  2.  0.  3.  3.  3.  1.  2.  2.  1.  3.  4.  2.  1.  2.  2.  1.\n",
      "   2.]\n",
      " [ 2.  3.  3.  3.  0.  1.  1.  3.  2.  2.  3.  3.  1.  2.  2.  1.  2.  3.\n",
      "   2.]\n",
      " [ 1.  2.  3.  3.  1.  0.  2.  4.  3.  3.  2.  3.  1.  3.  3.  2.  3.  4.\n",
      "   1.]\n",
      " [ 3.  3.  3.  3.  1.  2.  0.  4.  1.  1.  2.  2.  1.  2.  2.  2.  3.  2.\n",
      "   3.]\n",
      " [ 5.  4.  3.  1.  3.  4.  4.  0.  3.  3.  2.  4.  4.  2.  2.  2.  1.  2.\n",
      "   3.]\n",
      " [ 3.  2.  3.  2.  2.  3.  1.  3.  0.  2.  1.  1.  2.  3.  2.  3.  3.  1.\n",
      "   2.]\n",
      " [ 4.  3.  2.  2.  2.  3.  1.  3.  2.  0.  3.  3.  2.  1.  1.  2.  2.  2.\n",
      "   4.]\n",
      " [ 3.  3.  3.  1.  3.  2.  2.  2.  1.  3.  0.  2.  3.  3.  2.  3.  3.  2.\n",
      "   1.]\n",
      " [ 2.  1.  2.  3.  3.  3.  2.  4.  1.  3.  2.  0.  3.  4.  3.  4.  4.  2.\n",
      "   3.]\n",
      " [ 2.  3.  4.  4.  1.  1.  1.  4.  2.  2.  3.  3.  0.  3.  3.  2.  3.  3.\n",
      "   2.]\n",
      " [ 4.  3.  2.  2.  2.  3.  2.  2.  3.  1.  3.  4.  3.  0.  1.  1.  1.  2.\n",
      "   4.]\n",
      " [ 3.  2.  1.  1.  2.  3.  2.  2.  2.  1.  2.  3.  3.  1.  0.  1.  1.  1.\n",
      "   3.]\n",
      " [ 3.  3.  2.  2.  1.  2.  2.  2.  3.  2.  3.  4.  2.  1.  1.  0.  1.  2.\n",
      "   3.]\n",
      " [ 4.  3.  2.  2.  2.  3.  3.  1.  3.  2.  3.  4.  3.  1.  1.  1.  0.  2.\n",
      "   4.]\n",
      " [ 4.  3.  2.  1.  3.  4.  2.  2.  1.  2.  2.  2.  3.  2.  1.  2.  2.  0.\n",
      "   3.]\n",
      " [ 2.  3.  4.  2.  2.  1.  3.  3.  2.  4.  1.  3.  2.  4.  3.  3.  4.  3.\n",
      "   0.]]\n",
      "('Los Angeles', 'Albuquerque', 5.0)\n"
     ]
    }
   ],
   "source": [
    "def edges_to_graph(edges):\n",
    "    edges = list(edges)\n",
    "    graph = {}\n",
    "    \n",
    "    for i in range(0,len(edges)):\n",
    "        \n",
    "        if graph.get(edges[i][0], None):\n",
    "            graph[edges[i][0]].add(edges[i][1])\n",
    "        else:\n",
    "            if len(edges[i]) == 2:\n",
    "                graph[edges[i][0]] = set([edges[i][1]])\n",
    "            else:\n",
    "                graph[edges[i][0]] = set([])\n",
    "        \n",
    "        if len(edges[i]) == 2:\n",
    "            if graph.get(edges[i][1], None):\n",
    "                graph[edges[i][1]].add(edges[i][0])\n",
    "            else:\n",
    "                graph[edges[i][1]] = set([edges[i][0]])\n",
    "\n",
    "    return graph\n",
    "\n",
    "\n",
    "\"\"\" This function was taken from Python Software Foundation.\n",
    "    Python Patterns - Implementing Graphs. https://www.python.org/doc/essays/graphs/ \n",
    "    (Visited in march 2017) \"\"\"\n",
    "def find_shortest_path(graph, start, end, path=[]):\n",
    "    path = path + [start]\n",
    "    if start == end:\n",
    "        return path\n",
    "    if not start in graph:\n",
    "        return None\n",
    "    shortest = None\n",
    "    for next in graph[start]:\n",
    "        if next not in path:\n",
    "            newpath = find_shortest_path(graph, next, end, path)\n",
    "            if newpath:\n",
    "                if not shortest or len(newpath) < len(shortest):\n",
    "                    shortest = newpath\n",
    "    return shortest\n",
    "\n",
    "graph1 = edges_to_graph(routemap)\n",
    "\n",
    "def adjacency_matrix(graph):\n",
    "    keys = list(graph.keys())\n",
    "    keys.sort()\n",
    "    \n",
    "    adj_matrix = np.zeros((len(keys),len(keys)))\n",
    "    \n",
    "    for node, edges in graph.items():\n",
    "        for edge in edges:\n",
    "            adj_matrix[keys.index(node)][keys.index(edge)] = 1\n",
    "    \n",
    "    return (adj_matrix, keys)\n",
    "            \n",
    "\n",
    "adj_matrix = adjacency_matrix(graph1)\n",
    "\n",
    "def distance_matrix(graph):\n",
    "    keys = list(graph.keys())\n",
    "    keys.sort()\n",
    "    \n",
    "    d_matrix = np.zeros((len(keys),len(keys)))\n",
    "    \n",
    "    for i in range(0, len(keys)):\n",
    "        for j in range(0, len(keys)):\n",
    "            start = keys[i]\n",
    "            end = keys[j]\n",
    "            path = find_shortest_path(graph, start, end)\n",
    "            d_matrix[i][j] = len(path)-1\n",
    "    \n",
    "    return (d_matrix, keys)\n",
    "\n",
    "\n",
    "def max_distance(graph):\n",
    "    result = distance_matrix(graph)\n",
    "    keys = result[1]\n",
    "    d_matrix = result[0]\n",
    "    \n",
    "    result = 0\n",
    "    result_i = -1\n",
    "    result_j = -1\n",
    "    for i in range(0, len(keys)):\n",
    "        for j in range(0, len(keys)):\n",
    "            if d_matrix[i][j] >= result:\n",
    "                result = d_matrix[i][j]\n",
    "                result_i = i\n",
    "                result_j = j\n",
    "    \n",
    "    start = keys[result_i]\n",
    "    end = keys[result_j]\n",
    "    \n",
    "    return (start, end, result)\n",
    "\n",
    "print (distance_matrix(graph1)[0])\n",
    "print (max_distance(graph1))"
   ]
  },
  {
   "cell_type": "markdown",
   "metadata": {},
   "source": [
    "Si usted necesitara viajar mucho en esta aerolínea, cual sería el lugar óptimo para vivir? (i.e. minimizar el número de intercambios para llegar a cualquier ciudad) "
   ]
  },
  {
   "cell_type": "code",
   "execution_count": 47,
   "metadata": {
    "collapsed": false
   },
   "outputs": [
    {
     "name": "stdout",
     "output_type": "stream",
     "text": [
      "('San Diego', 34.0, array([ 3.,  2.,  1.,  1.,  2.,  3.,  2.,  2.,  2.,  1.,  2.,  3.,  3.,\n",
      "        1.,  0.,  1.,  1.,  1.,  3.]))\n"
     ]
    }
   ],
   "source": [
    "\"\"\" The for optimal place to live I understand the city with the least number of leaps \"\"\"\n",
    "\n",
    "def optimal_place(graph):\n",
    "    result = distance_matrix(graph)\n",
    "    keys = result[1]\n",
    "    d_matrix = result[0]\n",
    "    \n",
    "    total_leaps = 3000000000\n",
    "    result_i = -1\n",
    "    \n",
    "    for i in range(0, len(keys)):\n",
    "        current_sum = sum(d_matrix[i])\n",
    "        if current_sum < total_leaps:\n",
    "            total_leaps = current_sum\n",
    "            result_i = i\n",
    "            \n",
    "    city = keys[result_i]\n",
    "    vector = d_matrix[result_i]\n",
    "    \n",
    "    return (city, total_leaps, vector)\n",
    "\n",
    "print (optimal_place(graph1))\n"
   ]
  },
  {
   "cell_type": "markdown",
   "metadata": {},
   "source": [
    "Visualice la red"
   ]
  },
  {
   "cell_type": "code",
   "execution_count": 48,
   "metadata": {
    "collapsed": false
   },
   "outputs": [
    {
     "name": "stderr",
     "output_type": "stream",
     "text": [
      "/home/sangeea/anaconda3/lib/python3.6/site-packages/networkx/drawing/nx_pylab.py:126: MatplotlibDeprecationWarning: pyplot.hold is deprecated.\n",
      "    Future behavior will be consistent with the long-time default:\n",
      "    plot commands add elements without first clearing the\n",
      "    Axes and/or Figure.\n",
      "  b = plt.ishold()\n",
      "/home/sangeea/anaconda3/lib/python3.6/site-packages/networkx/drawing/nx_pylab.py:138: MatplotlibDeprecationWarning: pyplot.hold is deprecated.\n",
      "    Future behavior will be consistent with the long-time default:\n",
      "    plot commands add elements without first clearing the\n",
      "    Axes and/or Figure.\n",
      "  plt.hold(b)\n",
      "/home/sangeea/anaconda3/lib/python3.6/site-packages/matplotlib/__init__.py:917: UserWarning: axes.hold is deprecated. Please remove it from your matplotlibrc and/or style files.\n",
      "  warnings.warn(self.msg_depr_set % key)\n",
      "/home/sangeea/anaconda3/lib/python3.6/site-packages/matplotlib/rcsetup.py:152: UserWarning: axes.hold is deprecated, will be removed in 3.0\n",
      "  warnings.warn(\"axes.hold is deprecated, will be removed in 3.0\")\n"
     ]
    },
    {
     "data": {
      "image/png": "[encoded data removed]",
      "text/plain": [
       "<matplotlib.figure.Figure at 0x7f0307691a90>"
      ]
     },
     "metadata": {},
     "output_type": "display_data"
    }
   ],
   "source": [
    "G = nx.Graph()\n",
    "G.add_edges_from(routemap)\n",
    "\n",
    "nx.draw(G)"
   ]
  }
 ],
 "metadata": {
  "anaconda-cloud": {},
  "kernelspec": {
   "display_name": "Python 3",
   "language": "python",
   "name": "python3"
  },
  "language_info": {
   "codemirror_mode": {
    "name": "ipython",
    "version": 3
   },
   "file_extension": ".py",
   "mimetype": "text/x-python",
   "name": "python",
   "nbconvert_exporter": "python",
   "pygments_lexer": "ipython3",
   "version": "3.6.0"
  }
 },
 "nbformat": 4,
 "nbformat_minor": 1
}
