{
 "cells": [
  {
   "cell_type": "markdown",
   "metadata": {},
   "source": [
    "# Ejercicios Graphs, Paths & Components\n",
    "\n",
    "Ejercicios básicos de Grafos."
   ]
  },
  {
   "cell_type": "markdown",
   "metadata": {},
   "source": [
    "## Ejercicio - Número de Nodos y Enlaces\n",
    "\n",
    "_ (resuelva en código propio y usando la librería NetworkX (python) o iGraph (R)) _\n",
    "\n",
    "Cuente el número de nodos y enlaces con los siguientes links (asumiendo que el grafo puede ser dirigido Y no dirigido): "
   ]
  },
  {
   "cell_type": "code",
   "execution_count": 3,
   "metadata": {
    "collapsed": false
   },
   "outputs": [],
   "source": [
    "edges = set([(1, 2), (3, 1), (3, 2), (2, 4)])"
   ]
  },
  {
   "cell_type": "code",
   "execution_count": 6,
   "metadata": {
    "collapsed": false
   },
   "outputs": [
    {
     "name": "stdout",
     "output_type": "stream",
     "text": [
      "Número de nodos: 4\n",
      "Número de enlaces: 4\n",
      "Número de nodos: 4\n",
      "Número de aristas4\n"
     ]
    }
   ],
   "source": [
    "edges = set([(1, 2), (3, 1), (3, 2), (2, 4)])\n",
    "edges_list = [i[0] for i in edges] + [i[1] for i in edges]\n",
    "nodes = set(edges_list)\n",
    "\n",
    "edges_number = len(edges)\n",
    "nodes_number = len(nodes)\n",
    "\n",
    "print \"Número de nodos: \" + str(nodes_number)\n",
    "print \"Número de enlaces: \" + str(edges_number)\n",
    "\n",
    "\"\"\"Now using NetorkX\"\"\"\n",
    "import networkx as nx\n",
    "\n",
    "G = nx.Graph()\n",
    "G.add_edges_from(edges)\n",
    "\n",
    "print \"Número de nodos: \" + str(G.number_of_nodes())\n",
    "print \"Número de aristas: \" + str(G.number_of_edges())"
   ]
  },
  {
   "cell_type": "markdown",
   "metadata": {},
   "source": [
    "## Ejercicio - Matriz de Adyacencia\n",
    "\n",
    "_ (resuelva en código propio y usando la librería NetworkX (python) o iGraph (R)) _\n",
    "\n",
    "\n",
    "Cree la matriz de adyacencia del grafo del ejercicio anterior (para dirigido y no-dirigido)"
   ]
  },
  {
   "cell_type": "code",
   "execution_count": 21,
   "metadata": {
    "collapsed": false
   },
   "outputs": [
    {
     "name": "stdout",
     "output_type": "stream",
     "text": [
      "matriz para grafo dirigido:\n",
      "[[ 0.  1.  0.  0.]\n",
      " [ 0.  0.  0.  1.]\n",
      " [ 1.  1.  0.  0.]\n",
      " [ 0.  0.  0.  0.]]\n",
      "\n",
      "\n",
      "matriz para grafo no dirigido:\n",
      "[[ 0.  1.  1.  0.]\n",
      " [ 1.  0.  1.  1.]\n",
      " [ 1.  1.  0.  0.]\n",
      " [ 0.  1.  0.  0.]]\n",
      "  (0, 1)\t1\n",
      "  (0, 2)\t1\n",
      "  (1, 0)\t1\n",
      "  (1, 2)\t1\n",
      "  (1, 3)\t1\n",
      "  (2, 0)\t1\n",
      "  (2, 1)\t1\n",
      "  (3, 1)\t1\n",
      "\n",
      "\n",
      "  (0, 1)\t1\n",
      "  (1, 3)\t1\n",
      "  (2, 0)\t1\n",
      "  (2, 1)\t1\n"
     ]
    }
   ],
   "source": [
    "\"\"\"Código propio\"\"\"\n",
    "import numpy as np\n",
    "\n",
    "edges = set([(1,2), (3, 1), (3, 2), (2, 4)])\n",
    "\n",
    "def adj_matrix_dgraph(edges):\n",
    "    edges_list = [i[0] for i in edges] + [i[1] for i in edges]\n",
    "    nodes = set(edges_list)\n",
    "    \n",
    "    \"\"\"create matrix\"\"\"\n",
    "    matrix = np.zeros((len(nodes),len(nodes)))\n",
    "    \n",
    "    for edge in edges:\n",
    "        matrix[edge[0] - 1,edge[1] -1] = 1\n",
    "    \n",
    "    return matrix\n",
    "\n",
    "def adj_matrix(edges):\n",
    "    edges_list = [i[0] for i in edges] + [i[1] for i in edges]\n",
    "    nodes = set(edges_list)\n",
    "    \n",
    "    \"\"\"create matrix\"\"\"\n",
    "    matrix = np.zeros((len(nodes),len(nodes)))\n",
    "    \n",
    "    for edge in edges:\n",
    "        i = edge[0]-1\n",
    "        j = edge[1]-1\n",
    "        matrix[i,j] = 1\n",
    "        matrix[j,i] = 1\n",
    "    \n",
    "    return matrix\n",
    "\n",
    "print \"matriz para grafo dirigido:\\n\" + str(adj_matrix_dgraph(edges))\n",
    "print \"\\n\"\n",
    "print \"matriz para grafo no dirigido:\\n\" + str(adj_matrix(edges))\n",
    "\n",
    "\"\"\"Solución con NetworkX\"\"\"\n",
    "import networkx as nx\n",
    "G = nx.Graph()\n",
    "G.add_edges_from(edges)\n",
    "\n",
    "matrix = nx.adjacency_matrix(G)\n",
    "\n",
    "print matrix\n",
    "\n",
    "DG = nx.DiGraph()\n",
    "DG.add_edges_from(edges)\n",
    "\n",
    "print \"\\n\"\n",
    "print (nx.adjacency_matrix(DG))"
   ]
  },
  {
   "cell_type": "markdown",
   "metadata": {},
   "source": [
    "D## Ejercicio - Sparseness\n",
    "\n",
    "Calcule la proporción entre número de links existentes en 3 redes reales (http://snap.stanford.edu/data/index.html) contra el número de links posibles."
   ]
  },
  {
   "cell_type": "code",
   "execution_count": 11,
   "metadata": {
    "collapsed": false
   },
   "outputs": [
    {
     "name": "stdout",
     "output_type": "stream",
     "text": [
      "len(n) = 333\n",
      "possible_edges=55278\n",
      "0.09113933210318753\n",
      "len(n) = 224\n",
      "possible_edges=24976\n",
      "0.2556053811659193\n",
      "len(n) = 150\n",
      "possible_edges=11175\n",
      "0.3029977628635347\n",
      "possible_edges(G1)=55278\n",
      "\n",
      "\n",
      "0.045569666051593766\n",
      "0.12780269058295965\n",
      "0.15149888143176735\n"
     ]
    }
   ],
   "source": [
    "import numpy as np\n",
    "\n",
    "\"\"\" The entered datasets correspond to non-directed graphs\"\"\"\n",
    "\"\"\" information about the dataset can be found in the following link:\n",
    "    http://snap.stanford.edu/data/egonets-Facebook.html \"\"\"\n",
    "\n",
    "edges1 = np.genfromtxt('0.edges', dtype=\"int\", delimiter=\" \")\n",
    "\n",
    "edges2 = np.genfromtxt('348.edges', dtype=\"int\", delimiter=\" \")\n",
    "\n",
    "edges3 = np.genfromtxt('414.edges', dtype=\"int\", delimiter=\" \")\n",
    "\n",
    "def edges_to_nodes(edges):\n",
    "    edges_list = [i[0] for i in edges] + [i[1] for i in edges]\n",
    "    nodes = set(edges_list)\n",
    "    \n",
    "    return nodes\n",
    "\n",
    "\n",
    "def edge_rate(edges):\n",
    "    nodes = edges_to_nodes(edges)\n",
    "    n = len(nodes)\n",
    "    \n",
    "    print (\"len(n) = %d\" %(n))\n",
    "    \n",
    "    \"\"\" For a non-directed graph and excluding reflexive relations\"\"\"\n",
    "    possible_edges = (n*(n-1))/2\n",
    "    \n",
    "    print (\"possible_edges=%d\" % (possible_edges))\n",
    "    result = float(len(edges))/possible_edges\n",
    "    return result\n",
    "\n",
    "def edge_rate_dgraph(edges):\n",
    "    nodes = edges_to_nodes(edges)\n",
    "    n = len(nodes)\n",
    "    \n",
    "    \"\"\" For a directed graph including reflexive relations\"\"\"\n",
    "    possible_edges = n**2\n",
    "    result = float(len(edges))/possible_edges\n",
    "    return result\n",
    "\n",
    "print (edge_rate(edges1))\n",
    "print (edge_rate(edges2))\n",
    "print (edge_rate(edges3))\n",
    "\n",
    "\"\"\" With networkx \"\"\"\n",
    "\n",
    "import networkx as nx\n",
    "\n",
    "G1 = nx.read_edgelist('0.edges', delimiter=\" \")\n",
    "G2 = nx.read_edgelist('348.edges', delimiter=\" \")\n",
    "G3 = nx.read_edgelist('414.edges', delimiter=\" \")\n",
    "\n",
    "\n",
    "def possible_edges(graph):\n",
    "    nodes = graph.number_of_nodes()\n",
    "    return (nodes*(nodes-1))/2\n",
    "\n",
    "print (\"possible_edges(G1)=%d\" % (possible_edges(G1)))\n",
    "\n",
    "def edge_rate_nx(graph):\n",
    "    return float(graph.number_of_edges())/float(possible_edges(graph))\n",
    "\n",
    "print (\"\\n\")\n",
    "print (edge_rate_nx(G1))\n",
    "print (edge_rate_nx(G2))\n",
    "print (edge_rate_nx(G3))"
   ]
  },
  {
   "cell_type": "markdown",
   "metadata": {},
   "source": [
    "En la matriz de adyacencia de cada uno de las redes elegidas, cuantos ceros hay?"
   ]
  },
  {
   "cell_type": "code",
   "execution_count": 14,
   "metadata": {
    "collapsed": false
   },
   "outputs": [
    {
     "name": "stdout",
     "output_type": "stream",
     "text": [
      "5038\n",
      "6384\n",
      "3386\n",
      "len(nodes)=333\n",
      "number_of_zeroes(edges1)=105851\n",
      "len(nodes)=224\n",
      "number_of_zeroes(edges2)=43792\n",
      "len(nodes)=150\n",
      "number_of_zeroes(edges3)=19114\n"
     ]
    }
   ],
   "source": [
    "\"\"\" Without NetworkX \"\"\"\n",
    "import numpy as np\n",
    "\n",
    "def edges_to_nodes(edges):\n",
    "    edges_list = [i[0] for i in edges] + [i[1] for i in edges]\n",
    "    nodes = set(edges_list)\n",
    "    print (\"len(nodes)=%d\" %(len(nodes)))\n",
    "    return nodes\n",
    "\n",
    "\"\"\" The entered datasets correspond to non-directed graphs\"\"\"\n",
    "\"\"\" information about the dataset can be found in the following link:\n",
    "    http://snap.stanford.edu/data/egonets-Facebook.html \"\"\"\n",
    "\n",
    "edges1 = np.genfromtxt('0.edges', dtype=\"int\", delimiter=\" \")\n",
    "print (len(edges1))\n",
    "\n",
    "edges2 = np.genfromtxt('348.edges', dtype=\"int\", delimiter=\" \")\n",
    "print (len(edges2))\n",
    "\n",
    "edges3 = np.genfromtxt('414.edges', dtype=\"int\", delimiter=\" \")\n",
    "print (len(edges3))\n",
    "\n",
    "\"\"\" Asuming there aren't repeated elements in the dataset \"\"\"\n",
    "\n",
    "def number_of_zeroes(edges):\n",
    "    n = len(edges_to_nodes(edges))\n",
    "    zeroes = n**2 - len(edges)\n",
    "    return zeroes\n",
    "\n",
    "def number_of_zeroes_dgraph(edges):\n",
    "    n = len(edges_to_nodes(edges))\n",
    "    zeroes = n**2 - len(edges)\n",
    "    return zeroes\n",
    "\n",
    "\n",
    "print (\"number_of_zeroes(edges1)=%d\" %(number_of_zeroes(edges1)))\n",
    "print (\"number_of_zeroes(edges2)=%d\" %(number_of_zeroes(edges2)))\n",
    "print (\"number_of_zeroes(edges3)=%d\" %(number_of_zeroes(edges3)))\n"
   ]
  },
  {
   "cell_type": "code",
   "execution_count": 12,
   "metadata": {
    "collapsed": false
   },
   "outputs": [
    {
     "name": "stdout",
     "output_type": "stream",
     "text": [
      "2519\n",
      "3192\n",
      "1693\n",
      "zeroes=105851\n",
      "zeroes=43792\n",
      "zeroes=19114\n"
     ]
    },
    {
     "data": {
      "text/plain": [
       "19114"
      ]
     },
     "execution_count": 12,
     "metadata": {},
     "output_type": "execute_result"
    }
   ],
   "source": [
    "\"\"\" With NetworkX \"\"\"\n",
    "import networkx as nx\n",
    "\n",
    "\"\"\" The selected datasets are non-directed graphs. Therefore their adjacency matrix is simetrical \"\"\"\n",
    "\n",
    "\"\"\" For undirected graphs NetworkX stores only the edges of one of the matrix's triangles (upper or lower)\"\"\"\n",
    "\n",
    "G1 = nx.read_edgelist('0.edges', delimiter=\" \")\n",
    "print (len(G1.edges()))\n",
    "\n",
    "G2 = nx.read_edgelist('348.edges', delimiter=\" \")\n",
    "print (len(G2.edges()))\n",
    "\n",
    "G3 = nx.read_edgelist('414.edges', delimiter=\" \")\n",
    "print (len(G3.edges()))\n",
    "\n",
    "N1 = len(G1.nodes())\n",
    "N2 = len(G2.nodes())\n",
    "N3 = len(G3.nodes())\n",
    "\n",
    "def zeroes(graph):\n",
    "    N = len(graph.nodes())\n",
    "    result = N**2 - 2*len(graph.edges())\n",
    "    print (\"zeroes=%d\" %(result))\n",
    "    return result\n",
    "\n",
    "zeroes(G1)\n",
    "zeroes(G2)\n",
    "zeroes(G3)\n",
    "\n"
   ]
  },
  {
   "cell_type": "markdown",
   "metadata": {},
   "source": [
    "## Ejercicio - Redes Bipartitas\n",
    "\n",
    "Defina una red bipartita y genere ambas proyecciones, explique qué son los nodos y links tanto de la red original como de las proyeccciones"
   ]
  },
  {
   "cell_type": "code",
   "execution_count": 28,
   "metadata": {
    "collapsed": false
   },
   "outputs": [
    {
     "name": "stdout",
     "output_type": "stream",
     "text": [
      "[(2, 1), (2, 4), (1, 5), (1, 3), (1, 4), (5, 3)]\n"
     ]
    }
   ],
   "source": [
    "import numpy as np\n",
    "\n",
    "network1 = set([(1,'a'),(3,'b'), (4,'d'),(5,'b'),(1,'b'), (2,'d'), (1,'d'), (3,'c')])\n",
    "\n",
    "def projection_u(edges):\n",
    "    edges_list = list(edges)\n",
    "    result = []\n",
    "    for i in range(0,len(edges_list)):\n",
    "        for j in range(i+1, len(edges_list)):\n",
    "            if edges_list[i][1] == edges_list[j][1]:\n",
    "                tup = (edges_list[i][0], edges_list[j][0])\n",
    "                result.append(tup)\n",
    "    \n",
    "    return set(result)\n",
    "\n",
    "print (projection_u(network1))\n",
    "\n",
    "def projection_v(edges):\n",
    "    edges_list = list(edges)\n",
    "    result = []\n",
    "    for i in range(0,len(edges_list)):\n",
    "        for j in range(i+1, len(edges_list)):\n",
    "            if edges_list[i][0] == edges_list[j][0]:\n",
    "                tup = (edges_list[i][1], edges_list[j][1])\n",
    "                result.append(tup)\n",
    "    \n",
    "    return set(result)\n",
    "\n",
    "print (projection_v(network1))   "
   ]
  },
  {
   "cell_type": "markdown",
   "metadata": {},
   "source": [
    "## Ejercicio - Paths\n",
    "\n",
    "Cree un grafo de 5 nodos con 5 enlaces. Elija dos nodos cualquiera e imprima:\n",
    "+ 5 Paths diferentes entre los nodos\n",
    "+ El camino mas corto entre los nodos\n",
    "+ El diámetro de la red\n",
    "+ Un self-avoiding path\n"
   ]
  },
  {
   "cell_type": "code",
   "execution_count": null,
   "metadata": {
    "collapsed": true
   },
   "outputs": [],
   "source": []
  },
  {
   "cell_type": "markdown",
   "metadata": {},
   "source": [
    "# Ejercicio - Componentes\n",
    "\n",
    "Baje una red real (http://snap.stanford.edu/data/index.html) y lea el archivo "
   ]
  },
  {
   "cell_type": "code",
   "execution_count": null,
   "metadata": {
    "collapsed": true
   },
   "outputs": [],
   "source": []
  },
  {
   "cell_type": "markdown",
   "metadata": {},
   "source": [
    "Utilizando NetworkX o iGraph descubra el número de componentes"
   ]
  },
  {
   "cell_type": "code",
   "execution_count": null,
   "metadata": {
    "collapsed": true
   },
   "outputs": [],
   "source": []
  },
  {
   "cell_type": "markdown",
   "metadata": {},
   "source": [
    "Implemente el algorithmo Breadth First para encontrar el número de componentes (revise que el resultado es el mismo que utilizando la librería)"
   ]
  },
  {
   "cell_type": "code",
   "execution_count": null,
   "metadata": {
    "collapsed": true
   },
   "outputs": [],
   "source": []
  },
  {
   "cell_type": "markdown",
   "metadata": {},
   "source": [
    "## Ejercicio - Degree distribution\n",
    "\n",
    "_ (resuelva en código propio y usando la librería NetworkX (python) o iGraph (R)) _\n",
    "\n",
    "Haga un plot con la distribución de grados de la red real"
   ]
  },
  {
   "cell_type": "code",
   "execution_count": 4,
   "metadata": {
    "collapsed": true
   },
   "outputs": [],
   "source": []
  },
  {
   "cell_type": "markdown",
   "metadata": {},
   "source": [
    "Calcule el grado promedio"
   ]
  },
  {
   "cell_type": "code",
   "execution_count": null,
   "metadata": {
    "collapsed": true
   },
   "outputs": [],
   "source": []
  },
  {
   "cell_type": "markdown",
   "metadata": {},
   "source": [
    "## Ejercicio - Diámetro"
   ]
  },
  {
   "cell_type": "code",
   "execution_count": 7,
   "metadata": {
    "collapsed": true
   },
   "outputs": [],
   "source": [
    "N = 5"
   ]
  },
  {
   "cell_type": "markdown",
   "metadata": {},
   "source": [
    "Cree un grafo de N nodos con el máximo diámetro posible"
   ]
  },
  {
   "cell_type": "code",
   "execution_count": null,
   "metadata": {
    "collapsed": true
   },
   "outputs": [],
   "source": []
  },
  {
   "cell_type": "markdown",
   "metadata": {},
   "source": [
    "Cree un grafo de N nodos con el mínimo diámetro posible"
   ]
  },
  {
   "cell_type": "code",
   "execution_count": null,
   "metadata": {
    "collapsed": true
   },
   "outputs": [],
   "source": []
  },
  {
   "cell_type": "markdown",
   "metadata": {},
   "source": [
    "Cree un grafo de N nodos que sea un ciclo simple"
   ]
  },
  {
   "cell_type": "code",
   "execution_count": null,
   "metadata": {
    "collapsed": true
   },
   "outputs": [],
   "source": []
  },
  {
   "cell_type": "markdown",
   "metadata": {},
   "source": [
    "## Ejercicio - Pregunta \"real\"\n",
    "\n",
    "Una aerolínea tiene las siguientes rutas desde las ciudades a las que sirve (cada par tiene servicio en ambas direcciones)."
   ]
  },
  {
   "cell_type": "code",
   "execution_count": 8,
   "metadata": {
    "collapsed": true
   },
   "outputs": [],
   "source": [
    "routemap =  [('St. Louis', 'Miami'), \n",
    "             ('St. Louis', 'San Diego'), \n",
    "             ('St. Louis', 'Chicago'), \n",
    "             ('San Diego', 'Chicago'), \n",
    "             ('San Diego', 'San Francisco'), \n",
    "             ('San Diego', 'Minneapolis'), \n",
    "             ('San Diego', 'Boston'), \n",
    "             ('San Diego', 'Portland'), \n",
    "             ('San Diego', 'Seattle'), \n",
    "             ('Tulsa', 'New York'), \n",
    "             ('Tulsa', 'Dallas'), \n",
    "             ('Phoenix', 'Cleveland'), \n",
    "             ('Phoenix', 'Denver'), \n",
    "             ('Phoenix', 'Dallas'), \n",
    "             ('Chicago', 'New York'), \n",
    "             ('Chicago', 'Los Angeles'), \n",
    "             ('Miami', 'New York'), \n",
    "             ('Miami', 'Philadelphia'), \n",
    "             ('Miami', 'Denver'), \n",
    "             ('Boston', 'Atlanta'), \n",
    "             ('Dallas', 'Cleveland'), \n",
    "             ('Dallas', 'Albuquerque'), \n",
    "             ('Philadelphia', 'Atlanta'), \n",
    "             ('Denver', 'Minneapolis'), \n",
    "             ('Denver', 'Cleveland'), \n",
    "             ('Albuquerque', 'Atlanta'), \n",
    "             ('Minneapolis', 'Portland'), \n",
    "             ('Los Angeles', 'Seattle'), \n",
    "             ('San Francisco', 'Portland'), \n",
    "             ('San Francisco', 'Seattle'), \n",
    "             ('San Francisco', 'Cleveland'), \n",
    "             ('Seattle', 'Portland')]"
   ]
  },
  {
   "cell_type": "markdown",
   "metadata": {},
   "source": [
    "Cuál es el máximo número de intercambios que tendría que hacer un pasajero en un solo viaje entre dos ciudades servidas? (suponiendo rutas óptimas)"
   ]
  },
  {
   "cell_type": "code",
   "execution_count": null,
   "metadata": {
    "collapsed": true
   },
   "outputs": [],
   "source": []
  },
  {
   "cell_type": "markdown",
   "metadata": {},
   "source": [
    "Si usted necesitara viajar mucho en esta aerolínea, cual sería el lugar óptimo para vivir? (i.e. minimizar el número de intercambios para llegar a cualquier ciudad) "
   ]
  },
  {
   "cell_type": "code",
   "execution_count": null,
   "metadata": {
    "collapsed": true
   },
   "outputs": [],
   "source": []
  },
  {
   "cell_type": "markdown",
   "metadata": {},
   "source": [
    "Visualize la red"
   ]
  },
  {
   "cell_type": "code",
   "execution_count": null,
   "metadata": {
    "collapsed": true
   },
   "outputs": [],
   "source": []
  }
 ],
 "metadata": {
  "anaconda-cloud": {},
  "kernelspec": {
   "display_name": "Python 3",
   "language": "python",
   "name": "python3"
  },
  "language_info": {
   "codemirror_mode": {
    "name": "ipython",
    "version": 3
   },
   "file_extension": ".py",
   "mimetype": "text/x-python",
   "name": "python",
   "nbconvert_exporter": "python",
   "pygments_lexer": "ipython3",
   "version": "3.6.0"
  }
 },
 "nbformat": 4,
 "nbformat_minor": 1
}
