{
 "cells": [
  {
   "cell_type": "markdown",
   "metadata": {},
   "source": [
    "# Ejercicios Graphs, Paths & Components\n",
    "\n",
    "Ejercicios básicos de Grafos."
   ]
  },
  {
   "cell_type": "markdown",
   "metadata": {},
   "source": [
    "## Ejercicio - Número de Nodos y Enlaces\n",
    "\n",
    "_ (resuelva en código propio y usando la librería NetworkX (python) o iGraph (R)) _\n",
    "\n",
    "Cuente el número de nodos y enlaces con los siguientes links (asumiendo que el grafo puede ser dirigido Y no dirigido): "
   ]
  },
  {
   "cell_type": "code",
   "execution_count": 1,
   "metadata": {
    "collapsed": false
   },
   "outputs": [],
   "source": [
    "edges = set([(1, 2), (3, 1), (3, 2), (2, 4)])"
   ]
  },
  {
   "cell_type": "code",
   "execution_count": 2,
   "metadata": {
    "collapsed": false
   },
   "outputs": [
    {
     "name": "stdout",
     "output_type": "stream",
     "text": [
      "Número de nodos: 4\n",
      "Número de enlaces: 4\n",
      "Número de nodos: 4\n",
      "Número de aristas: 4\n"
     ]
    }
   ],
   "source": [
    "edges = set([(1, 2), (3, 1), (3, 2), (2, 4)])\n",
    "edges_list = [i[0] for i in edges] + [i[1] for i in edges]\n",
    "nodes = set(edges_list)\n",
    "\n",
    "edges_number = len(edges)\n",
    "nodes_number = len(nodes)\n",
    "\n",
    "print (\"Número de nodos: \" + str(nodes_number))\n",
    "print (\"Número de enlaces: \" + str(edges_number))\n",
    "\n",
    "\"\"\"Now using NetorkX\"\"\"\n",
    "import networkx as nx\n",
    "\n",
    "G = nx.Graph()\n",
    "G.add_edges_from(edges)\n",
    "\n",
    "print (\"Número de nodos: \" + str(G.number_of_nodes()))\n",
    "print (\"Número de aristas: \" + str(G.number_of_edges()))"
   ]
  },
  {
   "cell_type": "markdown",
   "metadata": {},
   "source": [
    "## Ejercicio - Matriz de Adyacencia\n",
    "\n",
    "_ (resuelva en código propio y usando la librería NetworkX (python) o iGraph (R)) _\n",
    "\n",
    "\n",
    "Cree la matriz de adyacencia del grafo del ejercicio anterior (para dirigido y no-dirigido)"
   ]
  },
  {
   "cell_type": "code",
   "execution_count": 6,
   "metadata": {
    "collapsed": false
   },
   "outputs": [
    {
     "name": "stdout",
     "output_type": "stream",
     "text": [
      "matriz para grafo dirigido:\n",
      "[[ 0.  1.  0.  0.]\n",
      " [ 0.  0.  0.  1.]\n",
      " [ 1.  1.  0.  0.]\n",
      " [ 0.  0.  0.  0.]]\n",
      "\n",
      "\n",
      "matriz para grafo no dirigido:\n",
      "[[ 0.  1.  1.  0.]\n",
      " [ 1.  0.  1.  1.]\n",
      " [ 1.  1.  0.  0.]\n",
      " [ 0.  1.  0.  0.]]\n",
      "  (0, 1)\t1\n",
      "  (0, 2)\t1\n",
      "  (1, 0)\t1\n",
      "  (1, 2)\t1\n",
      "  (1, 3)\t1\n",
      "  (2, 0)\t1\n",
      "  (2, 1)\t1\n",
      "  (3, 1)\t1\n",
      "\n",
      "\n",
      "  (0, 1)\t1\n",
      "  (1, 3)\t1\n",
      "  (2, 0)\t1\n",
      "  (2, 1)\t1\n"
     ]
    }
   ],
   "source": [
    "\"\"\"Código propio\"\"\"\n",
    "import numpy as np\n",
    "\n",
    "edges = set([(1,2), (3, 1), (3, 2), (2, 4)])\n",
    "\n",
    "def adj_matrix_dgraph(edges):\n",
    "    edges_list = [i[0] for i in edges] + [i[1] for i in edges]\n",
    "    nodes = set(edges_list)\n",
    "    \n",
    "    \"\"\"create matrix\"\"\"\n",
    "    matrix = np.zeros((len(nodes),len(nodes)))\n",
    "    \n",
    "    for edge in edges:\n",
    "        matrix[edge[0] - 1,edge[1] -1] = 1\n",
    "    \n",
    "    return matrix\n",
    "\n",
    "def adj_matrix(edges):\n",
    "    edges_list = [i[0] for i in edges] + [i[1] for i in edges]\n",
    "    nodes = set(edges_list)\n",
    "    \n",
    "    \"\"\"create matrix\"\"\"\n",
    "    matrix = np.zeros((len(nodes),len(nodes)))\n",
    "    \n",
    "    for edge in edges:\n",
    "        i = edge[0]-1\n",
    "        j = edge[1]-1\n",
    "        matrix[i,j] = 1\n",
    "        matrix[j,i] = 1\n",
    "    \n",
    "    return matrix\n",
    "\n",
    "print (\"matriz para grafo dirigido:\\n\" + str(adj_matrix_dgraph(edges)))\n",
    "print (\"\\n\")\n",
    "print (\"matriz para grafo no dirigido:\\n\" + str(adj_matrix(edges)))\n",
    "\n",
    "\"\"\"Solución con NetworkX\"\"\"\n",
    "\n",
    "import networkx as nx\n",
    "G = nx.Graph()\n",
    "G.add_edges_from(edges)\n",
    "\n",
    "matrix = nx.adjacency_matrix(G)\n",
    "\n",
    "print (matrix)\n",
    "\n",
    "DG = nx.DiGraph()\n",
    "DG.add_edges_from(edges)\n",
    "\n",
    "print (\"\\n\")\n",
    "print (nx.adjacency_matrix(DG))"
   ]
  },
  {
   "cell_type": "markdown",
   "metadata": {},
   "source": [
    "D## Ejercicio - Sparseness\n",
    "\n",
    "Calcule la proporción entre número de links existentes en 3 redes reales (http://snap.stanford.edu/data/index.html) contra el número de links posibles."
   ]
  },
  {
   "cell_type": "code",
   "execution_count": 23,
   "metadata": {
    "collapsed": false
   },
   "outputs": [
    {
     "name": "stdout",
     "output_type": "stream",
     "text": [
      "len(n) = 333\n",
      "possible_edges=55278\n",
      "0.09113933210318753\n",
      "len(n) = 224\n",
      "possible_edges=24976\n",
      "0.2556053811659193\n",
      "len(n) = 150\n",
      "possible_edges=11175\n",
      "0.3029977628635347\n",
      "possible_edges(G1)=55278\n",
      "\n",
      "\n",
      "0.045569666051593766\n",
      "0.12780269058295965\n",
      "0.15149888143176735\n"
     ]
    }
   ],
   "source": [
    "import numpy as np\n",
    "\n",
    "\"\"\" The entered datasets correspond to non-directed graphs\"\"\"\n",
    "\"\"\" information about the dataset can be found in the following link:\n",
    "    http://snap.stanford.edu/data/egonets-Facebook.html \"\"\"\n",
    "\n",
    "edges1 = np.genfromtxt('0.edges', dtype=\"int\", delimiter=\" \")\n",
    "\n",
    "edges2 = np.genfromtxt('348.edges', dtype=\"int\", delimiter=\" \")\n",
    "\n",
    "edges3 = np.genfromtxt('414.edges', dtype=\"int\", delimiter=\" \")\n",
    "\n",
    "def edges_to_nodes(edges):\n",
    "    edges_list = [i[0] for i in edges] + [i[1] for i in edges]\n",
    "    nodes = set(edges_list)\n",
    "    \n",
    "    return nodes\n",
    "\n",
    "\n",
    "def edge_rate(edges):\n",
    "    nodes = edges_to_nodes(edges)\n",
    "    n = len(nodes)\n",
    "    \n",
    "    print (\"len(n) = %d\" %(n))\n",
    "    \n",
    "    \"\"\" For a non-directed graph and excluding reflexive relations\"\"\"\n",
    "    possible_edges = (n*(n-1))/2\n",
    "    \n",
    "    print (\"possible_edges=%d\" % (possible_edges))\n",
    "    result = float(len(edges))/possible_edges\n",
    "    return result\n",
    "\n",
    "def edge_rate_dgraph(edges):\n",
    "    nodes = edges_to_nodes(edges)\n",
    "    n = len(nodes)\n",
    "    \n",
    "    \"\"\" For a directed graph including reflexive relations\"\"\"\n",
    "    possible_edges = n**2\n",
    "    result = float(len(edges))/possible_edges\n",
    "    return result\n",
    "\n",
    "print (edge_rate(edges1))\n",
    "print (edge_rate(edges2))\n",
    "print (edge_rate(edges3))\n",
    "\n",
    "\"\"\" With networkx \"\"\"\n",
    "\n",
    "import networkx as nx\n",
    "\n",
    "G1 = nx.read_edgelist('0.edges', delimiter=\" \")\n",
    "G2 = nx.read_edgelist('348.edges', delimiter=\" \")\n",
    "G3 = nx.read_edgelist('414.edges', delimiter=\" \")\n",
    "\n",
    "\n",
    "def possible_edges(graph):\n",
    "    nodes = graph.number_of_nodes()\n",
    "    return (nodes*(nodes-1))/2\n",
    "\n",
    "print (\"possible_edges(G1)=%d\" % (possible_edges(G1)))\n",
    "\n",
    "def edge_rate_nx(graph):\n",
    "    return float(graph.number_of_edges())/float(possible_edges(graph))\n",
    "\n",
    "print (\"\\n\")\n",
    "print (edge_rate_nx(G1))\n",
    "print (edge_rate_nx(G2))\n",
    "print (edge_rate_nx(G3))"
   ]
  },
  {
   "cell_type": "markdown",
   "metadata": {},
   "source": [
    "En la matriz de adyacencia de cada uno de las redes elegidas, cuantos ceros hay?"
   ]
  },
  {
   "cell_type": "code",
   "execution_count": 5,
   "metadata": {
    "collapsed": false
   },
   "outputs": [
    {
     "name": "stdout",
     "output_type": "stream",
     "text": [
      "5038\n",
      "6384\n",
      "3386\n",
      "len(nodes)=333\n",
      "number_of_zeroes(edges1)=105851\n",
      "len(nodes)=224\n",
      "number_of_zeroes(edges2)=43792\n",
      "len(nodes)=150\n",
      "number_of_zeroes(edges3)=19114\n"
     ]
    }
   ],
   "source": [
    "\"\"\" Without NetworkX \"\"\"\n",
    "import numpy as np\n",
    "\n",
    "def edges_to_nodes(edges):\n",
    "    edges_list = [i[0] for i in edges] + [i[1] for i in edges]\n",
    "    nodes = set(edges_list)\n",
    "    print (\"len(nodes)=%d\" %(len(nodes)))\n",
    "    return nodes\n",
    "\n",
    "\"\"\" The entered datasets correspond to non-directed graphs\"\"\"\n",
    "\"\"\" information about the dataset can be found in the following link:\n",
    "    http://snap.stanford.edu/data/egonets-Facebook.html \"\"\"\n",
    "\n",
    "edges1 = np.genfromtxt('0.edges', dtype=\"int\", delimiter=\" \")\n",
    "print (len(edges1))\n",
    "\n",
    "edges2 = np.genfromtxt('348.edges', dtype=\"int\", delimiter=\" \")\n",
    "print (len(edges2))\n",
    "\n",
    "edges3 = np.genfromtxt('414.edges', dtype=\"int\", delimiter=\" \")\n",
    "print (len(edges3))\n",
    "\n",
    "\"\"\" Asuming there aren't repeated elements in the dataset \"\"\"\n",
    "\n",
    "def number_of_zeroes(edges):\n",
    "    n = len(edges_to_nodes(edges))\n",
    "    zeroes = n**2 - len(edges)\n",
    "    return zeroes\n",
    "\n",
    "def number_of_zeroes_dgraph(edges):\n",
    "    n = len(edges_to_nodes(edges))\n",
    "    zeroes = n**2 - len(edges)\n",
    "    return zeroes\n",
    "\n",
    "\n",
    "print (\"number_of_zeroes(edges1)=%d\" %(number_of_zeroes(edges1)))\n",
    "print (\"number_of_zeroes(edges2)=%d\" %(number_of_zeroes(edges2)))\n",
    "print (\"number_of_zeroes(edges3)=%d\" %(number_of_zeroes(edges3)))\n"
   ]
  },
  {
   "cell_type": "code",
   "execution_count": 6,
   "metadata": {
    "collapsed": false
   },
   "outputs": [
    {
     "name": "stdout",
     "output_type": "stream",
     "text": [
      "2519\n",
      "3192\n",
      "1693\n",
      "zeroes=105851\n",
      "zeroes=43792\n",
      "zeroes=19114\n"
     ]
    },
    {
     "data": {
      "text/plain": [
       "19114"
      ]
     },
     "execution_count": 6,
     "metadata": {},
     "output_type": "execute_result"
    }
   ],
   "source": [
    "\"\"\" With NetworkX \"\"\"\n",
    "import networkx as nx\n",
    "\n",
    "\"\"\" The selected datasets are non-directed graphs. Therefore their adjacency matrix is simetrical \"\"\"\n",
    "\n",
    "\"\"\" For undirected graphs NetworkX stores only the edges of one of the matrix's triangles (upper or lower)\"\"\"\n",
    "\n",
    "G1 = nx.read_edgelist('0.edges', delimiter=\" \")\n",
    "print (len(G1.edges()))\n",
    "\n",
    "G2 = nx.read_edgelist('348.edges', delimiter=\" \")\n",
    "print (len(G2.edges()))\n",
    "\n",
    "G3 = nx.read_edgelist('414.edges', delimiter=\" \")\n",
    "print (len(G3.edges()))\n",
    "\n",
    "N1 = len(G1.nodes())\n",
    "N2 = len(G2.nodes())\n",
    "N3 = len(G3.nodes())\n",
    "\n",
    "def zeroes(graph):\n",
    "    N = len(graph.nodes())\n",
    "    result = N**2 - 2*len(graph.edges())\n",
    "    print (\"zeroes=%d\" %(result))\n",
    "    return result\n",
    "\n",
    "zeroes(G1)\n",
    "zeroes(G2)\n",
    "zeroes(G3)\n",
    "\n"
   ]
  },
  {
   "cell_type": "markdown",
   "metadata": {},
   "source": [
    "## Ejercicio - Redes Bipartitas\n",
    "\n",
    "Defina una red bipartita y genere ambas proyecciones, explique qué son los nodos y links tanto de la red original como de las proyeccciones"
   ]
  },
  {
   "cell_type": "code",
   "execution_count": 7,
   "metadata": {
    "collapsed": false
   },
   "outputs": [
    {
     "name": "stdout",
     "output_type": "stream",
     "text": [
      "{(1, 2), (3, 1), (1, 4), (5, 1), (2, 4), (3, 5)}\n",
      "{('a', 'b'), ('d', 'b'), ('b', 'c'), ('d', 'a')}\n"
     ]
    }
   ],
   "source": [
    "import numpy as np\n",
    "\n",
    "network1 = set([(1,'a'),(3,'b'), (4,'d'),(5,'b'),(1,'b'), (2,'d'), (1,'d'), (3,'c')])\n",
    "\n",
    "def projection_u(edges):\n",
    "    edges_list = list(edges)\n",
    "    result = []\n",
    "    for i in range(0,len(edges_list)):\n",
    "        for j in range(i+1, len(edges_list)):\n",
    "            if edges_list[i][1] == edges_list[j][1]:\n",
    "                tup = (edges_list[i][0], edges_list[j][0])\n",
    "                result.append(tup)\n",
    "    \n",
    "    return set(result)\n",
    "\n",
    "print (projection_u(network1))\n",
    "\n",
    "def projection_v(edges):\n",
    "    edges_list = list(edges)\n",
    "    result = []\n",
    "    for i in range(0,len(edges_list)):\n",
    "        for j in range(i+1, len(edges_list)):\n",
    "            if edges_list[i][0] == edges_list[j][0]:\n",
    "                tup = (edges_list[i][1], edges_list[j][1])\n",
    "                result.append(tup)\n",
    "    \n",
    "    return set(result)\n",
    "\n",
    "print (projection_v(network1))"
   ]
  },
  {
   "cell_type": "code",
   "execution_count": 8,
   "metadata": {
    "collapsed": false
   },
   "outputs": [
    {
     "name": "stdout",
     "output_type": "stream",
     "text": [
      "[(1, 2), (1, 3), (1, 4), (1, 5), (2, 4), (3, 5)]\n",
      "[('a', 'd'), ('a', 'b'), ('b', 'd'), ('b', 'c')]\n"
     ]
    }
   ],
   "source": [
    "\"\"\" With NetworkX \"\"\"\n",
    "import numpy as np\n",
    "import networkx as nx\n",
    "from networkx.algorithms import bipartite\n",
    "\n",
    "edges = set([(1,'a'),(3,'b'), (4,'d'),(5,'b'),(1,'b'), (2,'d'), (1,'d'), (3,'c')])\n",
    "B = nx.Graph()\n",
    "B.add_nodes_from([1,2,3,4,5], bipartite=0)\n",
    "B.add_nodes_from(['a','b','c','d'], bipartite=1)\n",
    "B.add_edges_from(edges)\n",
    "\n",
    "projection_u = bipartite.projected_graph(B, [1,2,3,4,5])\n",
    "print (projection_u.edges())\n",
    "\n",
    "projection_v = bipartite.projected_graph(B, ['a','b','c','d'])\n",
    "print (projection_v.edges())"
   ]
  },
  {
   "cell_type": "markdown",
   "metadata": {},
   "source": [
    "## Explicación\n",
    "Los nodos de la red original corresponden a elementos pertenecientes a dos conjuntos U y V. Para este caso particular los conjuntos son disjuntos y tienen tipos diferentes de datos. los links de la red original representan relaciones entre ambos conjuntos.\n",
    "\n",
    "En la red de proyecciones de U, los nodos representan elementos de un mismo conjunto y los enlaces representan relaciones entre elementos del mismo conjunto definidas a partir de elementos comunes del conjunto V con el cual un par de elementos x,y del conjunto U se relacionan. i.e. si 'x' y 'y', pertenecientes al conjunto, U se relacionan con un elemento 'w', perteneciente al conjunto V, entonces 'x' se relaciona con 'y', i.e. hay un link entre 'x' y 'y'.\n",
    "\n",
    "Para el caso de las proyecciones de V, la definición varía en que si un par de elementos 'x','y' pertenecientes al conjunto V se relacionan, i.e. hay un link entre ellos, entonces 'x' y 'y' se relacionan en la proyección de V."
   ]
  },
  {
   "cell_type": "markdown",
   "metadata": {},
   "source": [
    "## Ejercicio - Paths\n",
    "\n",
    "Cree un grafo de 5 nodos con 5 enlaces. Elija dos nodos cualquiera e imprima:\n",
    "+ 5 Paths diferentes entre los nodos\n",
    "+ El camino mas corto entre los nodos\n",
    "+ El diámetro de la red\n",
    "+ Un self-avoiding path\n"
   ]
  },
  {
   "cell_type": "code",
   "execution_count": 9,
   "metadata": {
    "collapsed": false
   },
   "outputs": [
    {
     "name": "stdout",
     "output_type": "stream",
     "text": [
      "{(4, 1), (3, 2), (5, 2), (1, 4), (2, 3), (4, 3), (4, 2), (2, 5), (3, 4), (2, 4)}\n",
      "[1, 4, 3, 2, 5]\n",
      "[1, 4, 2, 5]\n",
      "[1, 4, 2, 3, 2, 5]\n",
      "[1, 4, 3, 4, 2, 5]\n",
      "[1, 4, 2, 4, 2, 5]\n",
      "Shortest path is: [1, 4, 2, 5]\n"
     ]
    }
   ],
   "source": [
    "import numpy as np\n",
    "\n",
    "edges = set([(1,4),(2,3),(2,4),(2,5),(3,4),(4,1),(3,2),(4,2),(5,2),(4,3)])\n",
    "\n",
    "graph = {1:[4],\n",
    "         2:[3,4,5],\n",
    "         3:[2,4],\n",
    "         4:[3,2],\n",
    "         5:[2]}\n",
    "\n",
    "print (edges)\n",
    "\"\"\" From 1 to 5 \"\"\"\n",
    "path1 = [1,4,3,2,5]\n",
    "path2 = [1,4,2,5]\n",
    "path3 = [1,4,2,3,2,5]\n",
    "path4 = [1,4,3,4,2,5]\n",
    "path5 = [1,4,2,4,2,5]\n",
    "\n",
    "print(path1)\n",
    "print(path2)\n",
    "print(path3)\n",
    "print(path4)\n",
    "print(path5)\n",
    "\n",
    "\"\"\" Shortest path\"\"\"\n",
    "def find_shortest_path(graph, start, end, path=[]):\n",
    "    path = path + [start]\n",
    "    if start == end:\n",
    "        return path\n",
    "    if not start in graph:\n",
    "        return None\n",
    "    shortest = None\n",
    "    for node in graph[start]:\n",
    "        if node not in path:\n",
    "            newpath = find_shortest_path(graph, node, end, path)\n",
    "            if newpath:\n",
    "                if not shortest or len(newpath) < len(shortest):\n",
    "                    shortest = newpath\n",
    "    return shortest\n",
    "print (\"Shortest path is: %s\" %(str(find_shortest_path(graph,1,5))))"
   ]
  },
  {
   "cell_type": "code",
   "execution_count": 10,
   "metadata": {
    "collapsed": false
   },
   "outputs": [
    {
     "name": "stdout",
     "output_type": "stream",
     "text": [
      "[1, 4, 3, 2, 5]\n",
      "[1, 4, 2, 5]\n",
      "Shortest path is: [1, 4, 2, 5]\n"
     ]
    }
   ],
   "source": [
    "import numpy as np\n",
    "import networkx as nx\n",
    "\n",
    "edges = set([(1,4),(2,3),(2,4),(2,5),(3,4),(4,1),(3,2),(4,2),(5,2),(4,3)])\n",
    "\n",
    "G = nx.Graph()\n",
    "G.add_edges_from(edges)\n",
    "\n",
    "for path in nx.all_simple_paths(G, source=1,target=5):\n",
    "    print (path)\n",
    "    \n",
    "print (\"Shortest path is: %s\" %(str(nx.shortest_path(G,source=1,target=5))))"
   ]
  },
  {
   "cell_type": "markdown",
   "metadata": {},
   "source": [
    "# Ejercicio - Componentes\n",
    "\n",
    "Baje una red real (http://snap.stanford.edu/data/index.html) y lea el archivo "
   ]
  },
  {
   "cell_type": "code",
   "execution_count": 11,
   "metadata": {
    "collapsed": true
   },
   "outputs": [],
   "source": [
    "import numpy as np\n",
    "\n",
    "\"\"\" The entered datasets correspond to non-directed graphs\"\"\"\n",
    "\"\"\" information about the dataset can be found in the following link:\n",
    "    http://snap.stanford.edu/data/egonets-Facebook.html \"\"\"\n",
    "\n",
    "edges1 = np.genfromtxt('0.edges', dtype=\"int\", delimiter=\" \")"
   ]
  },
  {
   "cell_type": "code",
   "execution_count": 12,
   "metadata": {
    "collapsed": true
   },
   "outputs": [],
   "source": [
    "\"\"\" With NetworkX \"\"\"\n",
    "import numpy as np\n",
    "import networkx as nx\n",
    "\n",
    "G1 = nx.read_edgelist('0.edges', delimiter=\" \")"
   ]
  },
  {
   "cell_type": "markdown",
   "metadata": {},
   "source": [
    "Utilizando NetworkX o iGraph descubra el número de componentes"
   ]
  },
  {
   "cell_type": "code",
   "execution_count": 13,
   "metadata": {
    "collapsed": false
   },
   "outputs": [
    {
     "name": "stdout",
     "output_type": "stream",
     "text": [
      "number_connected_components=5\n"
     ]
    }
   ],
   "source": [
    "import numpy as np\n",
    "import networkx as nx\n",
    "\n",
    "G = nx.read_edgelist('0.edges', delimiter=\" \")\n",
    "\n",
    "print (\"number_connected_components=%d\" %(nx.number_connected_components(G)))"
   ]
  },
  {
   "cell_type": "markdown",
   "metadata": {},
   "source": [
    "Implemente el algorithmo Breadth First para encontrar el número de componentes (revise que el resultado es el mismo que utilizando la librería)"
   ]
  },
  {
   "cell_type": "code",
   "execution_count": 14,
   "metadata": {
    "collapsed": false
   },
   "outputs": [
    {
     "name": "stdout",
     "output_type": "stream",
     "text": [
      "Tuple 5 is:7\n",
      "Tuple 5 is:7\n",
      "{1: {2}, 2: {1, 3, 4}, 4: {2, 3, 5, 6}, 6: {4}, 5: {4}, 3: {2, 4}, 7: set()}\n",
      "2\n",
      "5\n"
     ]
    }
   ],
   "source": [
    "import numpy as np\n",
    "import collections\n",
    "from IPython.core.debugger import Tracer\n",
    "\n",
    "\"\"\" The entered datasets correspond to non-directed graphs\"\"\"\n",
    "\"\"\" information about the dataset can be found in the following link:\n",
    "    http://snap.stanford.edu/data/egonets-Facebook.html \"\"\"\n",
    "\n",
    "edges1 = np.genfromtxt('0.edges', dtype=\"int\", delimiter= \" \")\n",
    "\n",
    "edges2 = set([(1,2),(2,3),(2,4),(3,4),(4,5),(4,6),(7,)])\n",
    "\n",
    "\n",
    "e = list(edges2)\n",
    "\n",
    "print (\"Tuple 5 is:\" + str(e[4][0]))\n",
    "print (\"Tuple 5 is:\" + str(e[4][0]))\n",
    "\n",
    "\"\"\" This method is for undirected graphs \"\"\"\n",
    "\n",
    "def edges_to_graph(edges):\n",
    "    edges = list(edges)\n",
    "    graph = {}\n",
    "    \n",
    "    for i in range(0,len(edges)):\n",
    "        \n",
    "        if graph.get(edges[i][0], None):\n",
    "            graph[edges[i][0]].add(edges[i][1])\n",
    "        else:\n",
    "            if len(edges[i]) == 2:\n",
    "                graph[edges[i][0]] = set([edges[i][1]])\n",
    "            else:\n",
    "                graph[edges[i][0]] = set([])\n",
    "        \n",
    "        if len(edges[i]) == 2:\n",
    "            if graph.get(edges[i][1], None):\n",
    "                graph[edges[i][1]].add(edges[i][0])\n",
    "            else:\n",
    "                graph[edges[i][1]] = set([edges[i][0]])\n",
    "\n",
    "    return graph\n",
    "\n",
    "graph1 = edges_to_graph(edges1)\n",
    "graph2 = edges_to_graph(edges2)\n",
    "print (str(edges_to_graph(edges2)))\n",
    "\n",
    "\"\"\" The following code snippet was taken from Mann, Edd. Depth-First Search and Breadth-First Search in Python.\n",
    "    http://eddmann.com/posts/depth-first-search-and-breadth-first-search-in-python/ \"\"\"\n",
    "\n",
    "def bfs(graph, start):\n",
    "    visited, queue = set(), collections.deque([start])\n",
    "    while queue:\n",
    "        vertex = queue.popleft()\n",
    "        if vertex not in visited:\n",
    "            visited.add(vertex)\n",
    "            queue.extend(graph[vertex] - visited)\n",
    "    return visited\n",
    "\n",
    "def number_connected_components(graph):\n",
    "    Tracer()\n",
    "    nodes = set(graph.keys())\n",
    "    num = 0\n",
    "    while len(nodes):\n",
    "        root = next(iter(nodes))\n",
    "        visited = bfs(graph, root)\n",
    "        nodes = nodes - visited\n",
    "        num += 1\n",
    "        \n",
    "    return num\n",
    "\n",
    "print (str(number_connected_components(graph2)))\n",
    "\n",
    "print (str(number_connected_components(graph1)))"
   ]
  },
  {
   "cell_type": "markdown",
   "metadata": {},
   "source": [
    "## Ejercicio - Degree distribution\n",
    "\n",
    "_ (resuelva en código propio y usando la librería NetworkX (python) o iGraph (R)) _\n",
    "\n",
    "Haga un plot con la distribución de grados de la red real"
   ]
  },
  {
   "cell_type": "code",
   "execution_count": 18,
   "metadata": {
    "collapsed": false
   },
   "outputs": [
    {
     "name": "stdout",
     "output_type": "stream",
     "text": [
      "{'236': 36, '186': 43, '122': 62, '285': 46, '24': 15, '346': 26, '271': 72, '304': 54, '176': 13, '9': 56, '130': 15, '329': 29, '204': 21, '213': 38, '252': 64, '332': 42, '82': 33, '65': 11, '276': 17, '26': 67, '280': 42, '272': 44, '211': 29, '199': 46, '84': 12, '133': 17, '62': 25, '239': 58, '172': 40, '322': 71, '53': 30, '3': 16, '170': 45, '175': 16, '46': 4, '56': 77, '254': 16, '194': 18, '231': 20, '117': 5, '127': 15, '135': 9, '103': 15, '188': 47, '23': 16, '116': 16, '73': 9, '299': 19, '288': 3, '315': 55, '119': 61, '323': 38, '48': 21, '57': 14, '200': 56, '98': 48, '313': 36, '63': 5, '344': 8, '67': 75, '118': 35, '325': 38, '277': 64, '134': 18, '270': 3, '76': 2, '36': 10, '223': 26, '274': 13, '88': 19, '21': 64, '339': 26, '108': 12, '197': 15, '169': 37, '275': 9, '273': 8, '83': 6, '28': 12, '312': 25, '242': 23, '214': 16, '20': 14, '307': 3, '71': 2, '333': 7, '207': 2, '168': 10, '308': 23, '341': 11, '128': 27, '334': 27, '238': 22, '265': 26, '141': 27, '78': 8, '345': 15, '317': 6, '158': 24, '38': 8, '302': 19, '27': 4, '54': 7, '139': 8, '109': 36, '291': 35, '142': 42, '203': 56, '105': 13, '232': 24, '64': 6, '217': 7, '248': 20, '126': 6, '224': 27, '261': 37, '283': 4, '144': 14, '226': 13, '290': 13, '25': 68, '342': 33, '146': 9, '300': 6, '94': 21, '1': 16, '184': 17, '159': 13, '149': 13, '13': 30, '59': 18, '17': 12, '326': 18, '80': 22, '187': 15, '161': 24, '66': 14, '31': 22, '136': 21, '7': 19, '255': 1, '49': 3, '320': 20, '85': 13, '246': 13, '123': 17, '284': 15, '140': 10, '137': 15, '343': 17, '115': 20, '297': 24, '185': 25, '104': 31, '324': 25, '171': 7, '111': 13, '14': 14, '310': 12, '32': 5, '30': 16, '222': 10, '92': 20, '72': 23, '40': 43, '125': 3, '266': 17, '212': 17, '278': 9, '340': 5, '237': 6, '311': 6, '309': 9, '330': 15, '230': 8, '70': 1, '16': 8, '249': 23, '39': 14, '251': 13, '10': 9, '55': 16, '228': 2, '69': 9, '113': 39, '258': 14, '257': 17, '196': 12, '156': 11, '303': 20, '286': 1, '81': 2, '174': 3, '293': 2, '33': 1, '42': 1, '347': 6, '2': 9, '281': 15, '263': 6, '279': 1, '51': 6, '338': 6, '162': 7, '19': 15, '75': 13, '218': 8, '268': 10, '314': 12, '5': 12, '178': 12, '192': 4, '243': 7, '195': 8, '181': 9, '8': 7, '245': 4, '129': 6, '328': 8, '331': 19, '150': 10, '101': 18, '99': 12, '296': 6, '102': 5, '318': 10, '163': 5, '173': 5, '165': 10, '121': 11, '306': 8, '177': 10, '180': 19, '87': 12, '189': 6, '60': 7, '259': 7, '45': 11, '58': 3, '269': 5, '167': 6, '227': 14, '96': 8, '91': 7, '143': 11, '61': 2, '93': 7, '41': 23, '235': 4, '6': 5, '89': 7, '107': 2, '79': 11, '208': 6, '132': 15, '221': 7, '301': 2, '250': 4, '106': 7, '29': 12, '337': 8, '100': 8, '110': 4, '264': 4, '225': 9, '86': 5, '152': 4, '148': 19, '295': 9, '201': 3, '289': 3, '260': 7, '160': 1, '321': 2, '68': 8, '131': 6, '22': 10, '298': 10, '262': 3, '220': 3, '234': 1, '44': 5, '50': 10, '193': 4, '97': 2, '124': 3, '112': 2, '90': 1, '179': 2, '216': 1, '151': 6, '145': 1, '157': 2, '4': 9, '327': 3, '95': 5, '120': 3, '247': 2, '190': 3, '282': 1, '244': 1, '319': 7, '233': 1, '256': 1, '166': 3, '202': 3, '155': 2, '191': 2, '147': 5, '206': 3, '229': 5, '138': 1, '164': 2, '240': 2, '77': 5, '219': 5, '305': 1, '153': 1, '154': 1, '198': 1, '182': 2, '336': 2, '241': 1, '294': 2, '253': 2, '267': 1, '316': 1, '205': 1, '47': 1, '183': 1, '52': 1, '34': 1, '35': 1}\n"
     ]
    },
    {
     "name": "stderr",
     "output_type": "stream",
     "text": [
      "/home/sangeea/anaconda3/lib/python3.6/site-packages/statsmodels/nonparametric/kdetools.py:20: VisibleDeprecationWarning: using a non-integer number instead of an integer will result in an error in the future\n",
      "  y = X[:m/2+1] + np.r_[0,X[m/2+1:],0]*1j\n"
     ]
    },
    {
     "data": {
      "image/png": "[encoded data removed]",
      "text/plain": [
       "<matplotlib.figure.Figure at 0x7fe0a4eaff98>"
      ]
     },
     "metadata": {},
     "output_type": "display_data"
    }
   ],
   "source": [
    "import numpy as np\n",
    "import networkx as nx\n",
    "import seaborn as sns\n",
    "\n",
    "%matplotlib inline\n",
    "\n",
    "edges1 = np.genfromtxt('0.edges', dtype=\"int\", delimiter=\" \")\n",
    "\n",
    "graph1 = edges_to_graph(edges1)\n",
    "\n",
    "def degrees(graph):\n",
    "    degrees = {}\n",
    "    for node, links in graph.items():\n",
    "        degrees[node] = len(links)\n",
    "    return degrees\n",
    "\n",
    "d = degrees(graph1)\n",
    "\n",
    "ax = sns.distplot(list(d.values()))\n",
    "\n",
    "\"\"\" With NetworkX \"\"\"\n",
    "G = nx.read_edgelist('0.edges', delimiter=\" \")\n",
    "\n",
    "print (G.degree())\n",
    "\n",
    "bx = sns.distplot(list(G.degree().values()))"
   ]
  },
  {
   "cell_type": "markdown",
   "metadata": {},
   "source": [
    "Calcule el grado promedio"
   ]
  },
  {
   "cell_type": "code",
   "execution_count": 21,
   "metadata": {
    "collapsed": false
   },
   "outputs": [
    {
     "name": "stdout",
     "output_type": "stream",
     "text": [
      "15.12912912912913\n",
      "15.12912912912913\n"
     ]
    }
   ],
   "source": [
    "\"\"\" Without NetworkX \"\"\"\n",
    "\n",
    "k_mean = sum(d.values())/len(d)\n",
    "\n",
    "print (k_mean)\n",
    "\n",
    "\"\"\" With NetworkX \"\"\"\n",
    "d_nx = G.degree()\n",
    "k_mean_nx = sum(d_nx.values())/len(d_nx)\n",
    "print (k_mean)"
   ]
  },
  {
   "cell_type": "markdown",
   "metadata": {},
   "source": [
    "## Ejercicio - Diámetro"
   ]
  },
  {
   "cell_type": "code",
   "execution_count": 7,
   "metadata": {
    "collapsed": true
   },
   "outputs": [],
   "source": [
    "N = 5"
   ]
  },
  {
   "cell_type": "markdown",
   "metadata": {},
   "source": [
    "Cree un grafo de N nodos con el máximo diámetro posible"
   ]
  },
  {
   "cell_type": "code",
   "execution_count": null,
   "metadata": {
    "collapsed": true
   },
   "outputs": [],
   "source": []
  },
  {
   "cell_type": "markdown",
   "metadata": {},
   "source": [
    "Cree un grafo de N nodos con el mínimo diámetro posible"
   ]
  },
  {
   "cell_type": "code",
   "execution_count": null,
   "metadata": {
    "collapsed": true
   },
   "outputs": [],
   "source": []
  },
  {
   "cell_type": "markdown",
   "metadata": {},
   "source": [
    "Cree un grafo de N nodos que sea un ciclo simple"
   ]
  },
  {
   "cell_type": "code",
   "execution_count": null,
   "metadata": {
    "collapsed": true
   },
   "outputs": [],
   "source": []
  },
  {
   "cell_type": "markdown",
   "metadata": {},
   "source": [
    "## Ejercicio - Pregunta \"real\"\n",
    "\n",
    "Una aerolínea tiene las siguientes rutas desde las ciudades a las que sirve (cada par tiene servicio en ambas direcciones)."
   ]
  },
  {
   "cell_type": "code",
   "execution_count": 8,
   "metadata": {
    "collapsed": true
   },
   "outputs": [],
   "source": [
    "routemap =  [('St. Louis', 'Miami'), \n",
    "             ('St. Louis', 'San Diego'), \n",
    "             ('St. Louis', 'Chicago'), \n",
    "             ('San Diego', 'Chicago'), \n",
    "             ('San Diego', 'San Francisco'), \n",
    "             ('San Diego', 'Minneapolis'), \n",
    "             ('San Diego', 'Boston'), \n",
    "             ('San Diego', 'Portland'), \n",
    "             ('San Diego', 'Seattle'), \n",
    "             ('Tulsa', 'New York'), \n",
    "             ('Tulsa', 'Dallas'), \n",
    "             ('Phoenix', 'Cleveland'), \n",
    "             ('Phoenix', 'Denver'), \n",
    "             ('Phoenix', 'Dallas'), \n",
    "             ('Chicago', 'New York'), \n",
    "             ('Chicago', 'Los Angeles'), \n",
    "             ('Miami', 'New York'), \n",
    "             ('Miami', 'Philadelphia'), \n",
    "             ('Miami', 'Denver'), \n",
    "             ('Boston', 'Atlanta'), \n",
    "             ('Dallas', 'Cleveland'), \n",
    "             ('Dallas', 'Albuquerque'), \n",
    "             ('Philadelphia', 'Atlanta'), \n",
    "             ('Denver', 'Minneapolis'), \n",
    "             ('Denver', 'Cleveland'), \n",
    "             ('Albuquerque', 'Atlanta'), \n",
    "             ('Minneapolis', 'Portland'), \n",
    "             ('Los Angeles', 'Seattle'), \n",
    "             ('San Francisco', 'Portland'), \n",
    "             ('San Francisco', 'Seattle'), \n",
    "             ('San Francisco', 'Cleveland'), \n",
    "             ('Seattle', 'Portland')]"
   ]
  },
  {
   "cell_type": "markdown",
   "metadata": {},
   "source": [
    "Cuál es el máximo número de intercambios que tendría que hacer un pasajero en un solo viaje entre dos ciudades servidas? (suponiendo rutas óptimas)"
   ]
  },
  {
   "cell_type": "code",
   "execution_count": 40,
   "metadata": {
    "collapsed": false
   },
   "outputs": [
    {
     "name": "stdout",
     "output_type": "stream",
     "text": [
      "[[ 0.  1.  2.  4.  2.  1.  3.  5.  3.  4.  3.  2.  2.  4.  3.  3.  4.  4.\n",
      "   2.]\n",
      " [ 1.  0.  1.  3.  3.  2.  3.  4.  2.  3.  3.  1.  3.  3.  2.  3.  3.  3.\n",
      "   3.]\n",
      " [ 2.  1.  0.  2.  3.  3.  3.  3.  3.  2.  3.  2.  4.  2.  1.  2.  2.  2.\n",
      "   4.]\n",
      " [ 4.  3.  2.  0.  3.  3.  3.  1.  2.  2.  1.  3.  4.  2.  1.  2.  2.  1.\n",
      "   2.]\n",
      " [ 2.  3.  3.  3.  0.  1.  1.  3.  2.  2.  3.  3.  1.  2.  2.  1.  2.  3.\n",
      "   2.]\n",
      " [ 1.  2.  3.  3.  1.  0.  2.  4.  3.  3.  2.  3.  1.  3.  3.  2.  3.  4.\n",
      "   1.]\n",
      " [ 3.  3.  3.  3.  1.  2.  0.  4.  1.  1.  2.  2.  1.  2.  2.  2.  3.  2.\n",
      "   3.]\n",
      " [ 5.  4.  3.  1.  3.  4.  4.  0.  3.  3.  2.  4.  4.  2.  2.  2.  1.  2.\n",
      "   3.]\n",
      " [ 3.  2.  3.  2.  2.  3.  1.  3.  0.  2.  1.  1.  2.  3.  2.  3.  3.  1.\n",
      "   2.]\n",
      " [ 4.  3.  2.  2.  2.  3.  1.  3.  2.  0.  3.  3.  2.  1.  1.  2.  2.  2.\n",
      "   4.]\n",
      " [ 3.  3.  3.  1.  3.  2.  2.  2.  1.  3.  0.  2.  3.  3.  2.  3.  3.  2.\n",
      "   1.]\n",
      " [ 2.  1.  2.  3.  3.  3.  2.  4.  1.  3.  2.  0.  3.  4.  3.  4.  4.  2.\n",
      "   3.]\n",
      " [ 2.  3.  4.  4.  1.  1.  1.  4.  2.  2.  3.  3.  0.  3.  3.  2.  3.  3.\n",
      "   2.]\n",
      " [ 4.  3.  2.  2.  2.  3.  2.  2.  3.  1.  3.  4.  3.  0.  1.  1.  1.  2.\n",
      "   4.]\n",
      " [ 3.  2.  1.  1.  2.  3.  2.  2.  2.  1.  2.  3.  3.  1.  0.  1.  1.  1.\n",
      "   3.]\n",
      " [ 3.  3.  2.  2.  1.  2.  2.  2.  3.  2.  3.  4.  2.  1.  1.  0.  1.  2.\n",
      "   3.]\n",
      " [ 4.  3.  2.  2.  2.  3.  3.  1.  3.  2.  3.  4.  3.  1.  1.  1.  0.  2.\n",
      "   4.]\n",
      " [ 4.  3.  2.  1.  3.  4.  2.  2.  1.  2.  2.  2.  3.  2.  1.  2.  2.  0.\n",
      "   3.]\n",
      " [ 2.  3.  4.  2.  2.  1.  3.  3.  2.  4.  1.  3.  2.  4.  3.  3.  4.  3.\n",
      "   0.]]\n",
      "('Los Angeles', 'Albuquerque', 5.0)\n"
     ]
    }
   ],
   "source": [
    "import numpy as np\n",
    "\n",
    "routemap =  [('St. Louis', 'Miami'), \n",
    "             ('St. Louis', 'San Diego'), \n",
    "             ('St. Louis', 'Chicago'), \n",
    "             ('San Diego', 'Chicago'), \n",
    "             ('San Diego', 'San Francisco'), \n",
    "             ('San Diego', 'Minneapolis'), \n",
    "             ('San Diego', 'Boston'), \n",
    "             ('San Diego', 'Portland'), \n",
    "             ('San Diego', 'Seattle'), \n",
    "             ('Tulsa', 'New York'), \n",
    "             ('Tulsa', 'Dallas'), \n",
    "             ('Phoenix', 'Cleveland'), \n",
    "             ('Phoenix', 'Denver'), \n",
    "             ('Phoenix', 'Dallas'), \n",
    "             ('Chicago', 'New York'), \n",
    "             ('Chicago', 'Los Angeles'), \n",
    "             ('Miami', 'New York'), \n",
    "             ('Miami', 'Philadelphia'), \n",
    "             ('Miami', 'Denver'), \n",
    "             ('Boston', 'Atlanta'), \n",
    "             ('Dallas', 'Cleveland'), \n",
    "             ('Dallas', 'Albuquerque'), \n",
    "             ('Philadelphia', 'Atlanta'), \n",
    "             ('Denver', 'Minneapolis'), \n",
    "             ('Denver', 'Cleveland'), \n",
    "             ('Albuquerque', 'Atlanta'), \n",
    "             ('Minneapolis', 'Portland'), \n",
    "             ('Los Angeles', 'Seattle'), \n",
    "             ('San Francisco', 'Portland'), \n",
    "             ('San Francisco', 'Seattle'), \n",
    "             ('San Francisco', 'Cleveland'), \n",
    "             ('Seattle', 'Portland')]\n",
    "\n",
    "\"\"\" This code snippet was taken from Python Software Foundation.\n",
    "    Python Patterns - Implementing Graphs. https://www.python.org/doc/essays/graphs/ \n",
    "    (Visited in march 2017) \"\"\"\n",
    "\n",
    "def edges_to_graph(edges):\n",
    "    edges = list(edges)\n",
    "    graph = {}\n",
    "    \n",
    "    for i in range(0,len(edges)):\n",
    "        \n",
    "        if graph.get(edges[i][0], None):\n",
    "            graph[edges[i][0]].add(edges[i][1])\n",
    "        else:\n",
    "            if len(edges[i]) == 2:\n",
    "                graph[edges[i][0]] = set([edges[i][1]])\n",
    "            else:\n",
    "                graph[edges[i][0]] = set([])\n",
    "        \n",
    "        if len(edges[i]) == 2:\n",
    "            if graph.get(edges[i][1], None):\n",
    "                graph[edges[i][1]].add(edges[i][0])\n",
    "            else:\n",
    "                graph[edges[i][1]] = set([edges[i][0]])\n",
    "\n",
    "    return graph\n",
    "\n",
    "def find_shortest_path(graph, start, end, path=[]):\n",
    "    path = path + [start]\n",
    "    if start == end:\n",
    "        return path\n",
    "    if not start in graph:\n",
    "        return None\n",
    "    shortest = None\n",
    "    for next in graph[start]:\n",
    "        if next not in path:\n",
    "            newpath = find_shortest_path(graph, next, end, path)\n",
    "            if newpath:\n",
    "                if not shortest or len(newpath) < len(shortest):\n",
    "                    shortest = newpath\n",
    "    return shortest\n",
    "\n",
    "graph1 = edges_to_graph(routemap)\n",
    "\n",
    "def adjacency_matrix(graph):\n",
    "    keys = list(graph.keys())\n",
    "    keys.sort()\n",
    "    \n",
    "    adj_matrix = np.zeros((len(keys),len(keys)))\n",
    "    \n",
    "    for node, edges in graph.items():\n",
    "        for edge in edges:\n",
    "            adj_matrix[keys.index(node)][keys.index(edge)] = 1\n",
    "    \n",
    "    return (adj_matrix, keys)\n",
    "            \n",
    "\n",
    "adj_matrix = adjacency_matrix(graph1)\n",
    "\n",
    "def distance_matrix(graph):\n",
    "    keys = list(graph.keys())\n",
    "    keys.sort()\n",
    "    \n",
    "    d_matrix = np.zeros((len(keys),len(keys)))\n",
    "    \n",
    "    for i in range(0, len(keys)):\n",
    "        for j in range(0, len(keys)):\n",
    "            start = keys[i]\n",
    "            end = keys[j]\n",
    "            path = find_shortest_path(graph, start, end)\n",
    "            d_matrix[i][j] = len(path)-1\n",
    "    \n",
    "    return (d_matrix, keys)\n",
    "\n",
    "\n",
    "def max_distance(graph):\n",
    "    result = distance_matrix(graph)\n",
    "    keys = result[1]\n",
    "    d_matrix = result[0]\n",
    "    \n",
    "    result = 0\n",
    "    result_i = -1\n",
    "    result_j = -1\n",
    "    for i in range(0, len(keys)):\n",
    "        for j in range(0, len(keys)):\n",
    "            if d_matrix[i][j] >= result:\n",
    "                result = d_matrix[i][j]\n",
    "                result_i = i\n",
    "                result_j = j\n",
    "    \n",
    "    start = keys[result_i]\n",
    "    end = keys[result_j]\n",
    "    \n",
    "    return (start, end, result)\n",
    "\n",
    "print (distance_matrix(graph1)[0])\n",
    "print (max_distance(graph1))"
   ]
  },
  {
   "cell_type": "markdown",
   "metadata": {},
   "source": [
    "Si usted necesitara viajar mucho en esta aerolínea, cual sería el lugar óptimo para vivir? (i.e. minimizar el número de intercambios para llegar a cualquier ciudad) "
   ]
  },
  {
   "cell_type": "code",
   "execution_count": 38,
   "metadata": {
    "collapsed": false
   },
   "outputs": [
    {
     "name": "stdout",
     "output_type": "stream",
     "text": [
      "('San Diego', 34.0, array([ 3.,  2.,  1.,  1.,  2.,  3.,  2.,  2.,  2.,  1.,  2.,  3.,  3.,\n",
      "        1.,  0.,  1.,  1.,  1.,  3.]))\n"
     ]
    }
   ],
   "source": [
    "\"\"\" The for optimal place to live I understand the city with the least number of leaps \"\"\"\n",
    "\n",
    "def optimal_place(graph):\n",
    "    result = distance_matrix(graph)\n",
    "    keys = result[1]\n",
    "    d_matrix = result[0]\n",
    "    \n",
    "    total_leaps = 3000000000\n",
    "    result_i = -1\n",
    "    \n",
    "    for i in range(0, len(keys)):\n",
    "        current_sum = sum(d_matrix[i])\n",
    "        if current_sum < total_leaps:\n",
    "            total_leaps = current_sum\n",
    "            result_i = i\n",
    "            \n",
    "    city = keys[result_i]\n",
    "    vector = d_matrix[result_i]\n",
    "    \n",
    "    return (city, total_leaps, vector)\n",
    "\n",
    "print (optimal_place(graph1))\n"
   ]
  },
  {
   "cell_type": "markdown",
   "metadata": {},
   "source": [
    "Visualice la red"
   ]
  },
  {
   "cell_type": "code",
   "execution_count": 4,
   "metadata": {
    "collapsed": false
   },
   "outputs": [
    {
     "data": {
      "text/html": [
       "<script>requirejs.config({paths: { 'plotly': ['https://cdn.plot.ly/plotly-latest.min']},});if(!window.Plotly) {{require(['plotly'],function(plotly) {window.Plotly=plotly;});}}</script>"
      ],
      "text/plain": [
       "<IPython.core.display.HTML object>"
      ]
     },
     "metadata": {},
     "output_type": "display_data"
    },
    {
     "data": {
      "text/html": [
       "<div id=\"b8d124da-e44c-4c5d-a420-1b5959f6d903\" style=\"height: 650px; width: 650px;\" class=\"plotly-graph-div\"></div><script type=\"text/javascript\">require([\"plotly\"], function(Plotly) { window.PLOTLYENV=window.PLOTLYENV || {};window.PLOTLYENV.BASE_URL=\"https://plot.ly\";Plotly.newPlot(\"b8d124da-e44c-4c5d-a420-1b5959f6d903\", [{\"type\": \"scatter\", \"x\": [0.9689101231869518, 0.8743376644692308, null, 0.9689101231869518, 0.8548631546201692, null, 0.9689101231869518, 0.9129328493109201, null, 0.9689101231869518, 0.8693708157388236, null, 0.13146797329489202, 0.040957120865878216, null, 0.13146797329489202, 0.026685539247653378, null, 0.13146797329489202, 0.18932077917561319, null, 0.13146797329489202, 0.1155416552960401, null, 0.13146797329489202, 0.2058879062808875, null, 0.13146797329489202, 0.1402020094459938, null, 0.13146797329489202, 0.16414062586210287, null, 0.13146797329489202, 0.04575299699157909, null, 0.13146797329489202, 0.18878531187010095, null, 0.4618644451156537, 0.5143022416084967, null, 0.4618644451156537, 0.381560048180019, null, 0.4618644451156537, 0.4994011438466076, null, 0.4618644451156537, 0.4704901694370517, null, 0.4618644451156537, 0.5297386142544853, null, 0.4618644451156537, 0.5392717997307697, null, 0.4618644451156537, 0.394262411422987, null, 0.4618644451156537, 0.5035045549728476, null, 0.4618644451156537, 0.5501252931271342, null, 0.22435119046364016, 0.12211786658349955, null, 0.22435119046364016, 0.2747036748846756, null, 0.22435119046364016, 0.18932077917561319, null, 0.22435119046364016, 0.17732186137034822, null, 0.22435119046364016, 0.18213226114681735, null, 0.22435119046364016, 0.24998048726752453, null, 0.22435119046364016, 0.23501510826390226, null, 0.22435119046364016, 0.2058879062808875, null, 0.22435119046364016, 0.2690341221331731, null, 0.22435119046364016, 0.16414062586210287, null, 0.22435119046364016, 0.15870732860306136, null, 0.22435119046364016, 0.30282658068388024, null, 0.22435119046364016, 0.2915254535150926, null, 0.9760083697843612, 0.9081872908223979, null, 0.9760083697843612, 0.9927943949301501, null, 0.9760083697843612, 0.8888605338975242, null, 0.9760083697843612, 0.9287746826192724, null, 0.9760083697843612, 0.9911266299521583, null, 0.2915254535150926, 0.27539646483300595, null, 0.2915254535150926, 0.35965464740951403, null, 0.2915254535150926, 0.2747036748846756, null, 0.2915254535150926, 0.18932077917561319, null, 0.2915254535150926, 0.17732186137034822, null, 0.2915254535150926, 0.24998048726752453, null, 0.2915254535150926, 0.2058879062808875, null, 0.2915254535150926, 0.36109654792229195, null, 0.2915254535150926, 0.3160736825447432, null, 0.9635692455212133, 0.9081872908223979, null, 0.9635692455212133, 0.8888605338975242, null, 0.9635692455212133, 0.8814818247948465, null, 0.9635692455212133, 0.8606780433600261, null, 0.8479393376044059, 0.773843722440317, null, 0.8479393376044059, 0.8904902891902541, null, 0.8479393376044059, 0.8605186915515307, null, 0.8479393376044059, 0.8110104583036672, null, 0.8479393376044059, 0.9605429595882313, null, 0.8479393376044059, 0.9717543390523845, null, 0.8479393376044059, 0.8069512847486938, null, 0.8479393376044059, 0.7637691656315709, null, 0.5623187648672408, 0.5516399383487579, null, 0.5623187648672408, 0.5080228976839098, null, 0.5623187648672408, 0.4941979267962445, null, 0.5623187648672408, 0.4467656203995217, null, 0.5623187648672408, 0.5606954205521218, null, 0.5623187648672408, 0.6829886365147079, null, 0.5623187648672408, 0.6326112345895796, null, 0.5623187648672408, 0.49035325768600324, null, 0.5623187648672408, 0.49084083003584156, null, 0.5623187648672408, 0.4707945855418334, null, 0.5623187648672408, 0.6394490683653434, null, 0.5623187648672408, 0.4825174830784138, null, 0.6143610109962707, 0.5003661739170774, null, 0.6143610109962707, 0.5497662139425978, null, 0.6143610109962707, 0.5329300947925926, null, 0.6143610109962707, 0.605746734446886, null, 0.18878531187010095, 0.10238191582627898, null, 0.18878531187010095, 0.213874373419235, null, 0.18878531187010095, 0.25510600251487303, null, 0.18878531187010095, 0.29263822178750487, null, 0.062499471312535304, 0.010917174339214908, null, 0.062499471312535304, 0.018369242588188506, null, 0.062499471312535304, 0.010730502081506499, null, 0.062499471312535304, 0.041214614199590605, null, 0.6111170555334787, 0.6711602670350236, null, 0.6111170555334787, 0.5267403307236437, null, 0.6111170555334787, 0.6607326928412376, null, 0.6111170555334787, 0.6249558662329465, null, 0.6111170555334787, 0.5977690811087668, null, 0.6111170555334787, 0.601451938181859, null, 0.6111170555334787, 0.5356349383565197, null, 0.6111170555334787, 0.7311132439907858, null, 0.6111170555334787, 0.6383706155768544, null, 0.6111170555334787, 0.560050638721535, null, 0.732774699139553, 0.7960907478024929, null, 0.732774699139553, 0.71601291620653, null, 0.732774699139553, 0.6829886365147079, null, 0.732774699139553, 0.7918652438063858, null, 0.732774699139553, 0.6326112345895796, null, 0.732774699139553, 0.6394490683653434, null, 0.732774699139553, 0.7677668960589296, null, 0.732774699139553, 0.7649940637865293, null, 0.20617444202772506, 0.2151917149284469, null, 0.20617444202772506, 0.18489804831509593, null, 0.20617444202772506, 0.18029398557658216, null, 0.20617444202772506, 0.277617098296587, null, 0.20617444202772506, 0.2591947925771837, null, 0.27952262513828585, 0.18106350879807498, null, 0.27952262513828585, 0.3461789371599958, null, 0.27952262513828585, 0.4010483643072291, null, 0.27952262513828585, 0.23501510826390226, null, 0.27952262513828585, 0.3463776298658724, null, 0.27952262513828585, 0.3988709255055123, null, 0.27952262513828585, 0.2690341221331731, null, 0.27952262513828585, 0.2296603597742516, null, 0.27952262513828585, 0.30282658068388024, null, 0.2591947925771837, 0.2151917149284469, null, 0.2591947925771837, 0.20641865944204707, null, 0.2591947925771837, 0.30477102886716134, null, 0.2591947925771837, 0.18489804831509593, null, 0.2591947925771837, 0.18029398557658216, null, 0.2591947925771837, 0.3011022388388731, null, 0.2591947925771837, 0.34270146897375464, null, 0.05678279467622527, 0.006633145651064765, null, 0.4871566073555551, 0.5080228976839098, null, 0.4871566073555551, 0.5003661739170774, null, 0.4871566073555551, 0.5497662139425978, null, 0.4871566073555551, 0.4101500256549975, null, 0.4871566073555551, 0.49035325768600324, null, 0.4871566073555551, 0.43905032195896176, null, 0.4871566073555551, 0.5329300947925926, null, 0.4871566073555551, 0.42449482757143353, null, 0.4871566073555551, 0.4707945855418334, null, 0.4871566073555551, 0.605746734446886, null, 0.4871566073555551, 0.4369660270678595, null, 0.013591816057778372, 0.01787448904674993, null, 0.013591816057778372, 0.08786778832767528, null, 0.013591816057778372, 0.041214614199590605, null, 0.013591816057778372, 0.026253480089433956, null, 0.30282658068388024, 0.35965464740951403, null, 0.30282658068388024, 0.3461789371599958, null, 0.30282658068388024, 0.18213226114681735, null, 0.30282658068388024, 0.4010483643072291, null, 0.30282658068388024, 0.24998048726752453, null, 0.30282658068388024, 0.23501510826390226, null, 0.30282658068388024, 0.39206586089910334, null, 0.30282658068388024, 0.36109654792229195, null, 0.30282658068388024, 0.2690341221331731, null, 0.767343452206116, 0.6812012857239692, null, 0.767343452206116, 0.8814818247948465, null, 0.767343452206116, 0.7918652438063858, null, 0.767343452206116, 0.7412611943090408, null, 0.767343452206116, 0.7234219571742541, null, 0.767343452206116, 0.794692439739331, null, 0.767343452206116, 0.8606780433600261, null, 0.767343452206116, 0.7649940637865293, null, 0.7649940637865293, 0.6812012857239692, null, 0.7649940637865293, 0.8814818247948465, null, 0.7649940637865293, 0.71601291620653, null, 0.7649940637865293, 0.7918652438063858, null, 0.7649940637865293, 0.7412611943090408, null, 0.7649940637865293, 0.794692439739331, null, 0.7649940637865293, 0.8606780433600261, null, 0.4369660270678595, 0.5080228976839098, null, 0.4369660270678595, 0.5003661739170774, null, 0.4369660270678595, 0.5497662139425978, null, 0.4369660270678595, 0.4101500256549975, null, 0.4369660270678595, 0.4941979267962445, null, 0.4369660270678595, 0.4467656203995217, null, 0.4369660270678595, 0.49035325768600324, null, 0.4369660270678595, 0.43905032195896176, null, 0.4369660270678595, 0.3664981601001951, null, 0.4369660270678595, 0.5329300947925926, null, 0.4369660270678595, 0.34876560605835516, null, 0.4369660270678595, 0.42449482757143353, null, 0.4369660270678595, 0.4707945855418334, null, 0.2296603597742516, 0.18106350879807498, null, 0.2296603597742516, 0.3463776298658724, null, 0.7677668960589296, 0.8548631546201692, null, 0.7677668960589296, 0.8391957144366634, null, 0.7677668960589296, 0.7960907478024929, null, 0.7677668960589296, 0.71601291620653, null, 0.7677668960589296, 0.6829886365147079, null, 0.7677668960589296, 0.7918652438063858, null, 0.7677668960589296, 0.7758511496161692, null, 0.7677668960589296, 0.8693708157388236, null, 0.8932155106274416, 0.9678310208679198, null, 0.8932155106274416, 0.8742117453314674, null, 0.8932155106274416, 0.8333124908528365, null, 0.8932155106274416, 0.9611022248127651, null, 0.8932155106274416, 0.8636366538200578, null, 0.8932155106274416, 0.9423200250274958, null, 0.8932155106274416, 0.9940611665237088, null, 0.8932155106274416, 0.8878049786692965, null, 0.4825174830784138, 0.5516399383487579, null, 0.4825174830784138, 0.5080228976839098, null, 0.4825174830784138, 0.4337777694098677, null, 0.4825174830784138, 0.4101500256549975, null, 0.4825174830784138, 0.4941979267962445, null, 0.4825174830784138, 0.4467656203995217, null, 0.4825174830784138, 0.5198131625161747, null, 0.4825174830784138, 0.5606954205521218, null, 0.4825174830784138, 0.4513092607259074, null, 0.4825174830784138, 0.49035325768600324, null, 0.4825174830784138, 0.49084083003584156, null, 0.4825174830784138, 0.47287415171242353, null, 0.4825174830784138, 0.42449482757143353, null, 0.4825174830784138, 0.4707945855418334, null, 0.15870732860306136, 0.12211786658349955, null, 0.15870732860306136, 0.17732186137034822, null, 0.15870732860306136, 0.1155416552960401, null, 0.15870732860306136, 0.18213226114681735, null, 0.15870732860306136, 0.24998048726752453, null, 0.15870732860306136, 0.08786778832767528, null, 0.15870732860306136, 0.23501510826390226, null, 0.15870732860306136, 0.09921856810492158, null, 0.15870732860306136, 0.16414062586210287, null, 0.605746734446886, 0.5003661739170774, null, 0.605746734446886, 0.5497662139425978, null, 0.605746734446886, 0.5329300947925926, null, 0.9518036876844695, 0.9823551918814719, null, 0.9518036876844695, 0.9129328493109201, null, 0.6394490683653434, 0.5516399383487579, null, 0.6394490683653434, 0.5606954205521218, null, 0.6394490683653434, 0.71601291620653, null, 0.6394490683653434, 0.6829886365147079, null, 0.6394490683653434, 0.6326112345895796, null, 0.7442578124838906, 0.6711602670350236, null, 0.7442578124838906, 0.8333124908528365, null, 0.7442578124838906, 0.6607326928412376, null, 0.7442578124838906, 0.8349516271939293, null, 0.7442578124838906, 0.8636366538200578, null, 0.7442578124838906, 0.7132781544726736, null, 0.7442578124838906, 0.8004964270894835, null, 0.7442578124838906, 0.7311132439907858, null, 0.7442578124838906, 0.6783544986396647, null, 0.7442578124838906, 0.7489158659579485, null, 0.8606780433600261, 0.9081872908223979, null, 0.8606780433600261, 0.8888605338975242, null, 0.8606780433600261, 0.8814818247948465, null, 0.8606780433600261, 0.7918652438063858, null, 0.8606780433600261, 0.7412611943090408, null, 0.8606780433600261, 0.794692439739331, null, 0.8693708157388236, 0.8743376644692308, null, 0.8693708157388236, 0.8548631546201692, null, 0.8693708157388236, 0.8391957144366634, null, 0.8693708157388236, 0.7960907478024929, null, 0.8693708157388236, 0.7758511496161692, null, 0.8693708157388236, 0.8119757733878251, null, 0.8693708157388236, 0.9129328493109201, null, 0.4707945855418334, 0.5516399383487579, null, 0.4707945855418334, 0.5080228976839098, null, 0.4707945855418334, 0.5003661739170774, null, 0.4707945855418334, 0.5497662139425978, null, 0.4707945855418334, 0.4101500256549975, null, 0.4707945855418334, 0.4941979267962445, null, 0.4707945855418334, 0.4467656203995217, null, 0.4707945855418334, 0.5606954205521218, null, 0.4707945855418334, 0.49035325768600324, null, 0.4707945855418334, 0.43905032195896176, null, 0.4707945855418334, 0.3664981601001951, null, 0.4707945855418334, 0.5329300947925926, null, 0.4707945855418334, 0.42449482757143353, null, 0.7489158659579485, 0.6711602670350236, null, 0.7489158659579485, 0.8333124908528365, null, 0.7489158659579485, 0.6607326928412376, null, 0.7489158659579485, 0.7500487543707453, null, 0.7489158659579485, 0.8349516271939293, null, 0.7489158659579485, 0.8004964270894835, null, 0.7489158659579485, 0.7311132439907858, null, 0.9129328493109201, 0.8743376644692308, null, 0.9129328493109201, 0.9823551918814719, null, 0.9129328493109201, 0.8548631546201692, null, 0.9129328493109201, 0.8391957144366634, null, 0.794692439739331, 0.6812012857239692, null, 0.794692439739331, 0.8814818247948465, null, 0.794692439739331, 0.7918652438063858, null, 0.794692439739331, 0.7412611943090408, null, 0.277617098296587, 0.2151917149284469, null, 0.277617098296587, 0.18489804831509593, null, 0.277617098296587, 0.18029398557658216, null, 0.277617098296587, 0.34270146897375464, null, 0.5696771417262098, 0.48138829944848904, null, 0.5696771417262098, 0.5186801755780348, null, 0.5696771417262098, 0.5325081314931189, null, 0.5696771417262098, 0.633172514115946, null, 0.5696771417262098, 0.6067520240854849, null, 0.5696771417262098, 0.6249558662329465, null, 0.5696771417262098, 0.5462316278609769, null, 0.5696771417262098, 0.5198131625161747, null, 0.5696771417262098, 0.5977690811087668, null, 0.5696771417262098, 0.601451938181859, null, 0.5696771417262098, 0.6434036576730152, null, 0.5696771417262098, 0.6383706155768544, null, 0.5696771417262098, 0.560050638721535, null, 0.42449482757143353, 0.5080228976839098, null, 0.42449482757143353, 0.5003661739170774, null, 0.42449482757143353, 0.4101500256549975, null, 0.42449482757143353, 0.4941979267962445, null, 0.42449482757143353, 0.4467656203995217, null, 0.42449482757143353, 0.3103549657641643, null, 0.42449482757143353, 0.49035325768600324, null, 0.42449482757143353, 0.43905032195896176, null, 0.42449482757143353, 0.3664981601001951, null, 0.42449482757143353, 0.34876560605835516, null, 0.34876560605835516, 0.3228495585410188, null, 0.34876560605835516, 0.4101500256549975, null, 0.34876560605835516, 0.3103549657641643, null, 0.34876560605835516, 0.43905032195896176, null, 0.34876560605835516, 0.29263822178750487, null, 0.34876560605835516, 0.3664981601001951, null, 0.5329300947925926, 0.5080228976839098, null, 0.5329300947925926, 0.5003661739170774, null, 0.5329300947925926, 0.5497662139425978, null, 0.5329300947925926, 0.4941979267962445, null, 0.5329300947925926, 0.49035325768600324, null, 0.5329300947925926, 0.43905032195896176, null, 0.8119757733878251, 0.8743376644692308, null, 0.8119757733878251, 0.8548631546201692, null, 0.8119757733878251, 0.8391957144366634, null, 0.8119757733878251, 0.7758511496161692, null, 0.47287415171242353, 0.4337777694098677, null, 0.47287415171242353, 0.5186801755780348, null, 0.47287415171242353, 0.5325081314931189, null, 0.47287415171242353, 0.5198131625161747, null, 0.47287415171242353, 0.4513092607259074, null, 0.47287415171242353, 0.49084083003584156, null, 0.04575299699157909, 0.040957120865878216, null, 0.04575299699157909, 0.026685539247653378, null, 0.04575299699157909, 0.0018165758340868976, null, 0.04575299699157909, 0.0722105541231679, null, 0.04575299699157909, 0.009472715295126277, null, 0.04575299699157909, 0.002923692958122892, null, 0.04575299699157909, 0.10238191582627898, null, 0.04575299699157909, 0.01009221347242939, null, 0.04575299699157909, 0.04891617470527809, null, 0.04575299699157909, 0.08217371801731244, null, 0.7637691656315709, 0.773843722440317, null, 0.7637691656315709, 0.7203883407901148, null, 0.7637691656315709, 0.8110104583036672, null, 0.7637691656315709, 0.7393844205185558, null, 0.7637691656315709, 0.8069512847486938, null, 0.5791765103374505, 0.5886254094621834, null, 0.5791765103374505, 0.539437601723423, null, 0.5791765103374505, 0.4660050648937648, null, 0.5791765103374505, 0.5297386142544853, null, 0.5791765103374505, 0.6233862146734221, null, 0.49084083003584156, 0.5516399383487579, null, 0.49084083003584156, 0.4337777694098677, null, 0.49084083003584156, 0.5186801755780348, null, 0.49084083003584156, 0.4467656203995217, null, 0.49084083003584156, 0.5198131625161747, null, 0.49084083003584156, 0.4513092607259074, null, 0.560050638721535, 0.48138829944848904, null, 0.560050638721535, 0.5325081314931189, null, 0.560050638721535, 0.5267403307236437, null, 0.560050638721535, 0.4559022047290171, null, 0.560050638721535, 0.6249558662329465, null, 0.560050638721535, 0.5462316278609769, null, 0.560050638721535, 0.5977690811087668, null, 0.560050638721535, 0.601451938181859, null, 0.560050638721535, 0.5356349383565197, null, 0.560050638721535, 0.6383706155768544, null, 0.8878049786692965, 0.9678310208679198, null, 0.8878049786692965, 0.8904902891902541, null, 0.8878049786692965, 0.8742117453314674, null, 0.8878049786692965, 0.8605186915515307, null, 0.8878049786692965, 0.9591665768602158, null, 0.8878049786692965, 0.9611022248127651, null, 0.8878049786692965, 0.8636366538200578, null, 0.5501252931271342, 0.5143022416084967, null, 0.5501252931271342, 0.4704901694370517, null, 0.5501252931271342, 0.5267403307236437, null, 0.5501252931271342, 0.5939327019163655, null, 0.5501252931271342, 0.5392717997307697, null, 0.5501252931271342, 0.5035045549728476, null, 0.5501252931271342, 0.5963179936212588, null, 0.3160736825447432, 0.27539646483300595, null, 0.3160736825447432, 0.2747036748846756, null, 0.3160736825447432, 0.4101500256549975, null, 0.3160736825447432, 0.3103549657641643, null, 0.3160736825447432, 0.25510600251487303, null, 0.5963179936212588, 0.5886254094621834, null, 0.5963179936212588, 0.7013226230373438, null, 0.5963179936212588, 0.4994011438466076, null, 0.5963179936212588, 0.5939327019163655, null, 0.5963179936212588, 0.7073101181162309, null, 0.5963179936212588, 0.5297386142544853, null, 0.5963179936212588, 0.5392717997307697, null, 0.5963179936212588, 0.5035045549728476, null, 0.5963179936212588, 0.6233862146734221, null, 0.5963179936212588, 0.6783544986396647, null, 0.026253480089433956, 0.01787448904674993, null, 0.026253480089433956, 0.08786778832767528, null, 0.9940611665237088, 0.9914937314475555, null, 0.9940611665237088, 0.9678310208679198, null, 0.9940611665237088, 0.8742117453314674, null, 0.9940611665237088, 0.9927943949301501, null, 0.9940611665237088, 0.9423200250274958, null, 0.16414062586210287, 0.27539646483300595, null, 0.16414062586210287, 0.12211786658349955, null, 0.16414062586210287, 0.2747036748846756, null, 0.16414062586210287, 0.18932077917561319, null, 0.16414062586210287, 0.17732186137034822, null, 0.16414062586210287, 0.1155416552960401, null, 0.16414062586210287, 0.2058879062808875, null, 0.16414062586210287, 0.09921856810492158, null, 0.16414062586210287, 0.1402020094459938, null, 0.6783544986396647, 0.7013226230373438, null, 0.6783544986396647, 0.5939327019163655, null, 0.6783544986396647, 0.7073101181162309, null, 0.6783544986396647, 0.6607326928412376, null, 0.6783544986396647, 0.7132781544726736, null, 0.6783544986396647, 0.6233862146734221, null, 0.3664981601001951, 0.3228495585410188, null, 0.3664981601001951, 0.4101500256549975, null, 0.3664981601001951, 0.3103549657641643, null, 0.3664981601001951, 0.43905032195896176, null, 0.3664981601001951, 0.29263822178750487, null, 0.6233862146734221, 0.5886254094621834, null, 0.6233862146734221, 0.539437601723423, null, 0.6233862146734221, 0.7013226230373438, null, 0.6233862146734221, 0.5939327019163655, null, 0.6233862146734221, 0.7073101181162309, null, 0.6233862146734221, 0.5297386142544853, null, 0.6233862146734221, 0.7393844205185558, null, 0.6233862146734221, 0.5392717997307697, null, 0.5035045549728476, 0.5143022416084967, null, 0.5035045549728476, 0.4994011438466076, null, 0.5035045549728476, 0.4704901694370517, null, 0.5035045549728476, 0.5267403307236437, null, 0.5035045549728476, 0.5939327019163655, null, 0.5035045549728476, 0.5392717997307697, null, 0.5035045549728476, 0.394262411422987, null, 0.29263822178750487, 0.3228495585410188, null, 0.29263822178750487, 0.3103549657641643, null, 0.29263822178750487, 0.213874373419235, null, 0.29263822178750487, 0.25510600251487303, null, 0.34270146897375464, 0.381560048180019, null, 0.34270146897375464, 0.30477102886716134, null, 0.34270146897375464, 0.394262411422987, null, 0.34270146897375464, 0.3011022388388731, null, 0.6383706155768544, 0.6711602670350236, null, 0.6383706155768544, 0.6067520240854849, null, 0.6383706155768544, 0.6249558662329465, null, 0.6383706155768544, 0.7500487543707453, null, 0.6383706155768544, 0.5462316278609769, null, 0.6383706155768544, 0.5977690811087668, null, 0.6383706155768544, 0.601451938181859, null, 0.6383706155768544, 0.6434036576730152, null, 0.6383706155768544, 0.5356349383565197, null, 0.6383706155768544, 0.7234219571742541, null, 0.7311132439907858, 0.6711602670350236, null, 0.7311132439907858, 0.8333124908528365, null, 0.7311132439907858, 0.6607326928412376, null, 0.7311132439907858, 0.7500487543707453, null, 0.7311132439907858, 0.8349516271939293, null, 0.7311132439907858, 0.8004964270894835, null, 0.8004964270894835, 0.8742117453314674, null, 0.8004964270894835, 0.8333124908528365, null, 0.8004964270894835, 0.7500487543707453, null, 0.8004964270894835, 0.8349516271939293, null, 0.8004964270894835, 0.8636366538200578, null, 0.1402020094459938, 0.040957120865878216, null, 0.1402020094459938, 0.026685539247653378, null, 0.1402020094459938, 0.12211786658349955, null, 0.1402020094459938, 0.18932077917561319, null, 0.1402020094459938, 0.17732186137034822, null, 0.1402020094459938, 0.1155416552960401, null, 0.1402020094459938, 0.2058879062808875, null, 0.1402020094459938, 0.09921856810492158, null, 0.43905032195896176, 0.5080228976839098, null, 0.43905032195896176, 0.5003661739170774, null, 0.43905032195896176, 0.3228495585410188, null, 0.43905032195896176, 0.5497662139425978, null, 0.43905032195896176, 0.4101500256549975, null, 0.43905032195896176, 0.49035325768600324, null, 0.9911266299521583, 0.9914937314475555, null, 0.9911266299521583, 0.9927943949301501, null, 0.9911266299521583, 0.9287746826192724, null, 0.9911266299521583, 0.9423200250274958, null, 0.7758511496161692, 0.8743376644692308, null, 0.7758511496161692, 0.8548631546201692, null, 0.7758511496161692, 0.8391957144366634, null, 0.006633145651064765, 0.010730502081506499, null, 0.7234219571742541, 0.8278503593506462, null, 0.7234219571742541, 0.6067520240854849, null, 0.7234219571742541, 0.6249558662329465, null, 0.7234219571742541, 0.7500487543707453, null, 0.7234219571742541, 0.6812012857239692, null, 0.7234219571742541, 0.6434036576730152, null, 0.7234219571742541, 0.7412611943090408, null, 0.25510600251487303, 0.27539646483300595, null, 0.25510600251487303, 0.2747036748846756, null, 0.25510600251487303, 0.3103549657641643, null, 0.2690341221331731, 0.35965464740951403, null, 0.2690341221331731, 0.18106350879807498, null, 0.2690341221331731, 0.18213226114681735, null, 0.2690341221331731, 0.24998048726752453, null, 0.2690341221331731, 0.23501510826390226, null, 0.2690341221331731, 0.39206586089910334, null, 0.2690341221331731, 0.36109654792229195, null, 0.49035325768600324, 0.5516399383487579, null, 0.49035325768600324, 0.5080228976839098, null, 0.49035325768600324, 0.5003661739170774, null, 0.49035325768600324, 0.5497662139425978, null, 0.49035325768600324, 0.4101500256549975, null, 0.49035325768600324, 0.4941979267962445, null, 0.49035325768600324, 0.4467656203995217, null, 0.49035325768600324, 0.5606954205521218, null, 0.7412611943090408, 0.633172514115946, null, 0.7412611943090408, 0.6812012857239692, null, 0.7412611943090408, 0.7918652438063858, null, 0.4513092607259074, 0.4337777694098677, null, 0.4513092607259074, 0.5186801755780348, null, 0.4513092607259074, 0.4467656203995217, null, 0.4513092607259074, 0.5198131625161747, null, 0.9423200250274958, 0.9914937314475555, null, 0.9423200250274958, 0.9678310208679198, null, 0.9423200250274958, 0.8742117453314674, null, 0.9423200250274958, 0.9927943949301501, null, 0.9423200250274958, 0.8333124908528365, null, 0.9423200250274958, 0.9287746826192724, null, 0.9423200250274958, 0.8349516271939293, null, 0.9423200250274958, 0.8636366538200578, null, 0.6326112345895796, 0.5516399383487579, null, 0.6326112345895796, 0.5606954205521218, null, 0.6326112345895796, 0.71601291620653, null, 0.6326112345895796, 0.6829886365147079, null, 0.08217371801731244, 0.0722105541231679, null, 0.08217371801731244, 0.002923692958122892, null, 0.08217371801731244, 0.10238191582627898, null, 0.08217371801731244, 0.01009221347242939, null, 0.08217371801731244, 0.04891617470527809, null, 0.7918652438063858, 0.7960907478024929, null, 0.7918652438063858, 0.71601291620653, null, 0.7918652438063858, 0.6829886365147079, null, 0.8069512847486938, 0.773843722440317, null, 0.8069512847486938, 0.7013226230373438, null, 0.8069512847486938, 0.8904902891902541, null, 0.8069512847486938, 0.8605186915515307, null, 0.8069512847486938, 0.7203883407901148, null, 0.8069512847486938, 0.8110104583036672, null, 0.8069512847486938, 0.7393844205185558, null, 0.09921856810492158, 0.12211786658349955, null, 0.09921856810492158, 0.18932077917561319, null, 0.09921856810492158, 0.17732186137034822, null, 0.09921856810492158, 0.1155416552960401, null, 0.09921856810492158, 0.18213226114681735, null, 0.3988709255055123, 0.43993379573746083, null, 0.3988709255055123, 0.48138829944848904, null, 0.3988709255055123, 0.3461789371599958, null, 0.3988709255055123, 0.4010483643072291, null, 0.3988709255055123, 0.4559022047290171, null, 0.3988709255055123, 0.3463776298658724, null, 0.3988709255055123, 0.39206586089910334, null, 0.3988709255055123, 0.39586448645636907, null, 0.3011022388388731, 0.381560048180019, null, 0.3011022388388731, 0.20641865944204707, null, 0.3011022388388731, 0.3484210402890876, null, 0.3011022388388731, 0.30477102886716134, null, 0.3011022388388731, 0.3315348352990908, null, 0.3011022388388731, 0.394262411422987, null, 0.5356349383565197, 0.5143022416084967, null, 0.5356349383565197, 0.43993379573746083, null, 0.5356349383565197, 0.48138829944848904, null, 0.5356349383565197, 0.5267403307236437, null, 0.5356349383565197, 0.4559022047290171, null, 0.5356349383565197, 0.6249558662329465, null, 0.5356349383565197, 0.5462316278609769, null, 0.5356349383565197, 0.5977690811087668, null, 0.5356349383565197, 0.601451938181859, null, 0.04891617470527809, 0.0722105541231679, null, 0.04891617470527809, 0.002923692958122892, null, 0.04891617470527809, 0.10238191582627898, null, 0.04891617470527809, 0.01009221347242939, null, 0.6829886365147079, 0.5606954205521218, null, 0.6829886365147079, 0.7960907478024929, null, 0.6829886365147079, 0.71601291620653, null, 0.394262411422987, 0.381560048180019, null, 0.394262411422987, 0.4994011438466076, null, 0.394262411422987, 0.4704901694370517, null, 0.394262411422987, 0.3484210402890876, null, 0.394262411422987, 0.30477102886716134, null, 0.394262411422987, 0.3315348352990908, null, 0.6434036576730152, 0.5325081314931189, null, 0.6434036576730152, 0.633172514115946, null, 0.6434036576730152, 0.6067520240854849, null, 0.6434036576730152, 0.6249558662329465, null, 0.6434036576730152, 0.5462316278609769, null, 0.6434036576730152, 0.6812012857239692, null, 0.6434036576730152, 0.601451938181859, null, 0.7132781544726736, 0.7013226230373438, null, 0.7132781544726736, 0.5939327019163655, null, 0.7132781544726736, 0.7073101181162309, null, 0.7132781544726736, 0.6607326928412376, null, 0.71601291620653, 0.7960907478024929, null, 0.213874373419235, 0.3228495585410188, null, 0.213874373419235, 0.10238191582627898, null, 0.39586448645636907, 0.5143022416084967, null, 0.39586448645636907, 0.43993379573746083, null, 0.39586448645636907, 0.3484210402890876, null, 0.39586448645636907, 0.3461789371599958, null, 0.39586448645636907, 0.4010483643072291, null, 0.39586448645636907, 0.4559022047290171, null, 0.39586448645636907, 0.3463776298658724, null, 0.39586448645636907, 0.3315348352990908, null, 0.601451938181859, 0.48138829944848904, null, 0.601451938181859, 0.5325081314931189, null, 0.601451938181859, 0.6067520240854849, null, 0.601451938181859, 0.6249558662329465, null, 0.601451938181859, 0.5462316278609769, null, 0.601451938181859, 0.5977690811087668, null, 0.36109654792229195, 0.35965464740951403, null, 0.36109654792229195, 0.4337777694098677, null, 0.36109654792229195, 0.4010483643072291, null, 0.36109654792229195, 0.24998048726752453, null, 0.36109654792229195, 0.39206586089910334, null, 0.8636366538200578, 0.9678310208679198, null, 0.8636366538200578, 0.8742117453314674, null, 0.8636366538200578, 0.8333124908528365, null, 0.8636366538200578, 0.8349516271939293, null, 0.3315348352990908, 0.381560048180019, null, 0.3315348352990908, 0.3484210402890876, null, 0.3315348352990908, 0.30477102886716134, null, 0.3315348352990908, 0.3463776298658724, null, 0.18029398557658216, 0.2151917149284469, null, 0.18029398557658216, 0.18489804831509593, null, 0.9611022248127651, 0.9678310208679198, null, 0.9611022248127651, 0.8904902891902541, null, 0.9611022248127651, 0.9591665768602158, null, 0.3103549657641643, 0.4101500256549975, null, 0.8814818247948465, 0.9081872908223979, null, 0.8814818247948465, 0.8888605338975242, null, 0.8349516271939293, 0.8742117453314674, null, 0.8349516271939293, 0.8333124908528365, null, 0.8349516271939293, 0.7500487543707453, null, 0.9717543390523845, 0.8904902891902541, null, 0.9717543390523845, 0.9591665768602158, null, 0.9717543390523845, 0.9605429595882313, null, 0.7960907478024929, 0.8548631546201692, null, 0.7960907478024929, 0.8391957144366634, null, 0.01009221347242939, 0.026685539247653378, null, 0.01009221347242939, 0.0018165758340868976, null, 0.01009221347242939, 0.0722105541231679, null, 0.01009221347242939, 0.009472715295126277, null, 0.01009221347242939, 0.002923692958122892, null, 0.01009221347242939, 0.10238191582627898, null, 0.6812012857239692, 0.633172514115946, null, 0.6812012857239692, 0.6067520240854849, null, 0.5606954205521218, 0.5516399383487579, null, 0.5606954205521218, 0.5080228976839098, null, 0.5606954205521218, 0.5497662139425978, null, 0.5606954205521218, 0.4941979267962445, null, 0.5606954205521218, 0.4467656203995217, null, 0.39206586089910334, 0.35965464740951403, null, 0.39206586089910334, 0.48138829944848904, null, 0.39206586089910334, 0.3461789371599958, null, 0.39206586089910334, 0.4010483643072291, null, 0.39206586089910334, 0.4559022047290171, null, 0.2058879062808875, 0.27539646483300595, null, 0.2058879062808875, 0.12211786658349955, null, 0.2058879062808875, 0.2747036748846756, null, 0.2058879062808875, 0.18932077917561319, null, 0.2058879062808875, 0.17732186137034822, null, 0.2058879062808875, 0.1155416552960401, null, 0.5977690811087668, 0.6711602670350236, null, 0.5977690811087668, 0.5267403307236437, null, 0.5977690811087668, 0.6249558662329465, null, 0.5977690811087668, 0.5462316278609769, null, 0.18489804831509593, 0.2151917149284469, null, 0.3463776298658724, 0.43993379573746083, null, 0.3463776298658724, 0.3484210402890876, null, 0.3463776298658724, 0.3461789371599958, null, 0.3463776298658724, 0.4010483643072291, null, 0.5392717997307697, 0.5886254094621834, null, 0.5392717997307697, 0.5143022416084967, null, 0.5392717997307697, 0.4994011438466076, null, 0.5392717997307697, 0.4704901694370517, null, 0.5392717997307697, 0.5939327019163655, null, 0.5392717997307697, 0.5297386142544853, null, 0.5198131625161747, 0.4337777694098677, null, 0.5198131625161747, 0.5186801755780348, null, 0.5198131625161747, 0.5325081314931189, null, 0.5198131625161747, 0.633172514115946, null, 0.5198131625161747, 0.6067520240854849, null, 0.7393844205185558, 0.773843722440317, null, 0.7393844205185558, 0.7013226230373438, null, 0.7393844205185558, 0.8605186915515307, null, 0.7393844205185558, 0.7073101181162309, null, 0.7393844205185558, 0.7203883407901148, null, 0.7393844205185558, 0.8110104583036672, null, 0.9605429595882313, 0.8904902891902541, null, 0.9605429595882313, 0.9591665768602158, null, 0.5462316278609769, 0.48138829944848904, null, 0.5462316278609769, 0.5186801755780348, null, 0.5462316278609769, 0.5325081314931189, null, 0.5462316278609769, 0.6067520240854849, null, 0.5462316278609769, 0.6249558662329465, null, 0.8110104583036672, 0.773843722440317, null, 0.8110104583036672, 0.8904902891902541, null, 0.8110104583036672, 0.8605186915515307, null, 0.8110104583036672, 0.7203883407901148, null, 0.10238191582627898, 0.0722105541231679, null, 0.10238191582627898, 0.002923692958122892, null, 0.041214614199590605, 0.010917174339214908, null, 0.041214614199590605, 0.018369242588188506, null, 0.041214614199590605, 0.01787448904674993, null, 0.9287746826192724, 0.8278503593506462, null, 0.9287746826192724, 0.9927943949301501, null, 0.9287746826192724, 0.8888605338975242, null, 0.5297386142544853, 0.5886254094621834, null, 0.5297386142544853, 0.539437601723423, null, 0.5297386142544853, 0.4660050648937648, null, 0.5297386142544853, 0.4994011438466076, null, 0.5297386142544853, 0.4704901694370517, null, 0.5297386142544853, 0.5939327019163655, null, 0.23501510826390226, 0.17732186137034822, null, 0.23501510826390226, 0.18106350879807498, null, 0.23501510826390226, 0.18213226114681735, null, 0.23501510826390226, 0.24998048726752453, null, 0.7500487543707453, 0.8278503593506462, null, 0.7500487543707453, 0.6711602670350236, null, 0.7500487543707453, 0.8333124908528365, null, 0.6249558662329465, 0.5325081314931189, null, 0.6249558662329465, 0.6067520240854849, null, 0.7203883407901148, 0.773843722440317, null, 0.7203883407901148, 0.7013226230373438, null, 0.6607326928412376, 0.6711602670350236, null, 0.8391957144366634, 0.8743376644692308, null, 0.8391957144366634, 0.8548631546201692, null, 0.7073101181162309, 0.7013226230373438, null, 0.7073101181162309, 0.5939327019163655, null, 0.002923692958122892, 0.0018165758340868976, null, 0.002923692958122892, 0.0722105541231679, null, 0.002923692958122892, 0.009472715295126277, null, 0.9591665768602158, 0.8904902891902541, null, 0.9591665768602158, 0.8605186915515307, null, 0.08786778832767528, 0.01787448904674993, null, 0.08786778832767528, 0.18106350879807498, null, 0.08786778832767528, 0.18213226114681735, null, 0.5939327019163655, 0.5886254094621834, null, 0.5939327019163655, 0.4994011438466076, null, 0.5939327019163655, 0.4704901694370517, null, 0.4559022047290171, 0.5143022416084967, null, 0.4559022047290171, 0.43993379573746083, null, 0.4559022047290171, 0.48138829944848904, null, 0.4559022047290171, 0.3461789371599958, null, 0.4559022047290171, 0.4010483643072291, null, 0.4559022047290171, 0.5267403307236437, null, 0.8333124908528365, 0.8742117453314674, null, 0.5267403307236437, 0.5143022416084967, null, 0.5267403307236437, 0.43993379573746083, null, 0.4467656203995217, 0.5516399383487579, null, 0.4467656203995217, 0.5080228976839098, null, 0.4467656203995217, 0.4101500256549975, null, 0.4467656203995217, 0.4941979267962445, null, 0.30477102886716134, 0.381560048180019, null, 0.30477102886716134, 0.20641865944204707, null, 0.30477102886716134, 0.3484210402890876, null, 0.24998048726752453, 0.35965464740951403, null, 0.24998048726752453, 0.17732186137034822, null, 0.24998048726752453, 0.18213226114681735, null, 0.4941979267962445, 0.5516399383487579, null, 0.4941979267962445, 0.5080228976839098, null, 0.4941979267962445, 0.5497662139425978, null, 0.4941979267962445, 0.4101500256549975, null, 0.4101500256549975, 0.5080228976839098, null, 0.4010483643072291, 0.43993379573746083, null, 0.4010483643072291, 0.48138829944848904, null, 0.4010483643072291, 0.3461789371599958, null, 0.8888605338975242, 0.8278503593506462, null, 0.8888605338975242, 0.9081872908223979, null, 0.8548631546201692, 0.8743376644692308, null, 0.010730502081506499, 0.010917174339214908, null, 0.010730502081506499, 0.018369242588188506, null, 0.18213226114681735, 0.17732186137034822, null, 0.18213226114681735, 0.18106350879807498, null, 0.1155416552960401, 0.040957120865878216, null, 0.1155416552960401, 0.026685539247653378, null, 0.1155416552960401, 0.12211786658349955, null, 0.1155416552960401, 0.18932077917561319, null, 0.1155416552960401, 0.17732186137034822, null, 0.3461789371599958, 0.43993379573746083, null, 0.8605186915515307, 0.773843722440317, null, 0.8605186915515307, 0.8904902891902541, null, 0.6067520240854849, 0.5186801755780348, null, 0.6067520240854849, 0.5325081314931189, null, 0.6067520240854849, 0.633172514115946, null, 0.5497662139425978, 0.5080228976839098, null, 0.5497662139425978, 0.5003661739170774, null, 0.633172514115946, 0.5186801755780348, null, 0.5325081314931189, 0.48138829944848904, null, 0.5325081314931189, 0.5186801755780348, null, 0.9927943949301501, 0.9914937314475555, null, 0.9081872908223979, 0.8278503593506462, null, 0.009472715295126277, 0.040957120865878216, null, 0.009472715295126277, 0.026685539247653378, null, 0.009472715295126277, 0.0018165758340868976, null, 0.5186801755780348, 0.48138829944848904, null, 0.5186801755780348, 0.4337777694098677, null, 0.17732186137034822, 0.12211786658349955, null, 0.17732186137034822, 0.18932077917561319, null, 0.8742117453314674, 0.9678310208679198, null, 0.018369242588188506, 0.010917174339214908, null, 0.3484210402890876, 0.381560048180019, null, 0.4704901694370517, 0.5143022416084967, null, 0.4704901694370517, 0.381560048180019, null, 0.4704901694370517, 0.4994011438466076, null, 0.0018165758340868976, 0.040957120865878216, null, 0.0018165758340868976, 0.026685539247653378, null, 0.5003661739170774, 0.5080228976839098, null, 0.18932077917561319, 0.27539646483300595, null, 0.18932077917561319, 0.12211786658349955, null, 0.18932077917561319, 0.2747036748846756, null, 0.4994011438466076, 0.5886254094621834, null, 0.4994011438466076, 0.539437601723423, null, 0.4994011438466076, 0.4660050648937648, null, 0.4337777694098677, 0.35965464740951403, null, 0.8904902891902541, 0.773843722440317, null, 0.2747036748846756, 0.27539646483300595, null, 0.12211786658349955, 0.040957120865878216, null, 0.7013226230373438, 0.5886254094621834, null, 0.7013226230373438, 0.773843722440317, null, 0.9678310208679198, 0.9914937314475555, null, 0.4660050648937648, 0.539437601723423, null, 0.5080228976839098, 0.5516399383487579, null, 0.43993379573746083, 0.5143022416084967, null, 0.539437601723423, 0.5886254094621834, null, 0.026685539247653378, 0.040957120865878216, null], \"y\": [0.048168360918202424, 0.03254917524954781, null, 0.048168360918202424, 0.07538026320445612, null, 0.048168360918202424, 0.11208434918491694, null, 0.048168360918202424, 0.08702434412257776, null, 0.19040769224412046, 0.24716620675423195, null, 0.19040769224412046, 0.21636960099476776, null, 0.19040769224412046, 0.27997845369918606, null, 0.19040769224412046, 0.3039227554314624, null, 0.19040769224412046, 0.2867896726444348, null, 0.19040769224412046, 0.25163868992662686, null, 0.19040769224412046, 0.29244570183395846, null, 0.19040769224412046, 0.13187158804701704, null, 0.19040769224412046, 0.10656211702737761, null, 0.7934671198649637, 0.6804815971127264, null, 0.7934671198649637, 0.7988878238385454, null, 0.7934671198649637, 0.8488427341007198, null, 0.7934671198649637, 0.7925389173190199, null, 0.7934671198649637, 0.8861579606751053, null, 0.7934671198649637, 0.8012744098949427, null, 0.7934671198649637, 0.8087439945277752, null, 0.7934671198649637, 0.758501492058309, null, 0.7934671198649637, 0.7296026833795819, null, 0.38888555421308324, 0.33952981970252394, null, 0.38888555421308324, 0.2785580290194316, null, 0.38888555421308324, 0.27997845369918606, null, 0.38888555421308324, 0.36680882701158446, null, 0.38888555421308324, 0.4516820029253228, null, 0.38888555421308324, 0.41343231372020195, null, 0.38888555421308324, 0.44563927273359916, null, 0.38888555421308324, 0.2867896726444348, null, 0.38888555421308324, 0.4721984700707835, null, 0.38888555421308324, 0.29244570183395846, null, 0.38888555421308324, 0.40794952288726805, null, 0.38888555421308324, 0.473238643589209, null, 0.38888555421308324, 0.3166755875374794, null, 0.47754683698256306, 0.3816877945186876, null, 0.47754683698256306, 0.6006084406717008, null, 0.47754683698256306, 0.41691282657457074, null, 0.47754683698256306, 0.5095623876744386, null, 0.47754683698256306, 0.5396581938389834, null, 0.3166755875374794, 0.27316772928273203, null, 0.3166755875374794, 0.4074413199893687, null, 0.3166755875374794, 0.2785580290194316, null, 0.3166755875374794, 0.27997845369918606, null, 0.3166755875374794, 0.36680882701158446, null, 0.3166755875374794, 0.41343231372020195, null, 0.3166755875374794, 0.2867896726444348, null, 0.3166755875374794, 0.41256501192012107, null, 0.3166755875374794, 0.21329174651327754, null, 0.318394623374573, 0.3816877945186876, null, 0.318394623374573, 0.41691282657457074, null, 0.318394623374573, 0.30893099370709354, null, 0.318394623374573, 0.3065629290354419, null, 0.9829255041009758, 0.9468796162625972, null, 0.9829255041009758, 0.9047812256202894, null, 0.9829255041009758, 0.8842465941537173, null, 0.9829255041009758, 0.943159479009146, null, 0.9829255041009758, 0.9830305852314258, null, 0.9829255041009758, 0.9865371508927611, null, 0.9829255041009758, 0.9211749630543838, null, 0.9829255041009758, 0.9708195685147535, null, 0.22045793786791068, 0.19434854985177352, null, 0.22045793786791068, 0.11399629313975235, null, 0.22045793786791068, 0.16125915931391122, null, 0.22045793786791068, 0.19155501297966726, null, 0.22045793786791068, 0.17572214483193305, null, 0.22045793786791068, 0.1906979627819737, null, 0.22045793786791068, 0.2026005397056626, null, 0.22045793786791068, 0.13019290446007104, null, 0.22045793786791068, 0.2948330390264652, null, 0.22045793786791068, 0.14576334208774533, null, 0.22045793786791068, 0.16772179390250508, null, 0.22045793786791068, 0.22849589912971646, null, 0.0002590678837254279, 0.033117830708528584, null, 0.0002590678837254279, 0.05234417257850099, null, 0.0002590678837254279, 0.04494472483999323, null, 0.0002590678837254279, 0.03499160085042885, null, 0.10656211702737761, 0.058981166115895434, null, 0.10656211702737761, 0.04589134391658778, null, 0.10656211702737761, 0.1659604460900782, null, 0.10656211702737761, 0.05230474927200668, null, 0.7193953556804024, 0.744750899096486, null, 0.7193953556804024, 0.6704345813912748, null, 0.7193953556804024, 0.7490785992560793, null, 0.7193953556804024, 0.624847979277667, null, 0.5874311679755779, 0.6241090604400821, null, 0.5874311679755779, 0.6513930823861356, null, 0.5874311679755779, 0.6695934497048405, null, 0.5874311679755779, 0.4887399878866503, null, 0.5874311679755779, 0.5586065840123964, null, 0.5874311679755779, 0.5082361047679822, null, 0.5874311679755779, 0.5700630437177413, null, 0.5874311679755779, 0.6019209894878942, null, 0.5874311679755779, 0.5096105705973147, null, 0.5874311679755779, 0.5449003096718349, null, 0.19854610603088685, 0.15855497883222647, null, 0.19854610603088685, 0.19514791003917786, null, 0.19854610603088685, 0.1906979627819737, null, 0.19854610603088685, 0.21848460339147213, null, 0.19854610603088685, 0.2026005397056626, null, 0.19854610603088685, 0.16772179390250508, null, 0.19854610603088685, 0.12660375900851462, null, 0.19854610603088685, 0.29080913762518423, null, 0.9573738362745922, 0.9427334576166145, null, 0.9573738362745922, 0.9530743905426441, null, 0.9573738362745922, 0.9364604715119719, null, 0.9573738362745922, 0.9976243074432909, null, 0.9573738362745922, 0.8531090764264526, null, 0.5392621670813703, 0.5552115013511412, null, 0.5392621670813703, 0.5845529268858278, null, 0.5392621670813703, 0.5307554457309045, null, 0.5392621670813703, 0.44563927273359916, null, 0.5392621670813703, 0.6395821526129621, null, 0.5392621670813703, 0.5600117966285636, null, 0.5392621670813703, 0.4721984700707835, null, 0.5392621670813703, 0.6403251970098613, null, 0.5392621670813703, 0.473238643589209, null, 0.8531090764264526, 0.9427334576166145, null, 0.8531090764264526, 0.7956760186459769, null, 0.8531090764264526, 0.801619492035168, null, 0.8531090764264526, 0.9530743905426441, null, 0.8531090764264526, 0.9364604715119719, null, 0.8531090764264526, 0.8293754159410143, null, 0.8531090764264526, 0.9091803111712069, null, 0.9759038909474851, 0.8701558286119679, null, 0.03587538242874955, 0.11399629313975235, null, 0.03587538242874955, 0.033117830708528584, null, 0.03587538242874955, 0.05234417257850099, null, 0.03587538242874955, 0.13353079377259214, null, 0.03587538242874955, 0.13019290446007104, null, 0.03587538242874955, 0.03543401349563213, null, 0.03587538242874955, 0.04494472483999323, null, 0.03587538242874955, 0.12934084035874938, null, 0.03587538242874955, 0.14576334208774533, null, 0.03587538242874955, 0.03499160085042885, null, 0.03587538242874955, 0.09506071601429422, null, 0.5385932841305517, 0.5146905817935529, null, 0.5385932841305517, 0.4876041331915908, null, 0.5385932841305517, 0.624847979277667, null, 0.5385932841305517, 0.4781936969891045, null, 0.473238643589209, 0.4074413199893687, null, 0.473238643589209, 0.5845529268858278, null, 0.473238643589209, 0.4516820029253228, null, 0.473238643589209, 0.5307554457309045, null, 0.473238643589209, 0.41343231372020195, null, 0.473238643589209, 0.44563927273359916, null, 0.473238643589209, 0.4741343347995778, null, 0.473238643589209, 0.41256501192012107, null, 0.473238643589209, 0.4721984700707835, null, 0.3353287935812448, 0.345938248817106, null, 0.3353287935812448, 0.30893099370709354, null, 0.3353287935812448, 0.21848460339147213, null, 0.3353287935812448, 0.32739733940244165, null, 0.3353287935812448, 0.45063178983570606, null, 0.3353287935812448, 0.31834453234329685, null, 0.3353287935812448, 0.3065629290354419, null, 0.3353287935812448, 0.29080913762518423, null, 0.29080913762518423, 0.345938248817106, null, 0.29080913762518423, 0.30893099370709354, null, 0.29080913762518423, 0.19514791003917786, null, 0.29080913762518423, 0.21848460339147213, null, 0.29080913762518423, 0.32739733940244165, null, 0.29080913762518423, 0.31834453234329685, null, 0.29080913762518423, 0.3065629290354419, null, 0.09506071601429422, 0.11399629313975235, null, 0.09506071601429422, 0.033117830708528584, null, 0.09506071601429422, 0.05234417257850099, null, 0.09506071601429422, 0.13353079377259214, null, 0.09506071601429422, 0.16125915931391122, null, 0.09506071601429422, 0.19155501297966726, null, 0.09506071601429422, 0.13019290446007104, null, 0.09506071601429422, 0.03543401349563213, null, 0.09506071601429422, 0.09522966440876102, null, 0.09506071601429422, 0.04494472483999323, null, 0.09506071601429422, 0.07579696216337373, null, 0.09506071601429422, 0.12934084035874938, null, 0.09506071601429422, 0.14576334208774533, null, 0.6403251970098613, 0.5552115013511412, null, 0.6403251970098613, 0.6395821526129621, null, 0.12660375900851462, 0.07538026320445612, null, 0.12660375900851462, 0.07481162412392905, null, 0.12660375900851462, 0.15855497883222647, null, 0.12660375900851462, 0.19514791003917786, null, 0.12660375900851462, 0.1906979627819737, null, 0.12660375900851462, 0.21848460339147213, null, 0.12660375900851462, 0.03188042813106362, null, 0.12660375900851462, 0.08702434412257776, null, 0.7393469315390224, 0.7417993122638734, null, 0.7393469315390224, 0.6885133245165282, null, 0.7393469315390224, 0.6341455247930975, null, 0.7393469315390224, 0.8093550225307262, null, 0.7393469315390224, 0.7056946650616682, null, 0.7393469315390224, 0.6270530741357814, null, 0.7393469315390224, 0.6818150309000321, null, 0.7393469315390224, 0.8052657567155221, null, 0.22849589912971646, 0.19434854985177352, null, 0.22849589912971646, 0.11399629313975235, null, 0.22849589912971646, 0.31842573091220305, null, 0.22849589912971646, 0.13353079377259214, null, 0.22849589912971646, 0.16125915931391122, null, 0.22849589912971646, 0.19155501297966726, null, 0.22849589912971646, 0.33862335891387174, null, 0.22849589912971646, 0.17572214483193305, null, 0.22849589912971646, 0.29967572046876334, null, 0.22849589912971646, 0.13019290446007104, null, 0.22849589912971646, 0.2948330390264652, null, 0.22849589912971646, 0.3486892604671691, null, 0.22849589912971646, 0.12934084035874938, null, 0.22849589912971646, 0.14576334208774533, null, 0.40794952288726805, 0.33952981970252394, null, 0.40794952288726805, 0.36680882701158446, null, 0.40794952288726805, 0.3039227554314624, null, 0.40794952288726805, 0.4516820029253228, null, 0.40794952288726805, 0.41343231372020195, null, 0.40794952288726805, 0.4876041331915908, null, 0.40794952288726805, 0.44563927273359916, null, 0.40794952288726805, 0.3598850167546813, null, 0.40794952288726805, 0.29244570183395846, null, 0.03499160085042885, 0.033117830708528584, null, 0.03499160085042885, 0.05234417257850099, null, 0.03499160085042885, 0.04494472483999323, null, 0.18281959416294502, 0.178369082130596, null, 0.18281959416294502, 0.11208434918491694, null, 0.16772179390250508, 0.19434854985177352, null, 0.16772179390250508, 0.17572214483193305, null, 0.16772179390250508, 0.19514791003917786, null, 0.16772179390250508, 0.1906979627819737, null, 0.16772179390250508, 0.2026005397056626, null, 0.6935538827839952, 0.6241090604400821, null, 0.6935538827839952, 0.6341455247930975, null, 0.6935538827839952, 0.6695934497048405, null, 0.6935538827839952, 0.6251791168836911, null, 0.6935538827839952, 0.7056946650616682, null, 0.6935538827839952, 0.7682133701502831, null, 0.6935538827839952, 0.6350765524311711, null, 0.6935538827839952, 0.6019209894878942, null, 0.6935538827839952, 0.7704655375917873, null, 0.6935538827839952, 0.6140964606209247, null, 0.3065629290354419, 0.3816877945186876, null, 0.3065629290354419, 0.41691282657457074, null, 0.3065629290354419, 0.30893099370709354, null, 0.3065629290354419, 0.21848460339147213, null, 0.3065629290354419, 0.32739733940244165, null, 0.3065629290354419, 0.31834453234329685, null, 0.08702434412257776, 0.03254917524954781, null, 0.08702434412257776, 0.07538026320445612, null, 0.08702434412257776, 0.07481162412392905, null, 0.08702434412257776, 0.15855497883222647, null, 0.08702434412257776, 0.03188042813106362, null, 0.08702434412257776, 0.009265998566965639, null, 0.08702434412257776, 0.11208434918491694, null, 0.14576334208774533, 0.19434854985177352, null, 0.14576334208774533, 0.11399629313975235, null, 0.14576334208774533, 0.033117830708528584, null, 0.14576334208774533, 0.05234417257850099, null, 0.14576334208774533, 0.13353079377259214, null, 0.14576334208774533, 0.16125915931391122, null, 0.14576334208774533, 0.19155501297966726, null, 0.14576334208774533, 0.17572214483193305, null, 0.14576334208774533, 0.13019290446007104, null, 0.14576334208774533, 0.03543401349563213, null, 0.14576334208774533, 0.09522966440876102, null, 0.14576334208774533, 0.04494472483999323, null, 0.14576334208774533, 0.12934084035874938, null, 0.6140964606209247, 0.6241090604400821, null, 0.6140964606209247, 0.6341455247930975, null, 0.6140964606209247, 0.6695934497048405, null, 0.6140964606209247, 0.5415588417869243, null, 0.6140964606209247, 0.6251791168836911, null, 0.6140964606209247, 0.6350765524311711, null, 0.6140964606209247, 0.6019209894878942, null, 0.11208434918491694, 0.03254917524954781, null, 0.11208434918491694, 0.178369082130596, null, 0.11208434918491694, 0.07538026320445612, null, 0.11208434918491694, 0.07481162412392905, null, 0.31834453234329685, 0.345938248817106, null, 0.31834453234329685, 0.30893099370709354, null, 0.31834453234329685, 0.21848460339147213, null, 0.31834453234329685, 0.32739733940244165, null, 0.9976243074432909, 0.9427334576166145, null, 0.9976243074432909, 0.9530743905426441, null, 0.9976243074432909, 0.9364604715119719, null, 0.9976243074432909, 0.9091803111712069, null, 0.44870075138786636, 0.48372903518973787, null, 0.44870075138786636, 0.385126994774464, null, 0.44870075138786636, 0.43544026297058, null, 0.44870075138786636, 0.3501506637829457, null, 0.44870075138786636, 0.41159307248442245, null, 0.44870075138786636, 0.4887399878866503, null, 0.44870075138786636, 0.4634644244609528, null, 0.44870075138786636, 0.33862335891387174, null, 0.44870075138786636, 0.5586065840123964, null, 0.44870075138786636, 0.5082361047679822, null, 0.44870075138786636, 0.4349387653697012, null, 0.44870075138786636, 0.5096105705973147, null, 0.44870075138786636, 0.5449003096718349, null, 0.12934084035874938, 0.11399629313975235, null, 0.12934084035874938, 0.033117830708528584, null, 0.12934084035874938, 0.13353079377259214, null, 0.12934084035874938, 0.16125915931391122, null, 0.12934084035874938, 0.19155501297966726, null, 0.12934084035874938, 0.14168691818939483, null, 0.12934084035874938, 0.13019290446007104, null, 0.12934084035874938, 0.03543401349563213, null, 0.12934084035874938, 0.09522966440876102, null, 0.12934084035874938, 0.07579696216337373, null, 0.07579696216337373, 0.0012593500229226562, null, 0.07579696216337373, 0.13353079377259214, null, 0.07579696216337373, 0.14168691818939483, null, 0.07579696216337373, 0.03543401349563213, null, 0.07579696216337373, 0.05230474927200668, null, 0.07579696216337373, 0.09522966440876102, null, 0.04494472483999323, 0.11399629313975235, null, 0.04494472483999323, 0.033117830708528584, null, 0.04494472483999323, 0.05234417257850099, null, 0.04494472483999323, 0.16125915931391122, null, 0.04494472483999323, 0.13019290446007104, null, 0.04494472483999323, 0.03543401349563213, null, 0.009265998566965639, 0.03254917524954781, null, 0.009265998566965639, 0.07538026320445612, null, 0.009265998566965639, 0.07481162412392905, null, 0.009265998566965639, 0.03188042813106362, null, 0.3486892604671691, 0.31842573091220305, null, 0.3486892604671691, 0.385126994774464, null, 0.3486892604671691, 0.43544026297058, null, 0.3486892604671691, 0.33862335891387174, null, 0.3486892604671691, 0.29967572046876334, null, 0.3486892604671691, 0.2948330390264652, null, 0.13187158804701704, 0.24716620675423195, null, 0.13187158804701704, 0.21636960099476776, null, 0.13187158804701704, 0.1338452490287545, null, 0.13187158804701704, 0.025629691379440045, null, 0.13187158804701704, 0.15714219313963596, null, 0.13187158804701704, 0.061543794363876025, null, 0.13187158804701704, 0.058981166115895434, null, 0.13187158804701704, 0.11795507087418944, null, 0.13187158804701704, 0.01236224726039381, null, 0.13187158804701704, 0.01988462832995641, null, 0.9708195685147535, 0.9468796162625972, null, 0.9708195685147535, 0.9667888233115123, null, 0.9708195685147535, 0.943159479009146, null, 0.9708195685147535, 0.9084150424691936, null, 0.9708195685147535, 0.9211749630543838, null, 0.9643784253123552, 0.8951125184855134, null, 0.9643784253123552, 0.9274246726112946, null, 0.9643784253123552, 0.9544245910772857, null, 0.9643784253123552, 0.8861579606751053, null, 0.9643784253123552, 0.867678671954786, null, 0.2948330390264652, 0.19434854985177352, null, 0.2948330390264652, 0.31842573091220305, null, 0.2948330390264652, 0.385126994774464, null, 0.2948330390264652, 0.19155501297966726, null, 0.2948330390264652, 0.33862335891387174, null, 0.2948330390264652, 0.29967572046876334, null, 0.5449003096718349, 0.48372903518973787, null, 0.5449003096718349, 0.43544026297058, null, 0.5449003096718349, 0.6513930823861356, null, 0.5449003096718349, 0.5730543312786223, null, 0.5449003096718349, 0.4887399878866503, null, 0.5449003096718349, 0.4634644244609528, null, 0.5449003096718349, 0.5586065840123964, null, 0.5449003096718349, 0.5082361047679822, null, 0.5449003096718349, 0.5700630437177413, null, 0.5449003096718349, 0.5096105705973147, null, 0.8052657567155221, 0.7417993122638734, null, 0.8052657567155221, 0.9047812256202894, null, 0.8052657567155221, 0.6885133245165282, null, 0.8052657567155221, 0.8842465941537173, null, 0.8052657567155221, 0.8789597020626696, null, 0.8052657567155221, 0.8093550225307262, null, 0.8052657567155221, 0.7056946650616682, null, 0.7296026833795819, 0.6804815971127264, null, 0.7296026833795819, 0.7925389173190199, null, 0.7296026833795819, 0.6513930823861356, null, 0.7296026833795819, 0.7864794920617684, null, 0.7296026833795819, 0.8012744098949427, null, 0.7296026833795819, 0.758501492058309, null, 0.7296026833795819, 0.814332626958562, null, 0.21329174651327754, 0.27316772928273203, null, 0.21329174651327754, 0.2785580290194316, null, 0.21329174651327754, 0.13353079377259214, null, 0.21329174651327754, 0.14168691818939483, null, 0.21329174651327754, 0.1659604460900782, null, 0.814332626958562, 0.8951125184855134, null, 0.814332626958562, 0.8579866044693195, null, 0.814332626958562, 0.8488427341007198, null, 0.814332626958562, 0.7864794920617684, null, 0.814332626958562, 0.830075774678561, null, 0.814332626958562, 0.8861579606751053, null, 0.814332626958562, 0.8012744098949427, null, 0.814332626958562, 0.758501492058309, null, 0.814332626958562, 0.867678671954786, null, 0.814332626958562, 0.7704655375917873, null, 0.4781936969891045, 0.5146905817935529, null, 0.4781936969891045, 0.4876041331915908, null, 0.6818150309000321, 0.6343457018455123, null, 0.6818150309000321, 0.7417993122638734, null, 0.6818150309000321, 0.6885133245165282, null, 0.6818150309000321, 0.6006084406717008, null, 0.6818150309000321, 0.6270530741357814, null, 0.29244570183395846, 0.27316772928273203, null, 0.29244570183395846, 0.33952981970252394, null, 0.29244570183395846, 0.2785580290194316, null, 0.29244570183395846, 0.27997845369918606, null, 0.29244570183395846, 0.36680882701158446, null, 0.29244570183395846, 0.3039227554314624, null, 0.29244570183395846, 0.2867896726444348, null, 0.29244570183395846, 0.3598850167546813, null, 0.29244570183395846, 0.25163868992662686, null, 0.7704655375917873, 0.8579866044693195, null, 0.7704655375917873, 0.7864794920617684, null, 0.7704655375917873, 0.830075774678561, null, 0.7704655375917873, 0.6695934497048405, null, 0.7704655375917873, 0.7682133701502831, null, 0.7704655375917873, 0.867678671954786, null, 0.09522966440876102, 0.0012593500229226562, null, 0.09522966440876102, 0.13353079377259214, null, 0.09522966440876102, 0.14168691818939483, null, 0.09522966440876102, 0.03543401349563213, null, 0.09522966440876102, 0.05230474927200668, null, 0.867678671954786, 0.8951125184855134, null, 0.867678671954786, 0.9274246726112946, null, 0.867678671954786, 0.8579866044693195, null, 0.867678671954786, 0.7864794920617684, null, 0.867678671954786, 0.830075774678561, null, 0.867678671954786, 0.8861579606751053, null, 0.867678671954786, 0.9084150424691936, null, 0.867678671954786, 0.8012744098949427, null, 0.758501492058309, 0.6804815971127264, null, 0.758501492058309, 0.8488427341007198, null, 0.758501492058309, 0.7925389173190199, null, 0.758501492058309, 0.6513930823861356, null, 0.758501492058309, 0.7864794920617684, null, 0.758501492058309, 0.8012744098949427, null, 0.758501492058309, 0.8087439945277752, null, 0.05230474927200668, 0.0012593500229226562, null, 0.05230474927200668, 0.14168691818939483, null, 0.05230474927200668, 0.04589134391658778, null, 0.05230474927200668, 0.1659604460900782, null, 0.9091803111712069, 0.7988878238385454, null, 0.9091803111712069, 0.801619492035168, null, 0.9091803111712069, 0.8087439945277752, null, 0.9091803111712069, 0.8293754159410143, null, 0.5096105705973147, 0.6241090604400821, null, 0.5096105705973147, 0.41159307248442245, null, 0.5096105705973147, 0.4887399878866503, null, 0.5096105705973147, 0.5415588417869243, null, 0.5096105705973147, 0.4634644244609528, null, 0.5096105705973147, 0.5586065840123964, null, 0.5096105705973147, 0.5082361047679822, null, 0.5096105705973147, 0.4349387653697012, null, 0.5096105705973147, 0.5700630437177413, null, 0.5096105705973147, 0.45063178983570606, null, 0.6019209894878942, 0.6241090604400821, null, 0.6019209894878942, 0.6341455247930975, null, 0.6019209894878942, 0.6695934497048405, null, 0.6019209894878942, 0.5415588417869243, null, 0.6019209894878942, 0.6251791168836911, null, 0.6019209894878942, 0.6350765524311711, null, 0.6350765524311711, 0.6885133245165282, null, 0.6350765524311711, 0.6341455247930975, null, 0.6350765524311711, 0.5415588417869243, null, 0.6350765524311711, 0.6251791168836911, null, 0.6350765524311711, 0.7056946650616682, null, 0.25163868992662686, 0.24716620675423195, null, 0.25163868992662686, 0.21636960099476776, null, 0.25163868992662686, 0.33952981970252394, null, 0.25163868992662686, 0.27997845369918606, null, 0.25163868992662686, 0.36680882701158446, null, 0.25163868992662686, 0.3039227554314624, null, 0.25163868992662686, 0.2867896726444348, null, 0.25163868992662686, 0.3598850167546813, null, 0.03543401349563213, 0.11399629313975235, null, 0.03543401349563213, 0.033117830708528584, null, 0.03543401349563213, 0.0012593500229226562, null, 0.03543401349563213, 0.05234417257850099, null, 0.03543401349563213, 0.13353079377259214, null, 0.03543401349563213, 0.13019290446007104, null, 0.5396581938389834, 0.6343457018455123, null, 0.5396581938389834, 0.6006084406717008, null, 0.5396581938389834, 0.5095623876744386, null, 0.5396581938389834, 0.6270530741357814, null, 0.03188042813106362, 0.03254917524954781, null, 0.03188042813106362, 0.07538026320445612, null, 0.03188042813106362, 0.07481162412392905, null, 0.8701558286119679, 0.7490785992560793, null, 0.45063178983570606, 0.4527570345415789, null, 0.45063178983570606, 0.41159307248442245, null, 0.45063178983570606, 0.4887399878866503, null, 0.45063178983570606, 0.5415588417869243, null, 0.45063178983570606, 0.345938248817106, null, 0.45063178983570606, 0.4349387653697012, null, 0.45063178983570606, 0.32739733940244165, null, 0.1659604460900782, 0.27316772928273203, null, 0.1659604460900782, 0.2785580290194316, null, 0.1659604460900782, 0.14168691818939483, null, 0.4721984700707835, 0.4074413199893687, null, 0.4721984700707835, 0.5552115013511412, null, 0.4721984700707835, 0.4516820029253228, null, 0.4721984700707835, 0.41343231372020195, null, 0.4721984700707835, 0.44563927273359916, null, 0.4721984700707835, 0.4741343347995778, null, 0.4721984700707835, 0.41256501192012107, null, 0.13019290446007104, 0.19434854985177352, null, 0.13019290446007104, 0.11399629313975235, null, 0.13019290446007104, 0.033117830708528584, null, 0.13019290446007104, 0.05234417257850099, null, 0.13019290446007104, 0.13353079377259214, null, 0.13019290446007104, 0.16125915931391122, null, 0.13019290446007104, 0.19155501297966726, null, 0.13019290446007104, 0.17572214483193305, null, 0.32739733940244165, 0.3501506637829457, null, 0.32739733940244165, 0.345938248817106, null, 0.32739733940244165, 0.21848460339147213, null, 0.29967572046876334, 0.31842573091220305, null, 0.29967572046876334, 0.385126994774464, null, 0.29967572046876334, 0.19155501297966726, null, 0.29967572046876334, 0.33862335891387174, null, 0.6270530741357814, 0.6343457018455123, null, 0.6270530741357814, 0.7417993122638734, null, 0.6270530741357814, 0.6885133245165282, null, 0.6270530741357814, 0.6006084406717008, null, 0.6270530741357814, 0.6341455247930975, null, 0.6270530741357814, 0.5095623876744386, null, 0.6270530741357814, 0.6251791168836911, null, 0.6270530741357814, 0.7056946650616682, null, 0.2026005397056626, 0.19434854985177352, null, 0.2026005397056626, 0.17572214483193305, null, 0.2026005397056626, 0.19514791003917786, null, 0.2026005397056626, 0.1906979627819737, null, 0.01988462832995641, 0.025629691379440045, null, 0.01988462832995641, 0.061543794363876025, null, 0.01988462832995641, 0.058981166115895434, null, 0.01988462832995641, 0.11795507087418944, null, 0.01988462832995641, 0.01236224726039381, null, 0.21848460339147213, 0.15855497883222647, null, 0.21848460339147213, 0.19514791003917786, null, 0.21848460339147213, 0.1906979627819737, null, 0.9211749630543838, 0.9468796162625972, null, 0.9211749630543838, 0.8579866044693195, null, 0.9211749630543838, 0.9047812256202894, null, 0.9211749630543838, 0.8842465941537173, null, 0.9211749630543838, 0.9667888233115123, null, 0.9211749630543838, 0.943159479009146, null, 0.9211749630543838, 0.9084150424691936, null, 0.3598850167546813, 0.33952981970252394, null, 0.3598850167546813, 0.27997845369918606, null, 0.3598850167546813, 0.36680882701158446, null, 0.3598850167546813, 0.3039227554314624, null, 0.3598850167546813, 0.4516820029253228, null, 0.5600117966285636, 0.614362907564507, null, 0.5600117966285636, 0.48372903518973787, null, 0.5600117966285636, 0.5845529268858278, null, 0.5600117966285636, 0.5307554457309045, null, 0.5600117966285636, 0.5730543312786223, null, 0.5600117966285636, 0.6395821526129621, null, 0.5600117966285636, 0.4741343347995778, null, 0.5600117966285636, 0.6523724375373205, null, 0.8293754159410143, 0.7988878238385454, null, 0.8293754159410143, 0.7956760186459769, null, 0.8293754159410143, 0.732729034466624, null, 0.8293754159410143, 0.801619492035168, null, 0.8293754159410143, 0.738580488046314, null, 0.8293754159410143, 0.8087439945277752, null, 0.5700630437177413, 0.6804815971127264, null, 0.5700630437177413, 0.614362907564507, null, 0.5700630437177413, 0.48372903518973787, null, 0.5700630437177413, 0.6513930823861356, null, 0.5700630437177413, 0.5730543312786223, null, 0.5700630437177413, 0.4887399878866503, null, 0.5700630437177413, 0.4634644244609528, null, 0.5700630437177413, 0.5586065840123964, null, 0.5700630437177413, 0.5082361047679822, null, 0.01236224726039381, 0.025629691379440045, null, 0.01236224726039381, 0.061543794363876025, null, 0.01236224726039381, 0.058981166115895434, null, 0.01236224726039381, 0.11795507087418944, null, 0.1906979627819737, 0.17572214483193305, null, 0.1906979627819737, 0.15855497883222647, null, 0.1906979627819737, 0.19514791003917786, null, 0.8087439945277752, 0.7988878238385454, null, 0.8087439945277752, 0.8488427341007198, null, 0.8087439945277752, 0.7925389173190199, null, 0.8087439945277752, 0.732729034466624, null, 0.8087439945277752, 0.801619492035168, null, 0.8087439945277752, 0.738580488046314, null, 0.4349387653697012, 0.43544026297058, null, 0.4349387653697012, 0.3501506637829457, null, 0.4349387653697012, 0.41159307248442245, null, 0.4349387653697012, 0.4887399878866503, null, 0.4349387653697012, 0.4634644244609528, null, 0.4349387653697012, 0.345938248817106, null, 0.4349387653697012, 0.5082361047679822, null, 0.7682133701502831, 0.8579866044693195, null, 0.7682133701502831, 0.7864794920617684, null, 0.7682133701502831, 0.830075774678561, null, 0.7682133701502831, 0.6695934497048405, null, 0.19514791003917786, 0.15855497883222647, null, 0.04589134391658778, 0.0012593500229226562, null, 0.04589134391658778, 0.058981166115895434, null, 0.6523724375373205, 0.6804815971127264, null, 0.6523724375373205, 0.614362907564507, null, 0.6523724375373205, 0.732729034466624, null, 0.6523724375373205, 0.5845529268858278, null, 0.6523724375373205, 0.5307554457309045, null, 0.6523724375373205, 0.5730543312786223, null, 0.6523724375373205, 0.6395821526129621, null, 0.6523724375373205, 0.738580488046314, null, 0.5082361047679822, 0.48372903518973787, null, 0.5082361047679822, 0.43544026297058, null, 0.5082361047679822, 0.41159307248442245, null, 0.5082361047679822, 0.4887399878866503, null, 0.5082361047679822, 0.4634644244609528, null, 0.5082361047679822, 0.5586065840123964, null, 0.41256501192012107, 0.4074413199893687, null, 0.41256501192012107, 0.31842573091220305, null, 0.41256501192012107, 0.5307554457309045, null, 0.41256501192012107, 0.41343231372020195, null, 0.41256501192012107, 0.4741343347995778, null, 0.7056946650616682, 0.7417993122638734, null, 0.7056946650616682, 0.6885133245165282, null, 0.7056946650616682, 0.6341455247930975, null, 0.7056946650616682, 0.6251791168836911, null, 0.738580488046314, 0.7988878238385454, null, 0.738580488046314, 0.732729034466624, null, 0.738580488046314, 0.801619492035168, null, 0.738580488046314, 0.6395821526129621, null, 0.9364604715119719, 0.9427334576166145, null, 0.9364604715119719, 0.9530743905426441, null, 0.8093550225307262, 0.7417993122638734, null, 0.8093550225307262, 0.9047812256202894, null, 0.8093550225307262, 0.8789597020626696, null, 0.14168691818939483, 0.13353079377259214, null, 0.30893099370709354, 0.3816877945186876, null, 0.30893099370709354, 0.41691282657457074, null, 0.6251791168836911, 0.6885133245165282, null, 0.6251791168836911, 0.6341455247930975, null, 0.6251791168836911, 0.5415588417869243, null, 0.9865371508927611, 0.9047812256202894, null, 0.9865371508927611, 0.8789597020626696, null, 0.9865371508927611, 0.9830305852314258, null, 0.15855497883222647, 0.07538026320445612, null, 0.15855497883222647, 0.07481162412392905, null, 0.11795507087418944, 0.21636960099476776, null, 0.11795507087418944, 0.1338452490287545, null, 0.11795507087418944, 0.025629691379440045, null, 0.11795507087418944, 0.15714219313963596, null, 0.11795507087418944, 0.061543794363876025, null, 0.11795507087418944, 0.058981166115895434, null, 0.345938248817106, 0.3501506637829457, null, 0.345938248817106, 0.41159307248442245, null, 0.17572214483193305, 0.19434854985177352, null, 0.17572214483193305, 0.11399629313975235, null, 0.17572214483193305, 0.05234417257850099, null, 0.17572214483193305, 0.16125915931391122, null, 0.17572214483193305, 0.19155501297966726, null, 0.4741343347995778, 0.4074413199893687, null, 0.4741343347995778, 0.48372903518973787, null, 0.4741343347995778, 0.5845529268858278, null, 0.4741343347995778, 0.5307554457309045, null, 0.4741343347995778, 0.5730543312786223, null, 0.2867896726444348, 0.27316772928273203, null, 0.2867896726444348, 0.33952981970252394, null, 0.2867896726444348, 0.2785580290194316, null, 0.2867896726444348, 0.27997845369918606, null, 0.2867896726444348, 0.36680882701158446, null, 0.2867896726444348, 0.3039227554314624, null, 0.5586065840123964, 0.6241090604400821, null, 0.5586065840123964, 0.6513930823861356, null, 0.5586065840123964, 0.4887399878866503, null, 0.5586065840123964, 0.4634644244609528, null, 0.9530743905426441, 0.9427334576166145, null, 0.6395821526129621, 0.614362907564507, null, 0.6395821526129621, 0.732729034466624, null, 0.6395821526129621, 0.5845529268858278, null, 0.6395821526129621, 0.5307554457309045, null, 0.8012744098949427, 0.8951125184855134, null, 0.8012744098949427, 0.6804815971127264, null, 0.8012744098949427, 0.8488427341007198, null, 0.8012744098949427, 0.7925389173190199, null, 0.8012744098949427, 0.7864794920617684, null, 0.8012744098949427, 0.8861579606751053, null, 0.33862335891387174, 0.31842573091220305, null, 0.33862335891387174, 0.385126994774464, null, 0.33862335891387174, 0.43544026297058, null, 0.33862335891387174, 0.3501506637829457, null, 0.33862335891387174, 0.41159307248442245, null, 0.9084150424691936, 0.9468796162625972, null, 0.9084150424691936, 0.8579866044693195, null, 0.9084150424691936, 0.8842465941537173, null, 0.9084150424691936, 0.830075774678561, null, 0.9084150424691936, 0.9667888233115123, null, 0.9084150424691936, 0.943159479009146, null, 0.9830305852314258, 0.9047812256202894, null, 0.9830305852314258, 0.8789597020626696, null, 0.4634644244609528, 0.48372903518973787, null, 0.4634644244609528, 0.385126994774464, null, 0.4634644244609528, 0.43544026297058, null, 0.4634644244609528, 0.41159307248442245, null, 0.4634644244609528, 0.4887399878866503, null, 0.943159479009146, 0.9468796162625972, null, 0.943159479009146, 0.9047812256202894, null, 0.943159479009146, 0.8842465941537173, null, 0.943159479009146, 0.9667888233115123, null, 0.058981166115895434, 0.025629691379440045, null, 0.058981166115895434, 0.061543794363876025, null, 0.624847979277667, 0.744750899096486, null, 0.624847979277667, 0.6704345813912748, null, 0.624847979277667, 0.5146905817935529, null, 0.5095623876744386, 0.4527570345415789, null, 0.5095623876744386, 0.6006084406717008, null, 0.5095623876744386, 0.41691282657457074, null, 0.8861579606751053, 0.8951125184855134, null, 0.8861579606751053, 0.9274246726112946, null, 0.8861579606751053, 0.9544245910772857, null, 0.8861579606751053, 0.8488427341007198, null, 0.8861579606751053, 0.7925389173190199, null, 0.8861579606751053, 0.7864794920617684, null, 0.44563927273359916, 0.36680882701158446, null, 0.44563927273359916, 0.5552115013511412, null, 0.44563927273359916, 0.4516820029253228, null, 0.44563927273359916, 0.41343231372020195, null, 0.5415588417869243, 0.4527570345415789, null, 0.5415588417869243, 0.6241090604400821, null, 0.5415588417869243, 0.6341455247930975, null, 0.4887399878866503, 0.43544026297058, null, 0.4887399878866503, 0.41159307248442245, null, 0.9667888233115123, 0.9468796162625972, null, 0.9667888233115123, 0.8579866044693195, null, 0.6695934497048405, 0.6241090604400821, null, 0.07481162412392905, 0.03254917524954781, null, 0.07481162412392905, 0.07538026320445612, null, 0.830075774678561, 0.8579866044693195, null, 0.830075774678561, 0.7864794920617684, null, 0.061543794363876025, 0.1338452490287545, null, 0.061543794363876025, 0.025629691379440045, null, 0.061543794363876025, 0.15714219313963596, null, 0.8789597020626696, 0.9047812256202894, null, 0.8789597020626696, 0.8842465941537173, null, 0.4876041331915908, 0.5146905817935529, null, 0.4876041331915908, 0.5552115013511412, null, 0.4876041331915908, 0.4516820029253228, null, 0.7864794920617684, 0.8951125184855134, null, 0.7864794920617684, 0.8488427341007198, null, 0.7864794920617684, 0.7925389173190199, null, 0.5730543312786223, 0.6804815971127264, null, 0.5730543312786223, 0.614362907564507, null, 0.5730543312786223, 0.48372903518973787, null, 0.5730543312786223, 0.5845529268858278, null, 0.5730543312786223, 0.5307554457309045, null, 0.5730543312786223, 0.6513930823861356, null, 0.6341455247930975, 0.6885133245165282, null, 0.6513930823861356, 0.6804815971127264, null, 0.6513930823861356, 0.614362907564507, null, 0.19155501297966726, 0.19434854985177352, null, 0.19155501297966726, 0.11399629313975235, null, 0.19155501297966726, 0.13353079377259214, null, 0.19155501297966726, 0.16125915931391122, null, 0.801619492035168, 0.7988878238385454, null, 0.801619492035168, 0.7956760186459769, null, 0.801619492035168, 0.732729034466624, null, 0.41343231372020195, 0.4074413199893687, null, 0.41343231372020195, 0.36680882701158446, null, 0.41343231372020195, 0.4516820029253228, null, 0.16125915931391122, 0.19434854985177352, null, 0.16125915931391122, 0.11399629313975235, null, 0.16125915931391122, 0.05234417257850099, null, 0.16125915931391122, 0.13353079377259214, null, 0.13353079377259214, 0.11399629313975235, null, 0.5307554457309045, 0.614362907564507, null, 0.5307554457309045, 0.48372903518973787, null, 0.5307554457309045, 0.5845529268858278, null, 0.41691282657457074, 0.4527570345415789, null, 0.41691282657457074, 0.3816877945186876, null, 0.07538026320445612, 0.03254917524954781, null, 0.7490785992560793, 0.744750899096486, null, 0.7490785992560793, 0.6704345813912748, null, 0.4516820029253228, 0.36680882701158446, null, 0.4516820029253228, 0.5552115013511412, null, 0.3039227554314624, 0.24716620675423195, null, 0.3039227554314624, 0.21636960099476776, null, 0.3039227554314624, 0.33952981970252394, null, 0.3039227554314624, 0.27997845369918606, null, 0.3039227554314624, 0.36680882701158446, null, 0.5845529268858278, 0.614362907564507, null, 0.8842465941537173, 0.9468796162625972, null, 0.8842465941537173, 0.9047812256202894, null, 0.41159307248442245, 0.385126994774464, null, 0.41159307248442245, 0.43544026297058, null, 0.41159307248442245, 0.3501506637829457, null, 0.05234417257850099, 0.11399629313975235, null, 0.05234417257850099, 0.033117830708528584, null, 0.3501506637829457, 0.385126994774464, null, 0.43544026297058, 0.48372903518973787, null, 0.43544026297058, 0.385126994774464, null, 0.6006084406717008, 0.6343457018455123, null, 0.3816877945186876, 0.4527570345415789, null, 0.15714219313963596, 0.24716620675423195, null, 0.15714219313963596, 0.21636960099476776, null, 0.15714219313963596, 0.1338452490287545, null, 0.385126994774464, 0.48372903518973787, null, 0.385126994774464, 0.31842573091220305, null, 0.36680882701158446, 0.33952981970252394, null, 0.36680882701158446, 0.27997845369918606, null, 0.6885133245165282, 0.7417993122638734, null, 0.6704345813912748, 0.744750899096486, null, 0.732729034466624, 0.7988878238385454, null, 0.7925389173190199, 0.6804815971127264, null, 0.7925389173190199, 0.7988878238385454, null, 0.7925389173190199, 0.8488427341007198, null, 0.1338452490287545, 0.24716620675423195, null, 0.1338452490287545, 0.21636960099476776, null, 0.033117830708528584, 0.11399629313975235, null, 0.27997845369918606, 0.27316772928273203, null, 0.27997845369918606, 0.33952981970252394, null, 0.27997845369918606, 0.2785580290194316, null, 0.8488427341007198, 0.8951125184855134, null, 0.8488427341007198, 0.9274246726112946, null, 0.8488427341007198, 0.9544245910772857, null, 0.31842573091220305, 0.4074413199893687, null, 0.9047812256202894, 0.9468796162625972, null, 0.2785580290194316, 0.27316772928273203, null, 0.33952981970252394, 0.24716620675423195, null, 0.8579866044693195, 0.8951125184855134, null, 0.8579866044693195, 0.9468796162625972, null, 0.7417993122638734, 0.6343457018455123, null, 0.9544245910772857, 0.9274246726112946, null, 0.11399629313975235, 0.19434854985177352, null, 0.614362907564507, 0.6804815971127264, null, 0.9274246726112946, 0.8951125184855134, null, 0.21636960099476776, 0.24716620675423195, null], \"line\": {\"width\": 0.5, \"color\": \"#888\"}, \"hoverinfo\": \"none\", \"mode\": \"lines\"}, {\"type\": \"scatter\", \"x\": [0.9689101231869518, 0.13146797329489202, 0.4618644451156537, 0.22435119046364016, 0.9760083697843612, 0.2915254535150926, 0.9635692455212133, 0.8479393376044059, 0.5623187648672408, 0.6143610109962707, 0.18878531187010095, 0.062499471312535304, 0.6111170555334787, 0.732774699139553, 0.20617444202772506, 0.27952262513828585, 0.2591947925771837, 0.05678279467622527, 0.4871566073555551, 0.013591816057778372, 0.30282658068388024, 0.767343452206116, 0.7649940637865293, 0.4369660270678595, 0.2296603597742516, 0.7677668960589296, 0.8932155106274416, 0.4825174830784138, 0.15870732860306136, 0.605746734446886, 0.9518036876844695, 0.6394490683653434, 0.7442578124838906, 0.8606780433600261, 0.8693708157388236, 0.4707945855418334, 0.7489158659579485, 0.9129328493109201, 0.794692439739331, 0.277617098296587, 0.5696771417262098, 0.42449482757143353, 0.34876560605835516, 0.5329300947925926, 0.8119757733878251, 0.47287415171242353, 0.04575299699157909, 0.7637691656315709, 0.5791765103374505, 0.49084083003584156, 0.560050638721535, 0.8878049786692965, 0.5501252931271342, 0.3160736825447432, 0.5963179936212588, 0.026253480089433956, 0.9940611665237088, 0.16414062586210287, 0.6783544986396647, 0.3664981601001951, 0.6233862146734221, 0.5035045549728476, 0.29263822178750487, 0.34270146897375464, 0.6383706155768544, 0.7311132439907858, 0.8004964270894835, 0.1402020094459938, 0.43905032195896176, 0.9911266299521583, 0.7758511496161692, 0.006633145651064765, 0.7234219571742541, 0.25510600251487303, 0.2690341221331731, 0.49035325768600324, 0.7412611943090408, 0.4513092607259074, 0.9423200250274958, 0.6326112345895796, 0.08217371801731244, 0.7918652438063858, 0.8069512847486938, 0.09921856810492158, 0.3988709255055123, 0.3011022388388731, 0.5356349383565197, 0.04891617470527809, 0.6829886365147079, 0.394262411422987, 0.6434036576730152, 0.7132781544726736, 0.71601291620653, 0.213874373419235, 0.39586448645636907, 0.601451938181859, 0.36109654792229195, 0.8636366538200578, 0.3315348352990908, 0.18029398557658216, 0.9611022248127651, 0.3103549657641643, 0.8814818247948465, 0.8349516271939293, 0.9717543390523845, 0.7960907478024929, 0.01009221347242939, 0.6812012857239692, 0.5606954205521218, 0.39206586089910334, 0.2058879062808875, 0.5977690811087668, 0.18489804831509593, 0.3463776298658724, 0.5392717997307697, 0.5198131625161747, 0.7393844205185558, 0.9605429595882313, 0.5462316278609769, 0.8110104583036672, 0.10238191582627898, 0.041214614199590605, 0.9287746826192724, 0.5297386142544853, 0.23501510826390226, 0.7500487543707453, 0.6249558662329465, 0.7203883407901148, 0.6607326928412376, 0.8391957144366634, 0.7073101181162309, 0.002923692958122892, 0.9591665768602158, 0.08786778832767528, 0.5939327019163655, 0.4559022047290171, 0.8333124908528365, 0.5267403307236437, 0.4467656203995217, 0.30477102886716134, 0.24998048726752453, 0.4941979267962445, 0.4101500256549975, 0.4010483643072291, 0.8888605338975242, 0.8548631546201692, 0.010730502081506499, 0.18213226114681735, 0.1155416552960401, 0.3461789371599958, 0.8605186915515307, 0.6067520240854849, 0.9823551918814719, 0.18106350879807498, 0.5497662139425978, 0.633172514115946, 0.6711602670350236, 0.5325081314931189, 0.9927943949301501, 0.9081872908223979, 0.009472715295126277, 0.5186801755780348, 0.01787448904674993, 0.17732186137034822, 0.0722105541231679, 0.8742117453314674, 0.3228495585410188, 0.8278503593506462, 0.018369242588188506, 0.3484210402890876, 0.4704901694370517, 0.0018165758340868976, 0.5003661739170774, 0.18932077917561319, 0.4994011438466076, 0.8743376644692308, 0.4337777694098677, 0.8904902891902541, 0.010917174339214908, 0.20641865944204707, 0.2747036748846756, 0.12211786658349955, 0.48138829944848904, 0.2151917149284469, 0.35965464740951403, 0.381560048180019, 0.7013226230373438, 0.9678310208679198, 0.4660050648937648, 0.27539646483300595, 0.5080228976839098, 0.43993379573746083, 0.773843722440317, 0.5143022416084967, 0.5516399383487579, 0.539437601723423, 0.5886254094621834, 0.026685539247653378, 0.9914937314475555, 0.040957120865878216], \"y\": [0.048168360918202424, 0.19040769224412046, 0.7934671198649637, 0.38888555421308324, 0.47754683698256306, 0.3166755875374794, 0.318394623374573, 0.9829255041009758, 0.22045793786791068, 0.0002590678837254279, 0.10656211702737761, 0.7193953556804024, 0.5874311679755779, 0.19854610603088685, 0.9573738362745922, 0.5392621670813703, 0.8531090764264526, 0.9759038909474851, 0.03587538242874955, 0.5385932841305517, 0.473238643589209, 0.3353287935812448, 0.29080913762518423, 0.09506071601429422, 0.6403251970098613, 0.12660375900851462, 0.7393469315390224, 0.22849589912971646, 0.40794952288726805, 0.03499160085042885, 0.18281959416294502, 0.16772179390250508, 0.6935538827839952, 0.3065629290354419, 0.08702434412257776, 0.14576334208774533, 0.6140964606209247, 0.11208434918491694, 0.31834453234329685, 0.9976243074432909, 0.44870075138786636, 0.12934084035874938, 0.07579696216337373, 0.04494472483999323, 0.009265998566965639, 0.3486892604671691, 0.13187158804701704, 0.9708195685147535, 0.9643784253123552, 0.2948330390264652, 0.5449003096718349, 0.8052657567155221, 0.7296026833795819, 0.21329174651327754, 0.814332626958562, 0.4781936969891045, 0.6818150309000321, 0.29244570183395846, 0.7704655375917873, 0.09522966440876102, 0.867678671954786, 0.758501492058309, 0.05230474927200668, 0.9091803111712069, 0.5096105705973147, 0.6019209894878942, 0.6350765524311711, 0.25163868992662686, 0.03543401349563213, 0.5396581938389834, 0.03188042813106362, 0.8701558286119679, 0.45063178983570606, 0.1659604460900782, 0.4721984700707835, 0.13019290446007104, 0.32739733940244165, 0.29967572046876334, 0.6270530741357814, 0.2026005397056626, 0.01988462832995641, 0.21848460339147213, 0.9211749630543838, 0.3598850167546813, 0.5600117966285636, 0.8293754159410143, 0.5700630437177413, 0.01236224726039381, 0.1906979627819737, 0.8087439945277752, 0.4349387653697012, 0.7682133701502831, 0.19514791003917786, 0.04589134391658778, 0.6523724375373205, 0.5082361047679822, 0.41256501192012107, 0.7056946650616682, 0.738580488046314, 0.9364604715119719, 0.8093550225307262, 0.14168691818939483, 0.30893099370709354, 0.6251791168836911, 0.9865371508927611, 0.15855497883222647, 0.11795507087418944, 0.345938248817106, 0.17572214483193305, 0.4741343347995778, 0.2867896726444348, 0.5586065840123964, 0.9530743905426441, 0.6395821526129621, 0.8012744098949427, 0.33862335891387174, 0.9084150424691936, 0.9830305852314258, 0.4634644244609528, 0.943159479009146, 0.058981166115895434, 0.624847979277667, 0.5095623876744386, 0.8861579606751053, 0.44563927273359916, 0.5415588417869243, 0.4887399878866503, 0.9667888233115123, 0.6695934497048405, 0.07481162412392905, 0.830075774678561, 0.061543794363876025, 0.8789597020626696, 0.4876041331915908, 0.7864794920617684, 0.5730543312786223, 0.6341455247930975, 0.6513930823861356, 0.19155501297966726, 0.801619492035168, 0.41343231372020195, 0.16125915931391122, 0.13353079377259214, 0.5307554457309045, 0.41691282657457074, 0.07538026320445612, 0.7490785992560793, 0.4516820029253228, 0.3039227554314624, 0.5845529268858278, 0.8842465941537173, 0.41159307248442245, 0.178369082130596, 0.5552115013511412, 0.05234417257850099, 0.3501506637829457, 0.6241090604400821, 0.43544026297058, 0.6006084406717008, 0.3816877945186876, 0.15714219313963596, 0.385126994774464, 0.5146905817935529, 0.36680882701158446, 0.025629691379440045, 0.6885133245165282, 0.0012593500229226562, 0.4527570345415789, 0.6704345813912748, 0.732729034466624, 0.7925389173190199, 0.1338452490287545, 0.033117830708528584, 0.27997845369918606, 0.8488427341007198, 0.03254917524954781, 0.31842573091220305, 0.9047812256202894, 0.744750899096486, 0.7956760186459769, 0.2785580290194316, 0.33952981970252394, 0.48372903518973787, 0.9427334576166145, 0.4074413199893687, 0.7988878238385454, 0.8579866044693195, 0.7417993122638734, 0.9544245910772857, 0.27316772928273203, 0.11399629313975235, 0.614362907564507, 0.9468796162625972, 0.6804815971127264, 0.19434854985177352, 0.9274246726112946, 0.8951125184855134, 0.21636960099476776, 0.6343457018455123, 0.24716620675423195], \"text\": [\"# of connections: 4\", \"# of connections: 9\", \"# of connections: 9\", \"# of connections: 13\", \"# of connections: 5\", \"# of connections: 10\", \"# of connections: 4\", \"# of connections: 8\", \"# of connections: 12\", \"# of connections: 4\", \"# of connections: 5\", \"# of connections: 4\", \"# of connections: 10\", \"# of connections: 8\", \"# of connections: 5\", \"# of connections: 9\", \"# of connections: 8\", \"# of connections: 1\", \"# of connections: 11\", \"# of connections: 4\", \"# of connections: 11\", \"# of connections: 8\", \"# of connections: 9\", \"# of connections: 14\", \"# of connections: 3\", \"# of connections: 9\", \"# of connections: 8\", \"# of connections: 15\", \"# of connections: 10\", \"# of connections: 5\", \"# of connections: 2\", \"# of connections: 7\", \"# of connections: 10\", \"# of connections: 9\", \"# of connections: 9\", \"# of connections: 17\", \"# of connections: 8\", \"# of connections: 7\", \"# of connections: 7\", \"# of connections: 5\", \"# of connections: 13\", \"# of connections: 14\", \"# of connections: 8\", \"# of connections: 11\", \"# of connections: 5\", \"# of connections: 7\", \"# of connections: 11\", \"# of connections: 6\", \"# of connections: 5\", \"# of connections: 9\", \"# of connections: 12\", \"# of connections: 8\", \"# of connections: 8\", \"# of connections: 6\", \"# of connections: 11\", \"# of connections: 3\", \"# of connections: 6\", \"# of connections: 12\", \"# of connections: 8\", \"# of connections: 9\", \"# of connections: 11\", \"# of connections: 10\", \"# of connections: 7\", \"# of connections: 6\", \"# of connections: 13\", \"# of connections: 9\", \"# of connections: 8\", \"# of connections: 10\", \"# of connections: 13\", \"# of connections: 5\", \"# of connections: 6\", \"# of connections: 2\", \"# of connections: 9\", \"# of connections: 6\", \"# of connections: 10\", \"# of connections: 16\", \"# of connections: 8\", \"# of connections: 7\", \"# of connections: 11\", \"# of connections: 7\", \"# of connections: 6\", \"# of connections: 10\", \"# of connections: 9\", \"# of connections: 8\", \"# of connections: 9\", \"# of connections: 8\", \"# of connections: 12\", \"# of connections: 6\", \"# of connections: 9\", \"# of connections: 10\", \"# of connections: 10\", \"# of connections: 6\", \"# of connections: 8\", \"# of connections: 4\", \"# of connections: 9\", \"# of connections: 12\", \"# of connections: 8\", \"# of connections: 9\", \"# of connections: 7\", \"# of connections: 5\", \"# of connections: 5\", \"# of connections: 7\", \"# of connections: 7\", \"# of connections: 9\", \"# of connections: 4\", \"# of connections: 8\", \"# of connections: 9\", \"# of connections: 8\", \"# of connections: 12\", \"# of connections: 9\", \"# of connections: 11\", \"# of connections: 10\", \"# of connections: 5\", \"# of connections: 9\", \"# of connections: 11\", \"# of connections: 10\", \"# of connections: 9\", \"# of connections: 4\", \"# of connections: 12\", \"# of connections: 8\", \"# of connections: 8\", \"# of connections: 5\", \"# of connections: 6\", \"# of connections: 11\", \"# of connections: 9\", \"# of connections: 9\", \"# of connections: 12\", \"# of connections: 6\", \"# of connections: 7\", \"# of connections: 8\", \"# of connections: 7\", \"# of connections: 8\", \"# of connections: 6\", \"# of connections: 6\", \"# of connections: 12\", \"# of connections: 11\", \"# of connections: 10\", \"# of connections: 9\", \"# of connections: 13\", \"# of connections: 8\", \"# of connections: 10\", \"# of connections: 13\", \"# of connections: 14\", \"# of connections: 11\", \"# of connections: 7\", \"# of connections: 9\", \"# of connections: 4\", \"# of connections: 10\", \"# of connections: 11\", \"# of connections: 9\", \"# of connections: 8\", \"# of connections: 12\", \"# of connections: 2\", \"# of connections: 6\", \"# of connections: 12\", \"# of connections: 7\", \"# of connections: 8\", \"# of connections: 11\", \"# of connections: 6\", \"# of connections: 6\", \"# of connections: 6\", \"# of connections: 11\", \"# of connections: 4\", \"# of connections: 13\", \"# of connections: 6\", \"# of connections: 9\", \"# of connections: 5\", \"# of connections: 5\", \"# of connections: 4\", \"# of connections: 7\", \"# of connections: 10\", \"# of connections: 6\", \"# of connections: 11\", \"# of connections: 12\", \"# of connections: 11\", \"# of connections: 7\", \"# of connections: 8\", \"# of connections: 10\", \"# of connections: 4\", \"# of connections: 3\", \"# of connections: 8\", \"# of connections: 10\", \"# of connections: 11\", \"# of connections: 5\", \"# of connections: 7\", \"# of connections: 8\", \"# of connections: 10\", \"# of connections: 8\", \"# of connections: 4\", \"# of connections: 7\", \"# of connections: 16\", \"# of connections: 9\", \"# of connections: 9\", \"# of connections: 10\", \"# of connections: 11\", \"# of connections: 6\", \"# of connections: 9\", \"# of connections: 8\", \"# of connections: 5\", \"# of connections: 8\"], \"mode\": \"markers\", \"hoverinfo\": \"text\", \"marker\": {\"showscale\": true, \"colorscale\": \"YIGnBu\", \"reversescale\": true, \"color\": [4, 9, 9, 13, 5, 10, 4, 8, 12, 4, 5, 4, 10, 8, 5, 9, 8, 1, 11, 4, 11, 8, 9, 14, 3, 9, 8, 15, 10, 5, 2, 7, 10, 9, 9, 17, 8, 7, 7, 5, 13, 14, 8, 11, 5, 7, 11, 6, 5, 9, 12, 8, 8, 6, 11, 3, 6, 12, 8, 9, 11, 10, 7, 6, 13, 9, 8, 10, 13, 5, 6, 2, 9, 6, 10, 16, 8, 7, 11, 7, 6, 10, 9, 8, 9, 8, 12, 6, 9, 10, 10, 6, 8, 4, 9, 12, 8, 9, 7, 5, 5, 7, 7, 9, 4, 8, 9, 8, 12, 9, 11, 10, 5, 9, 11, 10, 9, 4, 12, 8, 8, 5, 6, 11, 9, 9, 12, 6, 7, 8, 7, 8, 6, 6, 12, 11, 10, 9, 13, 8, 10, 13, 14, 11, 7, 9, 4, 10, 11, 9, 8, 12, 2, 6, 12, 7, 8, 11, 6, 6, 6, 11, 4, 13, 6, 9, 5, 5, 4, 7, 10, 6, 11, 12, 11, 7, 8, 10, 4, 3, 8, 10, 11, 5, 7, 8, 10, 8, 4, 7, 16, 9, 9, 10, 11, 6, 9, 8, 5, 8], \"size\": 10, \"colorbar\": {\"thickness\": 15, \"title\": \"Node Connections\", \"xanchor\": \"left\", \"titleside\": \"right\"}, \"line\": {\"width\": 2}}}], {\"title\": \"<br>Network graph made with Python\", \"titlefont\": {\"size\": 16}, \"showlegend\": false, \"width\": 650, \"height\": 650, \"hovermode\": \"closest\", \"margin\": {\"b\": 20, \"l\": 5, \"r\": 5, \"t\": 40}, \"annotations\": [{\"text\": \"Python code: <a href='https://plot.ly/ipython-notebooks/network-graphs/'> https://plot.ly/ipython-notebooks/network-graphs/</a>\", \"showarrow\": false, \"xref\": \"paper\", \"yref\": \"paper\", \"x\": 0.005, \"y\": -0.002}], \"xaxis\": {\"showgrid\": false, \"zeroline\": false, \"showticklabels\": false}, \"yaxis\": {\"showgrid\": false, \"zeroline\": false, \"showticklabels\": false}}, {\"showLink\": true, \"linkText\": \"Export to plot.ly\"})});</script>"
      ],
      "text/plain": [
       "<IPython.core.display.HTML object>"
      ]
     },
     "metadata": {},
     "output_type": "display_data"
    }
   ],
   "source": [
    "from plotly import __version__\n",
    "from plotly.offline import download_plotlyjs, init_notebook_mode, plot, iplot\n",
    "import plotly.plotly as py\n",
    "from plotly.graph_objs import *\n",
    "\n",
    "import networkx as nx\n",
    "\n",
    "init_notebook_mode(connected=True)\n",
    "\n",
    "\n",
    "G=nx.random_geometric_graph(200,0.125)\n",
    "pos=nx.get_node_attributes(G,'pos')\n",
    "\n",
    "dmin=1\n",
    "ncenter=0\n",
    "for n in pos:\n",
    "    x,y=pos[n]\n",
    "    d=(x-0.5)**2+(y-0.5)**2\n",
    "    if d<dmin:\n",
    "        ncenter=n\n",
    "        dmin=d\n",
    "        \n",
    "p=nx.single_source_shortest_path_length(G,ncenter)\n",
    "\n",
    "edge_trace = Scatter(\n",
    "    x=[], \n",
    "    y=[], \n",
    "    line=Line(width=0.5,color='#888'),\n",
    "    hoverinfo='none',\n",
    "    mode='lines')\n",
    "\n",
    "for edge in G.edges():\n",
    "    x0, y0 = G.node[edge[0]]['pos']\n",
    "    x1, y1 = G.node[edge[1]]['pos']\n",
    "    edge_trace['x'] += [x0, x1, None]\n",
    "    edge_trace['y'] += [y0, y1, None]\n",
    "\n",
    "node_trace = Scatter(\n",
    "    x=[], \n",
    "    y=[], \n",
    "    text=[],\n",
    "    mode='markers', \n",
    "    hoverinfo='text',\n",
    "    marker=Marker(\n",
    "        showscale=True,\n",
    "        # colorscale options\n",
    "        # 'Greys' | 'Greens' | 'Bluered' | 'Hot' | 'Picnic' | 'Portland' |\n",
    "        # Jet' | 'RdBu' | 'Blackbody' | 'Earth' | 'Electric' | 'YIOrRd' | 'YIGnBu'\n",
    "        colorscale='YIGnBu',\n",
    "        reversescale=True,\n",
    "        color=[], \n",
    "        size=10,         \n",
    "        colorbar=dict(\n",
    "            thickness=15,\n",
    "            title='Node Connections',\n",
    "            xanchor='left',\n",
    "            titleside='right'\n",
    "        ),\n",
    "        line=dict(width=2)))\n",
    "\n",
    "for node in G.nodes():\n",
    "    x, y = G.node[node]['pos']\n",
    "    node_trace['x'].append(x)\n",
    "    node_trace['y'].append(y)\n",
    "    \n",
    "for node, adjacencies in enumerate(G.adjacency_list()):\n",
    "    node_trace['marker']['color'].append(len(adjacencies))\n",
    "    node_info = '# of connections: '+str(len(adjacencies))\n",
    "    node_trace['text'].append(node_info)\n",
    "    \n",
    "fig = Figure(data=Data([edge_trace, node_trace]),\n",
    "             layout=Layout(\n",
    "                title='<br>Network graph made with Python',\n",
    "                titlefont=dict(size=16),\n",
    "                showlegend=False, \n",
    "                width=650,\n",
    "                height=650,\n",
    "                hovermode='closest',\n",
    "                margin=dict(b=20,l=5,r=5,t=40),\n",
    "                annotations=[ dict(\n",
    "                    text=\"Python code: <a href='https://plot.ly/ipython-notebooks/network-graphs/'> https://plot.ly/ipython-notebooks/network-graphs/</a>\",\n",
    "                    showarrow=False,\n",
    "                    xref=\"paper\", yref=\"paper\",\n",
    "                    x=0.005, y=-0.002 ) ],\n",
    "                xaxis=XAxis(showgrid=False, zeroline=False, showticklabels=False),\n",
    "                yaxis=YAxis(showgrid=False, zeroline=False, showticklabels=False)))\n",
    "\n",
    "iplot(fig, filename='networkx')"
   ]
  },
  {
   "cell_type": "code",
   "execution_count": null,
   "metadata": {
    "collapsed": true
   },
   "outputs": [],
   "source": []
  },
  {
   "cell_type": "code",
   "execution_count": null,
   "metadata": {
    "collapsed": true
   },
   "outputs": [],
   "source": []
  }
 ],
 "metadata": {
  "anaconda-cloud": {},
  "kernelspec": {
   "display_name": "Python 3",
   "language": "python",
   "name": "python3"
  },
  "language_info": {
   "codemirror_mode": {
    "name": "ipython",
    "version": 3
   },
   "file_extension": ".py",
   "mimetype": "text/x-python",
   "name": "python",
   "nbconvert_exporter": "python",
   "pygments_lexer": "ipython3",
   "version": "3.6.0"
  }
 },
 "nbformat": 4,
 "nbformat_minor": 1
}
