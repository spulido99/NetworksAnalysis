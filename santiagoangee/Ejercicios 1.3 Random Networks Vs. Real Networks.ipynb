{
 "cells": [
  {
   "cell_type": "markdown",
   "metadata": {
    "collapsed": true
   },
   "source": [
    "# Ejercicios Random Networks vs Real Networks"
   ]
  },
  {
   "cell_type": "markdown",
   "metadata": {},
   "source": [
    "## Ejercicios Diferencia en Distribución de Grados\n",
    "\n",
    "Compare la distribución de grados de una red real contra una red aleatoria.\n",
    "\n",
    "- Baje un red real de SNAP\n",
    "- Cree una red aleatoria con el mismo número de links y nodos\n",
    "- Compare la distribución de grados"
   ]
  },
  {
   "cell_type": "code",
   "execution_count": 7,
   "metadata": {
    "collapsed": false
   },
   "outputs": [
    {
     "name": "stderr",
     "output_type": "stream",
     "text": [
      "/home/sangeea/anaconda3/lib/python3.6/site-packages/statsmodels/nonparametric/kdetools.py:20: VisibleDeprecationWarning: using a non-integer number instead of an integer will result in an error in the future\n",
      "  y = X[:m/2+1] + np.r_[0,X[m/2+1:],0]*1j\n"
     ]
    },
    {
     "data": {
      "text/plain": [
       "<matplotlib.axes._subplots.AxesSubplot at 0x7fa35f5b1630>"
      ]
     },
     "execution_count": 7,
     "metadata": {},
     "output_type": "execute_result"
    },
    {
     "data": {
      "image/png": "[encoded data removed]",
      "text/plain": [
       "<matplotlib.figure.Figure at 0x7fa35f865f98>"
      ]
     },
     "metadata": {},
     "output_type": "display_data"
    }
   ],
   "source": [
    "import numpy as np\n",
    "import networkx as nx\n",
    "import seaborn as sns\n",
    "\n",
    "%matplotlib inline\n",
    "\n",
    "edges = np.genfromtxt('0.edges', dtype=\"int\", delimiter=\" \")\n",
    "G = nx.read_edgelist('0.edges', delimiter=\" \")\n",
    "\n",
    "\n",
    "\n",
    "def total_edges(edges):\n",
    "    return (len(G.nodes())*(len(G.nodes()-1)))/2\n",
    "\n",
    "def p_edges(edges):\n",
    "    return 2*float(len(edges))/total_edges(edges)\n",
    "\n",
    "N = len(G.nodes())\n",
    "p = 2*len(edges)/(N*(N-1))\n",
    "G_ran = nx.gnp_random_graph(N, p)\n",
    "\n",
    "ax = sns.distplot(list(G.degree().values()))\n",
    "sns.distplot(list(G_ran.degree().values()))\n"
   ]
  },
  {
   "cell_type": "markdown",
   "metadata": {},
   "source": [
    "\n",
    "## Ejercicios Comparación Tamaño del componente Gigante\n",
    "\n",
    "Genere varias realizaciones de la red aleatoria y compare el tamaño del componente gigante contra el de la red real"
   ]
  },
  {
   "cell_type": "code",
   "execution_count": null,
   "metadata": {
    "collapsed": true
   },
   "outputs": [],
   "source": []
  },
  {
   "cell_type": "markdown",
   "metadata": {},
   "source": [
    "## Ejercicio Comparación Número de componentes\n",
    "\n",
    "Genera varias realizaciones de la red aleatoria y compare la cantidad de componentes"
   ]
  },
  {
   "cell_type": "code",
   "execution_count": null,
   "metadata": {
    "collapsed": true
   },
   "outputs": [],
   "source": []
  }
 ],
 "metadata": {
  "anaconda-cloud": {},
  "hide_input": false,
  "kernelspec": {
   "display_name": "Python 3",
   "language": "python",
   "name": "python3"
  },
  "language_info": {
   "codemirror_mode": {
    "name": "ipython",
    "version": 3
   },
   "file_extension": ".py",
   "mimetype": "text/x-python",
   "name": "python",
   "nbconvert_exporter": "python",
   "pygments_lexer": "ipython3",
   "version": "3.6.0"
  },
  "toc": {
   "colors": {
    "hover_highlight": "#DAA520",
    "running_highlight": "#FF0000",
    "selected_highlight": "#FFD700"
   },
   "moveMenuLeft": true,
   "nav_menu": {
    "height": "12px",
    "width": "252px"
   },
   "navigate_menu": true,
   "number_sections": true,
   "sideBar": true,
   "threshold": 4,
   "toc_cell": false,
   "toc_section_display": "block",
   "toc_window_display": false
  }
 },
 "nbformat": 4,
 "nbformat_minor": 1
}
