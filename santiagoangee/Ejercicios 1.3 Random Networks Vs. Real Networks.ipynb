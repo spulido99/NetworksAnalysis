{
 "cells": [
  {
   "cell_type": "markdown",
   "metadata": {
    "collapsed": true
   },
   "source": [
    "# Ejercicios Random Networks vs Real Networks"
   ]
  },
  {
   "cell_type": "markdown",
   "metadata": {},
   "source": [
    "## Ejercicios Diferencia en Distribución de Grados\n",
    "\n",
    "Compare la distribución de grados de una red real contra una red aleatoria.\n",
    "\n",
    "- Baje un red real de SNAP\n",
    "- Cree una red aleatoria con el mismo número de links y nodos\n",
    "- Compare la distribución de grados"
   ]
  },
  {
   "cell_type": "code",
   "execution_count": 3,
   "metadata": {
    "collapsed": false
   },
   "outputs": [
    {
     "name": "stdout",
     "output_type": "stream",
     "text": [
      "N=333\n"
     ]
    },
    {
     "name": "stderr",
     "output_type": "stream",
     "text": [
      "/home/sangeea/anaconda3/lib/python3.6/site-packages/statsmodels/nonparametric/kdetools.py:20: VisibleDeprecationWarning: using a non-integer number instead of an integer will result in an error in the future\n",
      "  y = X[:m/2+1] + np.r_[0,X[m/2+1:],0]*1j\n"
     ]
    },
    {
     "data": {
      "text/plain": [
       "<matplotlib.axes._subplots.AxesSubplot at 0x7f24390a1f60>"
      ]
     },
     "execution_count": 3,
     "metadata": {},
     "output_type": "execute_result"
    },
    {
     "data": {
      "image/png": "[encoded data removed]",
      "text/plain": [
       "<matplotlib.figure.Figure at 0x7f2438fadcf8>"
      ]
     },
     "metadata": {},
     "output_type": "display_data"
    }
   ],
   "source": [
    "import numpy as np\n",
    "import networkx as nx\n",
    "import seaborn as sns\n",
    "\n",
    "%matplotlib inline\n",
    "\n",
    "edges = np.genfromtxt('0.edges', dtype=\"int\", delimiter=\" \")\n",
    "G = nx.read_edgelist('0.edges', delimiter=\" \")\n",
    "\n",
    "\n",
    "\n",
    "def total_edges(edges):\n",
    "    return (len(G.nodes())*(len(G.nodes()-1)))/2\n",
    "\n",
    "def p_edges(edges):\n",
    "    return 2*float(len(edges))/total_edges(edges)\n",
    "\n",
    "N = len(G.nodes())\n",
    "print(\"N=%d\" %(N))\n",
    "p = 2*len(edges)/(N*(N-1))\n",
    "G_ran = nx.gnp_random_graph(N, p)\n",
    "\n",
    "ax = sns.distplot(list(G.degree().values()))\n",
    "sns.distplot(list(G_ran.degree().values()))"
   ]
  },
  {
   "cell_type": "markdown",
   "metadata": {},
   "source": [
    "\n",
    "## Ejercicios Comparación Tamaño del componente Gigante\n",
    "\n",
    "Genere varias realizaciones de la red aleatoria y compare el tamaño del componente gigante contra el de la red real"
   ]
  },
  {
   "cell_type": "code",
   "execution_count": 8,
   "metadata": {
    "collapsed": false
   },
   "outputs": [
    {
     "data": {
      "text/html": [
       "<script>requirejs.config({paths: { 'plotly': ['https://cdn.plot.ly/plotly-latest.min']},});if(!window.Plotly) {{require(['plotly'],function(plotly) {window.Plotly=plotly;});}}</script>"
      ],
      "text/plain": [
       "<IPython.core.display.HTML object>"
      ]
     },
     "metadata": {},
     "output_type": "display_data"
    },
    {
     "data": {
      "image/png": "[encoded data removed]",
      "text/plain": [
       "<matplotlib.figure.Figure at 0x7f24379ceeb8>"
      ]
     },
     "metadata": {},
     "output_type": "display_data"
    }
   ],
   "source": [
    "# Plot results\n",
    "import matplotlib.pyplot as plt\n",
    "import plotly.plotly as py\n",
    "from plotly.graph_objs import Scatter, Figure, Layout\n",
    "from plotly.offline import download_plotlyjs, init_notebook_mode, plot, iplot\n",
    "\n",
    "init_notebook_mode(connected=True)\n",
    "\n",
    "def biggest_component_size(N,p):\n",
    "    G_ran = nx.gnp_random_graph(N,p)\n",
    "    components_ran = list(nx.connected_component_subgraphs(G_ran))\n",
    "    components_ran_len = [len(component) for component in components_ran]\n",
    "    \n",
    "    max_component_ran = 0\n",
    "    max_index_ran = -1\n",
    "    for i in range(0, len(components_ran_len)):\n",
    "        if components_ran_len[i] > max_component_ran:\n",
    "            max_component_ran = components_ran_len[i]\n",
    "            max_index_ran = i\n",
    "    \n",
    "    random_network_biggest_component_size = (len(components_ran[max_index_ran]))\n",
    "    \n",
    "    components_real = list(nx.connected_component_subgraphs(G))\n",
    "    \n",
    "    components_real_len = [len(component) for component in components_real]\n",
    "    \n",
    "    max_component_real = 0\n",
    "    max_index_real = -1\n",
    "    for i in range(0, len(components_real_len)):\n",
    "        if components_real_len[i] > max_component_real:\n",
    "            max_component_real = components_real_len[i]\n",
    "            max_index_real = i\n",
    "    \n",
    "    real_network_biggest_component_size = (len(components_real[max_index_real]))\n",
    "    \n",
    "    return (random_network_biggest_component_size, real_network_biggest_component_size)\n",
    "\n",
    "def component_comparison(number_of_iterations, N, p):\n",
    "    \n",
    "    rand = []\n",
    "    real = []\n",
    "    for i in range(number_of_iterations):\n",
    "        result = biggest_component_size(N,p)\n",
    "        rand.append(result[0])\n",
    "        real.append(result[1])\n",
    "        \n",
    "    sample = list(range(1,number_of_iterations+1))\n",
    "    plt.plot(sample, rand, \"o\")\n",
    "    \n",
    "    plt.plot(sample, real, \"o\")\n",
    "\n",
    "component_comparison(100,N,p)\n"
   ]
  },
  {
   "cell_type": "markdown",
   "metadata": {},
   "source": [
    "## Ejercicio Comparación Número de componentes\n",
    "\n",
    "Genera varias realizaciones de la red aleatoria y compare la cantidad de componentes"
   ]
  },
  {
   "cell_type": "code",
   "execution_count": null,
   "metadata": {
    "collapsed": true
   },
   "outputs": [],
   "source": []
  }
 ],
 "metadata": {
  "anaconda-cloud": {},
  "hide_input": false,
  "kernelspec": {
   "display_name": "Python 3",
   "language": "python",
   "name": "python3"
  },
  "language_info": {
   "codemirror_mode": {
    "name": "ipython",
    "version": 3
   },
   "file_extension": ".py",
   "mimetype": "text/x-python",
   "name": "python",
   "nbconvert_exporter": "python",
   "pygments_lexer": "ipython3",
   "version": "3.6.0"
  },
  "toc": {
   "colors": {
    "hover_highlight": "#DAA520",
    "running_highlight": "#FF0000",
    "selected_highlight": "#FFD700"
   },
   "moveMenuLeft": true,
   "nav_menu": {
    "height": "12px",
    "width": "252px"
   },
   "navigate_menu": true,
   "number_sections": true,
   "sideBar": true,
   "threshold": 4,
   "toc_cell": false,
   "toc_section_display": "block",
   "toc_window_display": false
  }
 },
 "nbformat": 4,
 "nbformat_minor": 1
}
