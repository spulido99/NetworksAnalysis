{
 "cells": [
  {
   "cell_type": "markdown",
   "metadata": {},
   "source": [
    "# Ejercicios Weak Ties & Random Networks\n",
    "\n",
    "Ejercicios básicos de redes"
   ]
  },
  {
   "cell_type": "markdown",
   "metadata": {},
   "source": [
    "## Ejercicio Clustering Coeficient\n",
    "\n",
    "iCalcule el coeficiente de clustering para cada nodo y en la red (sin dirección)"
   ]
  },
  {
   "cell_type": "code",
   "execution_count": 1,
   "metadata": {
    "collapsed": false
   },
   "outputs": [],
   "source": [
    "edges = set([(1,2), (2,3), (2,4), (2,5), (4,5), (4,6), (5,6), (4,7)])"
   ]
  },
  {
   "cell_type": "code",
   "execution_count": 2,
   "metadata": {
    "collapsed": false
   },
   "outputs": [
    {
     "name": "stdout",
     "output_type": "stream",
     "text": [
      "{1: 0.0, 2: 0.16666666666666666, 4: 0.3333333333333333, 7: 0.0, 6: 1.0, 5: 0.6666666666666666, 3: 0.0}\n",
      "0.3095238095238095\n",
      "{1: 0.0, 2: 0.16666666666666666, 4: 0.3333333333333333, 7: 0.0, 6: 1.0, 5: 0.6666666666666666, 3: 0.0}\n",
      "0.3095238095238095\n"
     ]
    }
   ],
   "source": [
    "from IPython.core.debugger import Tracer\n",
    "import collections\n",
    "import numpy as np\n",
    "\n",
    "\"\"\" Without NetworkX \"\"\"\n",
    "\n",
    "edges = set([(1,2), (2,3), (2,4), (2,5), (4,5), (4,6), (5,6), (4,7)])\n",
    "\n",
    "def edges_to_graph(edges):\n",
    "    edges = list(edges)\n",
    "    graph = {}\n",
    "    \n",
    "    for i in range(0,len(edges)):\n",
    "        \n",
    "        if graph.get(edges[i][0], None):\n",
    "            graph[edges[i][0]].add(edges[i][1])\n",
    "        else:\n",
    "            if len(edges[i]) == 2:\n",
    "                graph[edges[i][0]] = set([edges[i][1]])\n",
    "            else:\n",
    "                graph[edges[i][0]] = set([])\n",
    "        \n",
    "        if len(edges[i]) == 2:\n",
    "            if graph.get(edges[i][1], None):\n",
    "                graph[edges[i][1]].add(edges[i][0])\n",
    "            else:\n",
    "                graph[edges[i][1]] = set([edges[i][0]])\n",
    "\n",
    "    return graph\n",
    "\n",
    "G = edges_to_graph(edges)\n",
    "\n",
    "\n",
    "def graph_to_tuples(graph):\n",
    "    \n",
    "    output_graph = []\n",
    "    for node, neighbours in graph.items():\n",
    "        output_graph.append((node,list(neighbours)))\n",
    "    return output_graph\n",
    "\n",
    "\n",
    "def element_neighbours(tuple_graph, element):\n",
    "    \n",
    "    \n",
    "    for index, item in enumerate(tuple_graph):\n",
    "        if element == item[0]:\n",
    "            return item[1]\n",
    "    \n",
    "    raise IndexNotFoundError('Error: the requested element was not found')\n",
    "\n",
    "\n",
    "def clustering_coefficient(graph):\n",
    "    \n",
    "    tuple_graph = graph_to_tuples(graph)\n",
    "    L = np.zeros((len(tuple_graph),), dtype=np.int)\n",
    "\n",
    "    for i in range(0, len(tuple_graph)):\n",
    "        element_at_i = tuple_graph[i][0]\n",
    "        for j in range(0, len(tuple_graph[i][1])-1):\n",
    "            current = tuple_graph[i][1][j]\n",
    "            for k in range(j+1, len(tuple_graph[i][1])):\n",
    "                comparison = tuple_graph[i][1][k]\n",
    "                # Search if there is a link\n",
    "                if comparison in element_neighbours(tuple_graph, current):\n",
    "                    L[i] += 1\n",
    "\n",
    "    C = {}\n",
    "    \n",
    "    for i in range(len(tuple_graph)):\n",
    "        k = len(tuple_graph[i][1])\n",
    "        if k >= 2:\n",
    "            C[tuple_graph[i][0]] = float(2*L[i])/(k*(k-1))\n",
    "        else:\n",
    "            C[tuple_graph[i][0]] = 0.0\n",
    "            \n",
    "    return C\n",
    "\n",
    "\n",
    "def average_clustering(graph):\n",
    "    C = clustering_coefficient(graph)\n",
    "    return float(sum(C.values()))/len(C)\n",
    "\n",
    "print(clustering_coefficient(G))\n",
    "print(average_clustering(G))\n",
    "\n",
    "import networkx as nx\n",
    "\n",
    "G = nx.Graph()\n",
    "G.add_edges_from(edges)\n",
    "\n",
    "print(nx.clustering(G))\n",
    "print(nx.average_clustering(G))\n",
    "            \n",
    "            \n",
    "            \n",
    "    "
   ]
  },
  {
   "cell_type": "markdown",
   "metadata": {},
   "source": [
    "## Ejercicio Weigthed Netwroks\n",
    "\n",
    "Cree una red no direccionada con los siguientes pesos."
   ]
  },
  {
   "cell_type": "markdown",
   "metadata": {},
   "source": [
    "(a, b) = 0.3\n",
    "(a, c) = 1.0\n",
    "(a, d) = 0.9\n",
    "(a, e) = 1.0\n",
    "(a, f) = 0.4\n",
    "(c, f) = 0.2\n",
    "(b, h) = 0.2\n",
    "(f, j) = 0.8\n",
    "(f, g) = 0.9\n",
    "(j, g) = 0.6\n",
    "(g, k) = 0.4\n",
    "(g, h) = 0.2\n",
    "(k, h) = 1.0"
   ]
  },
  {
   "cell_type": "code",
   "execution_count": 3,
   "metadata": {
    "collapsed": false
   },
   "outputs": [
    {
     "name": "stdout",
     "output_type": "stream",
     "text": [
      "{'a': {('c', 1.0), ('d', 0.9), ('f', 0.4), ('b', 0.3), ('e', 1.0)}, 'b': {('a', 0.3), ('h', 0.2)}, 'c': {('a', 1.0), ('f', 0.2)}, 'd': {('a', 0.9)}, 'e': {('a', 1.0)}, 'f': {('j', 0.8), ('c', 0.2), ('a', 0.4), ('g', 0.9)}, 'h': {('k', 1.0), ('g', 0.2), ('b', 0.2)}, 'j': {('f', 0.8), ('g', 0.6)}, 'g': {('k', 0.4), ('j', 0.6), ('f', 0.9), ('h', 0.2)}, 'k': {('h', 1.0), ('g', 0.4)}}\n",
      "\n"
     ]
    }
   ],
   "source": [
    "# To create a weighted, undirected graph, the edges must be provided in the form: (node1, node2, weight)\n",
    "\n",
    "edges = [('a', 'b', 0.3), ('a', 'c', 1.0), ('a', 'd', 0.9), ('a', 'e', 1.0), ('a', 'f', 0.4),\n",
    "             ('c', 'f', 0.2), ('b', 'h', 0.2), ('f', 'j', 0.8), ('f', 'g', 0.9), ('j', 'g', 0.6),\n",
    "             ('g', 'k', 0.4), ('g', 'h', 0.2), ('k', 'h', 1.0)]\n",
    "\n",
    "def edges_to_weighted_graph(edges):\n",
    "    edges = list(edges)\n",
    "    graph = {}\n",
    "    \n",
    "    for i in range(0,len(edges)):\n",
    "        \n",
    "        if graph.get(edges[i][0], None):\n",
    "            graph[edges[i][0]].add((edges[i][1], edges[i][2]))\n",
    "        else:\n",
    "            if len(edges[i]) == 3:\n",
    "                graph[edges[i][0]] = set([(edges[i][1],edges[i][2])])\n",
    "            else:\n",
    "                graph[edges[i][0]] = set([])\n",
    "        \n",
    "        if len(edges[i]) == 3:\n",
    "            if graph.get(edges[i][1], None):\n",
    "                graph[edges[i][1]].add((edges[i][0],edges[i][2]))\n",
    "            else:\n",
    "                graph[edges[i][1]] = set([(edges[i][0],edges[i][2])])\n",
    "\n",
    "    return graph\n",
    "\n",
    "graph = edges_to_weighted_graph(edges)\n",
    "\n",
    "print (graph)\n",
    "\n",
    "\"\"\" With NetworkX \"\"\"\n",
    "\n",
    "FG = nx.Graph()\n",
    "\n",
    "FG.add_weighted_edges_from(edges)\n",
    "\n",
    "print (str(FG))"
   ]
  },
  {
   "cell_type": "markdown",
   "metadata": {},
   "source": [
    "Imprima la matriz de adyasencia"
   ]
  },
  {
   "cell_type": "code",
   "execution_count": 4,
   "metadata": {
    "collapsed": false
   },
   "outputs": [
    {
     "name": "stdout",
     "output_type": "stream",
     "text": [
      "(array([[ 0. ,  0.3,  1. ,  0.9,  1. ,  0.4,  0. ,  0. ,  0. ,  0. ],\n",
      "       [ 0.3,  0. ,  0. ,  0. ,  0. ,  0. ,  0. ,  0.2,  0. ,  0. ],\n",
      "       [ 1. ,  0. ,  0. ,  0. ,  0. ,  0.2,  0. ,  0. ,  0. ,  0. ],\n",
      "       [ 0.9,  0. ,  0. ,  0. ,  0. ,  0. ,  0. ,  0. ,  0. ,  0. ],\n",
      "       [ 1. ,  0. ,  0. ,  0. ,  0. ,  0. ,  0. ,  0. ,  0. ,  0. ],\n",
      "       [ 0.4,  0. ,  0.2,  0. ,  0. ,  0. ,  0.9,  0. ,  0.8,  0. ],\n",
      "       [ 0. ,  0. ,  0. ,  0. ,  0. ,  0.9,  0. ,  0.2,  0.6,  0.4],\n",
      "       [ 0. ,  0.2,  0. ,  0. ,  0. ,  0. ,  0.2,  0. ,  0. ,  1. ],\n",
      "       [ 0. ,  0. ,  0. ,  0. ,  0. ,  0.8,  0.6,  0. ,  0. ,  0. ],\n",
      "       [ 0. ,  0. ,  0. ,  0. ,  0. ,  0. ,  0.4,  1. ,  0. ,  0. ]]), ['a', 'b', 'c', 'd', 'e', 'f', 'g', 'h', 'j', 'k'])\n",
      "  (0, 1)\t0.3\n",
      "  (0, 2)\t1.0\n",
      "  (0, 3)\t0.9\n",
      "  (0, 4)\t1.0\n",
      "  (0, 5)\t0.4\n",
      "  (1, 0)\t0.3\n",
      "  (1, 6)\t0.2\n",
      "  (2, 0)\t1.0\n",
      "  (2, 5)\t0.2\n",
      "  (3, 0)\t0.9\n",
      "  (4, 0)\t1.0\n",
      "  (5, 0)\t0.4\n",
      "  (5, 2)\t0.2\n",
      "  (5, 7)\t0.8\n",
      "  (5, 8)\t0.9\n",
      "  (6, 1)\t0.2\n",
      "  (6, 8)\t0.2\n",
      "  (6, 9)\t1.0\n",
      "  (7, 5)\t0.8\n",
      "  (7, 8)\t0.6\n",
      "  (8, 5)\t0.9\n",
      "  (8, 6)\t0.2\n",
      "  (8, 7)\t0.6\n",
      "  (8, 9)\t0.4\n",
      "  (9, 6)\t1.0\n",
      "  (9, 8)\t0.4\n"
     ]
    }
   ],
   "source": [
    "def adjacency_matrix(graph):\n",
    "    keys = list(graph.keys())\n",
    "    keys.sort()\n",
    "    \n",
    "    adj_matrix = np.zeros((len(keys),len(keys)))\n",
    "    \n",
    "    for node, edges in graph.items():\n",
    "        for edge in edges:\n",
    "            adj_matrix[keys.index(node)][keys.index(edge[0])] = edge[1]\n",
    "    \n",
    "    return (adj_matrix, keys)\n",
    "\n",
    "print (adjacency_matrix(graph))\n",
    "\n",
    "\"\"\" With NetworkX \"\"\"\n",
    "A = nx.adjacency_matrix(FG)\n",
    "\n",
    "print (A)"
   ]
  },
  {
   "cell_type": "markdown",
   "metadata": {},
   "source": [
    "## Ejercicio Weak & Strong ties"
   ]
  },
  {
   "cell_type": "markdown",
   "metadata": {},
   "source": [
    "Con la misma red anterior asuma que un link debil es inferior a 0.5, cree un código que calcule si se cumple la propiedad \"strong triadic closure\""
   ]
  },
  {
   "cell_type": "code",
   "execution_count": 5,
   "metadata": {
    "collapsed": false
   },
   "outputs": [
    {
     "name": "stdout",
     "output_type": "stream",
     "text": [
      "False\n",
      "True\n"
     ]
    },
    {
     "data": {
      "text/plain": [
       "' With NetworkX '"
      ]
     },
     "execution_count": 5,
     "metadata": {},
     "output_type": "execute_result"
    }
   ],
   "source": [
    "def weighted_element_neighbours(tuple_graph, element):\n",
    "    \n",
    "    for index, item in enumerate(tuple_graph):\n",
    "        if element[0] == item[0]:\n",
    "            neighbours = [i[0] for i in item[1]]\n",
    "            return neighbours\n",
    "    \n",
    "    raise IndexNotFoundError('Error: the requested element was not found')\n",
    "    \n",
    "\n",
    "def weighted_graph_to_tuples(graph):\n",
    "    \n",
    "    output_graph = []\n",
    "    for node, neighbours in graph.items():\n",
    "        output_graph.append((node,list(neighbours)))\n",
    "    return output_graph\n",
    "\n",
    "\n",
    "def triadic_closure(graph):\n",
    "    \n",
    "    tuple_graph = weighted_graph_to_tuples(graph)\n",
    "    L = np.zeros((len(tuple_graph),), dtype=np.int)\n",
    "\n",
    "    for i in range(0, len(tuple_graph)):\n",
    "        element_at_i = tuple_graph[i][0]\n",
    "        for j in range(0, len(tuple_graph[i][1])-1):\n",
    "            current = tuple_graph[i][1][j]\n",
    "            weight_current = current[1]\n",
    "            if weight_current >= 0.5:\n",
    "                for k in range(j+1, len(tuple_graph[i][1])):\n",
    "                    comparison = tuple_graph[i][1][k]\n",
    "                    weight_comparison = comparison[1]\n",
    "                    if weight_comparison >= 0.5:\n",
    "                    # Search if there is a link\n",
    "                        if not comparison[0] in weighted_element_neighbours(tuple_graph, current):\n",
    "                            return False\n",
    "\n",
    "    return True\n",
    "\n",
    "print(triadic_closure(graph))\n",
    "\n",
    "edges2 = [('a','b',0.1),('a','c',0.5),('a','d',0.9),('a','e',0.6),('c','d',0.1),('c','e',0.4),('d','e',0.9)]\n",
    "\n",
    "graph2 = edges_to_weighted_graph(edges2)\n",
    "\n",
    "print(triadic_closure(graph2))\n",
    "\n",
    "\n",
    "\"\"\" With NetworkX \"\"\"\n",
    "\n"
   ]
  },
  {
   "cell_type": "markdown",
   "metadata": {},
   "source": [
    "Cambie un peso de los links anteriores para que se deje de cumplir la propiedad y calcule si es cierto. Explique."
   ]
  },
  {
   "cell_type": "code",
   "execution_count": null,
   "metadata": {
    "collapsed": true
   },
   "outputs": [],
   "source": []
  },
  {
   "cell_type": "markdown",
   "metadata": {},
   "source": [
    "Escriba un código que detecte puntes locales y que calcule el span de cada puente local"
   ]
  },
  {
   "cell_type": "code",
   "execution_count": 6,
   "metadata": {
    "collapsed": false
   },
   "outputs": [
    {
     "name": "stdout",
     "output_type": "stream",
     "text": [
      "[(1, 2, {'span': 3}), (1, 5, {'span': 3}), (2, 6, {'span': 3}), (5, 6, {'span': 3})]\n",
      "[('a', 'b', {'span': 4}), ('b', 'h', {'span': 4})]\n"
     ]
    },
    {
     "data": {
      "text/plain": [
       "' With NetworkX '"
      ]
     },
     "execution_count": 6,
     "metadata": {},
     "output_type": "execute_result"
    }
   ],
   "source": [
    "import copy\n",
    "\"\"\" The following code is thought for unweighted graphs \"\"\"\n",
    "\n",
    "edges3 = [(1,2),(1,3),(1,5),(5,6),(2,6),(2,1),(2,4)]\n",
    "edges4 = [('a','b'),('a','c'),('a','d'),('a','e'),('a','f'),\n",
    "         ('b','h'),('c','d'),('c','e'),('c','f'),('d','e'),\n",
    "         ('f','j'),('f','g'),('j','g'),('g','k'),('g','h'),\n",
    "         ('k','h')]\n",
    "\n",
    "\"\"\" This function was taken from Python Software Foundation.\n",
    "    Python Patterns - Implementing Graphs. https://www.python.org/doc/essays/graphs/ \n",
    "    (Visited in march 2017) \"\"\"\n",
    "def find_shortest_path(graph, start, end, path=[]):\n",
    "    path = path + [start]\n",
    "    if start == end:\n",
    "        return path\n",
    "    if not start in graph:\n",
    "        return None\n",
    "    shortest = None\n",
    "    for next in graph[start]:\n",
    "        if next not in path:\n",
    "            newpath = find_shortest_path(graph, next, end, path)\n",
    "            if newpath:\n",
    "                if not shortest or len(newpath) < len(shortest):\n",
    "                    shortest = newpath\n",
    "    return shortest\n",
    "\n",
    "# Returns a tuple containing two values:\n",
    "# Input: an undirected graph G in form of a dict\n",
    "# (True, span) if there is a local bridge (span > 2) between two nodes\n",
    "# (True, None) if there is a bridge between two nodes\n",
    "# (False, None) otherwise\n",
    "\n",
    "def bridge(graph, start, end):\n",
    "    if not end in graph[start]:\n",
    "        return (False, None)\n",
    "    \n",
    "    new_graph = copy.deepcopy(graph)\n",
    "    new_graph[start] = graph[start] - {end}\n",
    "    new_graph[end] = graph[end] - {start}\n",
    "    span_path = find_shortest_path(new_graph, start, end)\n",
    "    \n",
    "    if not span_path:\n",
    "        # Global bridge\n",
    "        return (True, None)\n",
    "    \n",
    "    path_length = len(span_path) - 1\n",
    "    if path_length > 2:\n",
    "        return (True, path_length)\n",
    "    elif path_length == 2:\n",
    "        return (False, path_length)\n",
    "    elif path_length == 1:\n",
    "        raise MultiGraphNotAllowedError('Error: Multigraphs are not allowed')\n",
    "    else:\n",
    "        raise ReflexiveRelationsNotAllowedError('Error: Reflexive relations are not allowed')\n",
    "    \n",
    "\n",
    "graph3 = edges_to_graph(edges3)\n",
    "\n",
    "# Return the places of the graph where there is a bridge and the\n",
    "# span of each bridge as a vector of tuples in the form (start, end, span)\n",
    "\n",
    "def local_bridges(graph):\n",
    "    nodes = list(graph.keys())\n",
    "    result = []\n",
    "    for i in range(0, len(nodes)-1):\n",
    "        node1 = nodes[i]\n",
    "        for j in range(i+1, len(nodes)):\n",
    "            node2 = nodes[j]\n",
    "            brd = bridge(graph, nodes[i], nodes[j])\n",
    "            if brd[0] and brd[1] != None:\n",
    "                result.append((nodes[i],nodes[j],{'span':brd[1]}))\n",
    "    \n",
    "    return result\n",
    "            \n",
    "brds = local_bridges(graph3)\n",
    "print(brds)\n",
    "\n",
    "graph4 = edges_to_graph(edges4)\n",
    "\n",
    "print(local_bridges(graph4))\n",
    "\n",
    "def distance_matrix(graph):\n",
    "    keys = list(graph.keys())\n",
    "    keys.sort()\n",
    "    \n",
    "    d_matrix = np.zeros((len(keys),len(keys)))\n",
    "    \n",
    "    for i in range(0, len(keys)):\n",
    "        for j in range(0, len(keys)):\n",
    "            start = keys[i]\n",
    "            end = keys[j]\n",
    "            path = find_shortest_path(graph, start, end)\n",
    "            d_matrix[i][j] = len(path)-1\n",
    "    \n",
    "    return (d_matrix, keys)\n",
    "\n",
    "\"\"\" With NetworkX \"\"\"\n",
    "\n"
   ]
  },
  {
   "cell_type": "markdown",
   "metadata": {},
   "source": [
    "## Ejercicio Random Networks\n",
    "\n",
    "genere 1000 redes aleatorias N = 12, p = 1/6 y grafique la distribución del número de enlaces"
   ]
  },
  {
   "cell_type": "code",
   "execution_count": 7,
   "metadata": {
    "collapsed": false
   },
   "outputs": [
    {
     "name": "stderr",
     "output_type": "stream",
     "text": [
      "/home/sangeea/anaconda3/lib/python3.6/site-packages/statsmodels/nonparametric/kdetools.py:20: VisibleDeprecationWarning: using a non-integer number instead of an integer will result in an error in the future\n",
      "  y = X[:m/2+1] + np.r_[0,X[m/2+1:],0]*1j\n"
     ]
    },
    {
     "data": {
      "text/plain": [
       "<matplotlib.axes._subplots.AxesSubplot at 0x7ff39a5b9cf8>"
      ]
     },
     "execution_count": 7,
     "metadata": {},
     "output_type": "execute_result"
    },
    {
     "data": {
      "image/png": "[encoded data removed]",
      "text/plain": [
       "<matplotlib.figure.Figure at 0x7ff39a5b9400>"
      ]
     },
     "metadata": {},
     "output_type": "display_data"
    }
   ],
   "source": [
    "import random\n",
    "import seaborn as sns\n",
    "\n",
    "%matplotlib inline\n",
    "\n",
    "N = 12\n",
    "p = float(1)/6\n",
    "\n",
    "\n",
    "def random_network_links(N, p):\n",
    "    edges = []\n",
    "    \n",
    "    for i in range(0, N-1):\n",
    "        for j in range(i+1, N):\n",
    "            rand = random.random()\n",
    "            if rand <= p:\n",
    "                edges.append((i+1,j+1))\n",
    "    \n",
    "    return edges\n",
    "\n",
    "def random_network_links2(N, p):\n",
    "    \n",
    "    edges = []\n",
    "    adj_matrix = np.zeros((N,N), dtype=int)\n",
    "    \n",
    "    for i in range(0, N-1):\n",
    "        for j in range(i+1, N):\n",
    "            rand = random.random()\n",
    "            if rand <= p:\n",
    "                edges.append((i+1,j+1))\n",
    "                adj_matrix[i][j] = 1\n",
    "                adj_matrix[j][i] = 1\n",
    "    \n",
    "    for i in range(0, N):\n",
    "        if sum(adj_matrix[i]) == 0:\n",
    "            edges.append((i+1,))\n",
    "            \n",
    "    return edges\n",
    "\n",
    "# Returns a number of random networks in the form of a list of edges\n",
    "def random_networks(number_of_networks, N, p):\n",
    "    \n",
    "    networks = []\n",
    "    for i in range(0, number_of_networks):\n",
    "        networks.append(random_network_links2(N,p))\n",
    "        \n",
    "    return networks\n",
    "\n",
    "def len_edges(edges_graph):\n",
    "    result = 0\n",
    "    for edge in edges_graph:\n",
    "        if len(edge) == 2:\n",
    "            result += 1\n",
    "    return result\n",
    "\n",
    "networks1 = random_networks(1000,N,p)\n",
    "len_edges1 = [len_edges(i) for i in networks1]\n",
    "ax = sns.distplot(len_edges1)\n",
    "    \n",
    "\"\"\" With NetworkX \"\"\"\n",
    "\n",
    "def random_networks_nx(number_of_networks, N, p):\n",
    "    \n",
    "    networks = []\n",
    "    for i in range(0, number_of_networks):\n",
    "        G_ran = nx.gnp_random_graph(N,p)\n",
    "        networks.append(G_ran)\n",
    "        \n",
    "    return networks\n",
    "\n",
    "networks2 = random_networks_nx(1000,N,p)\n",
    "len_edges2 = [len(G.edges()) for G in networks2]\n",
    "\n",
    "sns.distplot(len_edges2)\n",
    "        "
   ]
  },
  {
   "cell_type": "markdown",
   "metadata": {},
   "source": [
    "Grafique la distribución del promedio de grados en cada una de las redes generadas del ejercicio anterior"
   ]
  },
  {
   "cell_type": "code",
   "execution_count": 8,
   "metadata": {
    "collapsed": false
   },
   "outputs": [
    {
     "name": "stderr",
     "output_type": "stream",
     "text": [
      "/home/sangeea/anaconda3/lib/python3.6/site-packages/statsmodels/nonparametric/kdetools.py:20: VisibleDeprecationWarning: using a non-integer number instead of an integer will result in an error in the future\n",
      "  y = X[:m/2+1] + np.r_[0,X[m/2+1:],0]*1j\n"
     ]
    },
    {
     "data": {
      "text/plain": [
       "<matplotlib.axes._subplots.AxesSubplot at 0x7ff3cc0c1cc0>"
      ]
     },
     "execution_count": 8,
     "metadata": {},
     "output_type": "execute_result"
    },
    {
     "data": {
      "image/png": "[encoded data removed]",
      "text/plain": [
       "<matplotlib.figure.Figure at 0x7ff3cc0c0da0>"
      ]
     },
     "metadata": {},
     "output_type": "display_data"
    }
   ],
   "source": [
    "% matplotlib inline\n",
    "# Transform the list of lists of edges to a list of dicts, this is done to\n",
    "# calculate the average degree distribution in the next methods\n",
    "\n",
    "networks1_graph = [edges_to_graph(edges) for edges in networks1]\n",
    "\n",
    "def degrees(graph):\n",
    "    degrees = {}\n",
    "    for node, links in graph.items():\n",
    "        degrees[node] = len(links)\n",
    "    return degrees\n",
    "\n",
    "def avg_degree(graph):\n",
    "    dgrs = degrees(graph)\n",
    "    return float(sum(dgrs.values()))/len(dgrs)\n",
    "\n",
    "avg_degrees1 = [avg_degree(network) for network in networks1_graph]\n",
    "\n",
    "ax = sns.distplot(avg_degrees1)\n",
    "\n",
    "\n",
    "\"\"\" With NetworkX \"\"\"\n",
    "def avg_degree_nx(graph):\n",
    "    graph_degrees = graph.degree()\n",
    "    return float(sum(graph_degrees.values()))/len(graph_degrees)\n",
    "\n",
    "avg_degrees2 = [avg_degree_nx(network) for network in networks2]\n",
    "\n",
    "sns.distplot(avg_degrees2)"
   ]
  },
  {
   "cell_type": "markdown",
   "metadata": {},
   "source": [
    "Haga lo mismo para redes con 100 nodos"
   ]
  },
  {
   "cell_type": "code",
   "execution_count": 9,
   "metadata": {
    "collapsed": false,
    "scrolled": true
   },
   "outputs": [
    {
     "name": "stderr",
     "output_type": "stream",
     "text": [
      "/home/sangeea/anaconda3/lib/python3.6/site-packages/statsmodels/nonparametric/kdetools.py:20: VisibleDeprecationWarning: using a non-integer number instead of an integer will result in an error in the future\n",
      "  y = X[:m/2+1] + np.r_[0,X[m/2+1:],0]*1j\n"
     ]
    },
    {
     "data": {
      "text/plain": [
       "<matplotlib.axes._subplots.AxesSubplot at 0x7ff38509d860>"
      ]
     },
     "execution_count": 9,
     "metadata": {},
     "output_type": "execute_result"
    },
    {
     "data": {
      "image/png": "[encoded data removed]",
      "text/plain": [
       "<matplotlib.figure.Figure at 0x7ff385eb7ef0>"
      ]
     },
     "metadata": {},
     "output_type": "display_data"
    }
   ],
   "source": [
    "% matplotlib inline\n",
    "\n",
    "networks100_1 = random_networks(1000, 100, p)\n",
    "networks100_2 = random_networks_nx(1000,100,p)\n",
    "\n",
    "len_edges100_1 = [len_edges(i) for i in networks100_1]\n",
    "\n",
    "ax = sns.distplot(len_edges100_1)\n",
    "len_edges100_2 = [len(G.edges()) for G in networks100_2]\n",
    "\n",
    "sns.distplot(len_edges100_2)"
   ]
  },
  {
   "cell_type": "code",
   "execution_count": 10,
   "metadata": {
    "collapsed": false
   },
   "outputs": [
    {
     "name": "stderr",
     "output_type": "stream",
     "text": [
      "/home/sangeea/anaconda3/lib/python3.6/site-packages/statsmodels/nonparametric/kdetools.py:20: VisibleDeprecationWarning: using a non-integer number instead of an integer will result in an error in the future\n",
      "  y = X[:m/2+1] + np.r_[0,X[m/2+1:],0]*1j\n"
     ]
    },
    {
     "data": {
      "text/plain": [
       "<matplotlib.axes._subplots.AxesSubplot at 0x7ff3cc0c65f8>"
      ]
     },
     "execution_count": 10,
     "metadata": {},
     "output_type": "execute_result"
    },
    {
     "data": {
      "image/png": "[encoded data removed]",
      "text/plain": [
       "<matplotlib.figure.Figure at 0x7ff397290240>"
      ]
     },
     "metadata": {},
     "output_type": "display_data"
    }
   ],
   "source": [
    "networks100_1_graph = [edges_to_graph(edges) for edges in networks100_1]\n",
    "avg_degrees100_1 = [avg_degree(network) for network in networks100_1_graph]\n",
    "\n",
    "avg_degrees100_2 = [avg_degree_nx(network) for network in networks100_2]\n",
    "\n",
    "ax = sns.distplot(avg_degrees100_1)\n",
    "sns.distplot(avg_degrees100_2)\n"
   ]
  },
  {
   "cell_type": "markdown",
   "metadata": {},
   "source": [
    "## Ejercicio Random Networks - Componente Gigante\n",
    "\n",
    "Grafique como crece el tamaño del componente más grande de una red aleatoria con N=100 nodos y diferentes valores de ___p___\n",
    "\n",
    "(_grafique con promedio de grado entre 0 y 4 cada 0.05_)"
   ]
  },
  {
   "cell_type": "code",
   "execution_count": 11,
   "metadata": {
    "collapsed": false
   },
   "outputs": [
    {
     "data": {
      "text/html": [
       "<script>requirejs.config({paths: { 'plotly': ['https://cdn.plot.ly/plotly-latest.min']},});if(!window.Plotly) {{require(['plotly'],function(plotly) {window.Plotly=plotly;});}}</script>"
      ],
      "text/plain": [
       "<IPython.core.display.HTML object>"
      ]
     },
     "metadata": {},
     "output_type": "display_data"
    },
    {
     "data": {
      "image/png": "[encoded data removed]",
      "text/plain": [
       "<matplotlib.figure.Figure at 0x7ff380772080>"
      ]
     },
     "metadata": {},
     "output_type": "display_data"
    }
   ],
   "source": [
    "\"\"\" The following code snippet was taken from Mann, Edd. Depth-First Search and Breadth-First Search in Python.\n",
    "    http://eddmann.com/posts/depth-first-search-and-breadth-first-search-in-python/ \"\"\"\n",
    "\n",
    "graph5 = copy.deepcopy(graph4)\n",
    "\n",
    "graph5['m'] = {'n'}\n",
    "graph5['n'] = {'m'}\n",
    "\n",
    "def bfs(graph, start):\n",
    "    visited, queue = set(), collections.deque([start])\n",
    "    while queue:\n",
    "        vertex = queue.popleft()\n",
    "        if vertex not in visited:\n",
    "            visited.add(vertex)\n",
    "            queue.extend(graph[vertex] - visited)\n",
    "    return visited\n",
    "\n",
    "# return a list of lists of nodes of 'graph' each one being the nodes that\n",
    "# define a specific connected component of of 'graph'\n",
    "\n",
    "def connected_components(graph):\n",
    "    components = []\n",
    "    nodes = set(graph.keys())\n",
    "    while len(nodes):\n",
    "        root = next(iter(nodes))\n",
    "        visited = bfs(graph, root)\n",
    "        components.append(visited)\n",
    "        nodes = nodes - visited\n",
    "        \n",
    "    return components\n",
    "\n",
    "# Returns a set containing the nodes of a graph's biggest component\n",
    "def biggest_component_nodes(graph):\n",
    "    components = connected_components(graph)\n",
    "    lengths = [len(component) for component in components]\n",
    "    \n",
    "    max_component = 0\n",
    "    max_index = -1\n",
    "    for i in range(0, len(lengths)):\n",
    "        if lengths[i] > max_component:\n",
    "            max_component = lengths[i]\n",
    "            max_index = i\n",
    "    \n",
    "    return components[max_index]\n",
    "\n",
    "# Returns a subgraph containing the biggest connected component of 'graph'\n",
    "def biggest_component(graph):\n",
    "    nodes = biggest_component_nodes(graph)\n",
    "    nodes = list(nodes)\n",
    "    subgraph = {k:graph[k] for k in nodes if k in graph}\n",
    "    \n",
    "    return subgraph\n",
    "\n",
    "\n",
    "# Plot results\n",
    "import matplotlib.pyplot as plt\n",
    "import plotly.plotly as py\n",
    "from plotly.graph_objs import Scatter, Figure, Layout\n",
    "from plotly.offline import download_plotlyjs, init_notebook_mode, plot, iplot\n",
    "\n",
    "init_notebook_mode(connected=True)\n",
    "\n",
    "def plot_giant_component_growth(N):\n",
    "    p_vector = []\n",
    "    avg_degree_vector = []\n",
    "    \n",
    "    p = 0.0\n",
    "    while p <= 1:\n",
    "        p_vector.append(p)\n",
    "        network = random_network_links2(N,p)\n",
    "        network = edges_to_graph(network)\n",
    "        \n",
    "        component = biggest_component(network)\n",
    "        \n",
    "        avg_degree_vector.append(avg_degree(component))\n",
    "        p += 0.05\n",
    "        \n",
    "    plt.plot(p_vector, avg_degree_vector, \"o\")\n",
    "\n",
    "plot_giant_component_growth(100)\n"
   ]
  },
  {
   "cell_type": "markdown",
   "metadata": {},
   "source": [
    "Grafique cuál es el porcentaje de nodos del componente más grande para diferentes valores de ___p___"
   ]
  },
  {
   "cell_type": "code",
   "execution_count": 14,
   "metadata": {
    "collapsed": false
   },
   "outputs": [
    {
     "data": {
      "image/png": "[encoded data removed]",
      "text/plain": [
       "<matplotlib.figure.Figure at 0x7ff3808c45c0>"
      ]
     },
     "metadata": {},
     "output_type": "display_data"
    }
   ],
   "source": [
    "def plot_giant_component_growth_nodes(N):\n",
    "    p_vector = []\n",
    "    node_percentages = []\n",
    "    \n",
    "    p = 0.0\n",
    "    while p <= 1:\n",
    "        p_vector.append(p)\n",
    "        network = random_network_links2(N,p)\n",
    "        network = edges_to_graph(network)\n",
    "        \n",
    "        component = biggest_component(network)\n",
    "        component_percentage = float(len(component))/len(network)\n",
    "        \n",
    "        node_percentages.append(component_percentage)\n",
    "        p += 0.001\n",
    "        \n",
    "    plt.plot(p_vector, node_percentages, \"o\")\n",
    "    \n",
    "plot_giant_component_growth_nodes(100)"
   ]
  },
  {
   "cell_type": "markdown",
   "metadata": {},
   "source": [
    "Identifique para que valores de ___p___ el componente mas grande esta totalmente interconectado"
   ]
  },
  {
   "cell_type": "code",
   "execution_count": 21,
   "metadata": {
    "collapsed": false
   },
   "outputs": [
    {
     "data": {
      "text/plain": [
       "0.04200000000000003"
      ]
     },
     "execution_count": 21,
     "metadata": {},
     "output_type": "execute_result"
    }
   ],
   "source": [
    "def identify_p_value_for_total_connection(N):\n",
    "    p = 0.0\n",
    "    while p <= 1:\n",
    "        network = random_network_links2(N,p)\n",
    "        network = edges_to_graph(network)\n",
    "        \n",
    "        component = biggest_component(network)\n",
    "        component_percentage = float(len(component))/len(network)\n",
    "        \n",
    "        if component_percentage == 1:\n",
    "            return p\n",
    "        p += 0.001\n",
    "        \n",
    "    return 1 # Default value for a totally connected component\n",
    "    \n",
    "identify_p_value_for_total_connection(100)"
   ]
  },
  {
   "cell_type": "code",
   "execution_count": null,
   "metadata": {
    "collapsed": true
   },
   "outputs": [],
   "source": []
  },
  {
   "cell_type": "code",
   "execution_count": null,
   "metadata": {
    "collapsed": true
   },
   "outputs": [],
   "source": []
  }
 ],
 "metadata": {
  "anaconda-cloud": {},
  "kernelspec": {
   "display_name": "Python 3",
   "language": "python",
   "name": "python3"
  },
  "language_info": {
   "codemirror_mode": {
    "name": "ipython",
    "version": 3
   },
   "file_extension": ".py",
   "mimetype": "text/x-python",
   "name": "python",
   "nbconvert_exporter": "python",
   "pygments_lexer": "ipython3",
   "version": "3.6.0"
  }
 },
 "nbformat": 4,
 "nbformat_minor": 1
}
