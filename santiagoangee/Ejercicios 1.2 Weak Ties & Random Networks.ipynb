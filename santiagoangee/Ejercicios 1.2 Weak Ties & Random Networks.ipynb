{
 "cells": [
  {
   "cell_type": "markdown",
   "metadata": {},
   "source": [
    "# Ejercicios Weak Ties & Random Networks\n",
    "\n",
    "Ejercicios básicos de redes"
   ]
  },
  {
   "cell_type": "markdown",
   "metadata": {},
   "source": [
    "## Ejercicio Clustering Coeficient\n",
    "\n",
    "iCalcule el coeficiente de clustering para cada nodo y en la red (sin dirección)"
   ]
  },
  {
   "cell_type": "code",
   "execution_count": 1,
   "metadata": {
    "collapsed": false
   },
   "outputs": [],
   "source": [
    "edges = set([(1,2), (2,3), (2,4), (2,5), (4,5), (4,6), (5,6), (4,7)])"
   ]
  },
  {
   "cell_type": "code",
   "execution_count": 5,
   "metadata": {
    "collapsed": false
   },
   "outputs": [
    {
     "name": "stdout",
     "output_type": "stream",
     "text": [
      "{1: 0.0, 2: 0.16666666666666666, 4: 0.3333333333333333, 7: 0.0, 6: 1.0, 5: 0.6666666666666666, 3: 0.0}\n",
      "0.3095238095238095\n",
      "{1: 0.0, 2: 0.16666666666666666, 4: 0.3333333333333333, 7: 0.0, 6: 1.0, 5: 0.6666666666666666, 3: 0.0}\n",
      "0.3095238095238095\n"
     ]
    }
   ],
   "source": [
    "from IPython.core.debugger import Tracer\n",
    "import collections\n",
    "import numpy as np\n",
    "\n",
    "\"\"\" Without NetworkX \"\"\"\n",
    "\n",
    "edges = set([(1,2), (2,3), (2,4), (2,5), (4,5), (4,6), (5,6), (4,7)])\n",
    "\n",
    "def edges_to_graph(edges):\n",
    "    edges = list(edges)\n",
    "    graph = {}\n",
    "    \n",
    "    for i in range(0,len(edges)):\n",
    "        \n",
    "        if graph.get(edges[i][0], None):\n",
    "            graph[edges[i][0]].add(edges[i][1])\n",
    "        else:\n",
    "            if len(edges[i]) == 2:\n",
    "                graph[edges[i][0]] = set([edges[i][1]])\n",
    "            else:\n",
    "                graph[edges[i][0]] = set([])\n",
    "        \n",
    "        if len(edges[i]) == 2:\n",
    "            if graph.get(edges[i][1], None):\n",
    "                graph[edges[i][1]].add(edges[i][0])\n",
    "            else:\n",
    "                graph[edges[i][1]] = set([edges[i][0]])\n",
    "\n",
    "    return graph\n",
    "\n",
    "G = edges_to_graph(edges)\n",
    "\n",
    "\n",
    "def graph_to_tuples(graph):\n",
    "    \n",
    "    output_graph = []\n",
    "    for node, neighbours in graph.items():\n",
    "        output_graph.append((node,list(neighbours)))\n",
    "    return output_graph\n",
    "\n",
    "\n",
    "def element_neighbours(tuple_graph, element):\n",
    "    \n",
    "    \n",
    "    for index, item in enumerate(tuple_graph):\n",
    "        if element == item[0]:\n",
    "            return item[1]\n",
    "    \n",
    "    raise IndexNotFoundError('Error: the requested element was not found')\n",
    "\n",
    "\n",
    "def clustering_coefficient(graph):\n",
    "    \n",
    "    tuple_graph = graph_to_tuples(graph)\n",
    "    L = np.zeros((len(tuple_graph),), dtype=np.int)\n",
    "\n",
    "    for i in range(0, len(tuple_graph)):\n",
    "        element_at_i = tuple_graph[i][0]\n",
    "        for j in range(0, len(tuple_graph[i][1])-1):\n",
    "            current = tuple_graph[i][1][j]\n",
    "            for k in range(j+1, len(tuple_graph[i][1])):\n",
    "                comparison = tuple_graph[i][1][k]\n",
    "                # Search if there is a link\n",
    "                if comparison in element_neighbours(tuple_graph, current):\n",
    "                    L[i] += 1\n",
    "\n",
    "    C = {}\n",
    "    \n",
    "    for i in range(len(tuple_graph)):\n",
    "        k = len(tuple_graph[i][1])\n",
    "        if k >= 2:\n",
    "            C[tuple_graph[i][0]] = float(2*L[i])/(k*(k-1))\n",
    "        else:\n",
    "            C[tuple_graph[i][0]] = 0.0\n",
    "            \n",
    "    return C\n",
    "\n",
    "\n",
    "def average_clustering(graph):\n",
    "    C = clustering_coefficient(graph)\n",
    "    return float(sum(C.values()))/len(C)\n",
    "\n",
    "print(clustering_coefficient(G))\n",
    "print(average_clustering(G))\n",
    "\n",
    "import networkx as nx\n",
    "\n",
    "G = nx.Graph()\n",
    "G.add_edges_from(edges)\n",
    "\n",
    "print(nx.clustering(G))\n",
    "print(nx.average_clustering(G))\n",
    "            \n",
    "            \n",
    "            \n",
    "    "
   ]
  },
  {
   "cell_type": "markdown",
   "metadata": {},
   "source": [
    "## Ejercicio Weigthed Netwroks\n",
    "\n",
    "Cree una red no direccionada con los siguientes pesos."
   ]
  },
  {
   "cell_type": "markdown",
   "metadata": {},
   "source": [
    "(a, b) = 0.3\n",
    "(a, c) = 1.0\n",
    "(a, d) = 0.9\n",
    "(a, e) = 1.0\n",
    "(a, f) = 0.4\n",
    "(c, f) = 0.2\n",
    "(b, h) = 0.2\n",
    "(f, j) = 0.8\n",
    "(f, g) = 0.9\n",
    "(j, g) = 0.6\n",
    "(g, k) = 0.4\n",
    "(g, h) = 0.2\n",
    "(k, h) = 1.0"
   ]
  },
  {
   "cell_type": "code",
   "execution_count": 8,
   "metadata": {
    "collapsed": false
   },
   "outputs": [
    {
     "name": "stdout",
     "output_type": "stream",
     "text": [
      "{'a': {('b', 0.3), ('d', 0.9), ('c', 1.0), ('e', 1.0), ('f', 0.4)}, 'b': {('a', 0.3), ('h', 0.2)}, 'c': {('a', 1.0), ('f', 0.2)}, 'd': {('a', 0.9)}, 'e': {('a', 1.0)}, 'f': {('g', 0.9), ('a', 0.4), ('j', 0.8), ('c', 0.2)}, 'h': {('g', 0.2), ('b', 0.2), ('k', 1.0)}, 'j': {('g', 0.6), ('f', 0.8)}, 'g': {('h', 0.2), ('k', 0.4), ('j', 0.6), ('f', 0.9)}, 'k': {('g', 0.4), ('h', 1.0)}}\n",
      "\n"
     ]
    }
   ],
   "source": [
    "# To create a weighted, undirected graph, the edges must be provided in the form: (node1, node2, weight)\n",
    "\n",
    "edges = [('a', 'b', 0.3), ('a', 'c', 1.0), ('a', 'd', 0.9), ('a', 'e', 1.0), ('a', 'f', 0.4),\n",
    "             ('c', 'f', 0.2), ('b', 'h', 0.2), ('f', 'j', 0.8), ('f', 'g', 0.9), ('j', 'g', 0.6),\n",
    "             ('g', 'k', 0.4), ('g', 'h', 0.2), ('k', 'h', 1.0)]\n",
    "\n",
    "def edges_to_weighted_graph(edges):\n",
    "    edges = list(edges)\n",
    "    graph = {}\n",
    "    \n",
    "    for i in range(0,len(edges)):\n",
    "        \n",
    "        if graph.get(edges[i][0], None):\n",
    "            graph[edges[i][0]].add((edges[i][1], edges[i][2]))\n",
    "        else:\n",
    "            if len(edges[i]) == 3:\n",
    "                graph[edges[i][0]] = set([(edges[i][1],edges[i][2])])\n",
    "            else:\n",
    "                graph[edges[i][0]] = set([])\n",
    "        \n",
    "        if len(edges[i]) == 3:\n",
    "            if graph.get(edges[i][1], None):\n",
    "                graph[edges[i][1]].add((edges[i][0],edges[i][2]))\n",
    "            else:\n",
    "                graph[edges[i][1]] = set([(edges[i][0],edges[i][2])])\n",
    "\n",
    "    return graph\n",
    "\n",
    "graph = edges_to_weighted_graph(edges)\n",
    "\n",
    "print (graph)\n",
    "\n",
    "\"\"\" With NetworkX \"\"\"\n",
    "\n",
    "FG = nx.Graph()\n",
    "\n",
    "FG.add_weighted_edges_from(edges)\n",
    "\n",
    "print (str(FG))"
   ]
  },
  {
   "cell_type": "markdown",
   "metadata": {},
   "source": [
    "Imprima la matriz de adyasencia"
   ]
  },
  {
   "cell_type": "code",
   "execution_count": 11,
   "metadata": {
    "collapsed": false
   },
   "outputs": [
    {
     "name": "stdout",
     "output_type": "stream",
     "text": [
      "(array([[ 0. ,  0.3,  1. ,  0.9,  1. ,  0.4,  0. ,  0. ,  0. ,  0. ],\n",
      "       [ 0.3,  0. ,  0. ,  0. ,  0. ,  0. ,  0. ,  0.2,  0. ,  0. ],\n",
      "       [ 1. ,  0. ,  0. ,  0. ,  0. ,  0.2,  0. ,  0. ,  0. ,  0. ],\n",
      "       [ 0.9,  0. ,  0. ,  0. ,  0. ,  0. ,  0. ,  0. ,  0. ,  0. ],\n",
      "       [ 1. ,  0. ,  0. ,  0. ,  0. ,  0. ,  0. ,  0. ,  0. ,  0. ],\n",
      "       [ 0.4,  0. ,  0.2,  0. ,  0. ,  0. ,  0.9,  0. ,  0.8,  0. ],\n",
      "       [ 0. ,  0. ,  0. ,  0. ,  0. ,  0.9,  0. ,  0.2,  0.6,  0.4],\n",
      "       [ 0. ,  0.2,  0. ,  0. ,  0. ,  0. ,  0.2,  0. ,  0. ,  1. ],\n",
      "       [ 0. ,  0. ,  0. ,  0. ,  0. ,  0.8,  0.6,  0. ,  0. ,  0. ],\n",
      "       [ 0. ,  0. ,  0. ,  0. ,  0. ,  0. ,  0.4,  1. ,  0. ,  0. ]]), ['a', 'b', 'c', 'd', 'e', 'f', 'g', 'h', 'j', 'k'])\n",
      "  (0, 1)\t0.3\n",
      "  (0, 2)\t1.0\n",
      "  (0, 3)\t0.9\n",
      "  (0, 4)\t1.0\n",
      "  (0, 5)\t0.4\n",
      "  (1, 0)\t0.3\n",
      "  (1, 6)\t0.2\n",
      "  (2, 0)\t1.0\n",
      "  (2, 5)\t0.2\n",
      "  (3, 0)\t0.9\n",
      "  (4, 0)\t1.0\n",
      "  (5, 0)\t0.4\n",
      "  (5, 2)\t0.2\n",
      "  (5, 7)\t0.8\n",
      "  (5, 8)\t0.9\n",
      "  (6, 1)\t0.2\n",
      "  (6, 8)\t0.2\n",
      "  (6, 9)\t1.0\n",
      "  (7, 5)\t0.8\n",
      "  (7, 8)\t0.6\n",
      "  (8, 5)\t0.9\n",
      "  (8, 6)\t0.2\n",
      "  (8, 7)\t0.6\n",
      "  (8, 9)\t0.4\n",
      "  (9, 6)\t1.0\n",
      "  (9, 8)\t0.4\n"
     ]
    }
   ],
   "source": [
    "def adjacency_matrix(graph):\n",
    "    keys = list(graph.keys())\n",
    "    keys.sort()\n",
    "    \n",
    "    adj_matrix = np.zeros((len(keys),len(keys)))\n",
    "    \n",
    "    for node, edges in graph.items():\n",
    "        for edge in edges:\n",
    "            adj_matrix[keys.index(node)][keys.index(edge[0])] = edge[1]\n",
    "    \n",
    "    return (adj_matrix, keys)\n",
    "\n",
    "print (adjacency_matrix(graph))\n",
    "\n",
    "\"\"\" With NetworkX \"\"\"\n",
    "A = nx.adjacency_matrix(FG)\n",
    "\n",
    "print (A)"
   ]
  },
  {
   "cell_type": "markdown",
   "metadata": {},
   "source": [
    "## Ejercicio Weak & Strong ties"
   ]
  },
  {
   "cell_type": "markdown",
   "metadata": {},
   "source": [
    "Con la misma red anterior asuma que un link debil es inferior a 0.5, cree un código que calcule si se cumple la propiedad \"strong triadic closure\""
   ]
  },
  {
   "cell_type": "code",
   "execution_count": 20,
   "metadata": {
    "collapsed": false
   },
   "outputs": [
    {
     "name": "stdout",
     "output_type": "stream",
     "text": [
      "False\n",
      "True\n"
     ]
    }
   ],
   "source": [
    "def weighted_element_neighbours(tuple_graph, element):\n",
    "    \n",
    "    for index, item in enumerate(tuple_graph):\n",
    "        if element[0] == item[0]:\n",
    "            neighbours = [i[0] for i in item[1]]\n",
    "            return neighbours\n",
    "    \n",
    "    raise IndexNotFoundError('Error: the requested element was not found')\n",
    "    \n",
    "\n",
    "def weighted_graph_to_tuples(graph):\n",
    "    \n",
    "    output_graph = []\n",
    "    for node, neighbours in graph.items():\n",
    "        output_graph.append((node,list(neighbours)))\n",
    "    return output_graph\n",
    "\n",
    "\n",
    "def triadic_closure(graph):\n",
    "    \n",
    "    tuple_graph = weighted_graph_to_tuples(graph)\n",
    "    L = np.zeros((len(tuple_graph),), dtype=np.int)\n",
    "\n",
    "    for i in range(0, len(tuple_graph)):\n",
    "        element_at_i = tuple_graph[i][0]\n",
    "        for j in range(0, len(tuple_graph[i][1])-1):\n",
    "            current = tuple_graph[i][1][j]\n",
    "            weight_current = current[1]\n",
    "            if weight_current >= 0.5:\n",
    "                for k in range(j+1, len(tuple_graph[i][1])):\n",
    "                    comparison = tuple_graph[i][1][k]\n",
    "                    weight_comparison = comparison[1]\n",
    "                    if weight_comparison >= 0.5:\n",
    "                    # Search if there is a link\n",
    "                        if not comparison[0] in weighted_element_neighbours(tuple_graph, current):\n",
    "                            return False\n",
    "\n",
    "    return True\n",
    "\n",
    "print(triadic_closure(graph))\n",
    "\n",
    "edges2 = [('a','b',0.1),('a','c',0.5),('a','d',0.9),('a','e',0.6),('c','d',0.1),('c','e',0.4),('d','e',0.9)]\n",
    "\n",
    "graph2 = edges_to_weighted_graph(edges2)\n",
    "\n",
    "print(triadic_closure(graph2))\n",
    "\n",
    "\n",
    "\"\"\" With NetworkX \"\"\"\n",
    "\n"
   ]
  },
  {
   "cell_type": "markdown",
   "metadata": {},
   "source": [
    "Cambie un peso de los links anteriores para que se deje de cumplir la propiedad y calcule si es cierto. Explique."
   ]
  },
  {
   "cell_type": "code",
   "execution_count": null,
   "metadata": {
    "collapsed": true
   },
   "outputs": [],
   "source": []
  },
  {
   "cell_type": "markdown",
   "metadata": {},
   "source": [
    "Escriba un código que detecte puntes locales y que calcule el span de cada puente local"
   ]
  },
  {
   "cell_type": "code",
   "execution_count": null,
   "metadata": {
    "collapsed": true
   },
   "outputs": [],
   "source": []
  },
  {
   "cell_type": "markdown",
   "metadata": {},
   "source": [
    "## Ejercicio Random Networks\n",
    "\n",
    "genere 1000 redes aleatorias N = 12, p = 1/6 y grafique la distribución del número de enlaces"
   ]
  },
  {
   "cell_type": "code",
   "execution_count": null,
   "metadata": {
    "collapsed": true
   },
   "outputs": [],
   "source": []
  },
  {
   "cell_type": "markdown",
   "metadata": {},
   "source": [
    "Grafique la distribución del promedio de grados en cada una de las redes generadas del ejercicio anterior"
   ]
  },
  {
   "cell_type": "code",
   "execution_count": null,
   "metadata": {
    "collapsed": true
   },
   "outputs": [],
   "source": []
  },
  {
   "cell_type": "markdown",
   "metadata": {},
   "source": [
    "Haga lo mismo para redes con 100 nodos"
   ]
  },
  {
   "cell_type": "code",
   "execution_count": null,
   "metadata": {
    "collapsed": true
   },
   "outputs": [],
   "source": []
  },
  {
   "cell_type": "code",
   "execution_count": null,
   "metadata": {
    "collapsed": true
   },
   "outputs": [],
   "source": []
  },
  {
   "cell_type": "markdown",
   "metadata": {},
   "source": [
    "## Ejercicio Random Networks - Componente Gigante\n",
    "\n",
    "Grafique como crece el tamaño del componente más grande de una red aleatoria con N=100 nodos y diferentes valores de ___p___\n",
    "\n",
    "(_grafique con promedio de grado entre 0 y 4 cada 0.05_)"
   ]
  },
  {
   "cell_type": "code",
   "execution_count": null,
   "metadata": {
    "collapsed": true
   },
   "outputs": [],
   "source": []
  },
  {
   "cell_type": "markdown",
   "metadata": {},
   "source": [
    "Grafique cuál es el porcentaje de nodos del componente más grande para diferentes valores de ___p___"
   ]
  },
  {
   "cell_type": "code",
   "execution_count": null,
   "metadata": {
    "collapsed": true
   },
   "outputs": [],
   "source": []
  },
  {
   "cell_type": "markdown",
   "metadata": {},
   "source": [
    "Identifique para que valores de ___p___ el componente mas grande esta totalmente interconectado"
   ]
  },
  {
   "cell_type": "code",
   "execution_count": null,
   "metadata": {
    "collapsed": true
   },
   "outputs": [],
   "source": []
  }
 ],
 "metadata": {
  "anaconda-cloud": {},
  "kernelspec": {
   "display_name": "Python 3",
   "language": "python",
   "name": "python3"
  },
  "language_info": {
   "codemirror_mode": {
    "name": "ipython",
    "version": 3
   },
   "file_extension": ".py",
   "mimetype": "text/x-python",
   "name": "python",
   "nbconvert_exporter": "python",
   "pygments_lexer": "ipython3",
   "version": "3.6.0"
  }
 },
 "nbformat": 4,
 "nbformat_minor": 1
}
