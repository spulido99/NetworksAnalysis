{
 "cells": [
  {
   "cell_type": "markdown",
   "metadata": {
    "collapsed": true,
    "deletable": true,
    "editable": true
   },
   "source": [
    "# PROYECTO FINAL NETWORK ANALYSIS (001) \n",
    "\n",
    "**Alumno:** Bilver Adrian Astorquiza Bustos - U.S.A Labor Market Network\n",
    "\n",
    "**Profesor:** Sergio Pulido Tamayo\n",
    "\n",
    "**Fecha:** 28/05/2017"
   ]
  },
  {
   "cell_type": "markdown",
   "metadata": {},
   "source": [
    "## INTRODUCCIÓN\n",
    "\n",
    "Este proyecto final se propone replicar el ejercicio realizado por [Mike Silva](https://github.com/mikeasilva/us-labor-market-network), quien analiza el Mercado de Trabajo de los Estados Unidos a partir de la identificación del flujo de trabajadores desde su lugar de residencia (RESIDENCE) hacia su destino de trabajo (WORKPLACE) por medio de la ***Encuesta de la Comunicad American (ACS)*** durante el periodo 2006 a 2010. Esta encuesta es tomada del Census Transportation Planning Products (CTTPS) http://ctpp.transportation.org/Pages/5-Year-Data.aspx la cual permite un nivel de desagregación por Estados-Condado. Sin embargo, el proyecto propuesto para el curso replica **únicamente** dicho flujo hasta el nivel Estados, justificado en la medida que, la solicitud para obtener la base de datos por Estados-Condados está en lista de espera 12 con el número de identificación 6661. Por tal razón, una vez disponga de la información podré replicar con exactitud los hallazgos del autor, lo cual hace que sea interesante el presente analisis pues el aprendizaje derivado del curso permite alcanzar resultados interesantes. En este sentido, el presente proyecto se desarrolla de la siguiente forma:\n",
    "\n",
    " - **Fase I:** Se inicia con la descarga de la base de datos y procesamiento de la información en Python; esto con el fin de construir, de la manera más adecuada, los nodos y los edges del ejercicio. Es oportuno precisar que los datos corresponden a los agentes que tienen 16 años o más, donde el peso del vinculo (edge) estará determinado por la cantidad de trabajadores, lo que se denomina como **\"Weight\"**. Adicionalmente, el procedimiento contempla un proceso de depuración de los datos y una vez se efectua, es exportado como archivo *\"graphml\"*.\n",
    " \n",
    " \n",
    " - **Fase II:** En esta etapa se procede a importar la nueva base de datos al programa Gephi con el fin de emprender la identificación de los **\"Communities\"** por medio de la métrica **\"Modularity Class\"** , quienes representan el conjunto de Estados que demandan en mayor proporción trabajadores en los Estados Unidos. Posteriormente, se da paso a la identificación de los nodos (Estados) más importantes por cuanto la población que trabaja en ellos es más alta en comparación con los otros nodos; logrando esto a partir de la métrica ***Degree Centrality***.\n",
    " \n",
    "  \n",
    " - **Conclusiones:** Se presenta de manera sucinta los principales hallazgos del presente ejercicio de replica, el cual al seguir los procesos descritos por el autor citado previamente, revisten de cierto interés académico. "
   ]
  },
  {
   "cell_type": "markdown",
   "metadata": {
    "deletable": true,
    "editable": true
   },
   "source": [
    "### Fase I: Procesamiento de la información"
   ]
  },
  {
   "cell_type": "markdown",
   "metadata": {},
   "source": [
    "Los datos son extraidos en su versión *\"pura\"* de la página de CTTP, los cuales contiene el número de trabajadores de acuerdo al flujo de los mismos entre su residencia y lugar de trabajo; una variable llamada **\"Ouput\"**, la cual recópila la cantidad de trabajadores estimada y con un margen de error. Sin embargo, el autor considera apropiado realizar una serie intervenciones a los datos con el fin de diseñar la red, los cuales los define a partir de los dos indentificadores que se encuentran en la variable Output. Así los procedimientos seguidos son: \n",
    "\n",
    "- Eliminar el dato si el nodo se conecta a sí mismo\n",
    "- Definir un umbral que permita establecer el peso de la red, recordando que este será el número de trabajadores pero con la particularidad que es de más de 100 trabajadores.\n",
    "- Eliminar el dato que sea considerado poco fiable al estar el margen de error por encima del umbral definido\n",
    "\n",
    "Expuesto lo anterior, se da paso al procesamiento de información."
   ]
  },
  {
   "cell_type": "code",
   "execution_count": 26,
   "metadata": {
    "collapsed": false
   },
   "outputs": [],
   "source": [
    "#Importar librerias requeridas para el ejercicio\n",
    "import pandas as pd\n",
    "import networkx as nx\n",
    "from PIL import Image\n",
    "\n",
    "#Identificación de parámetros\n",
    "estimate_over_moe_threshold = 0.5\n",
    "worker_threshold = 100\n",
    "dont_link_to_self = True\n",
    "\n",
    "#Leer Base de Datos\n",
    "df = pd.read_csv('Job_4393.csv', low_memory=False, skiprows=2, thousands=',')\n",
    "#print (df)"
   ]
  },
  {
   "cell_type": "code",
   "execution_count": 2,
   "metadata": {
    "collapsed": false
   },
   "outputs": [
    {
     "name": "stdout",
     "output_type": "stream",
     "text": [
      "El número de nodos es 52 que representan los Estados de USA\n",
      "El número de edges es 4798 que representan al flujo del agente entre su ciudad de residencia y de trabajo\n"
     ]
    }
   ],
   "source": [
    "# Cambiar la variable 'Workers 16 and Over' de string a númerico\n",
    "df['Workers 16 and Over'] = pd.to_numeric(df['Workers 16 and Over'])\n",
    "\n",
    "# Contando los nodos y los edges del ejercicio\n",
    "nodes_before = len(pd.DataFrame(pd.concat([df['RESIDENCE'], df['WORKPLACE']])).drop_duplicates())\n",
    "edges_before = len(df)\n",
    "print('El número de nodos es' ' ' +str(nodes_before)+ ' ' 'que representan los Estados de USA')\n",
    "print('El número de edges es' ' ' +str(edges_before)+ ' ' 'que representan al flujo del agente entre su ciudad de residencia y de trabajo')"
   ]
  },
  {
   "cell_type": "code",
   "execution_count": 3,
   "metadata": {
    "collapsed": false
   },
   "outputs": [],
   "source": [
    "# Cambiando de formato long (columna) a wide (fila) con el fin de empezar la depuración de los datos\n",
    "left = df[df['Output']=='Estimate'].drop('Output', 1).rename(columns={'Workers 16 and Over':'Estimate'})\n",
    "right = df[df['Output']=='Margin of Error'].drop('Output', 1).rename(columns={'Workers 16 and Over':'Margin of Error'})\n",
    "df = pd.merge(left, right, on=['RESIDENCE','WORKPLACE'])\n",
    "\n",
    "# Eliminación de datos de acuerdo al criterio 2\n",
    "df['MOE over EST'] = df['Margin of Error'] / df['Estimate']\n",
    "df = df[df['MOE over EST'] <= estimate_over_moe_threshold]\n",
    "\n",
    "# Eliminando columnas Innecesarias, las cuales son las creadas anteriormente\n",
    "df = df.drop(['Margin of Error', 'MOE over EST'], 1)\n",
    "\n",
    "# Eliminando datos pequeñas de la base datos (trabajadores por debajo de 100)\n",
    "df = df[df['Estimate'] >= worker_threshold]\n",
    "\n",
    "# Eliminando vinculos que se conectan a si mismo\n",
    "if dont_link_to_self:\n",
    "    df = df[df['RESIDENCE'] != df['WORKPLACE']]"
   ]
  },
  {
   "cell_type": "code",
   "execution_count": 4,
   "metadata": {
    "collapsed": false
   },
   "outputs": [],
   "source": [
    "#print (df)"
   ]
  },
  {
   "cell_type": "code",
   "execution_count": 5,
   "metadata": {
    "collapsed": false
   },
   "outputs": [],
   "source": [
    "# Creando los nodos para exportar a Gephi\n",
    "nodes = pd.DataFrame(pd.concat([df['RESIDENCE'], df['WORKPLACE']])).drop_duplicates().rename(columns={0:'County'})\n",
    "nodes= nodes.reset_index(drop=True)\n",
    "nodes['Id'] = nodes.index"
   ]
  },
  {
   "cell_type": "code",
   "execution_count": 6,
   "metadata": {
    "collapsed": false,
    "deletable": true,
    "editable": true
   },
   "outputs": [],
   "source": [
    "# Anexando los codigos de los condados FIPS a los nodos\n",
    "\n",
    "fips = pd.read_csv('fips.csv', low_memory=False,  converters={'FIPS': str})\n",
    "nodes = pd.merge(nodes, fips)\n",
    "#print (nodes)\n",
    "#print (df)"
   ]
  },
  {
   "cell_type": "code",
   "execution_count": 7,
   "metadata": {
    "collapsed": false,
    "deletable": true,
    "editable": true
   },
   "outputs": [],
   "source": [
    "# Ahora se adiciona la columna Source\n",
    "df = pd.merge(df, nodes, left_on='RESIDENCE', right_on='County')\n",
    "df = df.drop(['County', 'FIPS'], 1).rename(columns={'Id':'Source'})\n",
    "\n",
    "# Ahora se adiciona la columna Target\n",
    "df = pd.merge(df, nodes, left_on='WORKPLACE', right_on='County')\n",
    "df = df.drop(['County','FIPS'], 1).rename(columns={'Id':'Target'})\n",
    "\n",
    "# Contando los nodes y los edges\n",
    "nodes_after = len(nodes)\n",
    "edges_after = len(df)\n",
    "\n",
    "#print (df)"
   ]
  },
  {
   "cell_type": "code",
   "execution_count": 10,
   "metadata": {
    "collapsed": false,
    "deletable": true,
    "editable": true
   },
   "outputs": [
    {
     "name": "stdout",
     "output_type": "stream",
     "text": [
      "Tenemos ahora 51 de los 52 nodes con que se inició el ejercicio. Estó da una tasa de -> (98.07692307692308%)\n",
      "Tenemos ahora 1048 de los 4798 edges con que se inició el ejercicio. Estó da una tasa de -> (21.84243434764485%)\n"
     ]
    }
   ],
   "source": [
    "# Calculo de los nodos iniciales y finales despues de realizar la depuración de datos con el fin de evaluar la pérdida de información\n",
    "nodes_percent = nodes_after * 100 / nodes_before\n",
    "edges_percent = edges_after * 100 / edges_before\n",
    "print('Tenemos ahora' ' ' +str(nodes_after)+' de los '+str(nodes_before)+' nodes con que se inició el ejercicio. Estó da una tasa de -> ('+str(nodes_percent)+'%)')\n",
    "print('Tenemos ahora' ' ' +str(edges_after)+' de los '+str(edges_before)+' edges con que se inició el ejercicio. Estó da una tasa de -> ('+str(edges_percent)+'%)')\n"
   ]
  },
  {
   "cell_type": "code",
   "execution_count": 12,
   "metadata": {
    "collapsed": false,
    "deletable": true,
    "editable": true
   },
   "outputs": [],
   "source": [
    "# Creamos el Grafo en python para posteriormnte importarlo a Gephi (Este será Dirigido)\n",
    "G = nx.DiGraph()\n",
    "\n",
    "# Add in the edges\n",
    "for row in df.iterrows():\n",
    "    G.add_edge(row[1][3], row[1][4], weight=row[1][2])\n",
    "#print(G.edges())"
   ]
  },
  {
   "cell_type": "code",
   "execution_count": 13,
   "metadata": {
    "collapsed": false
   },
   "outputs": [],
   "source": [
    "#print (nodes)"
   ]
  },
  {
   "cell_type": "code",
   "execution_count": 15,
   "metadata": {
    "collapsed": false
   },
   "outputs": [],
   "source": [
    "# Etiquetas para los nodos \n",
    "labels = nodes[['Id','County']].to_dict()\n",
    "labels = labels['County']\n",
    "fips = nodes[['Id','FIPS']].to_dict()\n",
    "fips = fips['FIPS']\n",
    "nx.set_node_attributes(G, 'label', labels)\n",
    "nx.set_node_attributes(G, 'fips', fips)"
   ]
  },
  {
   "cell_type": "code",
   "execution_count": 17,
   "metadata": {
    "collapsed": false
   },
   "outputs": [
    {
     "data": {
      "text/plain": [
       "'Kansas'"
      ]
     },
     "execution_count": 17,
     "metadata": {},
     "output_type": "execute_result"
    }
   ],
   "source": [
    "# Exportar el grafo de construido en Python a formato graphml y el listado de edges\n",
    "nx.write_graphml(G,'U.S.A Labor Market.graphml')\n",
    "# Pequeña validación de que el nodo tiene asociado su respectiva etiqueta (Label)\n",
    "G.node[16]['label']"
   ]
  },
  {
   "cell_type": "markdown",
   "metadata": {},
   "source": [
    "### Fase II: Importar base de datos a Gephi "
   ]
  },
  {
   "cell_type": "markdown",
   "metadata": {},
   "source": [
    "Una vez finaliza el diseño del grafo en python, se procede a importarlo a Gephi y emprender la identificación de las comunidades. En ese sentido, el software arroja la existencia de siete (7) communities, las cuales fueron establecidas de acuerdo al peso (weight) del vinculo, recordando que este es el número de trabajadores. Así, los procedimientos seguidos en Gephi fueron los siguientes:\n",
    "\n",
    "- Importar el archivo U.S.A Labor Market.graphml\n",
    "- Calcular el Modularity Class y posteriormente emplear el Layaout ***Frunchterman Reigold***\n",
    "- Darle relevancia a los nodos con mayores número de trabajadores a partir de la opción ***Degree***\n",
    "- Introducir los Labels a los nodos y disminuir el tamaño de los edges \n",
    "- Configurar el grafo encontrado con la opción ***Preview***, para posteriormente importarlo en formato png y pdf\n",
    "- Exportar la base de datos correspondientes a los nodos, los cuales guardan información de las métricas calculadas.\n",
    "\n",
    "De esta forma, el grafo que se presenta a continuación permite visualizar los Communities, que combinado con el comando *\"Counter*\" se reporta la cantidad de nodos que conforman cada uno de los Communities; luego entonces, hace apropiado concluir de manera preliminar que existen 2 comunidades que concentran la mayor cantidad de trabajadores, siendo estas la número 4, 5 y 0 en orden descendente."
   ]
  },
  {
   "cell_type": "code",
   "execution_count": 20,
   "metadata": {
    "collapsed": true
   },
   "outputs": [],
   "source": [
    "from PIL import Image\n",
    "img = Image.open('USA Labor Market.png')\n",
    "img.show()"
   ]
  },
  {
   "cell_type": "code",
   "execution_count": 23,
   "metadata": {
    "collapsed": false
   },
   "outputs": [],
   "source": [
    "# Read in the Gephi output\n",
    "Gephi = pd.read_csv('U.S. Labor Market [Nodes].csv', low_memory=False,  converters={'fips': str})\n",
    "Gephi = Gephi[['fips','Modularity Class']]\n",
    "#print(Gephi)"
   ]
  },
  {
   "cell_type": "code",
   "execution_count": 24,
   "metadata": {
    "collapsed": false
   },
   "outputs": [],
   "source": [
    "# Cambiar la variable 'Workers 16 and Over' de string a númerico\n",
    "Gephi['Modularity Class'] = pd.to_numeric(Gephi['Modularity Class'])\n",
    "Communities=pd.Series(Gephi['Modularity Class'])"
   ]
  },
  {
   "cell_type": "code",
   "execution_count": 25,
   "metadata": {
    "collapsed": false
   },
   "outputs": [
    {
     "data": {
      "text/plain": [
       "Counter({0: 8, 1: 4, 2: 5, 3: 5, 4: 12, 5: 12, 6: 5})"
      ]
     },
     "execution_count": 25,
     "metadata": {},
     "output_type": "execute_result"
    }
   ],
   "source": [
    "from collections import Counter\n",
    "Counter(Communities)"
   ]
  },
  {
   "cell_type": "markdown",
   "metadata": {},
   "source": [
    "## CONCLUSIONES"
   ]
  },
  {
   "cell_type": "markdown",
   "metadata": {
    "collapsed": true
   },
   "source": [
    "**(1)** Este ejercicio de replicar el flujo de trabajadores de los Estados Unidos desde su lugar de residencia hasta su lugar de trabajo es particularmente interesante por cuanto puede ser interpretado como un esfuerzo por detectar la demanda de trabajo que hacen los Estados; una vez es detectado las Communities claro está. En este sentido, se reconoce que el tamaño de la red no es muy grande (51 nodos), donde cada nodo tiene un grado promedio de apróximadamente 21, con la particularidad de que es una red dirigida y al calcular el Average Clustering Coefficient se obtiene un valor de 0.715 se puede concluir que hay una alta interconexión entre los nodos y el vecindario.\n",
    "\n",
    "**(2)** La detección de los siete (7) Communities del ejercicio evidenció que existen 3 de ellos que, de acuerdo al peso del vinculo, hace posible aseverar que concentrar una mayor población trabajando, y por ende son las que demandan más manos de obra; mientras que existe uno que tiene una menor cantidad de Estados en comparación con el resto de Communities. En ese sentido, estas comunidades junto con sus estados son:\n",
    "\n",
    "- **Communities 4 (doce Estados):** Wyoming, Alaska, Nevada, Montana, Arizona, Utah, Hawaii, Idaho, Oregon, Colorado,California y  Washington; siendo estas últimas tres parte de los Estados con mayor grado (Degree)\n",
    "\n",
    "\n",
    "- **Communities 5 (doce Estados):** North Dakotha, South Dakotha, Nebraska, Iowa, Wisconsi, Ohio, Tenesi, Kentucky, Indiana, Illinois,  Michigan y Minesota; siendo este último Estado el de mayor grado (Degree)\n",
    "\n",
    "\n",
    "- **Communities 0 (ocho Estados):** New Mexico, Missisipi, Oklahoma, Lousiana, Missouri, Arkansas, Kansas y Texas; siendo este último Estado el de mayor grado (Degree)\n",
    "\n",
    "\n",
    "- **Communities 1 (cuatro Estados):** Maryland,Virginia, West Virginia y District of Columbia.\n",
    "\n",
    "**(3)** Se espera replicar el ejercicio por completo una vez se cuente con la base de datos Estados-Condados; pues el autor identificó que existen 3040 nodos y 15309 edge, arrojando un total de 70 Communities; lo cual hace muy interesante observar cuales serían los condados que demandan mayor mano de obra, determinado por el número de trabajadores que conforman el peso de la red."
   ]
  },
  {
   "cell_type": "markdown",
   "metadata": {},
   "source": [
    "# LIMITACIONES Y RESTOS FUTUROS"
   ]
  },
  {
   "cell_type": "markdown",
   "metadata": {},
   "source": [
    "**(1)** En principio, consideraba trabajar una red dinámica con la base de datos de CONFAMA pero ciertamente no logré darle la trasncición temporal al software Gephi y ante la restricción de tiempo, opté por seguir trabajando el ejercicio de Mieke; el cual condujo a que elevera sustancialmente mi curva de aprendizaje en Python. De igual forma, la manera en como se encontraba la base de datos no me hacia posible brindar una interpretación economica, dado que, las metricas estudiadas no se ajustan del todo bien, cuando estas son calculadas para redes bipartitas; según logré consultar en documentos publicados en la red. \n",
    "\n",
    "**(2)** El mayor resto es ubicar el grafo en un mapa, el cual observé que este autor hizo por medio de la libreria **\"Basemap\"** pero por más que me documenté sobre ella no logré introducirla. Por tal razón, estaría agradecido si puede brindarme orientación sobre ello.\n",
    "\n",
    "**(3)** Como transmití en númerosas ocasiones, este curso es mi primer paso para diseñar la estructura del segundo capítulo de mi tesis doctoral; el cual considero que, a estas alturas, cuento con las herramientas análiticas para realizarlo. Lo anterior se justifica que si bien quisiera replicar este ejercicio para Colombia si sería posible, pues al examinar la Gran Encuesta Integrada de hogares 2016 observé que la pregunta **P388** identifica conclaridad el departamento donde el agente realiza el trabajo principalmente, mientras que en el modulo vivienda, cuento con información sobre el area metropolitana de Residencia. Si bien no son el mismo agente economico en el tiempo, puedo realizar el analisis como el replicado, ya que se si puedo obtener el número de trabajadores por Departamento. El resto será diseñar con calma esto.\n",
    "\n",
    "                                                               **Terminado a las 2:32am del 29 de Mayo de 2017**\n",
    "\n",
    "\n",
    "\n"
   ]
  }
 ],
 "metadata": {
  "anaconda-cloud": {},
  "hide_input": false,
  "kernelspec": {
   "display_name": "Python 3",
   "language": "python",
   "name": "python3"
  },
  "language_info": {
   "codemirror_mode": {
    "name": "ipython",
    "version": 3
   },
   "file_extension": ".py",
   "mimetype": "text/x-python",
   "name": "python",
   "nbconvert_exporter": "python",
   "pygments_lexer": "ipython3",
   "version": "3.6.0"
  },
  "toc": {
   "colors": {
    "hover_highlight": "#DAA520",
    "running_highlight": "#FF0000",
    "selected_highlight": "#FFD700"
   },
   "moveMenuLeft": true,
   "nav_menu": {
    "height": "12px",
    "width": "252px"
   },
   "navigate_menu": true,
   "number_sections": true,
   "sideBar": true,
   "threshold": 4,
   "toc_cell": false,
   "toc_section_display": "block",
   "toc_window_display": false
  }
 },
 "nbformat": 4,
 "nbformat_minor": 1
}
