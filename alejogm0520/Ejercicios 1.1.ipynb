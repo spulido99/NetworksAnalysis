{
 "cells": [
  {
   "cell_type": "markdown",
   "metadata": {},
   "source": [
    "# Ejercicios Graphs, Paths & Components\n",
    "\n",
    "Ejercicios básicos de Grafos.\n",
    "\n",
    "## Ejercicio - Número de Nodos y Enlaces\n",
    "\n",
    "(resuelva en código propio y usando la librería NerworkX o iGraph)\n",
    "\n",
    "Cuente en número de nodos y enalces con los siguientes links (asumiendo que el grafo puede ser dirigido y no dirigido)\n"
   ]
  },
  {
   "cell_type": "code",
   "execution_count": 1,
   "metadata": {
    "collapsed": true
   },
   "outputs": [],
   "source": [
    "edges = set([(1, 2), (3, 1), (3, 2), (2, 4)])"
   ]
  },
  {
   "cell_type": "code",
   "execution_count": 62,
   "metadata": {
    "collapsed": true
   },
   "outputs": [],
   "source": [
    "import networkx as nx\n",
    "import matplotlib.pyplot as plt\n",
    "import numpy as np\n",
    "import scipy as sc"
   ]
  },
  {
   "cell_type": "markdown",
   "metadata": {},
   "source": [
    "### Usando la libreria"
   ]
  },
  {
   "cell_type": "code",
   "execution_count": 54,
   "metadata": {
    "collapsed": false
   },
   "outputs": [
    {
     "data": {
      "image/png": "[encoded data removed]",
      "text/plain": [
       "<matplotlib.figure.Figure at 0x7f122c8b5390>"
      ]
     },
     "metadata": {},
     "output_type": "display_data"
    },
    {
     "name": "stdout",
     "output_type": "stream",
     "text": [
      "('The graph is directed?: ', False)\n",
      "('Number of edges: ', 8)\n",
      "('Number of nodes: ', 4)\n"
     ]
    }
   ],
   "source": [
    "gr = nx.Graph()\n",
    "for i in range(1,5):\n",
    "    gr.add_node(i)\n",
    "for i in edges:\n",
    "    gr.add_edge(i[0], i[1])\n",
    "    \n",
    "nx.draw_spectral(gr)\n",
    "\n",
    "plt.show()\n",
    "\n",
    "print ('The graph is directed?: ', nx.is_directed(gr))\n",
    "if nx.is_directed(gr) is True:\n",
    "    print ('Number of edges: ', gr.number_of_edges())\n",
    "else:\n",
    "    print ('Number of edges: ', gr.number_of_edges()*2)\n",
    "\n",
    "print ('Number of nodes: ', gr.number_of_nodes())"
   ]
  },
  {
   "cell_type": "code",
   "execution_count": 49,
   "metadata": {
    "collapsed": false
   },
   "outputs": [
    {
     "data": {
      "image/png": "[encoded data removed]",
      "text/plain": [
       "<matplotlib.figure.Figure at 0x7f122c8bf690>"
      ]
     },
     "metadata": {},
     "output_type": "display_data"
    },
    {
     "name": "stdout",
     "output_type": "stream",
     "text": [
      "('The graph is directed?: ', True)\n",
      "('Number of edges: ', 4)\n",
      "('Number of nodes: ', 4)\n"
     ]
    }
   ],
   "source": [
    "gr2 = nx.DiGraph()\n",
    "for i in range(1,5):\n",
    "    gr2.add_node(i)\n",
    "for i in edges:\n",
    "    gr2.add_edge(i[0], i[1])\n",
    "\n",
    "nx.draw_spectral(gr2)\n",
    "\n",
    "plt.show()\n",
    "\n",
    "print ('The graph is directed?: ', nx.is_directed(gr2))\n",
    "if nx.is_directed(gr2) is True:\n",
    "    print ('Number of edges: ', gr2.number_of_edges())\n",
    "else:\n",
    "    print ('Number of edges: ', gr2.number_of_edges()*2)\n",
    "\n",
    "print ('Number of nodes: ', gr2.number_of_nodes())"
   ]
  },
  {
   "cell_type": "markdown",
   "metadata": {},
   "source": [
    "### Propio"
   ]
  },
  {
   "cell_type": "code",
   "execution_count": 59,
   "metadata": {
    "collapsed": false
   },
   "outputs": [
    {
     "name": "stdout",
     "output_type": "stream",
     "text": [
      "('The graph is directed?: ', False)\n",
      "('Number of edges: ', 8)\n",
      "('Number of nodes: ', 4)\n"
     ]
    }
   ],
   "source": [
    "Directed=False\n",
    "print ('The graph is directed?: ', Directed)\n",
    "\n",
    "if Directed is True:\n",
    "    print ('Number of edges: ', len(edges))\n",
    "else:\n",
    "    print ('Number of edges: ', 2*len(edges))\n",
    "\n",
    "temp = []\n",
    "for i in edges:\n",
    "    temp.append(i[0])\n",
    "    temp.append(i[1])\n",
    "temp = np.array(temp)\n",
    "\n",
    "print ('Number of nodes: ', np.size(np.unique(temp)))\n"
   ]
  },
  {
   "cell_type": "code",
   "execution_count": 60,
   "metadata": {
    "collapsed": false
   },
   "outputs": [
    {
     "name": "stdout",
     "output_type": "stream",
     "text": [
      "('The graph is directed?: ', True)\n",
      "('Number of edges: ', 4)\n",
      "('Number of nodes: ', 4)\n"
     ]
    }
   ],
   "source": [
    "Directed=True\n",
    "print ('The graph is directed?: ', Directed)\n",
    "\n",
    "if Directed is True:\n",
    "    print ('Number of edges: ', len(edges))\n",
    "else:\n",
    "    print ('Number of edges: ', 2*len(edges))\n",
    "\n",
    "temp = []\n",
    "for i in edges:\n",
    "    temp.append(i[0])\n",
    "    temp.append(i[1])\n",
    "temp = np.array(temp)\n",
    "\n",
    "print ('Number of nodes: ', np.size(np.unique(temp)))\n"
   ]
  },
  {
   "cell_type": "code",
   "execution_count": 112,
   "metadata": {
    "collapsed": false
   },
   "outputs": [
    {
     "ename": "NameError",
     "evalue": "name 'temp' is not defined",
     "output_type": "error",
     "traceback": [
      "\u001b[0;31m---------------------------------------------------------------------------\u001b[0m",
      "\u001b[0;31mNameError\u001b[0m                                 Traceback (most recent call last)",
      "\u001b[0;32m<ipython-input-112-7772642f2210>\u001b[0m in \u001b[0;36m<module>\u001b[0;34m()\u001b[0m\n\u001b[0;32m----> 1\u001b[0;31m \u001b[0;32mdel\u001b[0m \u001b[0mtemp\u001b[0m\u001b[0;34m,\u001b[0m \u001b[0mDirected\u001b[0m\u001b[0;34m,\u001b[0m \u001b[0medges\u001b[0m\u001b[0;34m\u001b[0m\u001b[0m\n\u001b[0m",
      "\u001b[0;31mNameError\u001b[0m: name 'temp' is not defined"
     ]
    }
   ],
   "source": [
    "del temp, Directed, edges"
   ]
  },
  {
   "cell_type": "markdown",
   "metadata": {},
   "source": [
    "## Ejercicio - Matriz de Adyacencia\n",
    "\n",
    "(resuelva en código propio y usando la librería NetworkX (python) o iGraph (R))\n",
    "\n",
    "Cree la matriz de adyacencia del grafo del ejercicio anterior (para dirigido y no-dirigido)"
   ]
  },
  {
   "cell_type": "markdown",
   "metadata": {},
   "source": [
    "### Usando Librería"
   ]
  },
  {
   "cell_type": "code",
   "execution_count": 67,
   "metadata": {
    "collapsed": false
   },
   "outputs": [
    {
     "name": "stdout",
     "output_type": "stream",
     "text": [
      "No Dirigida\n",
      "  (0, 1)\t1\n",
      "  (0, 2)\t1\n",
      "  (1, 0)\t1\n",
      "  (1, 2)\t1\n",
      "  (1, 3)\t1\n",
      "  (2, 0)\t1\n",
      "  (2, 1)\t1\n",
      "  (3, 1)\t1\n"
     ]
    }
   ],
   "source": [
    "A = nx.adjacency_matrix(gr)\n",
    "print ('No Dirigida')\n",
    "print(A)"
   ]
  },
  {
   "cell_type": "code",
   "execution_count": 68,
   "metadata": {
    "collapsed": false
   },
   "outputs": [
    {
     "name": "stdout",
     "output_type": "stream",
     "text": [
      "Dirigida\n",
      "  (0, 1)\t1\n",
      "  (1, 3)\t1\n",
      "  (2, 0)\t1\n",
      "  (2, 1)\t1\n"
     ]
    }
   ],
   "source": [
    "A = nx.adjacency_matrix(gr2)\n",
    "print ('Dirigida')\n",
    "print(A)"
   ]
  },
  {
   "cell_type": "markdown",
   "metadata": {},
   "source": [
    "### Propia"
   ]
  },
  {
   "cell_type": "code",
   "execution_count": 89,
   "metadata": {
    "collapsed": true
   },
   "outputs": [],
   "source": [
    "def adjmat(ed, directed):\n",
    "    if directed is True:\n",
    "        temp_d1 = []\n",
    "        temp_d2 = []\n",
    "        for i in ed:\n",
    "            temp_d1.append(i[0])\n",
    "            temp_d2.append(i[1])\n",
    "        B=sc.sparse.csr_matrix((np.ones(len(temp_d1), dtype='int'), (temp_d1, temp_d2)))\n",
    "    else:\n",
    "        temp_d1 = []\n",
    "        temp_d2 = []\n",
    "        for i in ed:\n",
    "            temp_d1.append(i[0])\n",
    "            temp_d1.append(i[1])\n",
    "            temp_d2.append(i[1])\n",
    "            temp_d2.append(i[0])\n",
    "        B=sc.sparse.csr_matrix((np.ones(len(temp_d1), dtype='int'), (temp_d1, temp_d2)))\n",
    "    return B"
   ]
  },
  {
   "cell_type": "code",
   "execution_count": 91,
   "metadata": {
    "collapsed": false
   },
   "outputs": [
    {
     "name": "stdout",
     "output_type": "stream",
     "text": [
      "Dirigida\n",
      "  (1, 2)\t1\n",
      "  (2, 4)\t1\n",
      "  (3, 1)\t1\n",
      "  (3, 2)\t1\n"
     ]
    }
   ],
   "source": [
    "A2 = adjmat(edges, True)\n",
    "print ('Dirigida')\n",
    "print (A2)"
   ]
  },
  {
   "cell_type": "code",
   "execution_count": 92,
   "metadata": {
    "collapsed": false
   },
   "outputs": [
    {
     "name": "stdout",
     "output_type": "stream",
     "text": [
      "No Dirigida\n",
      "  (1, 2)\t1\n",
      "  (1, 3)\t1\n",
      "  (2, 1)\t1\n",
      "  (2, 3)\t1\n",
      "  (2, 4)\t1\n",
      "  (3, 1)\t1\n",
      "  (3, 2)\t1\n",
      "  (4, 2)\t1\n"
     ]
    }
   ],
   "source": [
    "A2 = adjmat(edges, False)\n",
    "print ('No Dirigida')\n",
    "print (A2)"
   ]
  },
  {
   "cell_type": "code",
   "execution_count": null,
   "metadata": {
    "collapsed": true
   },
   "outputs": [],
   "source": [
    "del A, A2, gr, gr2"
   ]
  },
  {
   "cell_type": "markdown",
   "metadata": {},
   "source": [
    "## Ejercicio - Sparseness \n"
   ]
  },
  {
   "cell_type": "markdown",
   "metadata": {},
   "source": [
    "### Enron email network  - Directed  http://snap.stanford.edu/data/email-Enron.html"
   ]
  },
  {
   "cell_type": "markdown",
   "metadata": {},
   "source": [
    "Calcule la proporción entre número de links existentes  contra el número de links posibles."
   ]
  },
  {
   "cell_type": "code",
   "execution_count": 93,
   "metadata": {
    "collapsed": true
   },
   "outputs": [],
   "source": [
    "F = open(\"Email-Enron.txt\",'r')\n",
    "Net1=nx.read_edgelist(F)\n",
    "F.close()"
   ]
  },
  {
   "cell_type": "code",
   "execution_count": 99,
   "metadata": {
    "collapsed": false
   },
   "outputs": [
    {
     "name": "stdout",
     "output_type": "stream",
     "text": [
      "('Ratio: ', 0.00027309755503535)\n"
     ]
    }
   ],
   "source": [
    "n = Net1.number_of_nodes()\n",
    "posibles = Net1.number_of_nodes()*(Net1.number_of_nodes()-1.0)/2.0\n",
    "print ('Ratio: ', Net1.number_of_edges()/posibles)"
   ]
  },
  {
   "cell_type": "markdown",
   "metadata": {},
   "source": [
    "En la matriz de adyacencia de cada uno de las redes elegidas, cuantos ceros hay?"
   ]
  },
  {
   "cell_type": "code",
   "execution_count": 100,
   "metadata": {
    "collapsed": true
   },
   "outputs": [],
   "source": [
    "ANet1 = nx.adjacency_matrix(Net1)"
   ]
  },
  {
   "cell_type": "code",
   "execution_count": 105,
   "metadata": {
    "collapsed": false
   },
   "outputs": [
    {
     "name": "stdout",
     "output_type": "stream",
     "text": [
      "('La Red tiene: ', 1345935202, ' ceros')\n"
     ]
    }
   ],
   "source": [
    "nzeros=Net1.number_of_nodes()*Net1.number_of_nodes()-len(ANet1.data)\n",
    "print ('La Red tiene: ', nzeros, ' ceros')"
   ]
  },
  {
   "cell_type": "code",
   "execution_count": 113,
   "metadata": {
    "collapsed": true
   },
   "outputs": [],
   "source": [
    "del Net1, n, posibles, ANet1, nzeros"
   ]
  },
  {
   "cell_type": "markdown",
   "metadata": {},
   "source": [
    "###  Social circles from Facebook (anonymized) - Undirected http://snap.stanford.edu/data/egonets-Facebook.html"
   ]
  },
  {
   "cell_type": "markdown",
   "metadata": {},
   "source": [
    "Calcule la proporción entre número de links existentes  contra el número de links posibles."
   ]
  },
  {
   "cell_type": "code",
   "execution_count": 106,
   "metadata": {
    "collapsed": true
   },
   "outputs": [],
   "source": [
    "F = open(\"facebook_combined.txt\",'r')\n",
    "Net=nx.read_edgelist(F)\n",
    "F.close()"
   ]
  },
  {
   "cell_type": "code",
   "execution_count": 107,
   "metadata": {
    "collapsed": false
   },
   "outputs": [
    {
     "name": "stdout",
     "output_type": "stream",
     "text": [
      "('Ratio: ', 0.010819963503439287)\n"
     ]
    }
   ],
   "source": [
    "n = Net.number_of_nodes()\n",
    "posibles = Net.number_of_nodes()*(Net.number_of_nodes()-1.0)/2.0\n",
    "print ('Ratio: ', Net.number_of_edges()/posibles)"
   ]
  },
  {
   "cell_type": "markdown",
   "metadata": {},
   "source": [
    "En la matriz de adyacencia de cada uno de las redes elegidas, cuantos ceros hay?"
   ]
  },
  {
   "cell_type": "code",
   "execution_count": 109,
   "metadata": {
    "collapsed": true
   },
   "outputs": [],
   "source": [
    "ANet = nx.adjacency_matrix(Net)"
   ]
  },
  {
   "cell_type": "code",
   "execution_count": 110,
   "metadata": {
    "collapsed": false
   },
   "outputs": [
    {
     "name": "stdout",
     "output_type": "stream",
     "text": [
      "('La Red tiene: ', 16137053, ' ceros')\n"
     ]
    }
   ],
   "source": [
    "nzeros=Net.number_of_nodes()*Net.number_of_nodes()-len(ANet.data)\n",
    "print ('La Red tiene: ', nzeros, ' ceros')"
   ]
  },
  {
   "cell_type": "code",
   "execution_count": 115,
   "metadata": {
    "collapsed": false
   },
   "outputs": [],
   "source": [
    "del Net, n, posibles, ANet, nzeros"
   ]
  },
  {
   "cell_type": "markdown",
   "metadata": {},
   "source": [
    "###   Webgraph from the Google programming contest, 2002 - Directed   http://snap.stanford.edu/data/web-Google.html"
   ]
  },
  {
   "cell_type": "markdown",
   "metadata": {},
   "source": [
    "Calcule la proporción entre número de links existentes  contra el número de links posibles."
   ]
  },
  {
   "cell_type": "code",
   "execution_count": 116,
   "metadata": {
    "collapsed": true
   },
   "outputs": [],
   "source": [
    "F = open(\"web-Google.txt\",'r')\n",
    "Net=nx.read_edgelist(F)\n",
    "F.close()"
   ]
  },
  {
   "cell_type": "code",
   "execution_count": 117,
   "metadata": {
    "collapsed": false
   },
   "outputs": [
    {
     "name": "stdout",
     "output_type": "stream",
     "text": [
      "('Ratio: ', 1.1271891119695635e-05)\n"
     ]
    }
   ],
   "source": [
    "n = Net.number_of_nodes()\n",
    "posibles = Net.number_of_nodes()*(Net.number_of_nodes()-1.0)/2.0\n",
    "print ('Ratio: ', Net.number_of_edges()/posibles)"
   ]
  },
  {
   "cell_type": "markdown",
   "metadata": {},
   "source": [
    "En la matriz de adyacencia de cada uno de las redes elegidas, cuantos ceros hay?"
   ]
  },
  {
   "cell_type": "code",
   "execution_count": 118,
   "metadata": {
    "collapsed": true
   },
   "outputs": [],
   "source": [
    "ANet = nx.adjacency_matrix(Net)"
   ]
  },
  {
   "cell_type": "code",
   "execution_count": 119,
   "metadata": {
    "collapsed": false
   },
   "outputs": [
    {
     "name": "stdout",
     "output_type": "stream",
     "text": [
      "('La Red tiene: ', 766864614267, ' ceros')\n"
     ]
    }
   ],
   "source": [
    "nzeros=Net.number_of_nodes()*Net.number_of_nodes()-len(ANet.data)\n",
    "print ('La Red tiene: ', nzeros, ' ceros')"
   ]
  },
  {
   "cell_type": "code",
   "execution_count": 120,
   "metadata": {
    "collapsed": true
   },
   "outputs": [],
   "source": [
    "del Net, n, posibles, ANet, nzeros"
   ]
  },
  {
   "cell_type": "markdown",
   "metadata": {},
   "source": [
    "## Ejercicio - Redes Bipartitas¶ \n",
    "Cree un grafo de 5 nodos con 5 enlaces. Elija dos nodos cualquiera e imprima:\n",
    "\n",
    "    5 Paths diferentes entre los nodos\n",
    "    El camino mas corto entre los nodos\n",
    "    El diámetro de la red\n",
    "    Un self-avoiding path\n"
   ]
  },
  {
   "cell_type": "code",
   "execution_count": null,
   "metadata": {
    "collapsed": true
   },
   "outputs": [],
   "source": []
  },
  {
   "cell_type": "code",
   "execution_count": null,
   "metadata": {
    "collapsed": true
   },
   "outputs": [],
   "source": []
  },
  {
   "cell_type": "code",
   "execution_count": null,
   "metadata": {
    "collapsed": true
   },
   "outputs": [],
   "source": []
  }
 ],
 "metadata": {
  "kernelspec": {
   "display_name": "Python 2",
   "language": "python",
   "name": "python2"
  },
  "language_info": {
   "codemirror_mode": {
    "name": "ipython",
    "version": 2
   },
   "file_extension": ".py",
   "mimetype": "text/x-python",
   "name": "python",
   "nbconvert_exporter": "python",
   "pygments_lexer": "ipython2",
   "version": "2.7.13"
  }
 },
 "nbformat": 4,
 "nbformat_minor": 2
}
