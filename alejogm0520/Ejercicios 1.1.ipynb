{
 "cells": [
  {
   "cell_type": "markdown",
   "metadata": {
    "deletable": true,
    "editable": true
   },
   "source": [
    "# Ejercicios Graphs, Paths & Components\n",
    "\n",
    "Ejercicios básicos de Grafos.\n",
    "\n",
    "## Ejercicio - Número de Nodos y Enlaces\n",
    "\n",
    "(resuelva en código propio y usando la librería NerworkX o iGraph)\n",
    "\n",
    "Cuente en número de nodos y enalces con los siguientes links (asumiendo que el grafo puede ser dirigido y no dirigido)\n"
   ]
  },
  {
   "cell_type": "code",
   "execution_count": 1,
   "metadata": {
    "collapsed": true,
    "deletable": true,
    "editable": true
   },
   "outputs": [],
   "source": [
    "edges = set([(1, 2), (3, 1), (3, 2), (2, 4)])"
   ]
  },
  {
   "cell_type": "code",
   "execution_count": 2,
   "metadata": {
    "collapsed": true,
    "deletable": true,
    "editable": true
   },
   "outputs": [],
   "source": [
    "import networkx as nx\n",
    "import matplotlib.pyplot as plt\n",
    "import numpy as np\n",
    "import scipy as sc\n",
    "import itertools"
   ]
  },
  {
   "cell_type": "markdown",
   "metadata": {
    "deletable": true,
    "editable": true
   },
   "source": [
    "### Usando la libreria"
   ]
  },
  {
   "cell_type": "code",
   "execution_count": 54,
   "metadata": {
    "collapsed": false,
    "deletable": true,
    "editable": true
   },
   "outputs": [
    {
     "data": {
      "image/png": "[encoded data removed]",
      "text/plain": [
       "<matplotlib.figure.Figure at 0x7f122c8b5390>"
      ]
     },
     "metadata": {},
     "output_type": "display_data"
    },
    {
     "name": "stdout",
     "output_type": "stream",
     "text": [
      "('The graph is directed?: ', False)\n",
      "('Number of edges: ', 8)\n",
      "('Number of nodes: ', 4)\n"
     ]
    }
   ],
   "source": [
    "gr = nx.Graph()\n",
    "for i in range(1,5):\n",
    "    gr.add_node(i)\n",
    "for i in edges:\n",
    "    gr.add_edge(i[0], i[1])\n",
    "    \n",
    "nx.draw_spectral(gr)\n",
    "\n",
    "plt.show()\n",
    "\n",
    "print ('The graph is directed?: ', nx.is_directed(gr))\n",
    "if nx.is_directed(gr) is True:\n",
    "    print ('Number of edges: ', gr.number_of_edges())\n",
    "else:\n",
    "    print ('Number of edges: ', gr.number_of_edges()*2)\n",
    "\n",
    "print ('Number of nodes: ', gr.number_of_nodes())"
   ]
  },
  {
   "cell_type": "code",
   "execution_count": 49,
   "metadata": {
    "collapsed": false,
    "deletable": true,
    "editable": true
   },
   "outputs": [
    {
     "data": {
      "image/png": "[encoded data removed]",
      "text/plain": [
       "<matplotlib.figure.Figure at 0x7f122c8bf690>"
      ]
     },
     "metadata": {},
     "output_type": "display_data"
    },
    {
     "name": "stdout",
     "output_type": "stream",
     "text": [
      "('The graph is directed?: ', True)\n",
      "('Number of edges: ', 4)\n",
      "('Number of nodes: ', 4)\n"
     ]
    }
   ],
   "source": [
    "gr2 = nx.DiGraph()\n",
    "for i in range(1,5):\n",
    "    gr2.add_node(i)\n",
    "for i in edges:\n",
    "    gr2.add_edge(i[0], i[1])\n",
    "\n",
    "nx.draw_spectral(gr2)\n",
    "\n",
    "plt.show()\n",
    "\n",
    "print ('The graph is directed?: ', nx.is_directed(gr2))\n",
    "if nx.is_directed(gr2) is True:\n",
    "    print ('Number of edges: ', gr2.number_of_edges())\n",
    "else:\n",
    "    print ('Number of edges: ', gr2.number_of_edges()*2)\n",
    "\n",
    "print ('Number of nodes: ', gr2.number_of_nodes())"
   ]
  },
  {
   "cell_type": "markdown",
   "metadata": {
    "deletable": true,
    "editable": true
   },
   "source": [
    "### Propio"
   ]
  },
  {
   "cell_type": "code",
   "execution_count": 59,
   "metadata": {
    "collapsed": false,
    "deletable": true,
    "editable": true
   },
   "outputs": [
    {
     "name": "stdout",
     "output_type": "stream",
     "text": [
      "('The graph is directed?: ', False)\n",
      "('Number of edges: ', 8)\n",
      "('Number of nodes: ', 4)\n"
     ]
    }
   ],
   "source": [
    "Directed=False\n",
    "print ('The graph is directed?: ', Directed)\n",
    "\n",
    "if Directed is True:\n",
    "    print ('Number of edges: ', len(edges))\n",
    "else:\n",
    "    print ('Number of edges: ', 2*len(edges))\n",
    "\n",
    "temp = []\n",
    "for i in edges:\n",
    "    temp.append(i[0])\n",
    "    temp.append(i[1])\n",
    "temp = np.array(temp)\n",
    "\n",
    "print ('Number of nodes: ', np.size(np.unique(temp)))\n"
   ]
  },
  {
   "cell_type": "code",
   "execution_count": 60,
   "metadata": {
    "collapsed": false,
    "deletable": true,
    "editable": true
   },
   "outputs": [
    {
     "name": "stdout",
     "output_type": "stream",
     "text": [
      "('The graph is directed?: ', True)\n",
      "('Number of edges: ', 4)\n",
      "('Number of nodes: ', 4)\n"
     ]
    }
   ],
   "source": [
    "Directed=True\n",
    "print ('The graph is directed?: ', Directed)\n",
    "\n",
    "if Directed is True:\n",
    "    print ('Number of edges: ', len(edges))\n",
    "else:\n",
    "    print ('Number of edges: ', 2*len(edges))\n",
    "\n",
    "temp = []\n",
    "for i in edges:\n",
    "    temp.append(i[0])\n",
    "    temp.append(i[1])\n",
    "temp = np.array(temp)\n",
    "\n",
    "print ('Number of nodes: ', np.size(np.unique(temp)))\n"
   ]
  },
  {
   "cell_type": "code",
   "execution_count": 112,
   "metadata": {
    "collapsed": false,
    "deletable": true,
    "editable": true
   },
   "outputs": [
    {
     "ename": "NameError",
     "evalue": "name 'temp' is not defined",
     "output_type": "error",
     "traceback": [
      "\u001b[0;31m---------------------------------------------------------------------------\u001b[0m",
      "\u001b[0;31mNameError\u001b[0m                                 Traceback (most recent call last)",
      "\u001b[0;32m<ipython-input-112-7772642f2210>\u001b[0m in \u001b[0;36m<module>\u001b[0;34m()\u001b[0m\n\u001b[0;32m----> 1\u001b[0;31m \u001b[0;32mdel\u001b[0m \u001b[0mtemp\u001b[0m\u001b[0;34m,\u001b[0m \u001b[0mDirected\u001b[0m\u001b[0;34m,\u001b[0m \u001b[0medges\u001b[0m\u001b[0;34m\u001b[0m\u001b[0m\n\u001b[0m",
      "\u001b[0;31mNameError\u001b[0m: name 'temp' is not defined"
     ]
    }
   ],
   "source": [
    "del temp, Directed, edges"
   ]
  },
  {
   "cell_type": "markdown",
   "metadata": {
    "deletable": true,
    "editable": true
   },
   "source": [
    "## Ejercicio - Matriz de Adyacencia\n",
    "\n",
    "(resuelva en código propio y usando la librería NetworkX (python) o iGraph (R))\n",
    "\n",
    "Cree la matriz de adyacencia del grafo del ejercicio anterior (para dirigido y no-dirigido)"
   ]
  },
  {
   "cell_type": "markdown",
   "metadata": {
    "deletable": true,
    "editable": true
   },
   "source": [
    "### Usando Librería"
   ]
  },
  {
   "cell_type": "code",
   "execution_count": 67,
   "metadata": {
    "collapsed": false,
    "deletable": true,
    "editable": true
   },
   "outputs": [
    {
     "name": "stdout",
     "output_type": "stream",
     "text": [
      "No Dirigida\n",
      "  (0, 1)\t1\n",
      "  (0, 2)\t1\n",
      "  (1, 0)\t1\n",
      "  (1, 2)\t1\n",
      "  (1, 3)\t1\n",
      "  (2, 0)\t1\n",
      "  (2, 1)\t1\n",
      "  (3, 1)\t1\n"
     ]
    }
   ],
   "source": [
    "A = nx.adjacency_matrix(gr)\n",
    "print ('No Dirigida')\n",
    "print(A)"
   ]
  },
  {
   "cell_type": "code",
   "execution_count": 68,
   "metadata": {
    "collapsed": false,
    "deletable": true,
    "editable": true
   },
   "outputs": [
    {
     "name": "stdout",
     "output_type": "stream",
     "text": [
      "Dirigida\n",
      "  (0, 1)\t1\n",
      "  (1, 3)\t1\n",
      "  (2, 0)\t1\n",
      "  (2, 1)\t1\n"
     ]
    }
   ],
   "source": [
    "A = nx.adjacency_matrix(gr2)\n",
    "print ('Dirigida')\n",
    "print(A)"
   ]
  },
  {
   "cell_type": "markdown",
   "metadata": {
    "deletable": true,
    "editable": true
   },
   "source": [
    "### Propia"
   ]
  },
  {
   "cell_type": "code",
   "execution_count": 172,
   "metadata": {
    "collapsed": true,
    "deletable": true,
    "editable": true
   },
   "outputs": [],
   "source": [
    "def adjmat(ed, directed):\n",
    "    if directed is True:\n",
    "        temp_d1 = []\n",
    "        temp_d2 = []\n",
    "        for i in ed:\n",
    "            temp_d1.append(i[0])\n",
    "            temp_d2.append(i[1])\n",
    "        B=sc.sparse.csr_matrix((np.ones(len(temp_d1), dtype='int'), (temp_d1, temp_d2)))\n",
    "    else:\n",
    "        temp_d1 = []\n",
    "        temp_d2 = []\n",
    "        for i in ed:\n",
    "            temp_d1.append(i[0])\n",
    "            temp_d1.append(i[1])\n",
    "            temp_d2.append(i[1])\n",
    "            temp_d2.append(i[0])\n",
    "        B=sc.sparse.csr_matrix((np.ones(len(temp_d1), dtype='int'), (temp_d1, temp_d2)))\n",
    "    return B"
   ]
  },
  {
   "cell_type": "code",
   "execution_count": 91,
   "metadata": {
    "collapsed": false,
    "deletable": true,
    "editable": true
   },
   "outputs": [
    {
     "name": "stdout",
     "output_type": "stream",
     "text": [
      "Dirigida\n",
      "  (1, 2)\t1\n",
      "  (2, 4)\t1\n",
      "  (3, 1)\t1\n",
      "  (3, 2)\t1\n"
     ]
    }
   ],
   "source": [
    "A2 = adjmat(edges, True)\n",
    "print ('Dirigida')\n",
    "print (A2)"
   ]
  },
  {
   "cell_type": "code",
   "execution_count": 92,
   "metadata": {
    "collapsed": false,
    "deletable": true,
    "editable": true
   },
   "outputs": [
    {
     "name": "stdout",
     "output_type": "stream",
     "text": [
      "No Dirigida\n",
      "  (1, 2)\t1\n",
      "  (1, 3)\t1\n",
      "  (2, 1)\t1\n",
      "  (2, 3)\t1\n",
      "  (2, 4)\t1\n",
      "  (3, 1)\t1\n",
      "  (3, 2)\t1\n",
      "  (4, 2)\t1\n"
     ]
    }
   ],
   "source": [
    "A2 = adjmat(edges, False)\n",
    "print ('No Dirigida')\n",
    "print (A2)"
   ]
  },
  {
   "cell_type": "code",
   "execution_count": null,
   "metadata": {
    "collapsed": true,
    "deletable": true,
    "editable": true
   },
   "outputs": [],
   "source": [
    "del A, A2, gr, gr2"
   ]
  },
  {
   "cell_type": "markdown",
   "metadata": {
    "deletable": true,
    "editable": true
   },
   "source": [
    "## Ejercicio - Sparseness \n"
   ]
  },
  {
   "cell_type": "markdown",
   "metadata": {
    "deletable": true,
    "editable": true
   },
   "source": [
    "### Enron email network  - Directed  http://snap.stanford.edu/data/email-Enron.html"
   ]
  },
  {
   "cell_type": "markdown",
   "metadata": {
    "deletable": true,
    "editable": true
   },
   "source": [
    "Calcule la proporción entre número de links existentes  contra el número de links posibles."
   ]
  },
  {
   "cell_type": "code",
   "execution_count": 93,
   "metadata": {
    "collapsed": true,
    "deletable": true,
    "editable": true
   },
   "outputs": [],
   "source": [
    "F = open(\"Email-Enron.txt\",'r')\n",
    "Net1=nx.read_edgelist(F)\n",
    "F.close()"
   ]
  },
  {
   "cell_type": "code",
   "execution_count": 99,
   "metadata": {
    "collapsed": false,
    "deletable": true,
    "editable": true
   },
   "outputs": [
    {
     "name": "stdout",
     "output_type": "stream",
     "text": [
      "('Ratio: ', 0.00027309755503535)\n"
     ]
    }
   ],
   "source": [
    "n = Net1.number_of_nodes()\n",
    "posibles = Net1.number_of_nodes()*(Net1.number_of_nodes()-1.0)/2.0\n",
    "print ('Ratio: ', Net1.number_of_edges()/posibles)"
   ]
  },
  {
   "cell_type": "markdown",
   "metadata": {
    "deletable": true,
    "editable": true
   },
   "source": [
    "En la matriz de adyacencia de cada uno de las redes elegidas, cuantos ceros hay?"
   ]
  },
  {
   "cell_type": "code",
   "execution_count": 100,
   "metadata": {
    "collapsed": true,
    "deletable": true,
    "editable": true
   },
   "outputs": [],
   "source": [
    "ANet1 = nx.adjacency_matrix(Net1)"
   ]
  },
  {
   "cell_type": "code",
   "execution_count": 105,
   "metadata": {
    "collapsed": false,
    "deletable": true,
    "editable": true
   },
   "outputs": [
    {
     "name": "stdout",
     "output_type": "stream",
     "text": [
      "('La Red tiene: ', 1345935202, ' ceros')\n"
     ]
    }
   ],
   "source": [
    "nzeros=Net1.number_of_nodes()*Net1.number_of_nodes()-len(ANet1.data)\n",
    "print ('La Red tiene: ', nzeros, ' ceros')"
   ]
  },
  {
   "cell_type": "code",
   "execution_count": 113,
   "metadata": {
    "collapsed": true,
    "deletable": true,
    "editable": true
   },
   "outputs": [],
   "source": [
    "del Net1, n, posibles, ANet1, nzeros"
   ]
  },
  {
   "cell_type": "markdown",
   "metadata": {
    "deletable": true,
    "editable": true
   },
   "source": [
    "###  Social circles from Facebook (anonymized) - Undirected http://snap.stanford.edu/data/egonets-Facebook.html"
   ]
  },
  {
   "cell_type": "markdown",
   "metadata": {
    "deletable": true,
    "editable": true
   },
   "source": [
    "Calcule la proporción entre número de links existentes  contra el número de links posibles."
   ]
  },
  {
   "cell_type": "code",
   "execution_count": 106,
   "metadata": {
    "collapsed": true,
    "deletable": true,
    "editable": true
   },
   "outputs": [],
   "source": [
    "F = open(\"facebook_combined.txt\",'r')\n",
    "Net=nx.read_edgelist(F)\n",
    "F.close()"
   ]
  },
  {
   "cell_type": "code",
   "execution_count": 107,
   "metadata": {
    "collapsed": false,
    "deletable": true,
    "editable": true
   },
   "outputs": [
    {
     "name": "stdout",
     "output_type": "stream",
     "text": [
      "('Ratio: ', 0.010819963503439287)\n"
     ]
    }
   ],
   "source": [
    "n = Net.number_of_nodes()\n",
    "posibles = Net.number_of_nodes()*(Net.number_of_nodes()-1.0)/2.0\n",
    "print ('Ratio: ', Net.number_of_edges()/posibles)"
   ]
  },
  {
   "cell_type": "markdown",
   "metadata": {
    "deletable": true,
    "editable": true
   },
   "source": [
    "En la matriz de adyacencia de cada uno de las redes elegidas, cuantos ceros hay?"
   ]
  },
  {
   "cell_type": "code",
   "execution_count": 109,
   "metadata": {
    "collapsed": true,
    "deletable": true,
    "editable": true
   },
   "outputs": [],
   "source": [
    "ANet = nx.adjacency_matrix(Net)"
   ]
  },
  {
   "cell_type": "code",
   "execution_count": 110,
   "metadata": {
    "collapsed": false,
    "deletable": true,
    "editable": true
   },
   "outputs": [
    {
     "name": "stdout",
     "output_type": "stream",
     "text": [
      "('La Red tiene: ', 16137053, ' ceros')\n"
     ]
    }
   ],
   "source": [
    "nzeros=Net.number_of_nodes()*Net.number_of_nodes()-len(ANet.data)\n",
    "print ('La Red tiene: ', nzeros, ' ceros')"
   ]
  },
  {
   "cell_type": "code",
   "execution_count": 115,
   "metadata": {
    "collapsed": false,
    "deletable": true,
    "editable": true
   },
   "outputs": [],
   "source": [
    "del Net, n, posibles, ANet, nzeros"
   ]
  },
  {
   "cell_type": "markdown",
   "metadata": {
    "deletable": true,
    "editable": true
   },
   "source": [
    "###   Webgraph from the Google programming contest, 2002 - Directed   http://snap.stanford.edu/data/web-Google.html"
   ]
  },
  {
   "cell_type": "markdown",
   "metadata": {
    "deletable": true,
    "editable": true
   },
   "source": [
    "Calcule la proporción entre número de links existentes  contra el número de links posibles."
   ]
  },
  {
   "cell_type": "code",
   "execution_count": 116,
   "metadata": {
    "collapsed": true,
    "deletable": true,
    "editable": true
   },
   "outputs": [],
   "source": [
    "F = open(\"web-Google.txt\",'r')\n",
    "Net=nx.read_edgelist(F)\n",
    "F.close()"
   ]
  },
  {
   "cell_type": "code",
   "execution_count": 117,
   "metadata": {
    "collapsed": false,
    "deletable": true,
    "editable": true
   },
   "outputs": [
    {
     "name": "stdout",
     "output_type": "stream",
     "text": [
      "('Ratio: ', 1.1271891119695635e-05)\n"
     ]
    }
   ],
   "source": [
    "n = Net.number_of_nodes()\n",
    "posibles = Net.number_of_nodes()*(Net.number_of_nodes()-1.0)/2.0\n",
    "print ('Ratio: ', Net.number_of_edges()/posibles)"
   ]
  },
  {
   "cell_type": "markdown",
   "metadata": {
    "deletable": true,
    "editable": true
   },
   "source": [
    "En la matriz de adyacencia de cada uno de las redes elegidas, cuantos ceros hay?"
   ]
  },
  {
   "cell_type": "code",
   "execution_count": 118,
   "metadata": {
    "collapsed": true,
    "deletable": true,
    "editable": true
   },
   "outputs": [],
   "source": [
    "ANet = nx.adjacency_matrix(Net)"
   ]
  },
  {
   "cell_type": "code",
   "execution_count": 119,
   "metadata": {
    "collapsed": false,
    "deletable": true,
    "editable": true
   },
   "outputs": [
    {
     "name": "stdout",
     "output_type": "stream",
     "text": [
      "('La Red tiene: ', 766864614267, ' ceros')\n"
     ]
    }
   ],
   "source": [
    "nzeros=Net.number_of_nodes()*Net.number_of_nodes()-len(ANet.data)\n",
    "print ('La Red tiene: ', nzeros, ' ceros')"
   ]
  },
  {
   "cell_type": "code",
   "execution_count": 120,
   "metadata": {
    "collapsed": true,
    "deletable": true,
    "editable": true
   },
   "outputs": [],
   "source": [
    "del Net, n, posibles, ANet, nzeros"
   ]
  },
  {
   "cell_type": "markdown",
   "metadata": {
    "deletable": true,
    "editable": true
   },
   "source": [
    "## Ejercicio - Redes Bipartitas\n",
    "Defina una red bipartita y genere ambas proyecciones, explique qué son los nodos y links tanto de la red original como de las proyeccciones"
   ]
  },
  {
   "cell_type": "markdown",
   "metadata": {},
   "source": [
    "Se define una red donde los nodes E1, E2 y E3 son Estaciones de Bus, y se definen los nodos R101, R250, R161, R131 y R452 como rutas de buses."
   ]
  },
  {
   "cell_type": "code",
   "execution_count": 96,
   "metadata": {
    "collapsed": false,
    "deletable": true,
    "editable": true
   },
   "outputs": [],
   "source": [
    "B = nx.Graph()\n",
    "B.add_nodes_from(['E1','E2', 'E3'], bipartite=0)\n",
    "B.add_nodes_from(['R250', 'R161', 'R131', 'R452','R101'], bipartite=1)\n",
    "B.add_edges_from([('E1', 'R250'), ('E1', 'R452'), ('E3', 'R250'), ('E3', 'R131'), ('E3', 'R161'), ('E3', 'R452'), ('E2', 'R161'), ('E2', 'R101'),('E1', 'R131')])\n",
    "B1=nx.algorithms.bipartite.projected_graph(B, ['E1','E2', 'E3'])\n",
    "B2=nx.algorithms.bipartite.projected_graph(B,['R250', 'R161', 'R131', 'R452'])\n"
   ]
  },
  {
   "cell_type": "code",
   "execution_count": 97,
   "metadata": {
    "collapsed": false
   },
   "outputs": [
    {
     "data": {
      "image/png": "[encoded data removed]",
      "text/plain": [
       "<matplotlib.figure.Figure at 0x7ff99d024290>"
      ]
     },
     "metadata": {},
     "output_type": "display_data"
    }
   ],
   "source": [
    "value =np.zeros(len(B.nodes()))\n",
    "i = 0\n",
    "for node in B.nodes():\n",
    "    if  any(node == a for a in B1.nodes()):\n",
    "        value[i] = 0.25\n",
    "    if  any(node == a for a in B2.nodes()):\n",
    "        value[i] = 0.75   \n",
    "    i += 1\n",
    "\n",
    "\n",
    "fig, ax = plt.subplots(1, 3, num=1)\n",
    "plt.sca(ax[1])\n",
    "ax[1].set_title('Bipartita')\n",
    "nx.draw(B,  with_labels = True, cmap=plt.get_cmap('summer'), node_color=value)\n",
    "plt.sca(ax[0])\n",
    "ax[0].set_title('Proyeccion A')\n",
    "nx.draw(B1,  with_labels = True, cmap=plt.get_cmap('summer'), node_color=np.ones(len(B1.nodes()))*0.25)\n",
    "plt.sca(ax[2])\n",
    "nx.draw(B2,  with_labels = True, cmap=plt.get_cmap('summer'), node_color=0.75*np.ones(len(B2.nodes())))\n",
    "ax[2].set_title('Proyeccion B')\n",
    "\n",
    "plt.show()\n",
    "\n"
   ]
  },
  {
   "cell_type": "markdown",
   "metadata": {},
   "source": [
    "La proyección A representa la comunicación entre Estaciones mediante el flujo de las rutas de buses, La proyección B representa la posible interacción o \"encuentros\" entre las rutas de buses en función de las estaciones."
   ]
  },
  {
   "cell_type": "markdown",
   "metadata": {},
   "source": [
    "\n",
    "## Ejercicio - Paths\n",
    "\n",
    "Cree un grafo de 5 nodos con 5 enlaces. Elija dos nodos cualquiera e imprima:\n",
    "\n",
    "    5 Paths diferentes entre los nodos\n",
    "    El camino mas corto entre los nodos\n",
    "    El diámetro de la red\n",
    "    Un self-avoiding path\n",
    "\n"
   ]
  },
  {
   "cell_type": "code",
   "execution_count": 116,
   "metadata": {
    "collapsed": false
   },
   "outputs": [],
   "source": [
    "Nodes = [1, 2, 3, 4, 5]\n",
    "nEdges = 5"
   ]
  },
  {
   "cell_type": "code",
   "execution_count": 119,
   "metadata": {
    "collapsed": false,
    "deletable": true,
    "editable": true
   },
   "outputs": [],
   "source": [
    "temp = []\n",
    "for subset in itertools.combinations(Nodes, 2):\n",
    "    temp.append(subset)\n",
    "Edges = random.sample(temp, nEdges)"
   ]
  },
  {
   "cell_type": "code",
   "execution_count": 203,
   "metadata": {
    "collapsed": false,
    "deletable": true,
    "editable": true
   },
   "outputs": [
    {
     "data": {
      "text/plain": [
       "array([[2, 5],\n",
       "       [1, 4],\n",
       "       [3, 4],\n",
       "       [1, 3],\n",
       "       [2, 3]])"
      ]
     },
     "execution_count": 203,
     "metadata": {},
     "output_type": "execute_result"
    }
   ],
   "source": [
    "Edges"
   ]
  },
  {
   "cell_type": "code",
   "execution_count": 210,
   "metadata": {
    "collapsed": false
   },
   "outputs": [],
   "source": [
    "Grafo = {\n",
    "     1 : []\n",
    "   , 2 : []\n",
    "   , 3 : []\n",
    "   , 4 : []\n",
    "   , 5 : []\n",
    "    \n",
    "}\n",
    "for i in Edges:\n",
    "    Grafo[i[0]].append(i[1])\n",
    "    Grafo[i[1]].append(i[0])\n"
   ]
  },
  {
   "cell_type": "code",
   "execution_count": 245,
   "metadata": {
    "collapsed": false
   },
   "outputs": [],
   "source": [
    "def pathGen(Inicio, Fin):\n",
    "\n",
    "    flag=False\n",
    "\n",
    "    actual = Inicio\n",
    "    temp = []\n",
    "    cont = 0\n",
    "    while not flag:\n",
    "        temp.append(actual)\n",
    "        actual = random.sample(Grafo[actual], 1)[0]\n",
    "        if actual == Fin:\n",
    "            flag = True\n",
    "            temp.append(actual)\n",
    "            break  \n",
    "    return temp"
   ]
  },
  {
   "cell_type": "code",
   "execution_count": 246,
   "metadata": {
    "collapsed": false
   },
   "outputs": [
    {
     "name": "stdout",
     "output_type": "stream",
     "text": [
      "Un posible path entre el nodo 5 y 4 es:  [5, 2, 5, 2, 5, 2, 3, 1, 4]\n",
      "Un posible path entre el nodo 5 y 4 es:  [5, 2, 3, 2, 3, 2, 3, 2, 3, 2, 5, 2, 3, 2, 3, 2, 5, 2, 3, 4]\n",
      "Un posible path entre el nodo 5 y 4 es:  [5, 2, 5, 2, 5, 2, 3, 4]\n",
      "Un posible path entre el nodo 5 y 4 es:  [5, 2, 3, 2, 5, 2, 5, 2, 5, 2, 3, 4]\n",
      "Un posible path entre el nodo 5 y 4 es:  [5, 2, 3, 1, 4]\n"
     ]
    }
   ],
   "source": [
    "print \"Un posible path entre el nodo 5 y 4 es: \", pathGen(5,4)\n",
    "print \"Un posible path entre el nodo 5 y 4 es: \", pathGen(5,4)\n",
    "print \"Un posible path entre el nodo 5 y 4 es: \", pathGen(5,4)\n",
    "print \"Un posible path entre el nodo 5 y 4 es: \", pathGen(5,4)\n",
    "print \"Un posible path entre el nodo 5 y 4 es: \", pathGen(5,4)"
   ]
  },
  {
   "cell_type": "code",
   "execution_count": 212,
   "metadata": {
    "collapsed": false
   },
   "outputs": [
    {
     "name": "stdout",
     "output_type": "stream",
     "text": [
      "El camino mas corto entre los nodos 5 y 4 es:  3\n"
     ]
    }
   ],
   "source": [
    "visited = {i : False for i in xrange(1, 6)}\n",
    "\n",
    "def shortest(a, b, length = 0):\n",
    "    global visited, Grafo\n",
    "    if b == a : return length\n",
    "   \n",
    "    minL = float('inf')\n",
    "    for v in Grafo[a]:\n",
    "        if not visited[v]:\n",
    "            visited[v] = True\n",
    "            minL = min(minL, 1 + shortest(v, b))\n",
    "            visited[v] = False\n",
    "    return minL\n",
    "\n",
    "print 'El camino mas corto entre los nodos 5 y 4 es: ', shortest(5, 4)"
   ]
  },
  {
   "cell_type": "code",
   "execution_count": 251,
   "metadata": {
    "collapsed": false
   },
   "outputs": [
    {
     "name": "stdout",
     "output_type": "stream",
     "text": [
      "La diametro de la Red es,  3\n"
     ]
    }
   ],
   "source": [
    "temp = []\n",
    "\n",
    "for subset in itertools.combinations(Nodes, 2):\n",
    "    temp.append(subset)\n",
    "\n",
    "maxL = 0\n",
    "for i in temp:\n",
    "    maxL=max(maxL,shortest(i[0], i[1]))\n",
    "print 'La diametro de la Red es, ', maxL"
   ]
  },
  {
   "cell_type": "code",
   "execution_count": 258,
   "metadata": {
    "collapsed": false
   },
   "outputs": [],
   "source": [
    "def avoidpathGen(Inicio, Fin):\n",
    "\n",
    "    flag=False\n",
    "\n",
    "    actual = Inicio\n",
    "    temp = []\n",
    "    past = []\n",
    "    cont = 0\n",
    "    while not flag:\n",
    "        temp.append(actual)\n",
    "        past.append(actual)\n",
    "        temp2 = random.sample(Grafo[actual], 1)[0]\n",
    "        while not len(np.intersect1d(past,temp2)) == 0:\n",
    "            temp2 = random.sample(Grafo[actual], 1)[0]\n",
    "        actual = temp2\n",
    "        if actual == Fin:\n",
    "            flag = True\n",
    "            temp.append(actual)\n",
    "            break  \n",
    "    return temp"
   ]
  },
  {
   "cell_type": "code",
   "execution_count": 304,
   "metadata": {
    "collapsed": false
   },
   "outputs": [
    {
     "name": "stdout",
     "output_type": "stream",
     "text": [
      "Un self-avoiding path del nodo 2 a 4 es:  [2, 3, 1, 4]\n"
     ]
    }
   ],
   "source": [
    "print 'Un self-avoiding path del nodo 2 a 4 es: ', avoidpathGen(2,4)"
   ]
  },
  {
   "cell_type": "markdown",
   "metadata": {},
   "source": [
    "\n",
    "## Ejercicio - Componentes\n",
    "Baje una red real (http://snap.stanford.edu/data/index.html) y lea el archivo\n"
   ]
  },
  {
   "cell_type": "markdown",
   "metadata": {},
   "source": [
    "Enron email network  - Directed  http://snap.stanford.edu/data/email-Enron.html"
   ]
  },
  {
   "cell_type": "code",
   "execution_count": 308,
   "metadata": {
    "collapsed": false
   },
   "outputs": [],
   "source": [
    "F = open(\"Email-Enron.txt\",'r')\n",
    "Net1=nx.read_edgelist(F)\n",
    "F.close()"
   ]
  },
  {
   "cell_type": "code",
   "execution_count": 314,
   "metadata": {
    "collapsed": false
   },
   "outputs": [
    {
     "data": {
      "text/plain": [
       "1065"
      ]
     },
     "execution_count": 314,
     "metadata": {},
     "output_type": "execute_result"
    }
   ],
   "source": [
    "nx.number_connected_components(Net1)"
   ]
  },
  {
   "cell_type": "code",
   "execution_count": 316,
   "metadata": {
    "collapsed": false
   },
   "outputs": [
    {
     "ename": "TypeError",
     "evalue": "'module' object is not callable",
     "output_type": "error",
     "traceback": [
      "\u001b[0;31m---------------------------------------------------------------------------\u001b[0m",
      "\u001b[0;31mTypeError\u001b[0m                                 Traceback (most recent call last)",
      "\u001b[0;32m<ipython-input-316-b3eeba61e3ae>\u001b[0m in \u001b[0;36m<module>\u001b[0;34m()\u001b[0m\n\u001b[0;32m----> 1\u001b[0;31m \u001b[0mnx\u001b[0m\u001b[0;34m.\u001b[0m\u001b[0mcomponents\u001b[0m\u001b[0;34m(\u001b[0m\u001b[0mNet1\u001b[0m\u001b[0;34m)\u001b[0m\u001b[0;34m\u001b[0m\u001b[0m\n\u001b[0m",
      "\u001b[0;31mTypeError\u001b[0m: 'module' object is not callable"
     ]
    }
   ],
   "source": []
  }
 ],
 "metadata": {
  "kernelspec": {
   "display_name": "Python 2",
   "language": "python",
   "name": "python2"
  },
  "language_info": {
   "codemirror_mode": {
    "name": "ipython",
    "version": 2
   },
   "file_extension": ".py",
   "mimetype": "text/x-python",
   "name": "python",
   "nbconvert_exporter": "python",
   "pygments_lexer": "ipython2",
   "version": "2.7.13"
  }
 },
 "nbformat": 4,
 "nbformat_minor": 2
}
