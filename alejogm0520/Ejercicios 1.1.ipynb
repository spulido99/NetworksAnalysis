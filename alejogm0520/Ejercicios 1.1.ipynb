{
 "cells": [
  {
   "cell_type": "markdown",
   "metadata": {
    "deletable": true,
    "editable": true
   },
   "source": [
    "# Ejercicios Graphs, Paths & Components\n",
    "\n",
    "Ejercicios básicos de Grafos.\n",
    "\n",
    "## Ejercicio - Número de Nodos y Enlaces\n",
    "\n",
    "(resuelva en código propio y usando la librería NerworkX o iGraph)\n",
    "\n",
    "Cuente en número de nodos y enalces con los siguientes links (asumiendo que el grafo puede ser dirigido y no dirigido)\n"
   ]
  },
  {
   "cell_type": "code",
   "execution_count": 2,
   "metadata": {
    "collapsed": true,
    "deletable": true,
    "editable": true
   },
   "outputs": [],
   "source": [
    "edges = set([(1, 2), (3, 1), (3, 2), (2, 4)])"
   ]
  },
  {
   "cell_type": "code",
   "execution_count": 3,
   "metadata": {
    "collapsed": true,
    "deletable": true,
    "editable": true
   },
   "outputs": [],
   "source": [
    "import networkx as nx\n",
    "import matplotlib.pyplot as plt\n",
    "import numpy as np\n",
    "import scipy as sc\n",
    "import itertools\n",
    "import random"
   ]
  },
  {
   "cell_type": "markdown",
   "metadata": {
    "deletable": true,
    "editable": true
   },
   "source": [
    "### Usando la libreria"
   ]
  },
  {
   "cell_type": "code",
   "execution_count": 3,
   "metadata": {
    "collapsed": false,
    "deletable": true,
    "editable": true
   },
   "outputs": [
    {
     "data": {
      "image/png": "[encoded data removed]",
      "text/plain": [
       "<matplotlib.figure.Figure at 0x7fc648409c10>"
      ]
     },
     "metadata": {},
     "output_type": "display_data"
    },
    {
     "name": "stdout",
     "output_type": "stream",
     "text": [
      "('The graph is directed?: ', False)\n('Number of edges: ', 8)\n('Number of nodes: ', 4)\n"
     ]
    }
   ],
   "source": [
    "gr = nx.Graph()\n",
    "for i in range(1,5):\n",
    "    gr.add_node(i)\n",
    "for i in edges:\n",
    "    gr.add_edge(i[0], i[1])\n",
    "    \n",
    "nx.draw_spectral(gr)\n",
    "\n",
    "plt.show()\n",
    "\n",
    "print ('The graph is directed?: ', nx.is_directed(gr))\n",
    "if nx.is_directed(gr) is True:\n",
    "    print ('Number of edges: ', gr.number_of_edges())\n",
    "else:\n",
    "    print ('Number of edges: ', gr.number_of_edges()*2)\n",
    "\n",
    "print ('Number of nodes: ', gr.number_of_nodes())"
   ]
  },
  {
   "cell_type": "code",
   "execution_count": 4,
   "metadata": {
    "collapsed": false,
    "deletable": true,
    "editable": true
   },
   "outputs": [
    {
     "data": {
      "image/png": "[encoded data removed]",
      "text/plain": [
       "<matplotlib.figure.Figure at 0x7fc64839b650>"
      ]
     },
     "metadata": {},
     "output_type": "display_data"
    },
    {
     "name": "stdout",
     "output_type": "stream",
     "text": [
      "('The graph is directed?: ', True)\n('Number of edges: ', 4)\n('Number of nodes: ', 4)\n"
     ]
    }
   ],
   "source": [
    "gr2 = nx.DiGraph()\n",
    "for i in range(1,5):\n",
    "    gr2.add_node(i)\n",
    "for i in edges:\n",
    "    gr2.add_edge(i[0], i[1])\n",
    "\n",
    "nx.draw_spectral(gr2)\n",
    "\n",
    "plt.show()\n",
    "\n",
    "print ('The graph is directed?: ', nx.is_directed(gr2))\n",
    "if nx.is_directed(gr2) is True:\n",
    "    print ('Number of edges: ', gr2.number_of_edges())\n",
    "else:\n",
    "    print ('Number of edges: ', gr2.number_of_edges()*2)\n",
    "\n",
    "print ('Number of nodes: ', gr2.number_of_nodes())"
   ]
  },
  {
   "cell_type": "markdown",
   "metadata": {
    "deletable": true,
    "editable": true
   },
   "source": [
    "### Propio"
   ]
  },
  {
   "cell_type": "code",
   "execution_count": 5,
   "metadata": {
    "collapsed": false,
    "deletable": true,
    "editable": true
   },
   "outputs": [
    {
     "name": "stdout",
     "output_type": "stream",
     "text": [
      "('The graph is directed?: ', False)\n('Number of edges: ', 8)\n('Number of nodes: ', 4)\n"
     ]
    }
   ],
   "source": [
    "Directed=False\n",
    "print ('The graph is directed?: ', Directed)\n",
    "\n",
    "if Directed is True:\n",
    "    print ('Number of edges: ', len(edges))\n",
    "else:\n",
    "    print ('Number of edges: ', 2*len(edges))\n",
    "\n",
    "temp = []\n",
    "for i in edges:\n",
    "    temp.append(i[0])\n",
    "    temp.append(i[1])\n",
    "temp = np.array(temp)\n",
    "\n",
    "print ('Number of nodes: ', np.size(np.unique(temp)))"
   ]
  },
  {
   "cell_type": "code",
   "execution_count": 6,
   "metadata": {
    "collapsed": false,
    "deletable": true,
    "editable": true
   },
   "outputs": [
    {
     "name": "stdout",
     "output_type": "stream",
     "text": [
      "('The graph is directed?: ', True)\n('Number of edges: ', 4)\n('Number of nodes: ', 4)\n"
     ]
    }
   ],
   "source": [
    "Directed=True\n",
    "print ('The graph is directed?: ', Directed)\n",
    "\n",
    "if Directed is True:\n",
    "    print ('Number of edges: ', len(edges))\n",
    "else:\n",
    "    print ('Number of edges: ', 2*len(edges))\n",
    "\n",
    "temp = []\n",
    "for i in edges:\n",
    "    temp.append(i[0])\n",
    "    temp.append(i[1])\n",
    "temp = np.array(temp)\n",
    "\n",
    "print ('Number of nodes: ', np.size(np.unique(temp)))"
   ]
  },
  {
   "cell_type": "code",
   "execution_count": 7,
   "metadata": {
    "collapsed": false,
    "deletable": true,
    "editable": true
   },
   "outputs": [],
   "source": [
    "del temp, Directed"
   ]
  },
  {
   "cell_type": "markdown",
   "metadata": {
    "deletable": true,
    "editable": true
   },
   "source": [
    "## Ejercicio - Matriz de Adyacencia\n",
    "\n",
    "(resuelva en código propio y usando la librería NetworkX (python) o iGraph (R))\n",
    "\n",
    "Cree la matriz de adyacencia del grafo del ejercicio anterior (para dirigido y no-dirigido)"
   ]
  },
  {
   "cell_type": "markdown",
   "metadata": {
    "deletable": true,
    "editable": true
   },
   "source": [
    "### Usando Librería"
   ]
  },
  {
   "cell_type": "code",
   "execution_count": 8,
   "metadata": {
    "collapsed": false,
    "deletable": true,
    "editable": true
   },
   "outputs": [
    {
     "name": "stdout",
     "output_type": "stream",
     "text": [
      "No Dirigida\n  (0, 1)\t1\n  (0, 2)\t1\n  (1, 0)\t1\n  (1, 2)\t1\n  (1, 3)\t1\n  (2, 0)\t1\n  (2, 1)\t1\n  (3, 1)\t1\n"
     ]
    }
   ],
   "source": [
    "A = nx.adjacency_matrix(gr)\n",
    "print ('No Dirigida')\n",
    "print(A)"
   ]
  },
  {
   "cell_type": "code",
   "execution_count": 9,
   "metadata": {
    "collapsed": false,
    "deletable": true,
    "editable": true
   },
   "outputs": [
    {
     "name": "stdout",
     "output_type": "stream",
     "text": [
      "Dirigida\n  (0, 1)\t1\n  (1, 3)\t1\n  (2, 0)\t1\n  (2, 1)\t1\n"
     ]
    }
   ],
   "source": [
    "A = nx.adjacency_matrix(gr2)\n",
    "print ('Dirigida')\n",
    "print(A)"
   ]
  },
  {
   "cell_type": "markdown",
   "metadata": {
    "deletable": true,
    "editable": true
   },
   "source": [
    "### Propia"
   ]
  },
  {
   "cell_type": "code",
   "execution_count": 10,
   "metadata": {
    "collapsed": true,
    "deletable": true,
    "editable": true
   },
   "outputs": [],
   "source": [
    "def adjmat(ed, directed):\n",
    "    if directed is True:\n",
    "        temp_d1 = []\n",
    "        temp_d2 = []\n",
    "        for i in ed:\n",
    "            temp_d1.append(i[0])\n",
    "            temp_d2.append(i[1])\n",
    "        B=sc.sparse.csr_matrix((np.ones(len(temp_d1), dtype='int'), (temp_d1, temp_d2)))\n",
    "    else:\n",
    "        temp_d1 = []\n",
    "        temp_d2 = []\n",
    "        for i in ed:\n",
    "            temp_d1.append(i[0])\n",
    "            temp_d1.append(i[1])\n",
    "            temp_d2.append(i[1])\n",
    "            temp_d2.append(i[0])\n",
    "        B=sc.sparse.csr_matrix((np.ones(len(temp_d1), dtype='int'), (temp_d1, temp_d2)))\n",
    "    return B"
   ]
  },
  {
   "cell_type": "code",
   "execution_count": 13,
   "metadata": {
    "collapsed": false,
    "deletable": true,
    "editable": true
   },
   "outputs": [
    {
     "name": "stdout",
     "output_type": "stream",
     "text": [
      "Dirigida\n  (1, 2)\t1\n  (2, 4)\t1\n  (3, 1)\t1\n  (3, 2)\t1\n"
     ]
    }
   ],
   "source": [
    "A2 = adjmat(edges, True)\n",
    "print ('Dirigida')\n",
    "print (A2)"
   ]
  },
  {
   "cell_type": "code",
   "execution_count": 14,
   "metadata": {
    "collapsed": false,
    "deletable": true,
    "editable": true
   },
   "outputs": [
    {
     "name": "stdout",
     "output_type": "stream",
     "text": [
      "No Dirigida\n  (1, 2)\t1\n  (1, 3)\t1\n  (2, 1)\t1\n  (2, 3)\t1\n  (2, 4)\t1\n  (3, 1)\t1\n  (3, 2)\t1\n  (4, 2)\t1\n"
     ]
    }
   ],
   "source": [
    "A2 = adjmat(edges, False)\n",
    "print ('No Dirigida')\n",
    "print (A2)"
   ]
  },
  {
   "cell_type": "code",
   "execution_count": 15,
   "metadata": {
    "collapsed": true,
    "deletable": true,
    "editable": true
   },
   "outputs": [],
   "source": [
    "del A, A2, gr, gr2"
   ]
  },
  {
   "cell_type": "markdown",
   "metadata": {
    "deletable": true,
    "editable": true
   },
   "source": [
    "## Ejercicio - Sparseness \n"
   ]
  },
  {
   "cell_type": "markdown",
   "metadata": {
    "deletable": true,
    "editable": true
   },
   "source": [
    "### Enron email network  - Directed  http://snap.stanford.edu/data/email-Enron.html"
   ]
  },
  {
   "cell_type": "markdown",
   "metadata": {
    "deletable": true,
    "editable": true
   },
   "source": [
    "Calcule la proporción entre número de links existentes  contra el número de links posibles."
   ]
  },
  {
   "cell_type": "code",
   "execution_count": 16,
   "metadata": {
    "collapsed": true,
    "deletable": true,
    "editable": true
   },
   "outputs": [],
   "source": [
    "F = open(\"Email-Enron.txt\",'r')\n",
    "Net1=nx.read_edgelist(F)\n",
    "F.close()"
   ]
  },
  {
   "cell_type": "code",
   "execution_count": 99,
   "metadata": {
    "collapsed": false,
    "deletable": true,
    "editable": true
   },
   "outputs": [
    {
     "name": "stdout",
     "output_type": "stream",
     "text": [
      "('Ratio: ', 0.00027309755503535)\n"
     ]
    }
   ],
   "source": [
    "n = Net1.number_of_nodes()\n",
    "posibles = Net1.number_of_nodes()*(Net1.number_of_nodes()-1.0)/2.0\n",
    "print ('Ratio: ', Net1.number_of_edges()/posibles)"
   ]
  },
  {
   "cell_type": "markdown",
   "metadata": {
    "deletable": true,
    "editable": true
   },
   "source": [
    "En la matriz de adyacencia de cada uno de las redes elegidas, cuantos ceros hay?"
   ]
  },
  {
   "cell_type": "code",
   "execution_count": 18,
   "metadata": {
    "collapsed": true,
    "deletable": true,
    "editable": true
   },
   "outputs": [],
   "source": [
    "ANet1 = nx.adjacency_matrix(Net1)"
   ]
  },
  {
   "cell_type": "code",
   "execution_count": 19,
   "metadata": {
    "collapsed": false,
    "deletable": true,
    "editable": true
   },
   "outputs": [
    {
     "name": "stdout",
     "output_type": "stream",
     "text": [
      "('La Red tiene: ', 1345935202, ' ceros')\n"
     ]
    }
   ],
   "source": [
    "nzeros=Net1.number_of_nodes()*Net1.number_of_nodes()-len(ANet1.data)\n",
    "print ('La Red tiene: ', nzeros, ' ceros')"
   ]
  },
  {
   "cell_type": "code",
   "execution_count": 21,
   "metadata": {
    "collapsed": true,
    "deletable": true,
    "editable": true
   },
   "outputs": [
    {
     "ename": "NameError",
     "evalue": "name 'Net1' is not defined",
     "traceback": [
      "\u001b[0;31m\u001b[0m",
      "\u001b[0;31mNameError\u001b[0mTraceback (most recent call last)",
      "\u001b[0;32m<ipython-input-21-9d6d4762ee3b>\u001b[0m in \u001b[0;36m<module>\u001b[0;34m()\u001b[0m\n\u001b[0;32m----> 1\u001b[0;31m \u001b[0;32mdel\u001b[0m \u001b[0mNet1\u001b[0m\u001b[0;34m,\u001b[0m \u001b[0mposibles\u001b[0m\u001b[0;34m,\u001b[0m \u001b[0mANet1\u001b[0m\u001b[0;34m,\u001b[0m \u001b[0mnzeros\u001b[0m\u001b[0;34m\u001b[0m\u001b[0m\n\u001b[0m",
      "\u001b[0;31mNameError\u001b[0m: name 'Net1' is not defined"
     ],
     "output_type": "error"
    }
   ],
   "source": [
    "del Net1, posibles, ANet1, nzeros"
   ]
  },
  {
   "cell_type": "markdown",
   "metadata": {
    "deletable": true,
    "editable": true
   },
   "source": [
    "###  Social circles from Facebook (anonymized) - Undirected http://snap.stanford.edu/data/egonets-Facebook.html"
   ]
  },
  {
   "cell_type": "markdown",
   "metadata": {
    "deletable": true,
    "editable": true
   },
   "source": [
    "Calcule la proporción entre número de links existentes  contra el número de links posibles."
   ]
  },
  {
   "cell_type": "code",
   "execution_count": 22,
   "metadata": {
    "collapsed": true,
    "deletable": true,
    "editable": true
   },
   "outputs": [],
   "source": [
    "F = open(\"facebook_combined.txt\",'r')\n",
    "Net=nx.read_edgelist(F)\n",
    "F.close()"
   ]
  },
  {
   "cell_type": "code",
   "execution_count": 23,
   "metadata": {
    "collapsed": false,
    "deletable": true,
    "editable": true
   },
   "outputs": [
    {
     "name": "stdout",
     "output_type": "stream",
     "text": [
      "('Ratio: ', 0.010819963503439287)\n"
     ]
    }
   ],
   "source": [
    "n = Net.number_of_nodes()\n",
    "posibles = Net.number_of_nodes()*(Net.number_of_nodes()-1.0)/2.0\n",
    "print ('Ratio: ', Net.number_of_edges()/posibles)"
   ]
  },
  {
   "cell_type": "markdown",
   "metadata": {
    "deletable": true,
    "editable": true
   },
   "source": [
    "En la matriz de adyacencia de cada uno de las redes elegidas, cuantos ceros hay?"
   ]
  },
  {
   "cell_type": "code",
   "execution_count": 24,
   "metadata": {
    "collapsed": true,
    "deletable": true,
    "editable": true
   },
   "outputs": [],
   "source": [
    "ANet = nx.adjacency_matrix(Net)"
   ]
  },
  {
   "cell_type": "code",
   "execution_count": 25,
   "metadata": {
    "collapsed": false,
    "deletable": true,
    "editable": true
   },
   "outputs": [
    {
     "name": "stdout",
     "output_type": "stream",
     "text": [
      "('La Red tiene: ', 16137053, ' ceros')\n"
     ]
    }
   ],
   "source": [
    "nzeros=Net.number_of_nodes()*Net.number_of_nodes()-len(ANet.data)\n",
    "print ('La Red tiene: ', nzeros, ' ceros')"
   ]
  },
  {
   "cell_type": "code",
   "execution_count": 26,
   "metadata": {
    "collapsed": false,
    "deletable": true,
    "editable": true
   },
   "outputs": [],
   "source": [
    "del Net, n, posibles, ANet, nzeros"
   ]
  },
  {
   "cell_type": "markdown",
   "metadata": {
    "deletable": true,
    "editable": true
   },
   "source": [
    "###   Webgraph from the Google programming contest, 2002 - Directed   http://snap.stanford.edu/data/web-Google.html"
   ]
  },
  {
   "cell_type": "markdown",
   "metadata": {
    "deletable": true,
    "editable": true
   },
   "source": [
    "Calcule la proporción entre número de links existentes  contra el número de links posibles."
   ]
  },
  {
   "cell_type": "code",
   "execution_count": 27,
   "metadata": {
    "collapsed": true,
    "deletable": true,
    "editable": true
   },
   "outputs": [],
   "source": [
    "F = open(\"web-Google.txt\",'r')\n",
    "Net=nx.read_edgelist(F)\n",
    "F.close()"
   ]
  },
  {
   "cell_type": "code",
   "execution_count": 29,
   "metadata": {
    "collapsed": false,
    "deletable": true,
    "editable": true
   },
   "outputs": [
    {
     "name": "stdout",
     "output_type": "stream",
     "text": [
      "('Ratio: ', 1.1271891119695635e-05)\n"
     ]
    }
   ],
   "source": [
    "n = Net.number_of_nodes()\n",
    "posibles = Net.number_of_nodes()*(Net.number_of_nodes()-1.0)/2.0\n",
    "print ('Ratio: ', Net.number_of_edges()/posibles)"
   ]
  },
  {
   "cell_type": "markdown",
   "metadata": {
    "deletable": true,
    "editable": true
   },
   "source": [
    "En la matriz de adyacencia de cada uno de las redes elegidas, cuantos ceros hay?"
   ]
  },
  {
   "cell_type": "code",
   "execution_count": 30,
   "metadata": {
    "collapsed": true,
    "deletable": true,
    "editable": true
   },
   "outputs": [],
   "source": [
    "ANet = nx.adjacency_matrix(Net)"
   ]
  },
  {
   "cell_type": "code",
   "execution_count": 31,
   "metadata": {
    "collapsed": false,
    "deletable": true,
    "editable": true
   },
   "outputs": [
    {
     "name": "stdout",
     "output_type": "stream",
     "text": [
      "('La Red tiene: ', 766864614267, ' ceros')\n"
     ]
    }
   ],
   "source": [
    "nzeros=Net.number_of_nodes()*Net.number_of_nodes()-len(ANet.data)\n",
    "print ('La Red tiene: ', nzeros, ' ceros')"
   ]
  },
  {
   "cell_type": "code",
   "execution_count": 33,
   "metadata": {
    "collapsed": true,
    "deletable": true,
    "editable": true
   },
   "outputs": [
    {
     "ename": "NameError",
     "evalue": "name 'Net' is not defined",
     "traceback": [
      "\u001b[0;31m\u001b[0m",
      "\u001b[0;31mNameError\u001b[0mTraceback (most recent call last)",
      "\u001b[0;32m<ipython-input-33-6e7e2d7ac48f>\u001b[0m in \u001b[0;36m<module>\u001b[0;34m()\u001b[0m\n\u001b[0;32m----> 1\u001b[0;31m \u001b[0;32mdel\u001b[0m \u001b[0mNet\u001b[0m\u001b[0;34m,\u001b[0m \u001b[0mn\u001b[0m\u001b[0;34m,\u001b[0m \u001b[0mposibles\u001b[0m\u001b[0;34m,\u001b[0m \u001b[0mANet\u001b[0m\u001b[0;34m,\u001b[0m \u001b[0mnzeros\u001b[0m\u001b[0;34m\u001b[0m\u001b[0m\n\u001b[0m",
      "\u001b[0;31mNameError\u001b[0m: name 'Net' is not defined"
     ],
     "output_type": "error"
    }
   ],
   "source": [
    "del Net, n, posibles, ANet, nzeros"
   ]
  },
  {
   "cell_type": "markdown",
   "metadata": {
    "deletable": true,
    "editable": true
   },
   "source": [
    "## Ejercicio - Redes Bipartitas\n",
    "Defina una red bipartita y genere ambas proyecciones, explique qué son los nodos y links tanto de la red original como de las proyeccciones"
   ]
  },
  {
   "cell_type": "markdown",
   "metadata": {},
   "source": [
    "Se define una red donde los nodes E1, E2 y E3 son Estaciones de Bus, y se definen los nodos R101, R250, R161, R131 y R452 como rutas de buses."
   ]
  },
  {
   "cell_type": "code",
   "execution_count": 34,
   "metadata": {
    "collapsed": false,
    "deletable": true,
    "editable": true
   },
   "outputs": [],
   "source": [
    "B = nx.Graph()\n",
    "B.add_nodes_from(['E1','E2', 'E3'], bipartite=0)\n",
    "B.add_nodes_from(['R250', 'R161', 'R131', 'R452','R101'], bipartite=1)\n",
    "B.add_edges_from([('E1', 'R250'), ('E1', 'R452'), ('E3', 'R250'), ('E3', 'R131'), ('E3', 'R161'), ('E3', 'R452'), ('E2', 'R161'), ('E2', 'R101'),('E1', 'R131')])\n",
    "B1=nx.algorithms.bipartite.projected_graph(B, ['E1','E2', 'E3'])\n",
    "B2=nx.algorithms.bipartite.projected_graph(B,['R250', 'R161', 'R131', 'R452'])"
   ]
  },
  {
   "cell_type": "code",
   "execution_count": 35,
   "metadata": {
    "collapsed": false
   },
   "outputs": [
    {
     "data": {
      "image/png": "[encoded data removed]",
      "text/plain": [
       "<matplotlib.figure.Figure at 0x7fc648328410>"
      ]
     },
     "metadata": {},
     "output_type": "display_data"
    }
   ],
   "source": [
    "value =np.zeros(len(B.nodes()))\n",
    "i = 0\n",
    "for node in B.nodes():\n",
    "    if  any(node == a for a in B1.nodes()):\n",
    "        value[i] = 0.25\n",
    "    if  any(node == a for a in B2.nodes()):\n",
    "        value[i] = 0.75   \n",
    "    i += 1\n",
    "\n",
    "\n",
    "fig, ax = plt.subplots(1, 3, num=1)\n",
    "plt.sca(ax[1])\n",
    "ax[1].set_title('Bipartita')\n",
    "nx.draw(B,  with_labels = True, cmap=plt.get_cmap('summer'), node_color=value)\n",
    "plt.sca(ax[0])\n",
    "ax[0].set_title('Proyeccion A')\n",
    "nx.draw(B1,  with_labels = True, cmap=plt.get_cmap('summer'), node_color=np.ones(len(B1.nodes()))*0.25)\n",
    "plt.sca(ax[2])\n",
    "nx.draw(B2,  with_labels = True, cmap=plt.get_cmap('summer'), node_color=0.75*np.ones(len(B2.nodes())))\n",
    "ax[2].set_title('Proyeccion B')\n",
    "\n",
    "plt.show()"
   ]
  },
  {
   "cell_type": "markdown",
   "metadata": {},
   "source": [
    "La proyección A representa la comunicación entre Estaciones mediante el flujo de las rutas de buses, La proyección B representa la posible interacción o \"encuentros\" entre las rutas de buses en función de las estaciones."
   ]
  },
  {
   "cell_type": "markdown",
   "metadata": {},
   "source": [
    "\n",
    "## Ejercicio - Paths\n",
    "\n",
    "Cree un grafo de 5 nodos con 5 enlaces. Elija dos nodos cualquiera e imprima:\n",
    "\n",
    "    5 Paths diferentes entre los nodos\n",
    "    El camino mas corto entre los nodos\n",
    "    El diámetro de la red\n",
    "    Un self-avoiding path\n",
    "\n"
   ]
  },
  {
   "cell_type": "code",
   "execution_count": 36,
   "metadata": {
    "collapsed": false
   },
   "outputs": [],
   "source": [
    "Nodes = [1, 2, 3, 4, 5]\n",
    "nEdges = 5"
   ]
  },
  {
   "cell_type": "code",
   "execution_count": 46,
   "metadata": {
    "collapsed": false,
    "deletable": true,
    "editable": true
   },
   "outputs": [],
   "source": [
    "temp = []\n",
    "for subset in itertools.combinations(Nodes, 2):\n",
    "    temp.append(subset)\n",
    "Edges = random.sample(temp, nEdges)"
   ]
  },
  {
   "cell_type": "code",
   "execution_count": 50,
   "metadata": {
    "collapsed": false,
    "deletable": true,
    "editable": true
   },
   "outputs": [
    {
     "data": {
      "image/png": "[encoded data removed]",
      "text/plain": [
       "<matplotlib.figure.Figure at 0x7fc645e49710>"
      ]
     },
     "metadata": {},
     "output_type": "display_data"
    }
   ],
   "source": [
    "Edges\n",
    "G = nx.Graph()\n",
    "G.add_edges_from(Edges)\n",
    "nx.draw(G, with_labels = True)\n",
    "plt.show()"
   ]
  },
  {
   "cell_type": "code",
   "execution_count": 51,
   "metadata": {
    "collapsed": false
   },
   "outputs": [],
   "source": [
    "Grafo = {\n",
    "     1 : []\n",
    "   , 2 : []\n",
    "   , 3 : []\n",
    "   , 4 : []\n",
    "   , 5 : []\n",
    "    \n",
    "}\n",
    "for i in Edges:\n",
    "    Grafo[i[0]].append(i[1])\n",
    "    Grafo[i[1]].append(i[0])"
   ]
  },
  {
   "cell_type": "code",
   "execution_count": 52,
   "metadata": {
    "collapsed": false
   },
   "outputs": [],
   "source": [
    "def pathGen(Inicio, Fin):\n",
    "\n",
    "    flag=False\n",
    "\n",
    "    actual = Inicio\n",
    "    temp = []\n",
    "    cont = 0\n",
    "    while not flag:\n",
    "        temp.append(actual)\n",
    "        actual = random.sample(Grafo[actual], 1)[0]\n",
    "        if actual == Fin:\n",
    "            flag = True\n",
    "            temp.append(actual)\n",
    "            break  \n",
    "    return temp"
   ]
  },
  {
   "cell_type": "code",
   "execution_count": 54,
   "metadata": {
    "collapsed": false
   },
   "outputs": [
    {
     "name": "stdout",
     "output_type": "stream",
     "text": [
      "Un posible path entre el nodo 5 y 4 es:  [5, 4, 2, 4, 1, 4, 2, 4, 5, 4, 5, 4, 5, 4, 5, 4, 2, 3]\nUn posible path entre el nodo 5 y 4 es:  [5, 4, 5, 4, 5, 4, 1, 3]\nUn posible path entre el nodo 5 y 4 es:  [5, 4, 2, 4, 1, 3]\nUn posible path entre el nodo 5 y 4 es:  [5, 4, 5, 4, 1, 4, 1, 4, 5, 4, 2, 3]\nUn posible path entre el nodo 5 y 4 es:  [5, 4, 5, 4, 2, 4, 5, 4, 5, 4, 2, 3]\n"
     ]
    }
   ],
   "source": [
    "print \"Un posible path entre el nodo 5 y 4 es: \", pathGen(5,3)\n",
    "print \"Un posible path entre el nodo 5 y 4 es: \", pathGen(5,3)\n",
    "print \"Un posible path entre el nodo 5 y 4 es: \", pathGen(5,3)\n",
    "print \"Un posible path entre el nodo 5 y 4 es: \", pathGen(5,3)\n",
    "print \"Un posible path entre el nodo 5 y 4 es: \", pathGen(5,3)"
   ]
  },
  {
   "cell_type": "code",
   "execution_count": 57,
   "metadata": {
    "collapsed": false
   },
   "outputs": [
    {
     "name": "stdout",
     "output_type": "stream",
     "text": [
      "El camino mas corto entre los nodos 5 y 3 es:  3\n"
     ]
    }
   ],
   "source": [
    "visited = {i : False for i in xrange(1, 6)}\n",
    "\n",
    "def shortest(a, b, length = 0):\n",
    "    global visited, Grafo\n",
    "    if b == a : return length\n",
    "   \n",
    "    minL = float('inf')\n",
    "    for v in Grafo[a]:\n",
    "        if not visited[v]:\n",
    "            visited[v] = True\n",
    "            minL = min(minL, 1 + shortest(v, b))\n",
    "            visited[v] = False\n",
    "    return minL\n",
    "\n",
    "print 'El camino mas corto entre los nodos 5 y 3 es: ', shortest(5, 3)"
   ]
  },
  {
   "cell_type": "code",
   "execution_count": 58,
   "metadata": {
    "collapsed": false
   },
   "outputs": [
    {
     "name": "stdout",
     "output_type": "stream",
     "text": [
      "La diametro de la Red es,  3\n"
     ]
    }
   ],
   "source": [
    "temp = []\n",
    "\n",
    "for subset in itertools.combinations(Nodes, 2):\n",
    "    temp.append(subset)\n",
    "\n",
    "maxL = 0\n",
    "for i in temp:\n",
    "    maxL=max(maxL,shortest(i[0], i[1]))\n",
    "print 'La diametro de la Red es, ', maxL"
   ]
  },
  {
   "cell_type": "code",
   "execution_count": 59,
   "metadata": {
    "collapsed": false
   },
   "outputs": [],
   "source": [
    "def avoidpathGen(Inicio, Fin):\n",
    "\n",
    "    flag=False\n",
    "\n",
    "    actual = Inicio\n",
    "    temp = []\n",
    "    past = []\n",
    "    cont = 0\n",
    "    while not flag:\n",
    "        temp.append(actual)\n",
    "        past.append(actual)\n",
    "        temp2 = random.sample(Grafo[actual], 1)[0]\n",
    "        while not len(np.intersect1d(past,temp2)) == 0:\n",
    "            temp2 = random.sample(Grafo[actual], 1)[0]\n",
    "        actual = temp2\n",
    "        if actual == Fin:\n",
    "            flag = True\n",
    "            temp.append(actual)\n",
    "            break  \n",
    "    return temp"
   ]
  },
  {
   "cell_type": "code",
   "execution_count": 60,
   "metadata": {
    "collapsed": false
   },
   "outputs": [
    {
     "name": "stdout",
     "output_type": "stream",
     "text": [
      "Un self-avoiding path del nodo 5 a 3 es:  [5, 4, 1, 3]\n"
     ]
    }
   ],
   "source": [
    "print 'Un self-avoiding path del nodo 5 a 3 es: ', avoidpathGen(5,3)"
   ]
  },
  {
   "cell_type": "markdown",
   "metadata": {},
   "source": [
    "\n",
    "## Ejercicio - Componentes\n",
    "Baje una red real (http://snap.stanford.edu/data/index.html) y lea el archivo\n"
   ]
  },
  {
   "cell_type": "markdown",
   "metadata": {},
   "source": [
    " Social circles from Facebook (anonymized) - Undirected http://snap.stanford.edu/data/egonets-Facebook.html"
   ]
  },
  {
   "cell_type": "code",
   "execution_count": 71,
   "metadata": {
    "collapsed": false
   },
   "outputs": [],
   "source": [
    "F = open(\"youtube.txt\",'r')\n",
    "Net1=nx.read_edgelist(F)\n",
    "F.close()"
   ]
  },
  {
   "cell_type": "code",
   "execution_count": 73,
   "metadata": {
    "collapsed": false
   },
   "outputs": [
    {
     "name": "stdout",
     "output_type": "stream",
     "text": [
      "La red tiene: "
     ]
    },
    {
     "name": "stdout",
     "output_type": "stream",
     "text": [
      " 1  componentes\n"
     ]
    }
   ],
   "source": [
    "print 'La red tiene: ',nx.number_connected_components(Net1), ' componentes'"
   ]
  },
  {
   "cell_type": "markdown",
   "metadata": {
    "collapsed": false
   },
   "source": [
    "\n",
    "\n",
    "Implemente el algorithmo Breadth First para encontrar el número de componentes (revise que el resultado es el mismo que utilizando la librería)\n"
   ]
  },
  {
   "cell_type": "code",
   "execution_count": 66,
   "metadata": {},
   "outputs": [],
   "source": [
    "Edges = Net1.edges()"
   ]
  },
  {
   "cell_type": "code",
   "execution_count": 67,
   "metadata": {},
   "outputs": [
    {
     "data": {
      "text/plain": [
       "183831"
      ]
     },
     "execution_count": 67,
     "metadata": {},
     "output_type": "execute_result"
    }
   ],
   "source": [
    "len(Edges)"
   ]
  },
  {
   "cell_type": "code",
   "execution_count": 240,
   "metadata": {},
   "outputs": [],
   "source": [
    "def netgen(nn, ne):\n",
    "    nod = [i for i in range(nn)]\n",
    "    nEdges = ne\n",
    "    temp = []\n",
    "    for subset in itertools.combinations(nod, 2):\n",
    "        temp.append(subset)\n",
    "    edg = random.sample(temp, nEdges)\n",
    "    return edg, nod"
   ]
  },
  {
   "cell_type": "code",
   "execution_count": 280,
   "metadata": {},
   "outputs": [
    {
     "data": {
      "image/png": "[encoded data removed]",
      "text/plain": [
       "<matplotlib.figure.Figure at 0x7fc344979ed0>"
      ]
     },
     "metadata": {},
     "output_type": "display_data"
    }
   ],
   "source": [
    "G = nx.Graph()\n",
    "edges, nodes = netgen(10, 7)\n",
    "\n",
    "G.add_edges_from(edges)\n",
    "nx.draw(G, with_labels = True)\n",
    "plt.show()"
   ]
  },
  {
   "cell_type": "code",
   "execution_count": 281,
   "metadata": {},
   "outputs": [
    {
     "data": {
      "text/plain": [
       "3"
      ]
     },
     "execution_count": 281,
     "metadata": {},
     "output_type": "execute_result"
    }
   ],
   "source": [
    "nx.number_connected_components(G)"
   ]
  },
  {
   "cell_type": "code",
   "execution_count": 340,
   "metadata": {
    "collapsed": true
   },
   "outputs": [],
   "source": [
    "def componts(nod, edg):\n",
    "    dgraf = {}\n",
    "    for i in nod:\n",
    "        dgraf[i] = []\n",
    "    for i in edg:\n",
    "        dgraf[i[0]].append(i[1])\n",
    "        dgraf[i[1]].append(i[0])\n",
    "    empty = nod[:]\n",
    "    cont = -1\n",
    "    Labels = {}\n",
    "    for i in nod:\n",
    "        Labels[i] = -1\n",
    "        \n",
    "    while (len(empty) is not 0):\n",
    "        cont += 1\n",
    "        temp = random.sample(empty, 1)\n",
    "        if Labels[temp[0]] is -1:\n",
    "            value = cont\n",
    "        else:\n",
    "            value = Labels[temp[0]]\n",
    "        Labels[temp[0]] = value\n",
    "        empty.remove(temp[0])\n",
    "        \n",
    "        for i in dgraf[temp[0]]:\n",
    "            Labels[i] = value\n",
    "            if not any_in(dgraf[i], empty):\n",
    "                if i in empty:\n",
    "                    empty.remove(i)\n",
    "            print empty\n",
    "                \n",
    "        \n",
    "    return Labels, cont"
   ]
  },
  {
   "cell_type": "code",
   "execution_count": 354,
   "metadata": {
    "collapsed": true
   },
   "outputs": [
    {
     "name": "stdout",
     "output_type": "stream",
     "text": [
      "[1, 2, 4, 5, 6, 7, 8, 9]\n[1, 2, 4, 5, 6, 8, 9]\n[1, 2, 4, 5, 8, 9]\n[1, 2, 5, 8, 9]\n[1, 5, 9]\n[1, 9]\n[1, 9]\n[9]\n[]\n0 0\n1 2\n2 1\n3 0\n4 2\n5 1\n6 1\n7 0\n8 1\n9 2\n4\n[(2, 8), (1, 4), (0, 3), (1, 9), (5, 8), (6, 8), (3, 7)]\n"
     ]
    }
   ],
   "source": [
    "Lab, comp = componts(nodes, edges)\n",
    "for i in range(10):\n",
    "    print i, Lab[i]\n",
    "print comp\n",
    "print edges"
   ]
  },
  {
   "cell_type": "code",
   "execution_count": 124,
   "metadata": {},
   "outputs": [
    {
     "name": "stdout",
     "output_type": "stream",
     "text": [
      "0 7\n1 2\n2 14\n3 3\n4 13\n5 13\n6 11\n7 9\n8 3\n9 0\n10 4\n11 8\n12 3\n13 5\n14 3\n15 4\n16 1\n17 10\n18 6\n19 12\n"
     ]
    }
   ],
   "source": [
    ""
   ]
  },
  {
   "cell_type": "code",
   "execution_count": 158,
   "metadata": {},
   "outputs": [
    {
     "data": {
      "image/png": "[encoded data removed]",
      "text/plain": [
       "<matplotlib.figure.Figure at 0x7fc345304350>"
      ]
     },
     "metadata": {},
     "output_type": "display_data"
    }
   ],
   "source": [
    "plt.bar(Lab.keys(), Lab.values(), color='g')\n",
    "plt.show()"
   ]
  },
  {
   "cell_type": "code",
   "execution_count": 226,
   "metadata": {},
   "outputs": [
    {
     "data": {
      "text/plain": [
       "True"
      ]
     },
     "execution_count": 226,
     "metadata": {},
     "output_type": "execute_result"
    }
   ],
   "source": [
    "any_in([1,2],[2,3,4,5,6,7])"
   ]
  },
  {
   "cell_type": "code",
   "execution_count": 225,
   "metadata": {},
   "outputs": [],
   "source": [
    "any_in = lambda a, b: any(i in b for i in a)"
   ]
  }
 ],
 "metadata": {
  "kernelspec": {
   "display_name": "Python 2",
   "language": "python",
   "name": "python2"
  },
  "language_info": {
   "codemirror_mode": {
    "name": "ipython",
    "version": 2.0
   },
   "file_extension": ".py",
   "mimetype": "text/x-python",
   "name": "python",
   "nbconvert_exporter": "python",
   "pygments_lexer": "ipython2",
   "version": "2.7.13"
  }
 },
 "nbformat": 4,
 "nbformat_minor": 0
}