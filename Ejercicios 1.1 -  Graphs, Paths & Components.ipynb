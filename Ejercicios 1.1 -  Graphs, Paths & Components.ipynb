{
 "cells": [
  {
   "cell_type": "markdown",
   "metadata": {},
   "source": [
    "# Ejercicios Graphs, Paths & Components\n",
    "\n",
    "Ejercicios básicos de Grafos."
   ]
  },
  {
   "cell_type": "markdown",
   "metadata": {},
   "source": [
    "## Ejercicio - Número de Nodos y Enlaces\n",
    "\n",
    "_ (resuelva en código propio y usando la librería NetworkX (python) o iGraph (R)) _\n",
    "\n",
    "Cuente el número de nodos y enlaces con los siguientes links (asumiendo que el grafo puede ser dirigido Y no dirigido): "
   ]
  },
  {
   "cell_type": "code",
   "execution_count": 3,
   "metadata": {
    "collapsed": false
   },
   "outputs": [],
   "source": [
    "edges = set([(1, 2), (3, 1), (3, 2), (2, 4)])"
   ]
  },
  {
   "cell_type": "code",
   "execution_count": null,
   "metadata": {
    "collapsed": true
   },
   "outputs": [],
   "source": []
  },
  {
   "cell_type": "markdown",
   "metadata": {},
   "source": [
    "## Ejercicio - Matriz de Adyacencia\n",
    "\n",
    "_ (resuelva en código propio y usando la librería NetworkX (python) o iGraph (R)) _\n",
    "\n",
    "Cree la matriz de adyacencia del grafo del ejercicio anterior (para dirigido y no-dirigido)"
   ]
  },
  {
   "cell_type": "code",
   "execution_count": null,
   "metadata": {
    "collapsed": true
   },
   "outputs": [],
   "source": []
  },
  {
   "cell_type": "markdown",
   "metadata": {},
   "source": [
    "## Ejercicio - Sparseness\n",
    "\n",
    "Calcule la proporción entre número de links existentes en 3 redes reales (http://snap.stanford.edu/data/index.html) contra el número de links posibles."
   ]
  },
  {
   "cell_type": "code",
   "execution_count": null,
   "metadata": {
    "collapsed": true
   },
   "outputs": [],
   "source": []
  },
  {
   "cell_type": "markdown",
   "metadata": {},
   "source": [
    "En la matriz de adyacencia de cada uno de las redes elegidas, cuantos ceros hay?"
   ]
  },
  {
   "cell_type": "code",
   "execution_count": null,
   "metadata": {
    "collapsed": true
   },
   "outputs": [],
   "source": []
  },
  {
   "cell_type": "markdown",
   "metadata": {},
   "source": [
    "## Ejercicio - Redes Bipartitas\n",
    "\n",
    "Defina una red bipartita y genere ambas proyecciones, explique qué son los nodos y links tanto de la red original como de las proyeccciones"
   ]
  },
  {
   "cell_type": "code",
   "execution_count": null,
   "metadata": {
    "collapsed": true
   },
   "outputs": [],
   "source": []
  },
  {
   "cell_type": "markdown",
   "metadata": {},
   "source": [
    "## Ejercicio - Paths\n",
    "\n",
    "Cree un grafo de 5 nodos con 5 enlaces. Elija dos nodos cualquiera e imprima:\n",
    "+ 5 Paths diferentes entre los nodos\n",
    "+ El camino mas corto entre los nodos\n",
    "+ El diámetro de la red\n",
    "+ Un self-avoiding path\n"
   ]
  },
  {
   "cell_type": "code",
   "execution_count": null,
   "metadata": {
    "collapsed": true
   },
   "outputs": [],
   "source": []
  },
  {
   "cell_type": "markdown",
   "metadata": {},
   "source": [
    "# Ejercicio - Componentes\n",
    "\n",
    "Baje una red real (http://snap.stanford.edu/data/index.html) y lea el archivo "
   ]
  },
  {
   "cell_type": "code",
   "execution_count": null,
   "metadata": {
    "collapsed": true
   },
   "outputs": [],
   "source": []
  },
  {
   "cell_type": "markdown",
   "metadata": {},
   "source": [
    "Utilizando NetworkX o iGraph descubra el número de componentes"
   ]
  },
  {
   "cell_type": "code",
   "execution_count": null,
   "metadata": {
    "collapsed": true
   },
   "outputs": [],
   "source": []
  },
  {
   "cell_type": "markdown",
   "metadata": {},
   "source": [
    "Implemente el algorithmo Breadth First para encontrar el número de componentes (revise que el resultado es el mismo que utilizando la librería)"
   ]
  },
  {
   "cell_type": "code",
   "execution_count": null,
   "metadata": {
    "collapsed": true
   },
   "outputs": [],
   "source": []
  },
  {
   "cell_type": "markdown",
   "metadata": {},
   "source": [
    "## Ejercicio - Degree distribution\n",
    "\n",
    "_ (resuelva en código propio y usando la librería NetworkX (python) o iGraph (R)) _\n",
    "\n",
    "Haga un plot con la distribución de grados de la red real"
   ]
  },
  {
   "cell_type": "code",
   "execution_count": 4,
   "metadata": {
    "collapsed": true
   },
   "outputs": [],
   "source": []
  },
  {
   "cell_type": "markdown",
   "metadata": {},
   "source": [
    "Calcule el grado promedio"
   ]
  },
  {
   "cell_type": "code",
   "execution_count": null,
   "metadata": {
    "collapsed": true
   },
   "outputs": [],
   "source": []
  },
  {
   "cell_type": "markdown",
   "metadata": {},
   "source": [
    "## Ejercicio - Diámetro"
   ]
  },
  {
   "cell_type": "code",
   "execution_count": 7,
   "metadata": {
    "collapsed": true
   },
   "outputs": [],
   "source": [
    "N = 5"
   ]
  },
  {
   "cell_type": "markdown",
   "metadata": {},
   "source": [
    "Cree un grafo de N nodos con el máximo diámetro posible"
   ]
  },
  {
   "cell_type": "code",
   "execution_count": null,
   "metadata": {
    "collapsed": true
   },
   "outputs": [],
   "source": []
  },
  {
   "cell_type": "markdown",
   "metadata": {},
   "source": [
    "Cree un grafo de N nodos con el mínimo diámetro posible"
   ]
  },
  {
   "cell_type": "code",
   "execution_count": null,
   "metadata": {
    "collapsed": true
   },
   "outputs": [],
   "source": []
  },
  {
   "cell_type": "markdown",
   "metadata": {},
   "source": [
    "Cree un grafo de N nodos que sea un ciclo simple"
   ]
  },
  {
   "cell_type": "code",
   "execution_count": null,
   "metadata": {
    "collapsed": true
   },
   "outputs": [],
   "source": []
  },
  {
   "cell_type": "markdown",
   "metadata": {},
   "source": [
    "## Ejercicio - Pregunta \"real\"\n",
    "\n",
    "Una aerolínea tiene las siguientes rutas desde las ciudades a las que sirve (cada par tiene servicio en ambas direcciones)."
   ]
  },
  {
   "cell_type": "code",
   "execution_count": 8,
   "metadata": {
    "collapsed": true
   },
   "outputs": [],
   "source": [
    "routemap =  [('St. Louis', 'Miami'), \n",
    "             ('St. Louis', 'San Diego'), \n",
    "             ('St. Louis', 'Chicago'), \n",
    "             ('San Diego', 'Chicago'), \n",
    "             ('San Diego', 'San Francisco'), \n",
    "             ('San Diego', 'Minneapolis'), \n",
    "             ('San Diego', 'Boston'), \n",
    "             ('San Diego', 'Portland'), \n",
    "             ('San Diego', 'Seattle'), \n",
    "             ('Tulsa', 'New York'), \n",
    "             ('Tulsa', 'Dallas'), \n",
    "             ('Phoenix', 'Cleveland'), \n",
    "             ('Phoenix', 'Denver'), \n",
    "             ('Phoenix', 'Dallas'), \n",
    "             ('Chicago', 'New York'), \n",
    "             ('Chicago', 'Los Angeles'), \n",
    "             ('Miami', 'New York'), \n",
    "             ('Miami', 'Philadelphia'), \n",
    "             ('Miami', 'Denver'), \n",
    "             ('Boston', 'Atlanta'), \n",
    "             ('Dallas', 'Cleveland'), \n",
    "             ('Dallas', 'Albuquerque'), \n",
    "             ('Philadelphia', 'Atlanta'), \n",
    "             ('Denver', 'Minneapolis'), \n",
    "             ('Denver', 'Cleveland'), \n",
    "             ('Albuquerque', 'Atlanta'), \n",
    "             ('Minneapolis', 'Portland'), \n",
    "             ('Los Angeles', 'Seattle'), \n",
    "             ('San Francisco', 'Portland'), \n",
    "             ('San Francisco', 'Seattle'), \n",
    "             ('San Francisco', 'Cleveland'), \n",
    "             ('Seattle', 'Portland')]"
   ]
  },
  {
   "cell_type": "markdown",
   "metadata": {},
   "source": [
    "Cuál es el máximo número de intercambios que tendría que hacer un pasajero en un solo viaje entre dos ciudades servidas? (suponiendo rutas óptimas)"
   ]
  },
  {
   "cell_type": "code",
   "execution_count": null,
   "metadata": {
    "collapsed": true
   },
   "outputs": [],
   "source": []
  },
  {
   "cell_type": "markdown",
   "metadata": {},
   "source": [
    "Si usted necesitara viajar mucho en esta aerolínea, cual sería el lugar óptimo para vivir? (i.e. minimizar el número de intercambios para llegar a cualquier ciudad) "
   ]
  },
  {
   "cell_type": "code",
   "execution_count": null,
   "metadata": {
    "collapsed": true
   },
   "outputs": [],
   "source": []
  },
  {
   "cell_type": "markdown",
   "metadata": {},
   "source": [
    "Visualize la red"
   ]
  },
  {
   "cell_type": "code",
   "execution_count": null,
   "metadata": {
    "collapsed": true
   },
   "outputs": [],
   "source": []
  }
 ],
 "metadata": {
  "anaconda-cloud": {},
  "kernelspec": {
   "display_name": "Python [conda root]",
   "language": "python",
   "name": "conda-root-py"
  },
  "language_info": {
   "codemirror_mode": {
    "name": "ipython",
    "version": 3
   },
   "file_extension": ".py",
   "mimetype": "text/x-python",
   "name": "python",
   "nbconvert_exporter": "python",
   "pygments_lexer": "ipython3",
   "version": "3.5.2"
  }
 },
 "nbformat": 4,
 "nbformat_minor": 1
}
