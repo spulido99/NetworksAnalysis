{
 "cells": [
  {
   "cell_type": "markdown",
   "metadata": {
    "deletable": true,
    "editable": true
   },
   "source": [
    "# Ejercicios Graphs, Paths & Components\n",
    "\n",
    "Ejercicios básicos de Grafos."
   ]
  },
  {
   "cell_type": "code",
   "execution_count": 1,
   "metadata": {
    "collapsed": false,
    "deletable": true,
    "editable": true
   },
   "outputs": [],
   "source": [
    "import networkx as nx\n",
    "from networkx.algorithms import bipartite\n",
    "import matplotlib.pyplot as plt\n",
    "import numpy as np\n",
    "%matplotlib inline"
   ]
  },
  {
   "cell_type": "markdown",
   "metadata": {
    "deletable": true,
    "editable": true
   },
   "source": [
    "## Ejercicio - Número de Nodos y Enlaces\n",
    "\n",
    "_ (resuelva en código propio y usando la librería NetworkX (python) o iGraph (R)) _\n",
    "\n",
    "Cuente el número de nodos y enlaces con los siguientes links (asumiendo que el grafo puede ser dirigido Y no dirigido): "
   ]
  },
  {
   "cell_type": "code",
   "execution_count": 2,
   "metadata": {
    "collapsed": false,
    "deletable": true,
    "editable": true
   },
   "outputs": [
    {
     "name": "stdout",
     "output_type": "stream",
     "text": [
      "{(1, 2), (3, 2), (3, 1), (2, 1), (4, 2), (2, 4)}\n"
     ]
    }
   ],
   "source": [
    "edges = set([(1, 2), (2, 1), (3, 1), (3, 2), (2, 4), (4, 2)])\n",
    "print(edges)"
   ]
  },
  {
   "cell_type": "code",
   "execution_count": 3,
   "metadata": {
    "collapsed": false,
    "deletable": true,
    "editable": true
   },
   "outputs": [
    {
     "name": "stdout",
     "output_type": "stream",
     "text": [
      "Grafo no dirigido:\n",
      "number of nodes:  4\n",
      "number of edges:  4\n",
      "\n",
      "Grafo dirigido:\n",
      "number of nodes:  4\n",
      "number of edges:  6\n"
     ]
    }
   ],
   "source": [
    "#codigo sin usar la libreria\n",
    "nodes = set()\n",
    "\n",
    "for x,y in edges:\n",
    "    nodes.add(x)\n",
    "    nodes.add(y)\n",
    "\n",
    "edges_not_directed = set()\n",
    "for s in nodes:\n",
    "    for t in nodes:\n",
    "        if ((s,t) in edges or (t,s) in edges) and ((s,t) not in edges_not_directed and (t,s) not in edges_not_directed):\n",
    "            edges_not_directed.add((s,t))\n",
    "            \n",
    "print('Grafo no dirigido:')\n",
    "print('number of nodes: ', len(nodes))\n",
    "print('number of edges: ', len(edges_not_directed))\n",
    "print('')\n",
    "print('Grafo dirigido:')\n",
    "print('number of nodes: ', len(nodes))\n",
    "print('number of edges: ', len(edges))"
   ]
  },
  {
   "cell_type": "code",
   "execution_count": 11,
   "metadata": {
    "collapsed": false,
    "deletable": true,
    "editable": true
   },
   "outputs": [
    {
     "name": "stdout",
     "output_type": "stream",
     "text": [
      "Grafo no dirigido:\n",
      "number of nodes:  4\n",
      "number of edges:  4\n",
      "\n",
      "Grafo dirigido:\n",
      "number of nodes:  4\n",
      "number of edges:  6\n"
     ]
    },
    {
     "ename": "KeyError",
     "evalue": "1",
     "output_type": "error",
     "traceback": [
      "\u001b[0;31m---------------------------------------------------------------------------\u001b[0m",
      "\u001b[0;31mKeyError\u001b[0m                                  Traceback (most recent call last)",
      "\u001b[0;32m<ipython-input-11-020633f8e260>\u001b[0m in \u001b[0;36m<module>\u001b[0;34m()\u001b[0m\n\u001b[1;32m     19\u001b[0m \u001b[0mprint\u001b[0m\u001b[0;34m(\u001b[0m\u001b[0;34m'number of edges: '\u001b[0m\u001b[0;34m,\u001b[0m \u001b[0mnumber_edges\u001b[0m\u001b[0;34m)\u001b[0m\u001b[0;34m\u001b[0m\u001b[0m\n\u001b[1;32m     20\u001b[0m \u001b[0mnx\u001b[0m\u001b[0;34m.\u001b[0m\u001b[0mdraw_networkx\u001b[0m\u001b[0;34m(\u001b[0m\u001b[0mDG\u001b[0m\u001b[0;34m)\u001b[0m\u001b[0;34m\u001b[0m\u001b[0m\n\u001b[0;32m---> 21\u001b[0;31m \u001b[0mnx\u001b[0m\u001b[0;34m.\u001b[0m\u001b[0mdraw_networkx_edges\u001b[0m\u001b[0;34m(\u001b[0m\u001b[0mG\u001b[0m\u001b[0;34m,\u001b[0m\u001b[0mpos\u001b[0m\u001b[0;34m)\u001b[0m\u001b[0;34m\u001b[0m\u001b[0m\n\u001b[0m",
      "\u001b[0;32m/usr/local/lib/python3.5/dist-packages/networkx/drawing/nx_pylab.py\u001b[0m in \u001b[0;36mdraw_networkx_edges\u001b[0;34m(G, pos, edgelist, width, edge_color, style, alpha, edge_cmap, edge_vmin, edge_vmax, ax, arrows, label, **kwds)\u001b[0m\n\u001b[1;32m    513\u001b[0m \u001b[0;34m\u001b[0m\u001b[0m\n\u001b[1;32m    514\u001b[0m     \u001b[0;31m# set edge positions\u001b[0m\u001b[0;34m\u001b[0m\u001b[0;34m\u001b[0m\u001b[0m\n\u001b[0;32m--> 515\u001b[0;31m     \u001b[0medge_pos\u001b[0m \u001b[0;34m=\u001b[0m \u001b[0mnumpy\u001b[0m\u001b[0;34m.\u001b[0m\u001b[0masarray\u001b[0m\u001b[0;34m(\u001b[0m\u001b[0;34m[\u001b[0m\u001b[0;34m(\u001b[0m\u001b[0mpos\u001b[0m\u001b[0;34m[\u001b[0m\u001b[0me\u001b[0m\u001b[0;34m[\u001b[0m\u001b[0;36m0\u001b[0m\u001b[0;34m]\u001b[0m\u001b[0;34m]\u001b[0m\u001b[0;34m,\u001b[0m \u001b[0mpos\u001b[0m\u001b[0;34m[\u001b[0m\u001b[0me\u001b[0m\u001b[0;34m[\u001b[0m\u001b[0;36m1\u001b[0m\u001b[0;34m]\u001b[0m\u001b[0;34m]\u001b[0m\u001b[0;34m)\u001b[0m \u001b[0;32mfor\u001b[0m \u001b[0me\u001b[0m \u001b[0;32min\u001b[0m \u001b[0medgelist\u001b[0m\u001b[0;34m]\u001b[0m\u001b[0;34m)\u001b[0m\u001b[0;34m\u001b[0m\u001b[0m\n\u001b[0m\u001b[1;32m    516\u001b[0m \u001b[0;34m\u001b[0m\u001b[0m\n\u001b[1;32m    517\u001b[0m     \u001b[0;32mif\u001b[0m \u001b[0;32mnot\u001b[0m \u001b[0mcb\u001b[0m\u001b[0;34m.\u001b[0m\u001b[0miterable\u001b[0m\u001b[0;34m(\u001b[0m\u001b[0mwidth\u001b[0m\u001b[0;34m)\u001b[0m\u001b[0;34m:\u001b[0m\u001b[0;34m\u001b[0m\u001b[0m\n",
      "\u001b[0;32m/usr/local/lib/python3.5/dist-packages/networkx/drawing/nx_pylab.py\u001b[0m in \u001b[0;36m<listcomp>\u001b[0;34m(.0)\u001b[0m\n\u001b[1;32m    513\u001b[0m \u001b[0;34m\u001b[0m\u001b[0m\n\u001b[1;32m    514\u001b[0m     \u001b[0;31m# set edge positions\u001b[0m\u001b[0;34m\u001b[0m\u001b[0;34m\u001b[0m\u001b[0m\n\u001b[0;32m--> 515\u001b[0;31m     \u001b[0medge_pos\u001b[0m \u001b[0;34m=\u001b[0m \u001b[0mnumpy\u001b[0m\u001b[0;34m.\u001b[0m\u001b[0masarray\u001b[0m\u001b[0;34m(\u001b[0m\u001b[0;34m[\u001b[0m\u001b[0;34m(\u001b[0m\u001b[0mpos\u001b[0m\u001b[0;34m[\u001b[0m\u001b[0me\u001b[0m\u001b[0;34m[\u001b[0m\u001b[0;36m0\u001b[0m\u001b[0;34m]\u001b[0m\u001b[0;34m]\u001b[0m\u001b[0;34m,\u001b[0m \u001b[0mpos\u001b[0m\u001b[0;34m[\u001b[0m\u001b[0me\u001b[0m\u001b[0;34m[\u001b[0m\u001b[0;36m1\u001b[0m\u001b[0;34m]\u001b[0m\u001b[0;34m]\u001b[0m\u001b[0;34m)\u001b[0m \u001b[0;32mfor\u001b[0m \u001b[0me\u001b[0m \u001b[0;32min\u001b[0m \u001b[0medgelist\u001b[0m\u001b[0;34m]\u001b[0m\u001b[0;34m)\u001b[0m\u001b[0;34m\u001b[0m\u001b[0m\n\u001b[0m\u001b[1;32m    516\u001b[0m \u001b[0;34m\u001b[0m\u001b[0m\n\u001b[1;32m    517\u001b[0m     \u001b[0;32mif\u001b[0m \u001b[0;32mnot\u001b[0m \u001b[0mcb\u001b[0m\u001b[0;34m.\u001b[0m\u001b[0miterable\u001b[0m\u001b[0;34m(\u001b[0m\u001b[0mwidth\u001b[0m\u001b[0;34m)\u001b[0m\u001b[0;34m:\u001b[0m\u001b[0;34m\u001b[0m\u001b[0m\n",
      "\u001b[0;31mKeyError\u001b[0m: 1"
     ]
    },
    {
     "data": {
      "image/png": "[encoded data removed]",
      "text/plain": [
       "<matplotlib.figure.Figure at 0x7efe7476b5c0>"
      ]
     },
     "metadata": {},
     "output_type": "display_data"
    }
   ],
   "source": [
    "#Codigo usando la libreria\n",
    "print('Grafo no dirigido:')\n",
    "G=nx.Graph()\n",
    "G.add_edges_from(edges)\n",
    "number_nodes = G.number_of_nodes()\n",
    "number_edges = G.number_of_edges()\n",
    "print('number of nodes: ', number_nodes)\n",
    "print('number of edges: ', number_edges)\n",
    "nx.draw_networkx(G)\n",
    "print('')\n",
    "print('Grafo dirigido:')\n",
    "DG=nx.DiGraph()\n",
    "DG.add_edges_from(edges)\n",
    "number_nodes = DG.number_of_nodes()\n",
    "number_edges = DG.number_of_edges()\n",
    "print('number of nodes: ', number_nodes)\n",
    "print('number of edges: ', number_edges)\n",
    "nx.draw_networkx(DG)"
   ]
  },
  {
   "cell_type": "markdown",
   "metadata": {
    "deletable": true,
    "editable": true
   },
   "source": [
    "## Ejercicio - Matriz de Adyacencia\n",
    "\n",
    "_ (resuelva en código propio y usando la librería NetworkX (python) o iGraph (R)) _\n",
    "\n",
    "Cree la matriz de adyacencia del grafo del ejercicio anterior (para dirigido y no-dirigido)"
   ]
  },
  {
   "cell_type": "code",
   "execution_count": 43,
   "metadata": {
    "collapsed": false,
    "deletable": true,
    "editable": true
   },
   "outputs": [
    {
     "name": "stdout",
     "output_type": "stream",
     "text": [
      "Ejercicio con codigo propio\n",
      "Grafo no dirigido:\n",
      "[[0, 1, 1, 0], [1, 0, 1, 1], [1, 1, 0, 0], [0, 1, 0, 0]]\n",
      " \n",
      "Grafo dirigido:\n",
      "[[0, 1, 0, 0], [1, 0, 0, 1], [1, 1, 0, 0], [0, 1, 0, 0]]\n",
      " \n",
      "Ejercicio con libreria \n",
      "Grafo no dirigido:\n",
      "[[0 1 1 0]\n",
      " [1 0 1 1]\n",
      " [1 1 0 0]\n",
      " [0 1 0 0]]\n",
      " \n",
      "Grafo dirigido:\n",
      "[[0 1 0 0]\n",
      " [1 0 0 1]\n",
      " [1 1 0 0]\n",
      " [0 1 0 0]]\n"
     ]
    }
   ],
   "source": [
    "#codigo sin la liberia\n",
    "print(\"Ejercicio con codigo propio\")\n",
    "\n",
    "adjacency_matrix_g = [[0 for j in range(len(nodes))] for i in range(len(nodes))]\n",
    "for i in range(len(adjacency_matrix_g)):\n",
    "    for j in range(len(adjacency_matrix_g[i])):\n",
    "        if (i+1,j+1) in edges:\n",
    "            adjacency_matrix_g[i][j] = 1\n",
    "            adjacency_matrix_g[j][i] = 1\n",
    "\n",
    "adjacency_matrix_dg = [[0 for j in range(len(nodes))] for i in range(len(nodes))]\n",
    "for i in range(len(adjacency_matrix_dg)):\n",
    "    for j in range(len(adjacency_matrix_dg[i])):\n",
    "        if (i+1,j+1) in edges:\n",
    "            adjacency_matrix_dg[i][j] = 1\n",
    "\n",
    "print(\"Grafo no dirigido:\")\n",
    "print(adjacency_matrix_g)\n",
    "print(\" \")\n",
    "print(\"Grafo dirigido:\")\n",
    "print(adjacency_matrix_dg)\n",
    "print(\" \")\n",
    "\n",
    "#codigo utilizando la libreria\n",
    "print(\"Ejercicio con libreria \")\n",
    "AG = nx.adjacency_matrix(G)\n",
    "ADG = nx.adjacency_matrix(DG)\n",
    "print(\"Grafo no dirigido:\")\n",
    "print(AG.todense())\n",
    "print(\" \")\n",
    "print(\"Grafo dirigido:\")\n",
    "print(ADG.todense())"
   ]
  },
  {
   "cell_type": "markdown",
   "metadata": {
    "deletable": true,
    "editable": true
   },
   "source": [
    "## Ejercicio - Sparseness\n",
    "\n",
    "Calcule la proporción entre número de links existentes en 3 redes reales (http://snap.stanford.edu/data/index.html) contra el número de links posibles."
   ]
  },
  {
   "cell_type": "code",
   "execution_count": 49,
   "metadata": {
    "collapsed": false,
    "deletable": true,
    "editable": true
   },
   "outputs": [
    {
     "name": "stdout",
     "output_type": "stream",
     "text": [
      "ego-Twitter sparseness: 0.00026746913206003207\n",
      "cit-HepPh sparseness: 0.00035325018813313786\n",
      "web-Google sparseness: 6.656952689754093e-06\n"
     ]
    }
   ],
   "source": [
    "def get_sparseness(number_nodes, number_edges, network_name):\n",
    "    print(network_name, \"sparseness:\",(number_edges)/(number_nodes*number_nodes))\n",
    "\n",
    "#Para la red ego-Twitter\n",
    "nodes_ego_twitter = 81306\n",
    "edges_ego_twitter = 1768149\n",
    "get_sparseness(nodes_ego_twitter, edges_ego_twitter, \"ego-Twitter\")\n",
    "\n",
    "#Para la red cit-HepPh\n",
    "nodes_cit_hepph = 34546\n",
    "edges_cit_hepph = 421578\n",
    "get_sparseness(nodes_cit_hepph,edges_cit_hepph,\"cit-HepPh\")\n",
    "\n",
    "#Para la red web-Google\n",
    "nodes_web_google = 875713\n",
    "edges_web_google = 5105039\n",
    "get_sparseness(nodes_web_google,edges_web_google,\"web-Google\")"
   ]
  },
  {
   "cell_type": "markdown",
   "metadata": {
    "deletable": true,
    "editable": true
   },
   "source": [
    "En la matriz de adyacencia de cada uno de las redes elegidas, cuantos ceros hay?"
   ]
  },
  {
   "cell_type": "code",
   "execution_count": 50,
   "metadata": {
    "collapsed": false,
    "deletable": true,
    "editable": true
   },
   "outputs": [
    {
     "name": "stdout",
     "output_type": "stream",
     "text": [
      "ego-Twitter zeros: 6608897487\n",
      "cit-HepPh zeros: 1193004538\n",
      "web-Google zeros: 766868153330\n"
     ]
    }
   ],
   "source": [
    "def get_zeros(number_nodes, number_edges, network_name):\n",
    "    print(network_name, \"zeros:\", (number_nodes*number_nodes) - number_edges)\n",
    "    \n",
    "get_zeros(nodes_ego_twitter, edges_ego_twitter, \"ego-Twitter\")\n",
    "get_zeros(nodes_cit_hepph,edges_cit_hepph,\"cit-HepPh\")\n",
    "get_zeros(nodes_web_google,edges_web_google,\"web-Google\")"
   ]
  },
  {
   "cell_type": "markdown",
   "metadata": {
    "deletable": true,
    "editable": true
   },
   "source": [
    "## Ejercicio - Redes Bipartitas\n",
    "\n",
    "Defina una red bipartita y genere ambas proyecciones, explique qué son los nodos y links tanto de la red original como de las proyeccciones"
   ]
  },
  {
   "cell_type": "code",
   "execution_count": 29,
   "metadata": {
    "collapsed": false,
    "deletable": true,
    "editable": true
   },
   "outputs": [
    {
     "name": "stdout",
     "output_type": "stream",
     "text": [
      "Ejercicio con codigo propio\n",
      "\n",
      "Red bipartita: {(5, 'B'), (5, 'D'), (2, 'B'), (2, 'A'), (6, 'D'), (3, 'A'), (4, 'C'), (7, 'D'), (1, 'A'), (5, 'C')}\n",
      "Nodos proyeccion 0: {1, 2, 3, 4, 5, 6, 7}\n",
      "Nodos proyeccion 1: {'B', 'D', 'C', 'A'}\n",
      "Proyeccion 0: [(1, 2), (1, 3), (2, 3), (2, 5), (4, 5), (5, 6), (5, 7), (6, 7)]\n",
      "Proyeccion 1: [('B', 'A'), ('B', 'C'), ('B', 'D'), ('D', 'C')]\n",
      "\n",
      "Ejercicio con libreria \n",
      "\n",
      "Proyeccion 0: [[1, 2], [1, 3], [2, 3], [2, 5], [4, 5], [5, 6], [5, 7], [6, 7]]\n",
      "Proyeccion 1: [['B', 'D'], ['B', 'C'], ['A', 'B'], ['C', 'D']]\n"
     ]
    }
   ],
   "source": [
    "print(\"Ejercicio con codigo propio\")\n",
    "print()\n",
    "bipartite_edges = set([(1, 'A'), (2, 'A'), (2, 'B'), (3, 'A'), (4, 'C'), (5, 'B'), (5, 'C'), (5, 'D'), (6, 'D'), (7, 'D')])\n",
    "print(\"Red bipartita:\",bipartite_edges)\n",
    "\n",
    "nodes_0 = set()\n",
    "nodes_1 = set()\n",
    "\n",
    "for x,y in bipartite_edges:\n",
    "    nodes_0.add(x)\n",
    "    nodes_1.add(y)\n",
    "    \n",
    "print(\"Nodos proyeccion 0:\",nodes_0)\n",
    "print(\"Nodos proyeccion 1:\",nodes_1)\n",
    "\n",
    "projection_0 = set()\n",
    "projection_1 = set()\n",
    "\n",
    "for y in nodes_1:\n",
    "    possible_nodes = set()\n",
    "    for edge in bipartite_edges:\n",
    "        if y in edge:\n",
    "            possible_nodes.add(edge[0])\n",
    "    for node1 in possible_nodes:\n",
    "        for node2 in possible_nodes:\n",
    "            if (node1,node2) not in projection_0 and (node2,node1) not in projection_0:\n",
    "                projection_0.add((node1,node2)) if (node1 != node2) else 0\n",
    "print(\"Proyeccion 0:\",sorted(projection_0))\n",
    "\n",
    "for x in nodes_0:\n",
    "    possible_nodes = set()\n",
    "    for edge in bipartite_edges:\n",
    "        if x in edge:\n",
    "            possible_nodes.add(edge[1])\n",
    "    for node1 in possible_nodes:\n",
    "        for node2 in possible_nodes:\n",
    "            if (node1,node2) not in projection_1 and (node2,node1) not in projection_1:\n",
    "                projection_1.add((node1,node2)) if (node1 != node2) else 0\n",
    "                \n",
    "print(\"Proyeccion 1:\",sorted(projection_1))\n",
    "\n",
    "print()\n",
    "print(\"Ejercicio con libreria \")\n",
    "print()\n",
    "\n",
    "bipatite_graph = nx.Graph()\n",
    "bipatite_graph.add_nodes_from(nodes_0, bipartite=0)\n",
    "bipatite_graph.add_nodes_from(nodes_1, bipartite=1)\n",
    "bipatite_graph.add_edges_from(bipartite_edges)\n",
    "\n",
    "projected_graph_0 = bipartite.projected_graph(bipatite_graph, nodes_0)\n",
    "projected_graph_1 = bipartite.projected_graph(bipatite_graph, nodes_1)\n",
    "print(\"Proyeccion 0:\",[sorted((u,v)) for u,v in projected_graph_0.edges()])\n",
    "print(\"Proyeccion 1:\",[sorted((u,v)) for u,v in projected_graph_1.edges()])"
   ]
  },
  {
   "cell_type": "markdown",
   "metadata": {
    "deletable": true,
    "editable": true
   },
   "source": [
    "## Ejercicio - Paths\n",
    "\n",
    "Cree un grafo de 5 nodos con 5 enlaces. Elija dos nodos cualquiera e imprima:\n",
    "+ 5 Paths diferentes entre los nodos\n",
    "+ El camino mas corto entre los nodos\n",
    "+ El diámetro de la red\n",
    "+ Un self-avoiding path\n"
   ]
  },
  {
   "cell_type": "code",
   "execution_count": 56,
   "metadata": {
    "collapsed": false,
    "deletable": true,
    "editable": true
   },
   "outputs": [
    {
     "name": "stdout",
     "output_type": "stream",
     "text": [
      "Edges: [(1, 2), (2, 3), (2, 5), (3, 4), (5, 4)]\n",
      "Nodes: {1, 2, 3, 4, 5}\n",
      "[[(1, 2), (2, 5)], [(2, 3), (3, 4)], [(2, 5), (5, 4)], [(3, 4)], [(5, 4)]]\n"
     ]
    }
   ],
   "source": [
    "edges = set([(1, 2), (2, 3), (2, 5), (3, 4), (5, 4)])\n",
    "print(\"Edges:\", sorted(edges))\n",
    "\n",
    "nodes = set()\n",
    "for x,y in edges:\n",
    "    nodes.add(x)\n",
    "    nodes.add(y)\n",
    "print(\"Nodes:\", nodes)\n",
    "\n",
    "paths_set = []\n",
    "node_aux = ()\n",
    "for x1,y1 in edges:\n",
    "    node_aux = y1\n",
    "    path_aux = set()\n",
    "    path_aux.add((x1,y1))\n",
    "    for x2,y2 in edges:\n",
    "        if(node_aux == x2):\n",
    "            path_aux.add((x2,y2))\n",
    "            node_aux = y2\n",
    "    paths_set.append(sorted(path_aux))\n",
    "print(sorted(paths_set))"
   ]
  },
  {
   "cell_type": "markdown",
   "metadata": {
    "deletable": true,
    "editable": true
   },
   "source": [
    "# Ejercicio - Componentes\n",
    "\n",
    "Baje una red real (http://snap.stanford.edu/data/index.html) y lea el archivo "
   ]
  },
  {
   "cell_type": "code",
   "execution_count": null,
   "metadata": {
    "collapsed": true,
    "deletable": true,
    "editable": true
   },
   "outputs": [],
   "source": []
  },
  {
   "cell_type": "markdown",
   "metadata": {
    "deletable": true,
    "editable": true
   },
   "source": [
    "Utilizando NetworkX o iGraph descubra el número de componentes"
   ]
  },
  {
   "cell_type": "code",
   "execution_count": null,
   "metadata": {
    "collapsed": true,
    "deletable": true,
    "editable": true
   },
   "outputs": [],
   "source": []
  },
  {
   "cell_type": "markdown",
   "metadata": {
    "deletable": true,
    "editable": true
   },
   "source": [
    "Implemente el algorithmo Breadth First para encontrar el número de componentes (revise que el resultado es el mismo que utilizando la librería)"
   ]
  },
  {
   "cell_type": "code",
   "execution_count": null,
   "metadata": {
    "collapsed": true,
    "deletable": true,
    "editable": true
   },
   "outputs": [],
   "source": []
  },
  {
   "cell_type": "markdown",
   "metadata": {
    "deletable": true,
    "editable": true
   },
   "source": [
    "## Ejercicio - Degree distribution\n",
    "\n",
    "_ (resuelva en código propio y usando la librería NetworkX (python) o iGraph (R)) _\n",
    "\n",
    "Haga un plot con la distribución de grados de la red real"
   ]
  },
  {
   "cell_type": "code",
   "execution_count": 4,
   "metadata": {
    "collapsed": true,
    "deletable": true,
    "editable": true
   },
   "outputs": [],
   "source": []
  },
  {
   "cell_type": "markdown",
   "metadata": {
    "deletable": true,
    "editable": true
   },
   "source": [
    "Calcule el grado promedio"
   ]
  },
  {
   "cell_type": "code",
   "execution_count": null,
   "metadata": {
    "collapsed": true,
    "deletable": true,
    "editable": true
   },
   "outputs": [],
   "source": []
  },
  {
   "cell_type": "markdown",
   "metadata": {
    "deletable": true,
    "editable": true
   },
   "source": [
    "## Ejercicio - Diámetro"
   ]
  },
  {
   "cell_type": "code",
   "execution_count": 7,
   "metadata": {
    "collapsed": true,
    "deletable": true,
    "editable": true
   },
   "outputs": [],
   "source": [
    "N = 5"
   ]
  },
  {
   "cell_type": "markdown",
   "metadata": {
    "deletable": true,
    "editable": true
   },
   "source": [
    "Cree un grafo de N nodos con el máximo diámetro posible"
   ]
  },
  {
   "cell_type": "code",
   "execution_count": null,
   "metadata": {
    "collapsed": true,
    "deletable": true,
    "editable": true
   },
   "outputs": [],
   "source": []
  },
  {
   "cell_type": "markdown",
   "metadata": {
    "deletable": true,
    "editable": true
   },
   "source": [
    "Cree un grafo de N nodos con el mínimo diámetro posible"
   ]
  },
  {
   "cell_type": "code",
   "execution_count": null,
   "metadata": {
    "collapsed": true,
    "deletable": true,
    "editable": true
   },
   "outputs": [],
   "source": []
  },
  {
   "cell_type": "markdown",
   "metadata": {
    "deletable": true,
    "editable": true
   },
   "source": [
    "Cree un grafo de N nodos que sea un ciclo simple"
   ]
  },
  {
   "cell_type": "code",
   "execution_count": null,
   "metadata": {
    "collapsed": true,
    "deletable": true,
    "editable": true
   },
   "outputs": [],
   "source": []
  },
  {
   "cell_type": "markdown",
   "metadata": {
    "deletable": true,
    "editable": true
   },
   "source": [
    "## Ejercicio - Pregunta \"real\"\n",
    "\n",
    "Una aerolínea tiene las siguientes rutas desde las ciudades a las que sirve (cada par tiene servicio en ambas direcciones)."
   ]
  },
  {
   "cell_type": "code",
   "execution_count": 8,
   "metadata": {
    "collapsed": true,
    "deletable": true,
    "editable": true
   },
   "outputs": [],
   "source": [
    "routemap =  [('St. Louis', 'Miami'), \n",
    "             ('St. Louis', 'San Diego'), \n",
    "             ('St. Louis', 'Chicago'), \n",
    "             ('San Diego', 'Chicago'), \n",
    "             ('San Diego', 'San Francisco'), \n",
    "             ('San Diego', 'Minneapolis'), \n",
    "             ('San Diego', 'Boston'), \n",
    "             ('San Diego', 'Portland'), \n",
    "             ('San Diego', 'Seattle'), \n",
    "             ('Tulsa', 'New York'), \n",
    "             ('Tulsa', 'Dallas'), \n",
    "             ('Phoenix', 'Cleveland'), \n",
    "             ('Phoenix', 'Denver'), \n",
    "             ('Phoenix', 'Dallas'), \n",
    "             ('Chicago', 'New York'), \n",
    "             ('Chicago', 'Los Angeles'), \n",
    "             ('Miami', 'New York'), \n",
    "             ('Miami', 'Philadelphia'), \n",
    "             ('Miami', 'Denver'), \n",
    "             ('Boston', 'Atlanta'), \n",
    "             ('Dallas', 'Cleveland'), \n",
    "             ('Dallas', 'Albuquerque'), \n",
    "             ('Philadelphia', 'Atlanta'), \n",
    "             ('Denver', 'Minneapolis'), \n",
    "             ('Denver', 'Cleveland'), \n",
    "             ('Albuquerque', 'Atlanta'), \n",
    "             ('Minneapolis', 'Portland'), \n",
    "             ('Los Angeles', 'Seattle'), \n",
    "             ('San Francisco', 'Portland'), \n",
    "             ('San Francisco', 'Seattle'), \n",
    "             ('San Francisco', 'Cleveland'), \n",
    "             ('Seattle', 'Portland')]"
   ]
  },
  {
   "cell_type": "markdown",
   "metadata": {
    "deletable": true,
    "editable": true
   },
   "source": [
    "Cuál es el máximo número de intercambios que tendría que hacer un pasajero en un solo viaje entre dos ciudades servidas? (suponiendo rutas óptimas)"
   ]
  },
  {
   "cell_type": "code",
   "execution_count": null,
   "metadata": {
    "collapsed": true,
    "deletable": true,
    "editable": true
   },
   "outputs": [],
   "source": []
  },
  {
   "cell_type": "markdown",
   "metadata": {
    "deletable": true,
    "editable": true
   },
   "source": [
    "Si usted necesitara viajar mucho en esta aerolínea, cual sería el lugar óptimo para vivir? (i.e. minimizar el número de intercambios para llegar a cualquier ciudad) "
   ]
  },
  {
   "cell_type": "code",
   "execution_count": null,
   "metadata": {
    "collapsed": true,
    "deletable": true,
    "editable": true
   },
   "outputs": [],
   "source": []
  },
  {
   "cell_type": "markdown",
   "metadata": {
    "deletable": true,
    "editable": true
   },
   "source": [
    "Visualize la red"
   ]
  },
  {
   "cell_type": "code",
   "execution_count": null,
   "metadata": {
    "collapsed": true,
    "deletable": true,
    "editable": true
   },
   "outputs": [],
   "source": []
  }
 ],
 "metadata": {
  "anaconda-cloud": {},
  "kernelspec": {
   "display_name": "Python 3",
   "language": "python",
   "name": "python3"
  },
  "language_info": {
   "codemirror_mode": {
    "name": "ipython",
    "version": 3
   },
   "file_extension": ".py",
   "mimetype": "text/x-python",
   "name": "python",
   "nbconvert_exporter": "python",
   "pygments_lexer": "ipython3",
   "version": "3.5.2"
  }
 },
 "nbformat": 4,
 "nbformat_minor": 0
}
