{
 "cells": [
  {
   "cell_type": "markdown",
   "metadata": {
    "deletable": true,
    "editable": true
   },
   "source": [
    "# Ejercicios Weak Ties & Random Networks\n",
    "\n",
    "Ejercicios básicos de redes"
   ]
  },
  {
   "cell_type": "markdown",
   "metadata": {
    "deletable": true,
    "editable": true
   },
   "source": [
    "## Ejercicio Clustering Coeficient\n",
    "\n",
    "Calcule el coeficiente de clustering para cada nodo y en la red (sin dirección)"
   ]
  },
  {
   "cell_type": "code",
   "execution_count": 29,
   "metadata": {
    "collapsed": true,
    "deletable": true,
    "editable": true
   },
   "outputs": [],
   "source": [
    "import networkx as nx\n",
    "import matplotlib.pyplot as plt\n",
    "import numpy as np\n",
    "%matplotlib inline"
   ]
  },
  {
   "cell_type": "code",
   "execution_count": 40,
   "metadata": {
    "collapsed": false,
    "deletable": true,
    "editable": true
   },
   "outputs": [],
   "source": [
    "edges = set([(1,2),(2,1),(2,3), (2,4), (2,5), (4,5), (4,6), (5,6), (4,7)])"
   ]
  },
  {
   "cell_type": "code",
   "execution_count": 51,
   "metadata": {
    "collapsed": false,
    "deletable": true,
    "editable": true
   },
   "outputs": [
    {
     "name": "stdout",
     "output_type": "stream",
     "text": [
      "{1, 2, 3, 4, 5, 6, 7}\n",
      "CALCULO DEL COEFICIENTE DE CLUSTERING SIN LA LIBRERIA:\n",
      " \n",
      "Coeficiente de clustering de  1 : 0\n",
      "Coeficiente de clustering de  2 : 0.16666666666666666\n",
      "Coeficiente de clustering de  3 : 0\n",
      "Coeficiente de clustering de  4 : 0.3333333333333333\n",
      "Coeficiente de clustering de  5 : 0.6666666666666666\n",
      "Coeficiente de clustering de  6 : 1.0\n",
      "Coeficiente de clustering de  7 : 0\n",
      " \n",
      "CALCULO DEL COEFICIENTE DE CLUSTERING CON LA LIBRERIA NETWORKX:\n",
      " \n",
      "{1: 0.0, 2: 0.16666666666666666, 4: 0.3333333333333333, 7: 0.0, 6: 1.0, 5: 0.6666666666666666, 3: 0.0}\n"
     ]
    },
    {
     "data": {
      "image/png": "[encoded data removed]",
      "text/plain": [
       "<matplotlib.figure.Figure at 0x225cd4a9780>"
      ]
     },
     "metadata": {},
     "output_type": "display_data"
    }
   ],
   "source": [
    "# nodes = set()\n",
    "for x,y in edges:\n",
    "    nodes.add(x)\n",
    "    nodes.add(y)\n",
    "print(nodes)\n",
    "    \n",
    "def get_vecinos(nodo):\n",
    "    vecinos = set()\n",
    "    for s,t in edges:\n",
    "        if s == nodo:\n",
    "            vecinos.add(t)\n",
    "        if t == nodo:\n",
    "            vecinos.add(s)\n",
    "    return vecinos\n",
    "\n",
    "def get_l_k_node(nodo):\n",
    "    vecinos_nodo = get_vecinos(nodo)\n",
    "    k = len(vecinos_nodo)\n",
    "    l = 0\n",
    "    for s in vecinos_nodo:\n",
    "        for t in vecinos_nodo:\n",
    "            if (s,t) in edges:\n",
    "                l += 1\n",
    "    return l,k\n",
    "\n",
    "def get_clustering_coefficient(nodo):\n",
    "    l,k = get_l_k_node(nodo)\n",
    "    combinatoria = k*(k-1)\n",
    "    if combinatoria != 0:\n",
    "        c_nodo = (2*l)/(k*(k-1))\n",
    "    else:\n",
    "        c_nodo = 0\n",
    "    return c_nodo\n",
    "\n",
    "print(\"CALCULO DEL COEFICIENTE DE CLUSTERING SIN LA LIBRERIA:\")\n",
    "print(\" \")\n",
    "\n",
    "for x in nodes:\n",
    "    clustering_coefficient_x = get_clustering_coefficient(x)\n",
    "    print(\"Coeficiente de clustering de \", x, \":\", clustering_coefficient_x)\n",
    "    \n",
    "print(\" \")\n",
    "print(\"CALCULO DEL COEFICIENTE DE CLUSTERING CON LA LIBRERIA NETWORKX:\")\n",
    "print(\" \")\n",
    "\n",
    "G=nx.Graph()\n",
    "G.add_edges_from(edges)\n",
    "print(nx.clustering(G))\n",
    "nx.draw_networkx(G)"
   ]
  },
  {
   "cell_type": "markdown",
   "metadata": {
    "deletable": true,
    "editable": true
   },
   "source": [
    "## Ejercicio Weigthed Netwroks\n",
    "\n",
    "Cree una red no direccionada con los siguientes pesos."
   ]
  },
  {
   "cell_type": "markdown",
   "metadata": {
    "deletable": true,
    "editable": true
   },
   "source": [
    "(a, b) = 0.3\n",
    "(a, c) = 1.0\n",
    "(a, d) = 0.9\n",
    "(a, e) = 1.0\n",
    "(a, f) = 0.4\n",
    "(c, f) = 0.2\n",
    "(b, h) = 0.2\n",
    "(f, j) = 0.8\n",
    "(f, g) = 0.9\n",
    "(j, g) = 0.6\n",
    "(g, k) = 0.4\n",
    "(g, h) = 0.2\n",
    "(k, h) = 1.0"
   ]
  },
  {
   "cell_type": "code",
   "execution_count": null,
   "metadata": {
    "collapsed": true,
    "deletable": true,
    "editable": true
   },
   "outputs": [],
   "source": []
  },
  {
   "cell_type": "markdown",
   "metadata": {
    "deletable": true,
    "editable": true
   },
   "source": [
    "Imprima la matriz de adyasencia"
   ]
  },
  {
   "cell_type": "code",
   "execution_count": null,
   "metadata": {
    "collapsed": true,
    "deletable": true,
    "editable": true
   },
   "outputs": [],
   "source": []
  },
  {
   "cell_type": "markdown",
   "metadata": {
    "deletable": true,
    "editable": true
   },
   "source": [
    "## Ejercicio Weak & Strong ties"
   ]
  },
  {
   "cell_type": "markdown",
   "metadata": {
    "deletable": true,
    "editable": true
   },
   "source": [
    "Con la misma red anterior asuma que un link debil es inferior a 0.5, cree un código que calcule si se cumple la propiedad \"strong triadic closure\""
   ]
  },
  {
   "cell_type": "code",
   "execution_count": null,
   "metadata": {
    "collapsed": true,
    "deletable": true,
    "editable": true
   },
   "outputs": [],
   "source": []
  },
  {
   "cell_type": "markdown",
   "metadata": {
    "deletable": true,
    "editable": true
   },
   "source": [
    "Cambie un peso de los links anteriores para que se deje de cumplir la propiedad y calcule si es cierto. Explique."
   ]
  },
  {
   "cell_type": "code",
   "execution_count": null,
   "metadata": {
    "collapsed": true,
    "deletable": true,
    "editable": true
   },
   "outputs": [],
   "source": []
  },
  {
   "cell_type": "markdown",
   "metadata": {
    "deletable": true,
    "editable": true
   },
   "source": [
    "Escriba un código que detecte puntes locales y que calcule el span de cada puente local"
   ]
  },
  {
   "cell_type": "code",
   "execution_count": null,
   "metadata": {
    "collapsed": true,
    "deletable": true,
    "editable": true
   },
   "outputs": [],
   "source": []
  },
  {
   "cell_type": "markdown",
   "metadata": {
    "deletable": true,
    "editable": true
   },
   "source": [
    "## Ejercicio Random Networks\n",
    "\n",
    "genere 1000 redes aleatorias N = 12, p = 1/6 y grafique la distribución del número de enlaces"
   ]
  },
  {
   "cell_type": "code",
   "execution_count": null,
   "metadata": {
    "collapsed": true,
    "deletable": true,
    "editable": true
   },
   "outputs": [],
   "source": []
  },
  {
   "cell_type": "markdown",
   "metadata": {
    "deletable": true,
    "editable": true
   },
   "source": [
    "Grafique la distribución del promedio de grados en cada una de las redes generadas del ejercicio anterior"
   ]
  },
  {
   "cell_type": "code",
   "execution_count": null,
   "metadata": {
    "collapsed": true,
    "deletable": true,
    "editable": true
   },
   "outputs": [],
   "source": []
  },
  {
   "cell_type": "markdown",
   "metadata": {
    "deletable": true,
    "editable": true
   },
   "source": [
    "Haga lo mismo para redes con 100 nodos"
   ]
  },
  {
   "cell_type": "code",
   "execution_count": null,
   "metadata": {
    "collapsed": true,
    "deletable": true,
    "editable": true
   },
   "outputs": [],
   "source": []
  },
  {
   "cell_type": "code",
   "execution_count": null,
   "metadata": {
    "collapsed": true,
    "deletable": true,
    "editable": true
   },
   "outputs": [],
   "source": []
  },
  {
   "cell_type": "markdown",
   "metadata": {
    "deletable": true,
    "editable": true
   },
   "source": [
    "## Ejercicio Random Networks - Componente Gigante\n",
    "\n",
    "Grafique como crece el tamaño del componente más grande de una red aleatoria con N=100 nodos y diferentes valores de ___p___\n",
    "\n",
    "(_grafique con promedio de grado entre 0 y 4 cada 0.05_)"
   ]
  },
  {
   "cell_type": "code",
   "execution_count": null,
   "metadata": {
    "collapsed": true,
    "deletable": true,
    "editable": true
   },
   "outputs": [],
   "source": []
  },
  {
   "cell_type": "markdown",
   "metadata": {
    "deletable": true,
    "editable": true
   },
   "source": [
    "Grafique cuál es el porcentaje de nodos del componente más grande para diferentes valores de ___p___"
   ]
  },
  {
   "cell_type": "code",
   "execution_count": null,
   "metadata": {
    "collapsed": true,
    "deletable": true,
    "editable": true
   },
   "outputs": [],
   "source": []
  },
  {
   "cell_type": "markdown",
   "metadata": {
    "deletable": true,
    "editable": true
   },
   "source": [
    "Identifique para que valores de ___p___ el componente mas grande esta totalmente interconectado"
   ]
  },
  {
   "cell_type": "code",
   "execution_count": null,
   "metadata": {
    "collapsed": true,
    "deletable": true,
    "editable": true
   },
   "outputs": [],
   "source": []
  }
 ],
 "metadata": {
  "anaconda-cloud": {},
  "kernelspec": {
   "display_name": "Python 3",
   "language": "python",
   "name": "python3"
  },
  "language_info": {
   "codemirror_mode": {
    "name": "ipython",
    "version": 3
   },
   "file_extension": ".py",
   "mimetype": "text/x-python",
   "name": "python",
   "nbconvert_exporter": "python",
   "pygments_lexer": "ipython3",
   "version": "3.6.0"
  }
 },
 "nbformat": 4,
 "nbformat_minor": 1
}
