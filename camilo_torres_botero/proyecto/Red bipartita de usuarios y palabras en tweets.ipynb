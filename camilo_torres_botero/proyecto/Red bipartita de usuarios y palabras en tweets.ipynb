{
 "cells": [
  {
   "cell_type": "markdown",
   "metadata": {
    "deletable": true,
    "editable": true
   },
   "source": [
    "# Red bipartita de usuarios y palabras\n",
    "## Autor: Camilo Torres Botero\n",
    "## Profesor: Sergio Pulido Tamayo \n",
    "Red bipartita de palabras obtenidas a partir de tweets, compuesta de dos tipos de nodos: palabras y usuarios. El objetivo de esta red es encontrar relaciones entre usuarios a partir de las palabras, dando peso a las palabras más usadas. Se esperan encontrar comunidades en las palabras que puedan clasificarse en tópicos, de los cuales se pueden sacar grupos de personas con gustos similares o temas comunes y afines. Los grupos obtenidos pueden generar interés en empresas que buscan clientes potenciales, lanzamientos de nuevos productos o segmentación del mercado.\n",
    "\n",
    "Las siguientes son las preguntas que se pretende responder con este estudio:\n",
    "<div class=\"alert alert-warning\" role=\"alert\">¿Qué comunidades se pueden encontrar entre usuarios a partir del lenguaje que usan?</div>\n",
    "<div class=\"alert alert-warning\" role=\"alert\">¿Qué temas se pueden identificar como más comentados por los usuarios?</div>\n",
    "<div class=\"alert alert-warning\" role=\"alert\">¿Es posible identificar algún segmento de mercado en las comunidades obtenidas?</div>\n",
    "<div class=\"alert alert-warning\" role=\"alert\">¿Es posible pensar en un producto que se pueda ofrecer a alguna de las comunidades obtenidas?</div>"
   ]
  },
  {
   "cell_type": "markdown",
   "metadata": {
    "deletable": true,
    "editable": true
   },
   "source": [
    "## Limpieza de la base de datos\n",
    "La base de datos se encuenta almacenada en MongoDB debido a que cada tweet está en formato json. A través de un script en python se realiza la conexión a la base de datos con el fin de crear en un archivo de texto la red bipartita de usuarios y palabras. El script se encuentra en la carpeta del proyecto y se llama \"get_network_data.py\".\n",
    "\n",
    "Dentro de la base de datos existe una colección llamada \"tweets_users\" que contiene los usuarios y por cada usuario las palabras que han usado en los tweets. Las palabras seleccionadas para cada usuario fueron sustantivos, adjetivos y emojis. Esto se realizó por medio de una herramienta de Standford llamada POS Tagger (Part-Of-Speech Tagger) con la cual se analizaba cada texto y se hacía la respectiva separación. Se puede ver información y documentación de la herramienta en el siguiente enlace: https://nlp.stanford.edu/software/tagger.shtml\n",
    "\n",
    "Cada usuario puede usar una palabra o un emoji más de una vez lo cual se usa como el peso en los enlaces de la red, igualmente este peso es tenido en cuenta en le momento de realizar las proyecciones de la red.\n",
    "\n",
    "A continuación se muestra un ejemplo de un registro de la colección \"tweets_users\":\n",
    "<div class=\"alert alert-info\" role=\"alert\">\n",
    "<small>\n",
    "<pre> \n",
    "{\n",
    "\t\"_id\" : ObjectId(\"58e6c881a9f8a04c22c5a237\"),\n",
    "\t\"id\" : \"1070154709\",\n",
    "\t\"name\" : \"Daniela Fuentes✨\",\n",
    "\t\"text_emojis_nouns\" : [\n",
    "\t\t\"JAJAJAJJAJAJAJAJAJAJJAJAJJA\",\n",
    "\t\t\"❤\",\n",
    "\t\t\"mejor\",\n",
    "\t\t\"Feliz\",\n",
    "\t\t\"cumpleaños\",\n",
    "\t\t\"bendiciones\",\n",
    "\t\t\"😆\",\n",
    "\t\t\"💜\",\n",
    "\t\t\"💜\",\n",
    "\t\t\"✨\",\n",
    "\t\t\"✨\",\n",
    "\t\t\"día\",\n",
    "\t\t\"@villalobossebas\",\n",
    "\t\t\"❤\",\n",
    "\t\t\"Justo\",\n",
    "\t\t\"tantoo\",\n",
    "\t\t\"tengas\",\n",
    "\t\t\"lindo\",\n",
    "\t\t\"❤\"\n",
    "\t],\n",
    "\t\"emojis\" : [\n",
    "\t\t\"❤\",\n",
    "\t\t\"😆\",\n",
    "\t\t\"💜\",\n",
    "\t\t\"💜\",\n",
    "\t\t\"✨\",\n",
    "\t\t\"❤\"\n",
    "\t],\n",
    "\t\"text_types\" : {\n",
    "\t\t\"nouns\" : [\n",
    "\t\t\t\"JAJAJAJJAJAJAJAJAJAJJAJAJJA\",\n",
    "\t\t\t\"Feliz\",\n",
    "\t\t\t\"cumpleaños\",\n",
    "\t\t\t\"bendiciones\",\n",
    "\t\t\t\"día\",\n",
    "\t\t\t\"@villalobossebas\"\n",
    "\t\t],\n",
    "\t\t\"determiners\" : [\n",
    "\t\t\t\"El\",\n",
    "\t\t\t\"un\"\n",
    "\t\t],\n",
    "\t\t\"adjectives\" : [\n",
    "\t\t\t\"mejor\",\n",
    "\t\t\t\"✨\",\n",
    "\t\t\t\"Justo\",\n",
    "\t\t\t\"tantoo\",\n",
    "\t\t\t\"tengas\",\n",
    "\t\t\t\"lindo\",\n",
    "\t\t\t\"❤\"\n",
    "\t\t],\n",
    "\t\t\"prepositions\" : [\n",
    "\t\t\t\"de\",\n",
    "\t\t\t\"por\",\n",
    "\t\t\t\"de\"\n",
    "\t\t],\n",
    "\t\t\"pronouns\" : [\n",
    "\t\t\t\"todos\",\n",
    "\t\t\t\"❤\",\n",
    "\t\t\t\"esto\",\n",
    "\t\t\t\"te\",\n",
    "\t\t\t\"que\"\n",
    "\t\t],\n",
    "\t\t\"adverbs\" : [\n",
    "\t\t\t\"siempre\",\n",
    "\t\t\t\"@JoseGaleanoR\"\n",
    "\t\t],\n",
    "\t\t\"punctuation\" : [\n",
    "\t\t\t\",\",\n",
    "\t\t\t\",\",\n",
    "\t\t\t\",\",\n",
    "\t\t\t\",\"\n",
    "\t\t],\n",
    "\t\t\"conjunctions\" : [\n",
    "\t\t\t\"cuando\"\n",
    "\t\t],\n",
    "\t\t\"verbs\" : [\n",
    "\t\t\t\"estoy\",\n",
    "\t\t\t\"apuntó\",\n",
    "\t\t\t\"dormir\",\n",
    "\t\t\t\"llega\",\n",
    "\t\t\t\"amo\"\n",
    "\t\t]\n",
    "\t}\n",
    "}\n",
    "</pre>\n",
    "</small>\n",
    "</div>\n",
    "\n",
    "Dentro del campo \"text_emojis_nouns\" se encuentran ya separados los sustantivos, adjetivos y emojis necesarios para armar la red. Como se puede ver en el json, hay palabras que deben ser limpiadas de los registros debido a que el POS tagger las clasificó como adjetivos o sustantivos de manera erronea. Por ejemplo los \"jajaja\" o algunos adverbios o verbos mal clasificados.\n",
    "\n",
    "La limpieza de todos estos caracteres ruidosos para la red se realizó en varias fases:\n",
    "\n",
    "El primer paso es hacer una limpieza en el momento de la creación del archivo de texto con los enlaces, es decir, en el archivo \"get_network_data.py\" remover la mayor cantidad de palabras ruidosas que se pueda. Para esto se usó un libería de python llamada \"Natural Language Toolkit\" (NLTK) con la cual se pueden hacer diferentes procesamientos para trabajar con lenguaje natural en python. Entre estos procesos está la detección de stopwords o palabras de parada que comunmente son preposiciones o conectores. Además de remover las palabras de parada, se quitaron también las palabras que comenzaban por '@' debido a que son usuarios mencionados en tweets y que fueron clasificados como sustantivos o adjetivos. Se puede obtener información de la librería NLTK en el siguiente enlace: http://www.nltk.org/\n",
    "\n",
    "El segundo paso de la limpieza fue crear una red con NetworkX utilizando el archivo entregado por el paso anterior. A partir de esta red se creó la proyección de palabras y se analizó cada una de ellas organizadas por grado de mayor a menor. Con este proceso se encontraron palabras y caracteres que eran ruidosos para la red. Este fue un proceso manual y dió como resultado dos arreglos, uno de palabras y otro de caracteres a remover. A continuación se muestran los arreglos obtenidos:\n",
    "\n",
    "remove_words: ['vez', 'día', 'cosas', 'dia', 'asi', '🏻', 'días', 'parte', 'man', 'fin', 'necesito', 'aqui', 'ser', 'pra', '🏼', 'sera', 'hey', 'fav', \"'ll\", 'aja', 'qlo', 'sdds', 'dejaste', 'sas', 'fiz', 'dan', 'heauheauehae', 'lok', 'ami', 'hablando', 'jfghdf', 'dfkjgd', '12am', \"'re\", 'aya', 'u.u', '🏽', '▪', '#jct', 'jasldjaslñfjasdñlasjfasd', '2016/6/25', 'xxi', 'ehh', 'aww', 'comí', 'mrc', 'prrrra', 'aksjsks', 'háblame', 'rts', '・', 'pasatela', 'hahsahsa', 'años', 'tweets', 'twitter', 'twitiir', 'twittera', '#twitteroff', 'retwits', '#twitter', '#cd', 'twiter', 'twits', 'twitt', 'twitero', 'tweetdeck', 'retweet', 'twets', 'coisas', 'delosmismoscreadoresdeperreopagomelo', 'yo-yo-yo']\n",
    "\n",
    "remove_chars: ['jaja', 'jeje', 'kkk', 'haha', 'aaa', 'eee', 'ooo', 'iii', 'yyy', 'uff', 'ddd', 'jiji', 'zzz', 'sss', 'rrr', 'uuu', '???', 'nnn']\n",
    "\n",
    "Por último se volvió a correr el script \"get_network_data.py\" agregando los arreglos obtenidos en el punto anterior y validando en la creación de los enlaces que la palabra correspondiente no se econtrara dentro del arreglo \"remove_words\" o que no contuviera alguna de las cadenas de caracteres del arreglo \"remove_chars\". Los pasos mencionados en esta limpieza se pueden observar en el script contenido en la carpeta del proyecto. \n",
    "\n",
    "Con esta limpieza se borraron en total 8332 palabras ruidosas para la red. \n",
    "\n",
    "El resultado de este proceso es un archivo de texto llamado \"edges_file_total_network_weights_undirected.txt\" a partir del cual se puede crear la red en python y el cual también puede ser utilizado para graficar la red en bipartita completa en gephi. "
   ]
  },
  {
   "cell_type": "markdown",
   "metadata": {
    "deletable": true,
    "editable": true
   },
   "source": [
    "## Librerías usadas"
   ]
  },
  {
   "cell_type": "code",
   "execution_count": 1,
   "metadata": {
    "collapsed": false,
    "deletable": true,
    "editable": true
   },
   "outputs": [],
   "source": [
    "# Librerías necesarias para correr el proyecto\n",
    "import networkx as nx\n",
    "from networkx.algorithms import bipartite\n",
    "import matplotlib.pyplot as plt\n",
    "import seaborn as sns\n",
    "import numpy as np\n",
    "import operator\n",
    "import community\n",
    "from scipy.stats import powerlaw\n",
    "%matplotlib inline\n",
    "sns.set()"
   ]
  },
  {
   "cell_type": "markdown",
   "metadata": {
    "deletable": true,
    "editable": true
   },
   "source": [
    "## Número de nodos y enlaces\n",
    "Código para leer el archivo de texto con la red y a partir del mismo obtener un arreglo con los enlaces y sus respectivos pesos, un arreglo con el total de nodos, un arreglo con los nodos de usuarios y un arreglo con los nodos de palabras."
   ]
  },
  {
   "cell_type": "code",
   "execution_count": 2,
   "metadata": {
    "collapsed": false,
    "deletable": true,
    "editable": true
   },
   "outputs": [
    {
     "name": "stdout",
     "output_type": "stream",
     "text": [
      "El tamaño de la red está definido por los siguientes valores:\n",
      "Total de enlaces: 25713\n",
      "Total de nodos: 13574\n",
      "Total de nodos usuario: 2947\n",
      "Total de nodos de palabras: 10627\n"
     ]
    }
   ],
   "source": [
    "\"\"\"\n",
    "En el arreglo all_edges se guardan los enlaces de la red con pesos. El arreglo all_edges_aux sirve para contar \n",
    "el número de veces que aparece un enlace y así agregarlo como peso del enlace en all_edges\n",
    "\"\"\"\n",
    "all_edges = []\n",
    "all_edges_aux = []\n",
    "# Archivo de texto que contiene los enlaces de la red (se encuenta en la carpeta del proyecto)\n",
    "with open('edges_file_total_network_weights_undirected.txt', encoding=\"utf8\") as f:\n",
    "    next(f)\n",
    "    for line in f:\n",
    "        edge = line.replace('\\n', '').split('\\t')\n",
    "        # Condicional para validar si ya existe un enlace y agregarlo como peso\n",
    "        if (edge[0], edge[1]) in all_edges_aux:\n",
    "            edge_index = all_edges_aux.index((edge[0], edge[1]))\n",
    "            # Se suma 1 al peso anterioir que tenía el enlace\n",
    "            all_edges[edge_index] = (edge[0], edge[1], all_edges[edge_index][2] + 1)\n",
    "        else:\n",
    "            # Se agrega el nuevo enlace al auxiliar y al original. En el arreglo original de enlaces se inicia\n",
    "            # con un peso de 1\n",
    "            all_edges.append((edge[0], edge[1],1))\n",
    "            all_edges_aux.append((edge[0], edge[1]))\n",
    "\n",
    "# Total de enlaces de la red\n",
    "total_count_edges = len(all_edges)\n",
    "\n",
    "# Arreglos para almacenar nodos\n",
    "all_nodes = set()\n",
    "users_nodes = set()\n",
    "words_nodes = set()\n",
    "\n",
    "# Proceso para obtener los nodos de la red\n",
    "for x,y,w in all_edges:\n",
    "    users_nodes.add(x)\n",
    "    words_nodes.add(y)\n",
    "    all_nodes.add(x)\n",
    "    all_nodes.add(y)\n",
    " \n",
    "print(\"El tamaño de la red está definido por los siguientes valores:\")\n",
    "print(\"Total de enlaces:\", len(all_edges))\n",
    "print(\"Total de nodos:\", len(all_nodes))\n",
    "print(\"Total de nodos usuario:\", len(users_nodes))\n",
    "print(\"Total de nodos de palabras:\", len(words_nodes))"
   ]
  },
  {
   "cell_type": "markdown",
   "metadata": {
    "deletable": true,
    "editable": true
   },
   "source": [
    "## Proyecciones\n",
    "Código propio para hallar el total de enlaces de las proyecciones y validar con las obtenidas por medio de la librería NetworkX"
   ]
  },
  {
   "cell_type": "code",
   "execution_count": 3,
   "metadata": {
    "collapsed": false,
    "deletable": true,
    "editable": true
   },
   "outputs": [
    {
     "name": "stdout",
     "output_type": "stream",
     "text": [
      "Proyeccion usuarios total enlaces: 211366\n",
      "Proyeccion palabras total enlaces: 295277\n"
     ]
    }
   ],
   "source": [
    "# Sets para guardar los enlaces de la proyección de usuarios y palabras respectivamente\n",
    "projection_users = set()\n",
    "projection_words = set()\n",
    "# Proyección de usuarios\n",
    "# Se recorren todos los nodos de palabras para sacar los usuarios que las usan\n",
    "for word in words_nodes:\n",
    "    possible_nodes = set()\n",
    "    # Si la palabra está en un enlace se agrega el usuario que la usó en un set de posibles nodos\n",
    "    for edge in all_edges:\n",
    "        if word in edge:\n",
    "            possible_nodes.add(edge[0])\n",
    "    # Se recorren los posibles nodos obtenidos anteriormente, se valida que no existan los enlaces y se agregan\n",
    "    for node1 in possible_nodes:\n",
    "        for node2 in possible_nodes:\n",
    "            if (node1, node2) not in projection_users and (node2, node1) not in projection_users:\n",
    "                projection_users.add((node1, node2)) if (node1 != node2) else 0\n",
    "\n",
    "# Proyección de palabras\n",
    "# Se recorren todos los nodos de usuarios para sacar las palabras que usan\n",
    "for user in users_nodes:\n",
    "    possible_nodes = set()\n",
    "    # Si el usuario está en un enlace se agrega la palabra que usó en un set de posibles nodos\n",
    "    for edge in all_edges:\n",
    "        if user in edge:\n",
    "            possible_nodes.add(edge[1])\n",
    "    # Se recorren las posibles palabras, se valida que no existan los enlaces y se argegan\n",
    "    for node1 in possible_nodes:\n",
    "        for node2 in possible_nodes:\n",
    "            if (node1, node2) not in projection_words and (node2, node1) not in projection_words:\n",
    "                projection_words.add((node1, node2)) if (node1 != node2) else 0\n",
    "                \n",
    "# Resultado de las proyecciones\n",
    "print(\"Proyeccion usuarios total enlaces:\",len(projection_users))\n",
    "print(\"Proyeccion palabras total enlaces:\",len(projection_words))"
   ]
  },
  {
   "cell_type": "markdown",
   "metadata": {
    "deletable": true,
    "editable": true
   },
   "source": [
    "## Proyecciones usando NetworkX\n",
    "Código para hallar las proyecciones con NetworkX. Se puede validar con el código anterior que se obtienen el mismo número de enlaces."
   ]
  },
  {
   "cell_type": "code",
   "execution_count": 4,
   "metadata": {
    "collapsed": false,
    "deletable": true,
    "editable": true
   },
   "outputs": [
    {
     "name": "stdout",
     "output_type": "stream",
     "text": [
      "Proyección grafo usuarios total enlaces: [('310242050', '377598815', {'weight': 3}), ('310242050', '201515412', {'weight': 3}), ('310242050', '242943297', {'weight': 2}), ('310242050', '322203077', {'weight': 5}), ('310242050', '297037057', {'weight': 2}), ('310242050', '3797275876', {'weight': 4}), ('310242050', '1398768416', {'weight': 3}), ('310242050', '331365183', {'weight': 3}), ('310242050', '169543344', {'weight': 3}), ('310242050', '1587221360', {'weight': 5})]\n",
      "\n",
      "Proyección grafo palabras total enlaces: [('roa', 'saludo', {'weight': 2}), ('corrupto', 'niño', {'weight': 2}), ('corrupto', 'animal', {'weight': 3}), ('corrupto', 'país', {'weight': 2}), ('corrupto', 'oración', {'weight': 2}), ('corrupto', 'parábolas', {'weight': 2}), ('corrupto', 'espíritu', {'weight': 5}), ('corrupto', 'aarón', {'weight': 2}), ('corrupto', 'incrédulo', {'weight': 2}), ('corrupto', 'gente', {'weight': 2})]\n",
      "\n",
      "Proyección grafo usuarios total enlaces: 211366\n",
      "\n",
      "Proyección grafo palabras total enlaces: 295277\n"
     ]
    }
   ],
   "source": [
    "# Se crea el grafo bipartito con NetworkX\n",
    "tweets_users_words_graph = nx.Graph()\n",
    "# Se agregan los nodos para ambas particiones, es decir, usuarios y palabras\n",
    "# Para esto es necesario importar el módulo bipartite de NetworkX\n",
    "tweets_users_words_graph.add_nodes_from(users_nodes, bipartite=0)\n",
    "tweets_users_words_graph.add_nodes_from(words_nodes, bipartite=1)\n",
    "# Se agregan los enlaces obtenidos anteriormente con sus respectivos pesos\n",
    "tweets_users_words_graph.add_weighted_edges_from(all_edges)\n",
    "\n",
    "# Función usada para sumar los pesos de la red bipartita en las proyecciones.\n",
    "# Esta función es enviada en los parametros del metodo generic_weighted_projected_graph del módulo bipartite\n",
    "# Tomada de la documentación: \n",
    "# https://networkx.github.io/documentation/networkx-1.10/reference/generated/networkx.algorithms.bipartite.projection.generic_weighted_projected_graph.html\n",
    "def my_weight(G, u, v, weight='weight'):\n",
    "    w = 0\n",
    "    for nbr in set(G[u]) & set(G[v]):\n",
    "        w += G.edge[u][nbr].get(weight, 1) + G.edge[v][nbr].get(weight, 1)\n",
    "    return w\n",
    "\n",
    "# Se hallan las proyecciones de usuarios y palabras\n",
    "projected_graph_users = bipartite.generic_weighted_projected_graph(tweets_users_words_graph, users_nodes, weight_function=my_weight)\n",
    "projected_graph_words = bipartite.generic_weighted_projected_graph(tweets_users_words_graph, words_nodes, weight_function=my_weight)\n",
    "\n",
    "# Resultados de las proyecciones. Se imprimen los primeros 10 enlaces de cada proyeccion para validar que tengan\n",
    "# los pesos. Se imprimen también el número de enlaces de cada proyección para validar con el punto anterior. \n",
    "print(\"Proyección grafo usuarios total enlaces:\",projected_graph_users.edges(data=True)[0:10])\n",
    "print()\n",
    "print(\"Proyección grafo palabras total enlaces:\",projected_graph_words.edges(data=True)[0:10])\n",
    "print()\n",
    "print(\"Proyección grafo usuarios total enlaces:\",len(projected_graph_users.edges()))\n",
    "print()\n",
    "print(\"Proyección grafo palabras total enlaces:\",len(projected_graph_words.edges()))\n",
    "    "
   ]
  },
  {
   "cell_type": "markdown",
   "metadata": {
    "deletable": true,
    "editable": true
   },
   "source": [
    "## Distribución de grados para la red bipartita completa\n",
    "Se grafica la distribución de grados de la red bipartita completa para validar que tenga un comportamiento cercano a la realidad donde los nodos con grados más altos son pocos y los nodos de grado bajo forman un gran pico, es decir, que se acerque a una distribución power law. "
   ]
  },
  {
   "cell_type": "code",
   "execution_count": 5,
   "metadata": {
    "collapsed": false,
    "deletable": true,
    "editable": true
   },
   "outputs": [
    {
     "data": {
      "text/plain": [
       "<matplotlib.axes._subplots.AxesSubplot at 0x7fb23cc75ac8>"
      ]
     },
     "execution_count": 5,
     "metadata": {},
     "output_type": "execute_result"
    },
    {
     "data": {
      "image/png": "[encoded data removed]",
      "text/plain": [
       "<matplotlib.figure.Figure at 0x7fb27819ea90>"
      ]
     },
     "metadata": {},
     "output_type": "display_data"
    }
   ],
   "source": [
    "# Gráfica de la distribución de grados en python\n",
    "degrees_tweets_users_words_graph = list(tweets_users_words_graph.degree().values())\n",
    "sns.distplot(degrees_tweets_users_words_graph)"
   ]
  },
  {
   "cell_type": "markdown",
   "metadata": {
    "deletable": true,
    "editable": true
   },
   "source": [
    "<img src=\"imagenes/distribucion_total_network_gephi.png\">"
   ]
  },
  {
   "cell_type": "markdown",
   "metadata": {
    "deletable": true,
    "editable": true
   },
   "source": [
    "## Distribución de grados para la red proyectada de usuarios"
   ]
  },
  {
   "cell_type": "code",
   "execution_count": 6,
   "metadata": {
    "collapsed": false,
    "deletable": true,
    "editable": true
   },
   "outputs": [
    {
     "data": {
      "text/plain": [
       "<matplotlib.axes._subplots.AxesSubplot at 0x7fb235ae1eb8>"
      ]
     },
     "execution_count": 6,
     "metadata": {},
     "output_type": "execute_result"
    },
    {
     "data": {
      "image/png": "[encoded data removed]",
      "text/plain": [
       "<matplotlib.figure.Figure at 0x7fb236b28550>"
      ]
     },
     "metadata": {},
     "output_type": "display_data"
    }
   ],
   "source": [
    "degrees_projected_graph_users = list(projected_graph_users.degree().values())\n",
    "degrees_projected_graph_users = np.array(degrees_projected_graph_users)\n",
    "degrees_projected_graph_users = degrees_projected_graph_users[np.nonzero(degrees_projected_graph_users)]\n",
    "sns.distplot(degrees_projected_graph_users)"
   ]
  },
  {
   "cell_type": "markdown",
   "metadata": {
    "deletable": true,
    "editable": true
   },
   "source": [
    "<img src=\"imagenes/distribucion_users_network_gephi.png\">"
   ]
  },
  {
   "cell_type": "markdown",
   "metadata": {
    "deletable": true,
    "editable": true
   },
   "source": [
    "## Distribución de grados para la red proyectada de palabras"
   ]
  },
  {
   "cell_type": "code",
   "execution_count": 7,
   "metadata": {
    "collapsed": false,
    "deletable": true,
    "editable": true
   },
   "outputs": [
    {
     "data": {
      "text/plain": [
       "<matplotlib.axes._subplots.AxesSubplot at 0x7fb236ee5080>"
      ]
     },
     "execution_count": 7,
     "metadata": {},
     "output_type": "execute_result"
    },
    {
     "data": {
      "image/png": "[encoded data removed]",
      "text/plain": [
       "<matplotlib.figure.Figure at 0x7fb23d81beb8>"
      ]
     },
     "metadata": {},
     "output_type": "display_data"
    }
   ],
   "source": [
    "degrees_projected_graph_words = list(projected_graph_words.degree().values())\n",
    "degrees_projected_graph_words = np.array(degrees_projected_graph_words)\n",
    "degrees_projected_graph_words = degrees_projected_graph_words[np.nonzero(degrees_projected_graph_words)]\n",
    "sns.distplot(degrees_projected_graph_words)"
   ]
  },
  {
   "cell_type": "markdown",
   "metadata": {
    "deletable": true,
    "editable": true
   },
   "source": [
    "<img src=\"imagenes/distribucion_words_network_gephi.png\">"
   ]
  },
  {
   "cell_type": "markdown",
   "metadata": {
    "deletable": true,
    "editable": true
   },
   "source": [
    "## Power Law Distribution para la red bipartita completa (Log)"
   ]
  },
  {
   "cell_type": "code",
   "execution_count": 8,
   "metadata": {
    "collapsed": false,
    "deletable": true,
    "editable": true
   },
   "outputs": [
    {
     "data": {
      "text/plain": [
       "(0.21386388445702345, 0.99999999999999989, 334.61121911679282)"
      ]
     },
     "execution_count": 8,
     "metadata": {},
     "output_type": "execute_result"
    },
    {
     "data": {
      "image/png": "[encoded data removed]",
      "text/plain": [
       "<matplotlib.figure.Figure at 0x7fb2780f7b00>"
      ]
     },
     "metadata": {},
     "output_type": "display_data"
    }
   ],
   "source": [
    "logs_tweets_users_words_graph = np.log(degrees_tweets_users_words_graph)\n",
    "plt.hist(logs_tweets_users_words_graph, log=True)\n",
    "\n",
    "e, l, s = powerlaw.fit(degrees_tweets_users_words_graph)\n",
    "e, l, s"
   ]
  },
  {
   "cell_type": "markdown",
   "metadata": {
    "deletable": true,
    "editable": true
   },
   "source": [
    "## Power Law Distribution para la red proyectada de usuarios (Log)"
   ]
  },
  {
   "cell_type": "code",
   "execution_count": 9,
   "metadata": {
    "collapsed": false,
    "deletable": true,
    "editable": true
   },
   "outputs": [
    {
     "data": {
      "text/plain": [
       "(0.27320087878796206, 0.99999999999999978, 1165.5626476640819)"
      ]
     },
     "execution_count": 9,
     "metadata": {},
     "output_type": "execute_result"
    },
    {
     "data": {
      "image/png": "[encoded data removed]",
      "text/plain": [
       "<matplotlib.figure.Figure at 0x7fb236c02710>"
      ]
     },
     "metadata": {},
     "output_type": "display_data"
    }
   ],
   "source": [
    "logs_projected_graph_users = np.log(degrees_projected_graph_users)\n",
    "plt.hist(logs_projected_graph_users, log=True)\n",
    "\n",
    "e_users, l_users, s_users = powerlaw.fit(degrees_projected_graph_users)\n",
    "e_users, l_users, s_users"
   ]
  },
  {
   "cell_type": "markdown",
   "metadata": {
    "deletable": true,
    "editable": true
   },
   "source": [
    "## Power Law Distribution para la red proyectada de palabras (Log)"
   ]
  },
  {
   "cell_type": "code",
   "execution_count": 10,
   "metadata": {
    "collapsed": false,
    "deletable": true,
    "editable": true,
    "scrolled": false
   },
   "outputs": [
    {
     "data": {
      "text/plain": [
       "(0.43093627551583291, 0.99999999999999989, 3257.1023645504861)"
      ]
     },
     "execution_count": 10,
     "metadata": {},
     "output_type": "execute_result"
    },
    {
     "data": {
      "image/png": "[encoded data removed]",
      "text/plain": [
       "<matplotlib.figure.Figure at 0x7fb236988eb8>"
      ]
     },
     "metadata": {},
     "output_type": "display_data"
    }
   ],
   "source": [
    "logs_projected_graph_words = np.log(degrees_projected_graph_words)\n",
    "plt.hist(logs_projected_graph_words, log=True)\n",
    "\n",
    "e_words, l_words, s_words = powerlaw.fit(degrees_projected_graph_words)\n",
    "e_words, l_words, s_words"
   ]
  },
  {
   "cell_type": "markdown",
   "metadata": {
    "deletable": true,
    "editable": true
   },
   "source": [
    "Se puede observar que tanto la red original como las proyecciones tienen distribuciones que se acercan a power law, lo cual es un buen indicio de que las redes pueden entragar datos interesantes y reales. "
   ]
  },
  {
   "cell_type": "markdown",
   "metadata": {
    "deletable": true,
    "editable": true
   },
   "source": [
    "## Componentes de las redes\n",
    "A continuación se hallan los componentes gigantes de las redes, es decir, de la red bipartita completa y sus proyecciones. Las comunidades y preguntas se responderán a partir de los componentes gigantes que son los que tienen información relevante en estas redes. Muchas palabras usadas una sóla vez por uno o pocos usuarios quedan apartadas formando pequeños componentes que no son relevantes. Además varios de estos componentes pueden ser palabras que sólo un usario uso, por lo que se vuelven nodos de grado cero en la proyección de palabras.\n",
    "\n",
    "Se debe mencionar que durante este estudio se miraron los tamaños de los componentes encontrados y la diferencia en tamaño con el componente gigante justificaba su omisión."
   ]
  },
  {
   "cell_type": "code",
   "execution_count": 11,
   "metadata": {
    "collapsed": false,
    "deletable": true,
    "editable": true
   },
   "outputs": [
    {
     "name": "stdout",
     "output_type": "stream",
     "text": [
      "Nodos del componente gigante de la red de usuarios y palabras: 13204\n",
      "Enlaces del componente gigante de la red de usuarios y palabras: 25477\n",
      "\n",
      "Nodos del componente gigante de la red de usuarios: 2812\n",
      "Enlaces del componente gigante de la red de usuarios: 211365\n",
      "\n",
      "Nodos del componente gigante de la red de usuarios: 10392\n",
      "Enlaces del componente gigante de la red de palabras: 295093\n"
     ]
    }
   ],
   "source": [
    "# Código para hallar el componente gigante de la red de usuarios y palabras\n",
    "tweets_users_words_components = sorted(nx.connected_component_subgraphs(tweets_users_words_graph), key = len, reverse=True)\n",
    "giant_component = tweets_users_words_components[0]\n",
    "giant_component_edges = giant_component.edges()\n",
    "print(\"Nodos del componente gigante de la red de usuarios y palabras:\", len(giant_component.nodes()))\n",
    "print(\"Enlaces del componente gigante de la red de usuarios y palabras:\", len(giant_component_edges))\n",
    "print()\n",
    "\n",
    "# Código para hallar el componente gigante de la red de usuarios\n",
    "projected_graph_users_components = sorted(nx.connected_component_subgraphs(projected_graph_users), key = len, reverse=True)\n",
    "giant_component_users = projected_graph_users_components[0]\n",
    "giant_component_users_edges = giant_component_users.edges()\n",
    "print(\"Nodos del componente gigante de la red de usuarios:\", len(giant_component_users.nodes()))\n",
    "print(\"Enlaces del componente gigante de la red de usuarios:\", len(giant_component_users_edges))\n",
    "print()\n",
    "\n",
    "# Código para hallar el componente gigante de la red de palabras\n",
    "projected_graph_words_components = sorted(nx.connected_component_subgraphs(projected_graph_words), key = len, reverse=True)\n",
    "giant_component_words = projected_graph_words_components[0]\n",
    "giant_component_words_edges = giant_component_words.edges()\n",
    "print(\"Nodos del componente gigante de la red de usuarios:\", len(giant_component_words.nodes()))\n",
    "print(\"Enlaces del componente gigante de la red de palabras:\", len(giant_component_words_edges))\n",
    "\n",
    "# Este fragmento de código comentado fue usado para el proceso de limpieza, ordenando las palabras por grado\n",
    "\n",
    "# degrees_giant_component_words = sorted(giant_component_words.degree().items(), key=operator.itemgetter(1), reverse=True)\n",
    "# words_file = open(\"palabras_ordenadas_por_grado.txt\", 'w', encoding=\"utf8\")\n",
    "# for k in degrees_giant_component_words:\n",
    "#     print(k, file=words_file)\n"
   ]
  },
  {
   "cell_type": "markdown",
   "metadata": {
    "collapsed": false,
    "deletable": true,
    "editable": true
   },
   "source": [
    "## Coeficiente de Clustering"
   ]
  },
  {
   "cell_type": "code",
   "execution_count": 12,
   "metadata": {
    "collapsed": false,
    "deletable": true,
    "editable": true
   },
   "outputs": [
    {
     "name": "stdout",
     "output_type": "stream",
     "text": [
      "Promedio del coeficiente de clustering de la red de usuarios y palabras: 0.0\n",
      "Promedio del coeficiente de clustering de la red de usuarios: 0.5791451045123506\n",
      "Promedio del coeficiente de clustering de la red aleatoria de usuarios: 0.048741978424151074\n",
      "Promedio del coeficiente de clustering de la red de palabras: 0.8373544832061259\n",
      "Promedio del coeficiente de clustering de la red aleatoria de palabras: 0.005197855908852333\n"
     ]
    }
   ],
   "source": [
    "avg_clustering_tweets_users_words_graph = nx.average_clustering(tweets_users_words_graph)\n",
    "print(\"Promedio del coeficiente de clustering de la red de usuarios y palabras:\", avg_clustering_tweets_users_words_graph)\n",
    "\n",
    "avg_clustering_projected_graph_users = nx.average_clustering(projected_graph_users)\n",
    "print(\"Promedio del coeficiente de clustering de la red de usuarios:\", avg_clustering_projected_graph_users)\n",
    "N_users = len(projected_graph_users.nodes())\n",
    "edges_user = projected_graph_users.edges()\n",
    "p_users = (2*len(edges_user))/(N_users*(N_users-1))\n",
    "random_graph_users = nx.gnp_random_graph(N_users,p_users)\n",
    "avg_clustering_random_graph_users = nx.average_clustering(random_graph_users)\n",
    "print(\"Promedio del coeficiente de clustering de la red aleatoria de usuarios:\", avg_clustering_random_graph_users)\n",
    "\n",
    "avg_clustering_projected_graph_words = nx.average_clustering(projected_graph_words)\n",
    "print(\"Promedio del coeficiente de clustering de la red de palabras:\", avg_clustering_projected_graph_words)\n",
    "N_words = len(projected_graph_words.nodes())\n",
    "edges_words = projected_graph_words.edges()\n",
    "p_words = (2*len(edges_words))/(N_words*(N_words-1))\n",
    "random_graph_words = nx.gnp_random_graph(N_words,p_words)\n",
    "avg_clustering_random_graph_words = nx.average_clustering(random_graph_words)\n",
    "print(\"Promedio del coeficiente de clustering de la red aleatoria de palabras:\", avg_clustering_random_graph_words)"
   ]
  },
  {
   "cell_type": "markdown",
   "metadata": {
    "deletable": true,
    "editable": true
   },
   "source": [
    "Los coeficientes de clustering obtenidos anteriormente tienen sentido y dan un buen indicio para encontrar comunidades. Es normal que el coeficiente sea cero en la red bipartita pues esta no tiene triangulos, y este coeficiente tiende a medir los triangulos que se pueden formar en una red. Para las proyecciones es un buen valor pues si este número es significativamente mayor que el coeficiente de clustering ofrecido por una red aleatoria con las mismas caracteristicas, significa que hay un buen indice de encontrar comunidades. "
   ]
  },
  {
   "cell_type": "markdown",
   "metadata": {
    "deletable": true,
    "editable": true
   },
   "source": [
    "## Archivos con las redes\n",
    "Los siguientes metodos sirven para guardar las redes en formatos de archivo que Gephi pueda leer. "
   ]
  },
  {
   "cell_type": "code",
   "execution_count": 13,
   "metadata": {
    "collapsed": false,
    "deletable": true,
    "editable": true
   },
   "outputs": [],
   "source": [
    "def export_network_file(network_edges, file_name):\n",
    "    network_edges_file = open(file_name, 'w')\n",
    "    print('Source\\tTarget\\tType', file=network_edges_file)\n",
    "    for k, v in sorted(network_edges):\n",
    "        print(k+'\\t'+v+'\\tUndirected', file=network_edges_file)\n",
    "\n",
    "# export_network_file(giant_component_users_edges, 'giant_component_users_weights_edges_file.txt')\n",
    "# export_network_file(giant_component_words_edges, 'giant_component_words_weights_edges_file.txt')"
   ]
  },
  {
   "cell_type": "code",
   "execution_count": 14,
   "metadata": {
    "collapsed": true,
    "deletable": true,
    "editable": true
   },
   "outputs": [],
   "source": [
    "def export_to_gephi(G, file_name):\n",
    "    nx.write_gexf(G, file_name)\n",
    "# export_to_gephi(giant_component, \"giant_component_gephi.gexf\")\n",
    "# export_to_gephi(giant_component_words, \"giant_component_words_gephi.gexf\")\n",
    "# export_to_gephi(giant_component_users, \"giant_component_users_gephi.gexf\")"
   ]
  },
  {
   "cell_type": "markdown",
   "metadata": {
    "deletable": true,
    "editable": true
   },
   "source": [
    "## Comunidades\n",
    "A continuación se hallan comunidades en la proyección de palabras con el fin de responder las preguntas planteadas. Se comparan las comunidades encontradas con gephi y con el metodo de Louvain, las cuales usan el mismo método. Esto se hace con el fin de validar que las comunidades encontradas si tengan sentido o se parezcan, ya que el metodo puede arrojar diferentes resultados en las corridas (optimos locales).\n",
    "\n",
    "No se hallan comunidades en la proyección de usuarios porque visualmente las palabras brindan más información del tipo de comunidad y a partir de ellas se pueden obtener los usuarios que las usaron, es decir, a la hora de segmentar el mercado, la relación de las palabras, reflejará la relación de los usuarios."
   ]
  },
  {
   "cell_type": "code",
   "execution_count": 15,
   "metadata": {
    "collapsed": false,
    "deletable": true,
    "editable": true
   },
   "outputs": [],
   "source": [
    "# Código para hallar las comunidades usando NetworkX y el módulo community\n",
    "partition = community.best_partition(giant_component_words)\n",
    "# Se agregan las comunidades escogidas como atributos de los nodos\n",
    "# Esto se hace con el fin de pintar las comunidades obtenidas con NetworkX en Gephi\n",
    "nx.set_node_attributes(giant_component_words, 'louvain', partition)\n",
    "\n",
    "# El código que está comentado a continuación exporta el archivo con las comunidades obtenidas\n",
    "# export_to_gephi(giant_component_words, \"giant_component_words_gephi_louvain.gexf\")"
   ]
  },
  {
   "cell_type": "markdown",
   "metadata": {
    "collapsed": false,
    "deletable": true,
    "editable": true
   },
   "source": [
    "## Resultados de las comunidades\n",
    "A continuación se muestran los resultados de las comunidades obtenidas y se hace la interpretación respectiva. Cabe resaltar que al ser tantas palabras las comunidades pueden tener diferentes interpretaciones pero es posible notar en todas patrones en común. Todas las imagenes que se muestran a continuación se pueden encontrar en la carpeta del proyecto debidamente ordenadas. "
   ]
  },
  {
   "cell_type": "markdown",
   "metadata": {
    "collapsed": true,
    "deletable": true,
    "editable": true
   },
   "source": [
    "<div class=\"row\">\n",
    "    <h3>1. Comunidad relacionada con amor, sentimientos y relaciones:</h3>\n",
    "    <div class=\"col-md-6\"> <h4> Louvain </h4>\n",
    "        <img src=\"comunidades_louvain/com_amor_relaciones_sentimientos.png\"  class=\"img-responsive\" />\n",
    "    </div>\n",
    "    <div class=\"col-md-6\"> <h4> Gephi </h4>\n",
    "        <img src=\"comunidades_gephi/com_amor_relaciones_sentimientos.png\"  class=\"img-responsive\" />\n",
    "    </div>\n",
    "</div>\n",
    "<div class=\"row\">\n",
    "    <div class=\"col-md-6\">\n",
    "        <p>Nodos: 1891 (18.2%)</p>\n",
    "        <p>Enlaces: 16887 (7.37%)</p>\n",
    "    </div>\n",
    "    <div class=\"col-md-6\">\n",
    "        <p>Nodos: 2094 (20.15%)</p>\n",
    "        <p>Enlaces: 21740 (7.37%)</p>\n",
    "    </div>\n",
    "</div>\n",
    "\n",
    "<div class=\"row\">\n",
    "    <h3>2. Comunidad relacionada con palabras en portugués:</h3>\n",
    "    <div class=\"col-md-6\"> <h4> Louvain </h4>\n",
    "        <img src=\"comunidades_louvain/com_brasil_idiomas.png\"  class=\"img-responsive\" />\n",
    "    </div>\n",
    "    <div class=\"col-md-6\"> <h4> Gephi </h4>\n",
    "        <img src=\"comunidades_gephi/com_brasil_idiomas.png\"  class=\"img-responsive\" />\n",
    "    </div>\n",
    "    <div class=\"col-md-6\"> <h4> Louvain zoom </h4>\n",
    "        <img src=\"comunidades_louvain/com_brasil_zoom.png\"  class=\"img-responsive\" />\n",
    "    </div>\n",
    "    <div class=\"col-md-6\"> <h4> Gephi zoom </h4>\n",
    "        <img src=\"comunidades_gephi/com_brasil_zoom.png\"  class=\"img-responsive\" />\n",
    "    </div>\n",
    "</div>\n",
    "<div class=\"row\">\n",
    "    <div class=\"col-md-6\">\n",
    "        <p>Nodos: 843 (8.11%)</p>\n",
    "        <p>Enlaces: 28947 (9.81%)</p>\n",
    "    </div>\n",
    "    <div class=\"col-md-6\">\n",
    "        <p>Nodos: 871 (20.15%)</p>\n",
    "        <p>Enlaces: 28199 (9.56%)</p>\n",
    "    </div>\n",
    "</div>\n",
    "\n",
    "<div class=\"row\">\n",
    "    <h3>3. Comunidad relacionada con palabras en inglés:</h3>\n",
    "    <div class=\"col-md-6\"> <h4> Louvain </h4>\n",
    "        <img src=\"comunidades_louvain/com_ingles.png\"  class=\"img-responsive\" />\n",
    "    </div>\n",
    "    <div class=\"col-md-6\"> <h4> Gephi </h4>\n",
    "        <img src=\"comunidades_gephi/com_ingles.png\"  class=\"img-responsive\" />\n",
    "    </div>\n",
    "</div>\n",
    "<div class=\"row\">\n",
    "    <div class=\"col-md-6\">\n",
    "        <p>Nodos: 841 (8.09%)</p>\n",
    "        <p>Enlaces: 12239 (4.15%)</p>\n",
    "    </div>\n",
    "    <div class=\"col-md-6\">\n",
    "        <p>Nodos: 733 (7.05%)</p>\n",
    "        <p>Enlaces: 11140 (3.78%)</p>\n",
    "    </div>\n",
    "</div>\n",
    "\n",
    "<div class=\"row\">\n",
    "    <h3>4. Comunidad relacionada con jovenes, amor y dedicatorias:</h3>\n",
    "    <div class=\"col-md-6\"> <h4> Louvain </h4>\n",
    "        <img src=\"comunidades_louvain/com_amor_joven_cumplidos_dedicatorias.png\"  class=\"img-responsive\" />\n",
    "    </div>\n",
    "    <div class=\"col-md-6\"> <h4> Gephi </h4>\n",
    "        <img src=\"comunidades_gephi/com_amor_joven_cumplidos_dedicatorias.png\"  class=\"img-responsive\" />\n",
    "    </div>\n",
    "</div>\n",
    "<div class=\"row\">\n",
    "    <div class=\"col-md-6\">\n",
    "        <p>Nodos: 406 (3.91%)</p>\n",
    "        <p>Enlaces: 3689 (1.25%)</p>\n",
    "    </div>\n",
    "    <div class=\"col-md-6\">\n",
    "        <p>Nodos: 673 (6.48%)</p>\n",
    "        <p>Enlaces: 6239 (2.11%)</p>\n",
    "    </div>\n",
    "</div>\n",
    "\n",
    "<div class=\"row\">\n",
    "    <h3>5. Comunidad relacionada con momentos, recuerdos y musica:</h3>\n",
    "    <div class=\"col-md-6\"> <h4> Louvain </h4>\n",
    "        <img src=\"comunidades_louvain/com_recuerdos_momentos_relaciones_musica.png\"  class=\"img-responsive\" />\n",
    "    </div>\n",
    "    <div class=\"col-md-6\"> <h4> Gephi </h4>\n",
    "        <img src=\"comunidades_gephi/com_recuerdos_momentos_relaciones_musica.png\"  class=\"img-responsive\" />\n",
    "    </div>\n",
    "</div>\n",
    "<div class=\"row\">\n",
    "    <div class=\"col-md-6\">\n",
    "        <p>Nodos: 723 (6.96%)</p>\n",
    "        <p>Enlaces: 12800 (4.34%)</p>\n",
    "    </div>\n",
    "    <div class=\"col-md-6\">\n",
    "        <p>Nodos: 633 (6.09%)</p>\n",
    "        <p>Enlaces: 10988 (3.72%)</p>\n",
    "    </div>\n",
    "</div>\n",
    "\n",
    "<div class=\"row\">\n",
    "    <h3>6. Comunidad relacionada con religión y espiritualidad:</h3>\n",
    "    <div class=\"col-md-6\"> <h4> Louvain </h4>\n",
    "        <img src=\"comunidades_louvain/com_religion_espiritualidad.png\"  class=\"img-responsive\" />\n",
    "    </div>\n",
    "    <div class=\"col-md-6\"> <h4> Gephi </h4>\n",
    "        <img src=\"comunidades_gephi/com_religion_espiritualidad.png\"  class=\"img-responsive\" />\n",
    "    </div>\n",
    "</div>\n",
    "<div class=\"row\">\n",
    "    <div class=\"col-md-6\">\n",
    "        <p>Nodos: 588 (5.66%)</p>\n",
    "        <p>Enlaces: 10793 (3.66%)</p>\n",
    "    </div>\n",
    "    <div class=\"col-md-6\">\n",
    "        <p>Nodos: 631 (6.07%)</p>\n",
    "        <p>Enlaces: 11566 (3.92%)</p>\n",
    "    </div>\n",
    "</div>\n",
    "\n",
    "<div class=\"row\">\n",
    "    <h3>7. Comunidad relacionada con el proceso de paz y el gobierno:</h3>\n",
    "    <div class=\"col-md-6\"> <h4> Louvain </h4>\n",
    "        <img src=\"comunidades_louvain/com_paz_gobierno_social.png\"  class=\"img-responsive\" />\n",
    "    </div>\n",
    "    <div class=\"col-md-6\"> <h4> Gephi </h4>\n",
    "        <img src=\"comunidades_gephi/com_paz_gobierno_social.png\"  class=\"img-responsive\" />\n",
    "    </div>\n",
    "</div>\n",
    "<div class=\"row\">\n",
    "    <div class=\"col-md-6\">\n",
    "        <p>Nodos: 417 (4.01%)</p>\n",
    "        <p>Enlaces: 5517 (1.87%)</p>\n",
    "    </div>\n",
    "    <div class=\"col-md-6\">\n",
    "        <p>Nodos: 586 (5.64%)</p>\n",
    "        <p>Enlaces: 7142 (2.42%)</p>\n",
    "    </div>\n",
    "</div>\n",
    "\n",
    "<div class=\"row\">\n",
    "    <h3>8. Comunidad relacionada con quejas, insultos y comentarios populares:</h3>\n",
    "    <div class=\"col-md-6\"> <h4> Louvain </h4>\n",
    "        <img src=\"comunidades_louvain/comunidad_insultos_quejas_popular.png\"  class=\"img-responsive\" />\n",
    "    </div>\n",
    "    <div class=\"col-md-6\"> <h4> Gephi </h4>\n",
    "        <img src=\"comunidades_gephi/comunidad_insultos_quejas_popular.png\"  class=\"img-responsive\" />\n",
    "    </div>\n",
    "</div>\n",
    "<div class=\"row\">\n",
    "    <div class=\"col-md-6\">\n",
    "        <p>Nodos: 635 (6.11%)</p>\n",
    "        <p>Enlaces: 12763 (4.33%)</p>\n",
    "    </div>\n",
    "    <div class=\"col-md-6\">\n",
    "        <p>Nodos: 559 (5.38%)</p>\n",
    "        <p>Enlaces: 10022 (3.4%)</p>\n",
    "    </div>\n",
    "</div>\n",
    "\n",
    "<div class=\"row\">\n",
    "    <h3>9. Comunidad relacionada con tristeza, decepciones y amigos:</h3>\n",
    "    <div class=\"col-md-6\"> <h4> Louvain </h4>\n",
    "        <img src=\"comunidades_louvain/com_tristeza_decepcion_amigos.png\"  class=\"img-responsive\" />\n",
    "    </div>\n",
    "    <div class=\"col-md-6\"> <h4> Gephi </h4>\n",
    "        <img src=\"comunidades_gephi/com_tristeza_decepcion_amigos.png\"  class=\"img-responsive\" />\n",
    "    </div>\n",
    "</div>\n",
    "<div class=\"row\">\n",
    "    <div class=\"col-md-6\">\n",
    "        <p>Nodos: 541 (5.21%)</p>\n",
    "        <p>Enlaces: 10063 (3.41%)</p>\n",
    "    </div>\n",
    "    <div class=\"col-md-6\">\n",
    "        <p>Nodos: 553 (5.32%)</p>\n",
    "        <p>Enlaces: 10620 (3.6%)</p>\n",
    "    </div>\n",
    "</div>\n",
    "\n",
    "<div class=\"row\">\n",
    "    <h3>10. Comunidad relacionada con soledad y rompimiento de relaciones:</h3>\n",
    "    <div class=\"col-md-6\"> <h4> Louvain </h4>\n",
    "        <img src=\"comunidades_louvain/com_soledad_terminacion.png\"  class=\"img-responsive\" />\n",
    "    </div>\n",
    "    <div class=\"col-md-6\"> <h4> Gephi </h4>\n",
    "        <img src=\"comunidades_gephi/com_soledad_terminacion.png\"  class=\"img-responsive\" />\n",
    "    </div>\n",
    "</div>\n",
    "<div class=\"row\">\n",
    "    <div class=\"col-md-6\">\n",
    "        <p>Nodos: 679 (6.53%)</p>\n",
    "        <p>Enlaces: 11539 (3.91%)</p>\n",
    "    </div>\n",
    "    <div class=\"col-md-6\">\n",
    "        <p>Nodos: 496 (4.77%)</p>\n",
    "        <p>Enlaces: 9615 (3.26%)</p>\n",
    "    </div>\n",
    "</div>\n",
    "\n",
    "<div class=\"row\">\n",
    "    <h3>11. Comunidad relacionada con temas de mujeres o feminismo:</h3>\n",
    "    <div class=\"col-md-6\"> <h4> Louvain </h4>\n",
    "        <img src=\"comunidades_louvain/com_temas_mujeres_feminismo.png\"  class=\"img-responsive\" />\n",
    "    </div>\n",
    "    <div class=\"col-md-6\"> <h4> Gephi </h4>\n",
    "        <img src=\"comunidades_gephi/com_temas_mujeres_feminismo.png\"  class=\"img-responsive\" />\n",
    "    </div>\n",
    "</div>\n",
    "<div class=\"row\">\n",
    "    <div class=\"col-md-6\">\n",
    "        <p>Nodos: 802 (7.72%)</p>\n",
    "        <p>Enlaces: 11114 (3.77%)</p>\n",
    "    </div>\n",
    "    <div class=\"col-md-6\">\n",
    "        <p>Nodos: 423 (4.07%)</p>\n",
    "        <p>Enlaces: 5758 (1.95%)</p>\n",
    "    </div>\n",
    "</div>\n",
    "\n",
    "<div class=\"row\">\n",
    "    <h3>12. Comunidad relacionada con lugares, países, ciudades y situaciones de América Latina:</h3>\n",
    "    <div class=\"col-md-6\"> <h4> Louvain </h4>\n",
    "        <img src=\"comunidades_louvain/com_global_geografica_lugares_latina.png\"  class=\"img-responsive\" />\n",
    "    </div>\n",
    "    <div class=\"col-md-6\"> <h4> Gephi </h4>\n",
    "        <img src=\"comunidades_gephi/com_global_geografica_lugares_latina.png\"  class=\"img-responsive\" />\n",
    "    </div>\n",
    "</div>\n",
    "<div class=\"row\">\n",
    "    <div class=\"col-md-6\">\n",
    "        <p>Nodos: 507 (4.88%)</p>\n",
    "        <p>Enlaces: 3755 (1.27%)</p>\n",
    "    </div>\n",
    "    <div class=\"col-md-6\">\n",
    "        <p>Nodos: 399 (3.84%)</p>\n",
    "        <p>Enlaces: 3195 (1.08%)</p>\n",
    "    </div>\n",
    "</div>\n",
    "\n",
    "<div class=\"row\">\n",
    "    <h3>13. Comunidad relacionada con planes en casa y actividades de ocio (programas de tv):</h3>\n",
    "    <div class=\"col-md-6\"> <h4> Louvain </h4>\n",
    "        <img src=\"comunidades_louvain/com_planes_casa.png\"  class=\"img-responsive\" />\n",
    "    </div>\n",
    "    <div class=\"col-md-6\"> <h4> Gephi </h4>\n",
    "        <img src=\"comunidades_gephi/com_planes_casa.png\"  class=\"img-responsive\" />\n",
    "    </div>\n",
    "</div>\n",
    "<div class=\"row\">\n",
    "    <div class=\"col-md-6\">\n",
    "        <p>Nodos: 301 (2.9%)</p>\n",
    "        <p>Enlaces: 7038 (2.39%)</p>\n",
    "    </div>\n",
    "    <div class=\"col-md-6\">\n",
    "        <p>Nodos: 368 (3.54%)</p>\n",
    "        <p>Enlaces: 8210 (2.78%)</p>\n",
    "    </div>\n",
    "</div>\n",
    "\n",
    "<div class=\"row\">\n",
    "    <h3>14. Comunidad relacionada con servicios públicos, quejas y problemas:</h3>\n",
    "    <div class=\"col-md-6\"> <h4> Louvain </h4>\n",
    "        <img src=\"comunidades_louvain/com_servicios_quejas_problemas_publico.png\"  class=\"img-responsive\" />\n",
    "    </div>\n",
    "    <div class=\"col-md-6\"> <h4> Gephi </h4>\n",
    "        <img src=\"comunidades_gephi/com_servicios_quejas_problemas_publico.png\"  class=\"img-responsive\" />\n",
    "    </div>\n",
    "</div>\n",
    "<div class=\"row\">\n",
    "    <div class=\"col-md-6\">\n",
    "        <p>Nodos: 258 (2.48%)</p>\n",
    "        <p>Enlaces: 5127 (1.74%)</p>\n",
    "    </div>\n",
    "    <div class=\"col-md-6\">\n",
    "        <p>Nodos: 326 (3.14%)</p>\n",
    "        <p>Enlaces: 5579 (1.89%)</p>\n",
    "    </div>\n",
    "</div>\n",
    "\n",
    "<div class=\"row\">\n",
    "    <h3>15. Comunidad relacionada con política y libre expresión:</h3>\n",
    "    <div class=\"col-md-6\"> <h4> Louvain </h4>\n",
    "        <img src=\"comunidades_louvain/com_pueblo_politica_libre_expresion.png\"  class=\"img-responsive\" />\n",
    "    </div>\n",
    "    <div class=\"col-md-6\"> <h4> Gephi </h4>\n",
    "        <img src=\"comunidades_gephi/com_pueblo_politica_libre_expresion.png\"  class=\"img-responsive\" />\n",
    "    </div>\n",
    "</div>\n",
    "<div class=\"row\">\n",
    "    <div class=\"col-md-6\">\n",
    "        <p>Nodos: 484 (4.66%)</p>\n",
    "        <p>Enlaces: 7012 (2.38%)</p>\n",
    "    </div>\n",
    "    <div class=\"col-md-6\">\n",
    "        <p>Nodos: 291 (2.8%)</p>\n",
    "        <p>Enlaces: 5188 (1.76%)</p>\n",
    "    </div>\n",
    "</div>\n",
    "\n",
    "<div class=\"row\">\n",
    "    <h3>16. Comunidad relacionada con olvido y desamor (Sólo en Gephi):</h3>\n",
    "    <div class=\"col-md-12\">\n",
    "        <img src=\"comunidades_gephi/com_canciones_olvido_desamor.png\"  class=\"img-responsive\" />\n",
    "    </div>\n",
    "</div>\n",
    "<div class=\"row\">\n",
    "    <div class=\"col-md-12\">\n",
    "        <p>Nodos: 149 (1.43%)</p>\n",
    "        <p>Enlaces: 1789 (0.61%)</p>\n",
    "    </div>\n",
    "</div>\n",
    "\n",
    "<div class=\"row\">\n",
    "    <h3>17. Comunidad relacionada con la costa y vallentos (Sólo con Louvain - NetworkX):</h3>\n",
    "    <div class=\"col-md-12\">\n",
    "        <img src=\"comunidades_louvain/com_costa_vallentos.png\"  class=\"img-responsive\" />\n",
    "    </div>\n",
    "</div>\n",
    "<div class=\"row\">\n",
    "    <div class=\"col-md-12\">\n",
    "        <p>Nodos: 236 (2.27%)</p>\n",
    "        <p>Enlaces: 1668 (0.57%)</p>\n",
    "    </div>\n",
    "</div>\n",
    "\n",
    "<div class=\"row\">\n",
    "    <h3>18. Comunidad relacionada con sexo y relaciones (Sólo en Gephi):</h3>\n",
    "    <div class=\"col-md-12\">\n",
    "        <img src=\"comunidades_louvain/com_sexo_relaciones.png\"  class=\"img-responsive\" />\n",
    "    </div>\n",
    "</div>\n",
    "<div class=\"row\">\n",
    "    <div class=\"col-md-12\">\n",
    "        <p>Nodos: 106 (1.02%)</p>\n",
    "        <p>Enlaces: 655 (0.22%)</p>\n",
    "    </div>\n",
    "</div>"
   ]
  },
  {
   "cell_type": "markdown",
   "metadata": {
    "deletable": true,
    "editable": true
   },
   "source": [
    "Se pueden apreciar comunidades con elementos en común de acuerdo a los resultados mostrados anteriormente. Aunque la interpretación de cada comunidad puede variar, según la persona que la vea, se debe resaltar que cada una tiene palabras que pueden clasificarse en tópicos similares a los aquí expuestos. Las comunidades que tienen palabras en otros idiomas sirven para validar los algoritmos de comunidades pues es de esperarse que queden juntas dichas palabras en alguna comunidad."
   ]
  },
  {
   "cell_type": "markdown",
   "metadata": {
    "deletable": true,
    "editable": true
   },
   "source": [
    "## Medidas de centralidad usadas\n",
    "Las medidas de centralidad usadas en estas redes fueron betweenness centrality y degree centrality. En las comunidades dibujadas anteriormente los nodos más grandes son los que tienen estas dos medidas con valores más altos. Esto se justifica porque son medidas que, para el contexto de palabras y procesamiento del lenguaje natural, brindan más información acerca de la importancia de un nodo. Betweenness centrality puede significar cuales los palabras se encuentran en la mayoría de los tweets en una comunidad y degree centrality denota la cantidad de veces que puede ser usada una palabra por distintos usuarios.\n",
    "\n",
    "Por las razones anteriores estas fueron las medidas usadas para mostrar la importancia de los nodos. Para conocer los valores, dentro de la carpeta del proyecto se encuentra el archivo del proyecto de gephi donde se graficaron las diferentes redes y se calcularon las medidas consideradas como más representativas en este contexto. "
   ]
  },
  {
   "cell_type": "markdown",
   "metadata": {
    "deletable": true,
    "editable": true
   },
   "source": [
    "## Respuestas a las pregutas\n",
    "<div class=\"alert alert-success\" role=\"alert\">\n",
    "<p>¿Qué comunidades se pueden encontrar entre usuarios a partir del lenguaje que usan?</p>\n",
    "<p>Respuesta: Se pueden encontrar comunidades como las mostradas en el punto anterior, es decir, se pueden apreciar comunidades de personas en relaciones de pareja, de personas que dedican canciones a través de twitter, de política, de personas que comentan situaciones de sus ciudades y países, de jovenes y musica juvenil, de problemas gubernamentales, entre otras.</p>\n",
    "</div>\n",
    "<div class=\"alert alert-success\" role=\"alert\">\n",
    "<p>¿Qué temas se pueden identificar como más comentados por los usuarios?</p>\n",
    "<p>Respuesta: Los temas más comentados son los relacionados con sentimientos y relaciones amorosas. También se pueden destacar los temas religiosos y los espirituales.</p>\n",
    "</div>\n",
    "<div class=\"alert alert-success\" role=\"alert\">\n",
    "<p>¿Es posible identificar algún segmento de mercado en las comunidades obtenidas?</p>\n",
    "<p>Respuesta: Es posible identificar varios segmentos de mercado, entre ellos están: gente joven, música romantica, restaurantes, música de despecho, reality shows, youtubers, entre otros. \n",
    "</div>\n",
    "<div class=\"alert alert-success\" role=\"alert\">\n",
    "<p>¿Es posible pensar en un producto que se pueda ofrecer a alguna de las comunidades obtenidas?</p>\n",
    "<p>Respuesta: De acuerdo a los segmentos de mercado identificados, se pueden recomendar productos como subscripciones a servicios de música como Spotify o Deezer. También se pueden recomendar restaurantes y platos de comida. No sobra mencionar productos religiosos o espirituales.</p>\n",
    "</div>"
   ]
  }
 ],
 "metadata": {
  "kernelspec": {
   "display_name": "Python 3",
   "language": "python",
   "name": "python3"
  },
  "language_info": {
   "codemirror_mode": {
    "name": "ipython",
    "version": 3
   },
   "file_extension": ".py",
   "mimetype": "text/x-python",
   "name": "python",
   "nbconvert_exporter": "python",
   "pygments_lexer": "ipython3",
   "version": "3.5.2"
  }
 },
 "nbformat": 4,
 "nbformat_minor": 2
}
