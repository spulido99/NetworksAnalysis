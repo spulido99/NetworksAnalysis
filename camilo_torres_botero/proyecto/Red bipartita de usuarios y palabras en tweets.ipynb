{
 "cells": [
  {
   "cell_type": "markdown",
   "metadata": {
    "deletable": true,
    "editable": true
   },
   "source": [
    "# Red bipartita de usuarios y palabras"
   ]
  },
  {
   "cell_type": "code",
   "execution_count": 1,
   "metadata": {
    "collapsed": false,
    "deletable": true,
    "editable": true
   },
   "outputs": [],
   "source": [
    "import networkx as nx\n",
    "from networkx.algorithms import bipartite\n",
    "import matplotlib.pyplot as plt\n",
    "import seaborn as sns\n",
    "import numpy as np\n",
    "from scipy.stats import powerlaw\n",
    "%matplotlib inline\n",
    "sns.set()"
   ]
  },
  {
   "cell_type": "markdown",
   "metadata": {
    "deletable": true,
    "editable": true
   },
   "source": [
    "## Número de nodos y enlaces"
   ]
  },
  {
   "cell_type": "code",
   "execution_count": 3,
   "metadata": {
    "collapsed": false,
    "deletable": true,
    "editable": true
   },
   "outputs": [
    {
     "name": "stdout",
     "output_type": "stream",
     "text": [
      "Total de enlaces: 31976\n",
      "Total de nodos: 15912\n",
      "Total de nodos usuario: 3013\n",
      "Total de nodos de palabras: 12899\n"
     ]
    }
   ],
   "source": [
    "all_edges = set()\n",
    "with open('edges_file_caobanutresa_nouns_emojis_adjectives.txt', encoding=\"utf8\") as f:\n",
    "    next(f)\n",
    "    for line in f:\n",
    "        edge = line.replace('\\n','').split('\\t')\n",
    "        all_edges.add((edge[0],edge[1]))\n",
    "\n",
    "total_count_edges = len(all_edges)\n",
    "all_nodes = set()\n",
    "users_nodes = set()\n",
    "words_nodes = set()\n",
    "\n",
    "for x,y in all_edges:\n",
    "    users_nodes.add(x)\n",
    "    words_nodes.add(y)\n",
    "    all_nodes.add(x)\n",
    "    all_nodes.add(y)\n",
    "    \n",
    "print(\"Total de enlaces:\", len(all_edges))\n",
    "print(\"Total de nodos:\", len(all_nodes))\n",
    "print(\"Total de nodos usuario:\", len(users_nodes))\n",
    "print(\"Total de nodos de palabras:\", len(words_nodes))"
   ]
  },
  {
   "cell_type": "markdown",
   "metadata": {
    "deletable": true,
    "editable": true
   },
   "source": [
    "## Proyecciones"
   ]
  },
  {
   "cell_type": "code",
   "execution_count": 4,
   "metadata": {
    "collapsed": false,
    "deletable": true,
    "editable": true
   },
   "outputs": [
    {
     "name": "stdout",
     "output_type": "stream",
     "text": [
      "Proyeccion usuarios total enlaces: 260852\n",
      "Proyeccion palabras total enlaces: 460130\n"
     ]
    }
   ],
   "source": [
    "projection_users = set()\n",
    "projection_words = set()\n",
    "for word in words_nodes:\n",
    "    possible_nodes = set()\n",
    "    for edge in all_edges:\n",
    "        if word in edge:\n",
    "            possible_nodes.add(edge[0])\n",
    "    for node1 in possible_nodes:\n",
    "        for node2 in possible_nodes:\n",
    "            if (node1,node2) not in projection_users and (node2,node1) not in projection_users:\n",
    "                projection_users.add((node1,node2)) if (node1 != node2) else 0\n",
    "                \n",
    "for user in users_nodes:\n",
    "    possible_nodes = set()\n",
    "    for edge in all_edges:\n",
    "        if user in edge:\n",
    "            possible_nodes.add(edge[1])\n",
    "    for node1 in possible_nodes:\n",
    "        for node2 in possible_nodes:\n",
    "            if (node1,node2) not in projection_words and (node2,node1) not in projection_words:\n",
    "                projection_words.add((node1,node2)) if (node1 != node2) else 0\n",
    "                \n",
    "print(\"Proyeccion usuarios total enlaces:\",len(projection_users))\n",
    "print(\"Proyeccion palabras total enlaces:\",len(projection_words))"
   ]
  },
  {
   "cell_type": "markdown",
   "metadata": {
    "deletable": true,
    "editable": true
   },
   "source": [
    "## Proyecciones usando NetworkX"
   ]
  },
  {
   "cell_type": "code",
   "execution_count": 5,
   "metadata": {
    "collapsed": false,
    "deletable": true,
    "editable": true
   },
   "outputs": [
    {
     "name": "stdout",
     "output_type": "stream",
     "text": [
      "Proyeccion grafo usuarios total enlaces: 260852\n",
      "Proyeccion grafo palabras total enlaces: 460130\n"
     ]
    }
   ],
   "source": [
    "tweets_users_words_graph = nx.Graph()\n",
    "tweets_users_words_graph.add_nodes_from(users_nodes, bipartite=0)\n",
    "tweets_users_words_graph.add_nodes_from(words_nodes, bipartite=1)\n",
    "tweets_users_words_graph.add_edges_from(all_edges)\n",
    "\n",
    "projected_graph_users = bipartite.projected_graph(tweets_users_words_graph, users_nodes)\n",
    "projected_graph_words = bipartite.projected_graph(tweets_users_words_graph, words_nodes)\n",
    "\n",
    "print(\"Proyeccion grafo usuarios total enlaces:\",len(projected_graph_users.edges()))\n",
    "print(\"Proyeccion grafo palabras total enlaces:\",len(projected_graph_words.edges()))"
   ]
  },
  {
   "cell_type": "markdown",
   "metadata": {
    "deletable": true,
    "editable": true
   },
   "source": [
    "## Distribución de grados para la red bipartita completa"
   ]
  },
  {
   "cell_type": "code",
   "execution_count": 7,
   "metadata": {
    "collapsed": false,
    "deletable": true,
    "editable": true
   },
   "outputs": [
    {
     "name": "stderr",
     "output_type": "stream",
     "text": [
      "C:\\Users\\Camil\\Anaconda3\\lib\\site-packages\\statsmodels\\nonparametric\\kdetools.py:20: VisibleDeprecationWarning: using a non-integer number instead of an integer will result in an error in the future\n",
      "  y = X[:m/2+1] + np.r_[0,X[m/2+1:],0]*1j\n"
     ]
    },
    {
     "data": {
      "text/plain": [
       "<matplotlib.axes._subplots.AxesSubplot at 0x2500a0229b0>"
      ]
     },
     "execution_count": 7,
     "metadata": {},
     "output_type": "execute_result"
    },
    {
     "data": {
      "image/png": "[encoded data removed]",
      "text/plain": [
       "<matplotlib.figure.Figure at 0x25075bb4d30>"
      ]
     },
     "metadata": {},
     "output_type": "display_data"
    }
   ],
   "source": [
    "degrees_tweets_users_words_graph = list(tweets_users_words_graph.degree().values())\n",
    "sns.distplot(degrees_tweets_users_words_graph)"
   ]
  },
  {
   "cell_type": "markdown",
   "metadata": {
    "deletable": true,
    "editable": true
   },
   "source": [
    "## Distribución de grados para la red proyectada de usuarios"
   ]
  },
  {
   "cell_type": "code",
   "execution_count": 8,
   "metadata": {
    "collapsed": false,
    "deletable": true,
    "editable": true
   },
   "outputs": [
    {
     "name": "stderr",
     "output_type": "stream",
     "text": [
      "C:\\Users\\Camil\\Anaconda3\\lib\\site-packages\\statsmodels\\nonparametric\\kdetools.py:20: VisibleDeprecationWarning: using a non-integer number instead of an integer will result in an error in the future\n",
      "  y = X[:m/2+1] + np.r_[0,X[m/2+1:],0]*1j\n"
     ]
    },
    {
     "data": {
      "text/plain": [
       "<matplotlib.axes._subplots.AxesSubplot at 0x2500a1802b0>"
      ]
     },
     "execution_count": 8,
     "metadata": {},
     "output_type": "execute_result"
    },
    {
     "data": {
      "image/png": "[encoded data removed]",
      "text/plain": [
       "<matplotlib.figure.Figure at 0x2500a196a90>"
      ]
     },
     "metadata": {},
     "output_type": "display_data"
    }
   ],
   "source": [
    "degrees_projected_graph_users = list(projected_graph_users.degree().values())\n",
    "degrees_projected_graph_users = np.array(degrees_projected_graph_users)\n",
    "degrees_projected_graph_users = degrees_projected_graph_users[np.nonzero(degrees_projected_graph_users)]\n",
    "sns.distplot(degrees_projected_graph_users)"
   ]
  },
  {
   "cell_type": "markdown",
   "metadata": {
    "deletable": true,
    "editable": true
   },
   "source": [
    "## Distribución de grados para la red proyectada de palabras"
   ]
  },
  {
   "cell_type": "code",
   "execution_count": 10,
   "metadata": {
    "collapsed": false,
    "deletable": true,
    "editable": true
   },
   "outputs": [
    {
     "name": "stderr",
     "output_type": "stream",
     "text": [
      "C:\\Users\\Camil\\Anaconda3\\lib\\site-packages\\statsmodels\\nonparametric\\kdetools.py:20: VisibleDeprecationWarning: using a non-integer number instead of an integer will result in an error in the future\n",
      "  y = X[:m/2+1] + np.r_[0,X[m/2+1:],0]*1j\n"
     ]
    },
    {
     "data": {
      "text/plain": [
       "<matplotlib.axes._subplots.AxesSubplot at 0x2500a3a0710>"
      ]
     },
     "execution_count": 10,
     "metadata": {},
     "output_type": "execute_result"
    },
    {
     "data": {
      "image/png": "[encoded data removed]",
      "text/plain": [
       "<matplotlib.figure.Figure at 0x2500a1a0908>"
      ]
     },
     "metadata": {},
     "output_type": "display_data"
    }
   ],
   "source": [
    "degrees_projected_graph_words = list(projected_graph_words.degree().values())\n",
    "degrees_projected_graph_words = np.array(degrees_projected_graph_words)\n",
    "degrees_projected_graph_words = degrees_projected_graph_words[np.nonzero(degrees_projected_graph_words)]\n",
    "sns.distplot(degrees_projected_graph_words)"
   ]
  },
  {
   "cell_type": "markdown",
   "metadata": {
    "deletable": true,
    "editable": true
   },
   "source": [
    "## Power Law Distribution para la red bipartita completa"
   ]
  },
  {
   "cell_type": "code",
   "execution_count": 11,
   "metadata": {
    "collapsed": false,
    "deletable": true,
    "editable": true
   },
   "outputs": [
    {
     "data": {
      "text/plain": [
       "(0.30575224789226124, 0.99999999999999989, 397.58427379755062)"
      ]
     },
     "execution_count": 11,
     "metadata": {},
     "output_type": "execute_result"
    },
    {
     "data": {
      "image/png": "[encoded data removed]",
      "text/plain": [
       "<matplotlib.figure.Figure at 0x2500a316828>"
      ]
     },
     "metadata": {},
     "output_type": "display_data"
    }
   ],
   "source": [
    "logs_tweets_users_words_graph = np.log(degrees_tweets_users_words_graph)\n",
    "plt.hist(logs_tweets_users_words_graph, log=True)\n",
    "\n",
    "e, l, s = powerlaw.fit(degrees_tweets_users_words_graph)\n",
    "e, l, s"
   ]
  },
  {
   "cell_type": "markdown",
   "metadata": {
    "deletable": true,
    "editable": true
   },
   "source": [
    "## Power Law Distribution para la red proyectada de usuarios"
   ]
  },
  {
   "cell_type": "code",
   "execution_count": 12,
   "metadata": {
    "collapsed": false,
    "deletable": true,
    "editable": true
   },
   "outputs": [
    {
     "data": {
      "text/plain": [
       "(0.40136040358609915, 0.99999999999999978, 1345.7514635819489)"
      ]
     },
     "execution_count": 12,
     "metadata": {},
     "output_type": "execute_result"
    },
    {
     "data": {
      "image/png": "[encoded data removed]",
      "text/plain": [
       "<matplotlib.figure.Figure at 0x2500a4b5f28>"
      ]
     },
     "metadata": {},
     "output_type": "display_data"
    }
   ],
   "source": [
    "logs_projected_graph_users = np.log(degrees_projected_graph_users)\n",
    "plt.hist(logs_projected_graph_users, log=True)\n",
    "\n",
    "e_users, l_users, s_users = powerlaw.fit(degrees_projected_graph_users)\n",
    "e_users, l_users, s_users"
   ]
  },
  {
   "cell_type": "markdown",
   "metadata": {
    "deletable": true,
    "editable": true
   },
   "source": [
    "## Power Law Distribution para la red proyectada de palabras"
   ]
  },
  {
   "cell_type": "code",
   "execution_count": 65,
   "metadata": {
    "collapsed": false,
    "deletable": true,
    "editable": true
   },
   "outputs": [
    {
     "data": {
      "text/plain": [
       "(0.19384867451653767, 0.99999999999999978, 4638.6813962276701)"
      ]
     },
     "execution_count": 65,
     "metadata": {},
     "output_type": "execute_result"
    },
    {
     "data": {
      "image/png": "[encoded data removed]",
      "text/plain": [
       "<matplotlib.figure.Figure at 0x7f8f37eed978>"
      ]
     },
     "metadata": {},
     "output_type": "display_data"
    }
   ],
   "source": [
    "logs_projected_graph_words = np.log(degrees_projected_graph_words)\n",
    "plt.hist(logs_projected_graph_words, log=True)\n",
    "\n",
    "e_words, l_words, s_words = powerlaw.fit(degrees_projected_graph_words)\n",
    "e_words, l_words, s_words"
   ]
  },
  {
   "cell_type": "markdown",
   "metadata": {},
   "source": [
    "## Average path length de la red de palabras y usuarios y proyecciones"
   ]
  },
  {
   "cell_type": "code",
   "execution_count": 24,
   "metadata": {
    "collapsed": false
   },
   "outputs": [
    {
     "name": "stdout",
     "output_type": "stream",
     "text": [
      "Componentes de la red de palabras y usuarios: 125\n",
      "Enlaces del componente gigante de la red de usuarios y palabras: 31685\n",
      "Diametro del componente gigante de la red de usuarios y palabras: 13\n",
      "Avg shortest path del componente gigante de la red de usuarios y palabras: 5.098959450209508\n",
      " \n",
      "Componentes de la proyección de usuarios: 125\n",
      "Enlaces del componente gigante de la red de usuarios: 260850\n",
      "Diametro del componente gigante de la red de usuarios: 6\n",
      "Avg shortest path del componente gigante de la red de usuarios: 2.10614504622125\n",
      " \n",
      "Componentes de la proyección de palabras: 125\n",
      "Enlaces del componente gigante de la red de palabras: 459216\n",
      "Diametro del componente gigante de la red de palabras: 6\n",
      "Avg shortest path del componente gigante de la red de palabras: 2.643181597626508\n"
     ]
    }
   ],
   "source": [
    "tweets_users_words_components = sorted(nx.connected_component_subgraphs(tweets_users_words_graph), key = len, reverse=True)\n",
    "giant_component = tweets_users_words_components[0]\n",
    "giant_component_edges = giant_component.edges()\n",
    "#giant_component_diameter = nx.diameter(giant_component) = 13\n",
    "#giant_component_avg_shortest_path = nx.average_shortest_path_length(giant_component)\n",
    "print(\"Componentes de la red de palabras y usuarios:\",len(tweets_users_words_components))\n",
    "print(\"Enlaces del componente gigante de la red de usuarios y palabras:\", len(giant_component_edges))\n",
    "print(\"Diametro del componente gigante de la red de usuarios y palabras:\", tweets_users_words_diameter)\n",
    "print(\"Avg shortest path del componente gigante de la red de usuarios y palabras:\", giant_component_avg_shortest_path)\n",
    "print(\" \")\n",
    "\n",
    "# giant_component_edges_file = open('giant_component_edges_file.txt', 'w')\n",
    "# print('Source\\tTarget\\tType', file=giant_component_edges_file)\n",
    "# for k, v in sorted(giant_component_edges):\n",
    "#     print(k+'\\t'+v+'\\tUndirected', file=giant_component_edges_file)\n",
    "    \n",
    "\n",
    "# print(nx.average_shortest_path_length(giant_component)) = 5.098959450209508\n",
    "# for component in tweets_users_words_components:\n",
    "#     print(len(component))\n",
    "\n",
    "projected_graph_users_components = sorted(nx.connected_component_subgraphs(projected_graph_users), key = len, reverse=True)\n",
    "print(\"Componentes de la proyección de usuarios:\", len(projected_graph_users_components))\n",
    "giant_component_users = projected_graph_users_components[0]\n",
    "giant_component_users_edges = giant_component_users.edges()\n",
    "#giant_component_users_avg_shortest_path = nx.average_shortest_path_length(giant_component_users)\n",
    "#giant_component_users_diameter = nx.diameter(giant_component_users)\n",
    "print(\"Enlaces del componente gigante de la red de usuarios:\", len(giant_component_users_edges))\n",
    "print(\"Diametro del componente gigante de la red de usuarios:\", giant_component_users_diameter)\n",
    "print(\"Avg shortest path del componente gigante de la red de usuarios:\", giant_component_users_avg_shortest_path)\n",
    "print(\" \")\n",
    "\n",
    "\n",
    "projected_graph_words_components = sorted(nx.connected_component_subgraphs(projected_graph_words), key = len, reverse=True)\n",
    "print(\"Componentes de la proyección de palabras:\", len(projected_graph_words_components))\n",
    "giant_component_words = projected_graph_words_components[0]\n",
    "giant_component_words_edges = giant_component_words.edges()\n",
    "giant_component_words_avg_shortest_path = nx.average_shortest_path_length(giant_component_words)\n",
    "#giant_component_words_diameter = nx.diameter(giant_component_words)\n",
    "print(\"Enlaces del componente gigante de la red de palabras:\", len(giant_component_words_edges))\n",
    "print(\"Diametro del componente gigante de la red de palabras:\", giant_component_words_diameter)\n",
    "print(\"Avg shortest path del componente gigante de la red de palabras:\", giant_component_words_avg_shortest_path)"
   ]
  },
  {
   "cell_type": "code",
   "execution_count": 80,
   "metadata": {
    "collapsed": false
   },
   "outputs": [
    {
     "name": "stdout",
     "output_type": "stream",
     "text": [
      "hola\n"
     ]
    }
   ],
   "source": [
    "print(\"hola\")"
   ]
  }
 ],
 "metadata": {
  "kernelspec": {
   "display_name": "Python 3",
   "language": "python",
   "name": "python3"
  },
  "language_info": {
   "codemirror_mode": {
    "name": "ipython",
    "version": 3
   },
   "file_extension": ".py",
   "mimetype": "text/x-python",
   "name": "python",
   "nbconvert_exporter": "python",
   "pygments_lexer": "ipython3",
   "version": "3.6.0"
  }
 },
 "nbformat": 4,
 "nbformat_minor": 2
}
