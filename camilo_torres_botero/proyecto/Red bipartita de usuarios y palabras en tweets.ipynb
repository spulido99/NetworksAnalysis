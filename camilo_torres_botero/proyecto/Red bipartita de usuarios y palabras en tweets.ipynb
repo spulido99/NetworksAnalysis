{
 "cells": [
  {
   "cell_type": "markdown",
   "metadata": {
    "deletable": true,
    "editable": true
   },
   "source": [
    "# Red bipartita de usuarios y palabras"
   ]
  },
  {
   "cell_type": "code",
   "execution_count": 46,
   "metadata": {
    "collapsed": false,
    "deletable": true,
    "editable": true
   },
   "outputs": [],
   "source": [
    "import networkx as nx\n",
    "from networkx.algorithms import bipartite\n",
    "import matplotlib.pyplot as plt\n",
    "import seaborn as sns\n",
    "import numpy as np\n",
    "import operator\n",
    "from scipy.stats import powerlaw\n",
    "%matplotlib inline\n",
    "sns.set()"
   ]
  },
  {
   "cell_type": "markdown",
   "metadata": {
    "deletable": true,
    "editable": true
   },
   "source": [
    "## Número de nodos y enlaces"
   ]
  },
  {
   "cell_type": "code",
   "execution_count": 50,
   "metadata": {
    "collapsed": false,
    "deletable": true,
    "editable": true
   },
   "outputs": [
    {
     "name": "stdout",
     "output_type": "stream",
     "text": [
      "Total de enlaces: 27002\n",
      "Total de nodos: 14709\n",
      "Total de nodos usuario: 2969\n",
      "Total de nodos de palabras: 11740\n"
     ]
    }
   ],
   "source": [
    "all_edges = []\n",
    "all_edges_aux = []\n",
    "with open('edges_file_total_network_weights_undirected_3.txt', encoding=\"utf8\") as f:\n",
    "    next(f)\n",
    "    for line in f:\n",
    "        edge = line.replace('\\n','').split('\\t')\n",
    "        if (edge[0],edge[1]) in all_edges_aux:\n",
    "            edge_index = all_edges_aux.index((edge[0],edge[1]))\n",
    "            all_edges[edge_index] = (edge[0],edge[1],all_edges[edge_index][2] + 1)\n",
    "        else:        \n",
    "            all_edges.append((edge[0],edge[1],1))\n",
    "            all_edges_aux.append((edge[0],edge[1]))\n",
    "\n",
    "total_count_edges = len(all_edges)\n",
    "all_nodes = set()\n",
    "users_nodes = set()\n",
    "words_nodes = set()\n",
    "\n",
    "for x,y,w in all_edges:\n",
    "    users_nodes.add(x)\n",
    "    words_nodes.add(y)\n",
    "    all_nodes.add(x)\n",
    "    all_nodes.add(y)\n",
    "    \n",
    "print(\"Total de enlaces:\", len(all_edges))\n",
    "print(\"Total de nodos:\", len(all_nodes))\n",
    "print(\"Total de nodos usuario:\", len(users_nodes))\n",
    "print(\"Total de nodos de palabras:\", len(words_nodes))"
   ]
  },
  {
   "cell_type": "markdown",
   "metadata": {
    "deletable": true,
    "editable": true
   },
   "source": [
    "## Proyecciones"
   ]
  },
  {
   "cell_type": "code",
   "execution_count": 4,
   "metadata": {
    "collapsed": false,
    "deletable": true,
    "editable": true
   },
   "outputs": [
    {
     "name": "stdout",
     "output_type": "stream",
     "text": [
      "Paso por aqui\n",
      "Proyeccion usuarios total enlaces: 233229\n",
      "Proyeccion palabras total enlaces: 368074\n"
     ]
    }
   ],
   "source": [
    "projection_users = set()\n",
    "projection_words = set()\n",
    "for word in words_nodes:\n",
    "    possible_nodes = set()\n",
    "    for edge in all_edges:\n",
    "        if word in edge:\n",
    "            possible_nodes.add(edge[0])\n",
    "    for node1 in possible_nodes:\n",
    "        for node2 in possible_nodes:\n",
    "            if (node1,node2) not in projection_users and (node2,node1) not in projection_users:\n",
    "                projection_users.add((node1,node2)) if (node1 != node2) else 0\n",
    "                \n",
    "print(\"Paso por aqui\")\n",
    "                \n",
    "for user in users_nodes:\n",
    "    possible_nodes = set()\n",
    "    for edge in all_edges:\n",
    "        if user in edge:\n",
    "            possible_nodes.add(edge[1])\n",
    "    for node1 in possible_nodes:\n",
    "        for node2 in possible_nodes:\n",
    "            if (node1,node2) not in projection_words and (node2,node1) not in projection_words:\n",
    "                projection_words.add((node1,node2)) if (node1 != node2) else 0\n",
    "                \n",
    "print(\"Proyeccion usuarios total enlaces:\",len(projection_users))\n",
    "print(\"Proyeccion palabras total enlaces:\",len(projection_words))"
   ]
  },
  {
   "cell_type": "markdown",
   "metadata": {
    "deletable": true,
    "editable": true
   },
   "source": [
    "## Proyecciones usando NetworkX"
   ]
  },
  {
   "cell_type": "code",
   "execution_count": 30,
   "metadata": {
    "collapsed": false,
    "deletable": true,
    "editable": true
   },
   "outputs": [
    {
     "name": "stdout",
     "output_type": "stream",
     "text": [
      "Proyeccion grafo usuarios total enlaces: [('161064030', '41001896', {'weight': 2}), ('161064030', '564100217', {'weight': 2}), ('161064030', '2428114045', {'weight': 3}), ('161064030', '706565063', {'weight': 4}), ('161064030', '2933222332', {'weight': 2}), ('161064030', '166768987', {'weight': 2}), ('161064030', '511950612', {'weight': 3}), ('161064030', '1614060590', {'weight': 2}), ('161064030', '2393164219', {'weight': 3}), ('161064030', '353877891', {'weight': 2})]\n",
      "Proyeccion grafo palabras total enlaces: [('peruanos', 'violencia', {'weight': 2}), ('peruanos', 'familias', {'weight': 2}), ('peruanos', 'perú', {'weight': 2}), ('peruanos', 'sigan', {'weight': 2}), ('peruanos', '@panoramaptv', {'weight': 2}), ('canción', 'desilusión', {'weight': 4}), ('canción', 'mane', {'weight': 2}), ('canción', 'dedicarle', {'weight': 2}), ('canción', 'mueeeero', {'weight': 2}), ('canción', 'bella', {'weight': 2})]\n",
      "Proyeccion grafo usuarios total enlaces: 233229\n",
      "Proyeccion grafo palabras total enlaces: 368074\n"
     ]
    }
   ],
   "source": [
    "tweets_users_words_graph = nx.Graph()\n",
    "tweets_users_words_graph.add_nodes_from(users_nodes, bipartite=0)\n",
    "tweets_users_words_graph.add_nodes_from(words_nodes, bipartite=1)\n",
    "tweets_users_words_graph.add_weighted_edges_from(all_edges)\n",
    "\n",
    "def my_weight(G, u, v, weight='weight'):\n",
    "    w = 0\n",
    "    for nbr in set(G[u]) & set(G[v]):\n",
    "        w += G.edge[u][nbr].get(weight, 1) + G.edge[v][nbr].get(weight, 1)\n",
    "    return w\n",
    "\n",
    "projected_graph_users = bipartite.generic_weighted_projected_graph(tweets_users_words_graph, users_nodes, weight_function=my_weight)\n",
    "projected_graph_words = bipartite.generic_weighted_projected_graph(tweets_users_words_graph, words_nodes, weight_function=my_weight)\n",
    "\n",
    "print(\"Proyeccion grafo usuarios total enlaces:\",projected_graph_users.edges(data=True)[0:10])\n",
    "print(\"Proyeccion grafo palabras total enlaces:\",projected_graph_words.edges(data=True)[0:10])\n",
    "print(\"Proyeccion grafo usuarios total enlaces:\",len(projected_graph_users.edges()))\n",
    "print(\"Proyeccion grafo palabras total enlaces:\",len(projected_graph_words.edges()))\n",
    "\n",
    "# network_edges_file = open(\"file_name_test2.txt\", 'w', encoding=\"utf8\")\n",
    "# print('Source\\tTarget\\tType', file=network_edges_file)\n",
    "# for k in projected_graph_words.edges(data=True):\n",
    "#     print(k, file=network_edges_file)\n",
    "    "
   ]
  },
  {
   "cell_type": "markdown",
   "metadata": {
    "deletable": true,
    "editable": true
   },
   "source": [
    "## Distribución de grados para la red bipartita completa"
   ]
  },
  {
   "cell_type": "code",
   "execution_count": 13,
   "metadata": {
    "collapsed": false,
    "deletable": true,
    "editable": true
   },
   "outputs": [
    {
     "data": {
      "text/plain": [
       "<matplotlib.axes._subplots.AxesSubplot at 0x7fb5acda3940>"
      ]
     },
     "execution_count": 13,
     "metadata": {},
     "output_type": "execute_result"
    },
    {
     "data": {
      "image/png": "[encoded data removed]",
      "text/plain": [
       "<matplotlib.figure.Figure at 0x7fb5acf5afd0>"
      ]
     },
     "metadata": {},
     "output_type": "display_data"
    }
   ],
   "source": [
    "degrees_tweets_users_words_graph = list(tweets_users_words_graph.degree().values())\n",
    "sns.distplot(degrees_tweets_users_words_graph)"
   ]
  },
  {
   "cell_type": "markdown",
   "metadata": {
    "deletable": true,
    "editable": true
   },
   "source": [
    "## Distribución de grados para la red proyectada de usuarios"
   ]
  },
  {
   "cell_type": "code",
   "execution_count": 25,
   "metadata": {
    "collapsed": false,
    "deletable": true,
    "editable": true
   },
   "outputs": [
    {
     "data": {
      "text/plain": [
       "<matplotlib.axes._subplots.AxesSubplot at 0x7fb5a9d39668>"
      ]
     },
     "execution_count": 25,
     "metadata": {},
     "output_type": "execute_result"
    },
    {
     "data": {
      "image/png": "[encoded data removed]",
      "text/plain": [
       "<matplotlib.figure.Figure at 0x7fb5a9d50940>"
      ]
     },
     "metadata": {},
     "output_type": "display_data"
    }
   ],
   "source": [
    "degrees_projected_graph_users = list(projected_graph_users.degree().values())\n",
    "degrees_projected_graph_users = np.array(degrees_projected_graph_users)\n",
    "degrees_projected_graph_users = degrees_projected_graph_users[np.nonzero(degrees_projected_graph_users)]\n",
    "sns.distplot(degrees_projected_graph_users)"
   ]
  },
  {
   "cell_type": "markdown",
   "metadata": {
    "deletable": true,
    "editable": true
   },
   "source": [
    "## Distribución de grados para la red proyectada de palabras"
   ]
  },
  {
   "cell_type": "code",
   "execution_count": 12,
   "metadata": {
    "collapsed": false,
    "deletable": true,
    "editable": true
   },
   "outputs": [
    {
     "data": {
      "text/plain": [
       "<matplotlib.axes._subplots.AxesSubplot at 0x7fb5acfc8dd8>"
      ]
     },
     "execution_count": 12,
     "metadata": {},
     "output_type": "execute_result"
    },
    {
     "data": {
      "image/png": "[encoded data removed]",
      "text/plain": [
       "<matplotlib.figure.Figure at 0x7fb5a9cd44a8>"
      ]
     },
     "metadata": {},
     "output_type": "display_data"
    }
   ],
   "source": [
    "degrees_projected_graph_words = list(projected_graph_words.degree().values())\n",
    "degrees_projected_graph_words = np.array(degrees_projected_graph_words)\n",
    "degrees_projected_graph_words = degrees_projected_graph_words[np.nonzero(degrees_projected_graph_words)]\n",
    "sns.distplot(degrees_projected_graph_words)"
   ]
  },
  {
   "cell_type": "markdown",
   "metadata": {
    "deletable": true,
    "editable": true
   },
   "source": [
    "## Power Law Distribution para la red bipartita completa"
   ]
  },
  {
   "cell_type": "code",
   "execution_count": 10,
   "metadata": {
    "collapsed": false,
    "deletable": true,
    "editable": true
   },
   "outputs": [
    {
     "data": {
      "text/plain": [
       "(0.21386388445702345, 0.99999999999999989, 334.61121911679282)"
      ]
     },
     "execution_count": 10,
     "metadata": {},
     "output_type": "execute_result"
    },
    {
     "data": {
      "image/png": "[encoded data removed]",
      "text/plain": [
       "<matplotlib.figure.Figure at 0x7fb5ad1d92e8>"
      ]
     },
     "metadata": {},
     "output_type": "display_data"
    }
   ],
   "source": [
    "logs_tweets_users_words_graph = np.log(degrees_tweets_users_words_graph)\n",
    "plt.hist(logs_tweets_users_words_graph, log=True)\n",
    "\n",
    "e, l, s = powerlaw.fit(degrees_tweets_users_words_graph)\n",
    "e, l, s"
   ]
  },
  {
   "cell_type": "markdown",
   "metadata": {
    "deletable": true,
    "editable": true
   },
   "source": [
    "## Power Law Distribution para la red proyectada de usuarios"
   ]
  },
  {
   "cell_type": "code",
   "execution_count": 26,
   "metadata": {
    "collapsed": false,
    "deletable": true,
    "editable": true
   },
   "outputs": [
    {
     "data": {
      "text/plain": [
       "(0.30702380578395649, 0.99999999999999978, 1255.8748763112662)"
      ]
     },
     "execution_count": 26,
     "metadata": {},
     "output_type": "execute_result"
    },
    {
     "data": {
      "image/png": "[encoded data removed]",
      "text/plain": [
       "<matplotlib.figure.Figure at 0x7fb5a9ed9160>"
      ]
     },
     "metadata": {},
     "output_type": "display_data"
    }
   ],
   "source": [
    "logs_projected_graph_users = np.log(degrees_projected_graph_users)\n",
    "plt.hist(logs_projected_graph_users, log=True)\n",
    "\n",
    "e_users, l_users, s_users = powerlaw.fit(degrees_projected_graph_users)\n",
    "e_users, l_users, s_users"
   ]
  },
  {
   "cell_type": "markdown",
   "metadata": {
    "deletable": true,
    "editable": true
   },
   "source": [
    "## Power Law Distribution para la red proyectada de palabras"
   ]
  },
  {
   "cell_type": "code",
   "execution_count": 27,
   "metadata": {
    "collapsed": false,
    "deletable": true,
    "editable": true,
    "scrolled": false
   },
   "outputs": [
    {
     "data": {
      "text/plain": [
       "(0.2088168415097742, 0.99999999999999989, 3872.6970439283318)"
      ]
     },
     "execution_count": 27,
     "metadata": {},
     "output_type": "execute_result"
    },
    {
     "data": {
      "image/png": "[encoded data removed]",
      "text/plain": [
       "<matplotlib.figure.Figure at 0x7fb5a9b56f98>"
      ]
     },
     "metadata": {},
     "output_type": "display_data"
    }
   ],
   "source": [
    "logs_projected_graph_words = np.log(degrees_projected_graph_words)\n",
    "plt.hist(logs_projected_graph_words, log=True)\n",
    "\n",
    "e_words, l_words, s_words = powerlaw.fit(degrees_projected_graph_words)\n",
    "e_words, l_words, s_words"
   ]
  },
  {
   "cell_type": "markdown",
   "metadata": {
    "deletable": true,
    "editable": true
   },
   "source": [
    "## Average path length de la red de palabras y usuarios y proyecciones"
   ]
  },
  {
   "cell_type": "code",
   "execution_count": 45,
   "metadata": {
    "collapsed": false,
    "deletable": true,
    "editable": true
   },
   "outputs": [
    {
     "name": "stdout",
     "output_type": "stream",
     "text": [
      "[('vida', 220), ('2696424289', 209), ('😂', 200), ('😍', 187), ('2939078896', 165), ('amor', 155), ('1218805825', 148), ('❤', 144), ('2835601896', 138), ('1470922604', 137)]\n",
      "\n",
      "[('vida', 0.014717687985014717), ('2696424289', 0.013981803585763982), ('😂', 0.01337971635001338), ('😍', 0.01251003478726251), ('2939078896', 0.011038265988761039), ('amor', 0.010369280171260369), ('1218805825', 0.009900990099009901), ('❤', 0.009633395772009633), ('2835601896', 0.009232004281509231), ('1470922604', 0.009165105699759165)]\n",
      "Componentes de la red de palabras y usuarios: 148\n",
      "Enlaces del componente gigante de la red de usuarios y palabras: 28528\n",
      "Diametro del componente gigante de la red de usuarios y palabras: 14\n",
      "Avg shortest path del componente gigante de la red de usuarios y palabras: 5.644388127733482\n",
      " \n",
      "Componentes de la proyección de usuarios: 148\n",
      "Enlaces del componente gigante de la red de usuarios: 233227\n",
      "Diametro del componente gigante de la red de usuarios: 6\n",
      "Avg shortest path del componente gigante de la red de usuarios: 4.679825340296338\n",
      " \n",
      "Componentes de la proyección de palabras: 148\n",
      "giant_component_words: [('vida', 3008), ('amor', 2299), ('gente', 1925), ('vez', 1922), ('😂', 1872), ('mejor', 1831), ('solo', 1761), ('jajaja', 1703), ('mundo', 1696), ('dios', 1691)]\n",
      "12095\n",
      "12095\n"
     ]
    }
   ],
   "source": [
    "tweets_users_words_components = sorted(nx.connected_component_subgraphs(tweets_users_words_graph), key = len, reverse=True)\n",
    "giant_component = tweets_users_words_components[0]\n",
    "giant_component_edges = giant_component.edges()\n",
    "degrees_giant_component = sorted(giant_component.degree().items(), key=operator.itemgetter(1), \n",
    "                                           reverse=True)[0:10]\n",
    "degree_centrality_giant_component = sorted(nx.degree_centrality(giant_component).items(), key=operator.itemgetter(1), \n",
    "                                           reverse=True)[0:10]\n",
    "print(degrees_giant_component)\n",
    "print()\n",
    "print(degree_centrality_giant_component)\n",
    "# giant_component_diameter = nx.diameter(giant_component) #= 13\n",
    "# giant_component_avg_shortest_path = nx.average_shortest_path_length(giant_component, weight='weight')\n",
    "print(\"Componentes de la red de palabras y usuarios:\",len(tweets_users_words_components))\n",
    "print(\"Enlaces del componente gigante de la red de usuarios y palabras:\", len(giant_component_edges))\n",
    "print(\"Diametro del componente gigante de la red de usuarios y palabras:\", giant_component_diameter)\n",
    "print(\"Avg shortest path del componente gigante de la red de usuarios y palabras:\", giant_component_avg_shortest_path)\n",
    "print(\" \")\n",
    "\n",
    "# giant_component_edges_file = open('giant_component_edges_file.txt', 'w')\n",
    "# print('Source\\tTarget\\tType', file=giant_component_edges_file)\n",
    "# for k, v in sorted(giant_component_edges):\n",
    "#     print(k+'\\t'+v+'\\tUndirected', file=giant_component_edges_file)\n",
    "    \n",
    "\n",
    "# print(nx.average_shortest_path_length(giant_component)) = 5.098959450209508\n",
    "# for component in tweets_users_words_components:\n",
    "#     print(len(component))\n",
    "\n",
    "projected_graph_users_components = sorted(nx.connected_component_subgraphs(projected_graph_users), key = len, reverse=True)\n",
    "print(\"Componentes de la proyección de usuarios:\", len(projected_graph_users_components))\n",
    "giant_component_users = projected_graph_users_components[0]\n",
    "giant_component_users_edges = giant_component_users.edges()\n",
    "# giant_component_users_avg_shortest_path = nx.average_shortest_path_length(giant_component_users, weight='weight')\n",
    "# giant_component_users_diameter = nx.diameter(giant_component_users)\n",
    "print(\"Enlaces del componente gigante de la red de usuarios:\", len(giant_component_users_edges))\n",
    "print(\"Diametro del componente gigante de la red de usuarios:\", giant_component_users_diameter)\n",
    "print(\"Avg shortest path del componente gigante de la red de usuarios:\", giant_component_users_avg_shortest_path)\n",
    "print(\" \")\n",
    "\n",
    "\n",
    "projected_graph_words_components = sorted(nx.connected_component_subgraphs(projected_graph_words), key = len, reverse=True)\n",
    "print(\"Componentes de la proyección de palabras:\", len(projected_graph_words_components))\n",
    "giant_component_words = projected_graph_words_components[0]\n",
    "giant_component_words_edges = giant_component_words.edges()\n",
    "\n",
    "degrees_giant_component_words = sorted(giant_component_words.degree().items(), key=operator.itemgetter(1), reverse=True)\n",
    "print(\"giant_component_words:\",degrees_giant_component_words[0:10])\n",
    "print(len(degrees_giant_component_words))\n",
    "print(len(giant_component_words.nodes()))\n",
    "# network_edges_file = open(\"file_name_test3.txt\", 'w', encoding=\"utf8\")\n",
    "# # print('Source\\tTarget\\tType', file=network_edges_file)\n",
    "# for k in degrees_giant_component_words:\n",
    "#     print(k, file=network_edges_file)\n",
    "\n",
    "# giant_component_words_avg_shortest_path = nx.average_shortest_path_length(giant_component_words, weight='weight')\n",
    "# giant_component_words_diameter = nx.diameter(giant_component_words)\n",
    "# print(\"Enlaces del componente gigante de la red de palabras:\", len(giant_component_words_edges))\n",
    "# print(\"Diametro del componente gigante de la red de palabras:\", giant_component_words_diameter)\n",
    "# print(\"Avg shortest path del componente gigante de la red de palabras:\", giant_component_words_avg_shortest_path)"
   ]
  },
  {
   "cell_type": "markdown",
   "metadata": {
    "collapsed": false,
    "deletable": true,
    "editable": true
   },
   "source": [
    "## Coeficiente de Clustering"
   ]
  },
  {
   "cell_type": "code",
   "execution_count": 35,
   "metadata": {
    "collapsed": false,
    "deletable": true,
    "editable": true
   },
   "outputs": [
    {
     "name": "stdout",
     "output_type": "stream",
     "text": [
      "Promedio del coeficiente de clustering de la red de usuarios y palabras: 0.0\n",
      "Promedio del coeficiente de clustering de la red de usuarios: 0.5772418901565632\n",
      "Promedio del coeficiente de clustering de la red aleatoria de usuarios: 0.05742917398388801\n",
      "Promedio del coeficiente de clustering de la red de palabras: 0.8540640763704914\n",
      "Promedio del coeficiente de clustering de la red aleatoria de palabras: 0.005556848386865481\n"
     ]
    }
   ],
   "source": [
    "avg_clustering_tweets_users_words_graph = nx.average_clustering(tweets_users_words_graph)\n",
    "print(\"Promedio del coeficiente de clustering de la red de usuarios y palabras:\", avg_clustering_tweets_users_words_graph)\n",
    "\n",
    "avg_clustering_projected_graph_users = nx.average_clustering(projected_graph_users)\n",
    "print(\"Promedio del coeficiente de clustering de la red de usuarios:\", avg_clustering_projected_graph_users)\n",
    "N_users = len(projected_graph_users.nodes())\n",
    "edges_user = projected_graph_users.edges()\n",
    "p_users = (2*len(edges_user))/(N_users*(N_users-1))\n",
    "random_graph_users = nx.gnp_random_graph(N_users,p_users)\n",
    "avg_clustering_random_graph_users = nx.average_clustering(random_graph_users)\n",
    "print(\"Promedio del coeficiente de clustering de la red aleatoria de usuarios:\", avg_clustering_random_graph_users)\n",
    "\n",
    "avg_clustering_projected_graph_words = nx.average_clustering(projected_graph_words)\n",
    "print(\"Promedio del coeficiente de clustering de la red de palabras:\", avg_clustering_projected_graph_words)\n",
    "N_words = len(projected_graph_words.nodes())\n",
    "edges_words = projected_graph_words.edges()\n",
    "p_words = (2*len(edges_words))/(N_words*(N_words-1))\n",
    "random_graph_words = nx.gnp_random_graph(N_words,p_words)\n",
    "avg_clustering_random_graph_words = nx.average_clustering(random_graph_words)\n",
    "print(\"Promedio del coeficiente de clustering de la red aleatoria de palabras:\", avg_clustering_random_graph_words)"
   ]
  },
  {
   "cell_type": "markdown",
   "metadata": {
    "deletable": true,
    "editable": true
   },
   "source": [
    "## K-cores palabras y usuarios"
   ]
  },
  {
   "cell_type": "code",
   "execution_count": 43,
   "metadata": {
    "collapsed": false,
    "deletable": true,
    "editable": true
   },
   "outputs": [
    {
     "name": "stdout",
     "output_type": "stream",
     "text": [
      "35511\n"
     ]
    }
   ],
   "source": [
    "giant_component_words_k_cores = nx.k_core(giant_component_words)\n",
    "print(len(giant_component_words_k_cores.edges()))\n",
    "nx.write_gexf(giant_component_words_k_cores, \"giant_component_words_k_cores.gexf\")"
   ]
  },
  {
   "cell_type": "markdown",
   "metadata": {
    "deletable": true,
    "editable": true
   },
   "source": [
    "## Archivos con las redes"
   ]
  },
  {
   "cell_type": "code",
   "execution_count": 39,
   "metadata": {
    "collapsed": false,
    "deletable": true,
    "editable": true
   },
   "outputs": [],
   "source": [
    "def export_network_file(network_edges, file_name):\n",
    "    network_edges_file = open(file_name, 'w')\n",
    "    print('Source\\tTarget\\tType', file=network_edges_file)\n",
    "    for k, v in sorted(network_edges):\n",
    "        print(k+'\\t'+v+'\\tUndirected', file=network_edges_file)\n",
    "\n",
    "export_network_file(giant_component_users_edges, 'giant_component_users_edges_file.txt')\n",
    "export_network_file(giant_component_words_edges, 'giant_component_words_edges_file.txt')"
   ]
  }
 ],
 "metadata": {
  "kernelspec": {
   "display_name": "Python 3",
   "language": "python",
   "name": "python3"
  },
  "language_info": {
   "codemirror_mode": {
    "name": "ipython",
    "version": 3
   },
   "file_extension": ".py",
   "mimetype": "text/x-python",
   "name": "python",
   "nbconvert_exporter": "python",
   "pygments_lexer": "ipython3",
   "version": "3.5.2"
  }
 },
 "nbformat": 4,
 "nbformat_minor": 2
}
