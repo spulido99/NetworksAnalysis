{
 "cells": [
  {
   "cell_type": "markdown",
   "metadata": {
    "deletable": true,
    "editable": true
   },
   "source": [
    "# Red bipartita de usuarios y palabras"
   ]
  },
  {
   "cell_type": "code",
   "execution_count": 1,
   "metadata": {
    "collapsed": false,
    "deletable": true,
    "editable": true
   },
   "outputs": [],
   "source": [
    "import networkx as nx\n",
    "from networkx.algorithms import bipartite\n",
    "import matplotlib.pyplot as plt\n",
    "import seaborn as sns\n",
    "import numpy as np\n",
    "from scipy.stats import powerlaw\n",
    "%matplotlib inline\n",
    "sns.set()"
   ]
  },
  {
   "cell_type": "markdown",
   "metadata": {
    "deletable": true,
    "editable": true
   },
   "source": [
    "## Número de nodos y enlaces"
   ]
  },
  {
   "cell_type": "code",
   "execution_count": 7,
   "metadata": {
    "collapsed": false,
    "deletable": true,
    "editable": true
   },
   "outputs": [
    {
     "name": "stdout",
     "output_type": "stream",
     "text": [
      "Total de enlaces: 35708\n",
      "Total de nodos: 15434\n",
      "Total de nodos usuario: 3003\n",
      "Total de nodos de palabras: 12431\n"
     ]
    }
   ],
   "source": [
    "all_edges = []\n",
    "with open('edges_file_total_network_weights_undirected_2.txt', encoding=\"utf8\") as f:\n",
    "    next(f)\n",
    "    for line in f:\n",
    "        edge = line.replace('\\n','').split('\\t')\n",
    "        all_edges.append((edge[0],edge[1]))\n",
    "\n",
    "total_count_edges = len(all_edges)\n",
    "all_nodes = set()\n",
    "users_nodes = set()\n",
    "words_nodes = set()\n",
    "\n",
    "for x,y in all_edges:\n",
    "    users_nodes.add(x)\n",
    "    words_nodes.add(y)\n",
    "    all_nodes.add(x)\n",
    "    all_nodes.add(y)\n",
    "    \n",
    "print(\"Total de enlaces:\", len(all_edges))\n",
    "print(\"Total de nodos:\", len(all_nodes))\n",
    "print(\"Total de nodos usuario:\", len(users_nodes))\n",
    "print(\"Total de nodos de palabras:\", len(words_nodes))"
   ]
  },
  {
   "cell_type": "markdown",
   "metadata": {
    "deletable": true,
    "editable": true
   },
   "source": [
    "## Proyecciones"
   ]
  },
  {
   "cell_type": "code",
   "execution_count": 6,
   "metadata": {
    "collapsed": false,
    "deletable": true,
    "editable": true
   },
   "outputs": [
    {
     "ename": "KeyboardInterrupt",
     "evalue": "",
     "output_type": "error",
     "traceback": [
      "\u001b[0;31m---------------------------------------------------------------------------\u001b[0m",
      "\u001b[0;31mKeyboardInterrupt\u001b[0m                         Traceback (most recent call last)",
      "\u001b[0;32m<ipython-input-6-79e7bd45dc71>\u001b[0m in \u001b[0;36m<module>\u001b[0;34m()\u001b[0m\n\u001b[1;32m      8\u001b[0m     \u001b[0;32mfor\u001b[0m \u001b[0mnode1\u001b[0m \u001b[0;32min\u001b[0m \u001b[0mpossible_nodes\u001b[0m\u001b[0;34m:\u001b[0m\u001b[0;34m\u001b[0m\u001b[0m\n\u001b[1;32m      9\u001b[0m         \u001b[0;32mfor\u001b[0m \u001b[0mnode2\u001b[0m \u001b[0;32min\u001b[0m \u001b[0mpossible_nodes\u001b[0m\u001b[0;34m:\u001b[0m\u001b[0;34m\u001b[0m\u001b[0m\n\u001b[0;32m---> 10\u001b[0;31m             \u001b[0;32mif\u001b[0m \u001b[0;34m(\u001b[0m\u001b[0mnode1\u001b[0m\u001b[0;34m,\u001b[0m\u001b[0mnode2\u001b[0m\u001b[0;34m)\u001b[0m \u001b[0;32mnot\u001b[0m \u001b[0;32min\u001b[0m \u001b[0mprojection_users\u001b[0m \u001b[0;32mand\u001b[0m \u001b[0;34m(\u001b[0m\u001b[0mnode2\u001b[0m\u001b[0;34m,\u001b[0m\u001b[0mnode1\u001b[0m\u001b[0;34m)\u001b[0m \u001b[0;32mnot\u001b[0m \u001b[0;32min\u001b[0m \u001b[0mprojection_users\u001b[0m\u001b[0;34m:\u001b[0m\u001b[0;34m\u001b[0m\u001b[0m\n\u001b[0m\u001b[1;32m     11\u001b[0m                 \u001b[0mprojection_users\u001b[0m\u001b[0;34m.\u001b[0m\u001b[0mappend\u001b[0m\u001b[0;34m(\u001b[0m\u001b[0;34m(\u001b[0m\u001b[0mnode1\u001b[0m\u001b[0;34m,\u001b[0m\u001b[0mnode2\u001b[0m\u001b[0;34m)\u001b[0m\u001b[0;34m)\u001b[0m \u001b[0;32mif\u001b[0m \u001b[0;34m(\u001b[0m\u001b[0mnode1\u001b[0m \u001b[0;34m!=\u001b[0m \u001b[0mnode2\u001b[0m\u001b[0;34m)\u001b[0m \u001b[0;32melse\u001b[0m \u001b[0;36m0\u001b[0m\u001b[0;34m\u001b[0m\u001b[0m\n\u001b[1;32m     12\u001b[0m \u001b[0;34m\u001b[0m\u001b[0m\n",
      "\u001b[0;31mKeyboardInterrupt\u001b[0m: "
     ]
    }
   ],
   "source": [
    "projection_users = []\n",
    "projection_words = []\n",
    "for word in words_nodes:\n",
    "    possible_nodes = set()\n",
    "    for edge in all_edges:\n",
    "        if word in edge:\n",
    "            possible_nodes.add(edge[0])\n",
    "    for node1 in possible_nodes:\n",
    "        for node2 in possible_nodes:\n",
    "            if (node1,node2) not in projection_users and (node2,node1) not in projection_users:\n",
    "                projection_users.append((node1,node2)) if (node1 != node2) else 0\n",
    "                \n",
    "for user in users_nodes:\n",
    "    possible_nodes = set()\n",
    "    for edge in all_edges:\n",
    "        if user in edge:\n",
    "            possible_nodes.add(edge[1])\n",
    "    for node1 in possible_nodes:\n",
    "        for node2 in possible_nodes:\n",
    "            if (node1,node2) not in projection_words and (node2,node1) not in projection_words:\n",
    "                projection_words.append((node1,node2)) if (node1 != node2) else 0\n",
    "                \n",
    "print(\"Proyeccion usuarios total enlaces:\",len(projection_users))\n",
    "print(\"Proyeccion palabras total enlaces:\",len(projection_words))"
   ]
  },
  {
   "cell_type": "markdown",
   "metadata": {
    "deletable": true,
    "editable": true
   },
   "source": [
    "## Proyecciones usando NetworkX"
   ]
  },
  {
   "cell_type": "code",
   "execution_count": 4,
   "metadata": {
    "collapsed": false,
    "deletable": true,
    "editable": true
   },
   "outputs": [
    {
     "name": "stdout",
     "output_type": "stream",
     "text": [
      "Proyeccion grafo usuarios total enlaces: 260852\n",
      "Proyeccion grafo palabras total enlaces: 460130\n"
     ]
    }
   ],
   "source": [
    "tweets_users_words_graph = nx.Graph()\n",
    "tweets_users_words_graph.add_nodes_from(users_nodes, bipartite=0)\n",
    "tweets_users_words_graph.add_nodes_from(words_nodes, bipartite=1)\n",
    "tweets_users_words_graph.add_edges_from(all_edges)\n",
    "\n",
    "projected_graph_users = bipartite.projected_graph(tweets_users_words_graph, users_nodes)\n",
    "projected_graph_words = bipartite.projected_graph(tweets_users_words_graph, words_nodes)\n",
    "\n",
    "print(\"Proyeccion grafo usuarios total enlaces:\",len(projected_graph_users.edges()))\n",
    "print(\"Proyeccion grafo palabras total enlaces:\",len(projected_graph_words.edges()))"
   ]
  },
  {
   "cell_type": "markdown",
   "metadata": {
    "deletable": true,
    "editable": true
   },
   "source": [
    "## Distribución de grados para la red bipartita completa"
   ]
  },
  {
   "cell_type": "code",
   "execution_count": 6,
   "metadata": {
    "collapsed": false,
    "deletable": true,
    "editable": true
   },
   "outputs": [
    {
     "data": {
      "text/plain": [
       "<matplotlib.axes._subplots.AxesSubplot at 0x7fba4001b6a0>"
      ]
     },
     "execution_count": 6,
     "metadata": {},
     "output_type": "execute_result"
    },
    {
     "data": {
      "image/png": "[encoded data removed]",
      "text/plain": [
       "<matplotlib.figure.Figure at 0x7fba37d933c8>"
      ]
     },
     "metadata": {},
     "output_type": "display_data"
    }
   ],
   "source": [
    "degrees_tweets_users_words_graph = list(tweets_users_words_graph.degree().values())\n",
    "sns.distplot(degrees_tweets_users_words_graph)"
   ]
  },
  {
   "cell_type": "markdown",
   "metadata": {
    "deletable": true,
    "editable": true
   },
   "source": [
    "## Distribución de grados para la red proyectada de usuarios"
   ]
  },
  {
   "cell_type": "code",
   "execution_count": 7,
   "metadata": {
    "collapsed": false,
    "deletable": true,
    "editable": true
   },
   "outputs": [
    {
     "data": {
      "text/plain": [
       "<matplotlib.axes._subplots.AxesSubplot at 0x7fba37cb22b0>"
      ]
     },
     "execution_count": 7,
     "metadata": {},
     "output_type": "execute_result"
    },
    {
     "data": {
      "image/png": "[encoded data removed]",
      "text/plain": [
       "<matplotlib.figure.Figure at 0x7fba37c46080>"
      ]
     },
     "metadata": {},
     "output_type": "display_data"
    }
   ],
   "source": [
    "degrees_projected_graph_users = list(projected_graph_users.degree().values())\n",
    "degrees_projected_graph_users = np.array(degrees_projected_graph_users)\n",
    "degrees_projected_graph_users = degrees_projected_graph_users[np.nonzero(degrees_projected_graph_users)]\n",
    "sns.distplot(degrees_projected_graph_users)"
   ]
  },
  {
   "cell_type": "markdown",
   "metadata": {
    "deletable": true,
    "editable": true
   },
   "source": [
    "## Distribución de grados para la red proyectada de palabras"
   ]
  },
  {
   "cell_type": "code",
   "execution_count": 8,
   "metadata": {
    "collapsed": false,
    "deletable": true,
    "editable": true
   },
   "outputs": [
    {
     "data": {
      "text/plain": [
       "<matplotlib.axes._subplots.AxesSubplot at 0x7fba37b6e780>"
      ]
     },
     "execution_count": 8,
     "metadata": {},
     "output_type": "execute_result"
    },
    {
     "data": {
      "image/png": "[encoded data removed]",
      "text/plain": [
       "<matplotlib.figure.Figure at 0x7fba37b04240>"
      ]
     },
     "metadata": {},
     "output_type": "display_data"
    }
   ],
   "source": [
    "degrees_projected_graph_words = list(projected_graph_words.degree().values())\n",
    "degrees_projected_graph_words = np.array(degrees_projected_graph_words)\n",
    "degrees_projected_graph_words = degrees_projected_graph_words[np.nonzero(degrees_projected_graph_words)]\n",
    "sns.distplot(degrees_projected_graph_words)"
   ]
  },
  {
   "cell_type": "markdown",
   "metadata": {
    "deletable": true,
    "editable": true
   },
   "source": [
    "## Power Law Distribution para la red bipartita completa"
   ]
  },
  {
   "cell_type": "code",
   "execution_count": 9,
   "metadata": {
    "collapsed": false,
    "deletable": true,
    "editable": true
   },
   "outputs": [
    {
     "data": {
      "text/plain": [
       "(0.30575224789226124, 0.99999999999999989, 397.58427379755062)"
      ]
     },
     "execution_count": 9,
     "metadata": {},
     "output_type": "execute_result"
    },
    {
     "data": {
      "image/png": "[encoded data removed]",
      "text/plain": [
       "<matplotlib.figure.Figure at 0x7fba37a14128>"
      ]
     },
     "metadata": {},
     "output_type": "display_data"
    }
   ],
   "source": [
    "logs_tweets_users_words_graph = np.log(degrees_tweets_users_words_graph)\n",
    "plt.hist(logs_tweets_users_words_graph, log=True)\n",
    "\n",
    "e, l, s = powerlaw.fit(degrees_tweets_users_words_graph)\n",
    "e, l, s"
   ]
  },
  {
   "cell_type": "markdown",
   "metadata": {
    "deletable": true,
    "editable": true
   },
   "source": [
    "## Power Law Distribution para la red proyectada de usuarios"
   ]
  },
  {
   "cell_type": "code",
   "execution_count": 10,
   "metadata": {
    "collapsed": false,
    "deletable": true,
    "editable": true
   },
   "outputs": [
    {
     "data": {
      "text/plain": [
       "(0.40136040358609915, 0.99999999999999978, 1345.7514635819489)"
      ]
     },
     "execution_count": 10,
     "metadata": {},
     "output_type": "execute_result"
    },
    {
     "data": {
      "image/png": "[encoded data removed]",
      "text/plain": [
       "<matplotlib.figure.Figure at 0x7fba37a140f0>"
      ]
     },
     "metadata": {},
     "output_type": "display_data"
    }
   ],
   "source": [
    "logs_projected_graph_users = np.log(degrees_projected_graph_users)\n",
    "plt.hist(logs_projected_graph_users, log=True)\n",
    "\n",
    "e_users, l_users, s_users = powerlaw.fit(degrees_projected_graph_users)\n",
    "e_users, l_users, s_users"
   ]
  },
  {
   "cell_type": "markdown",
   "metadata": {
    "deletable": true,
    "editable": true
   },
   "source": [
    "## Power Law Distribution para la red proyectada de palabras"
   ]
  },
  {
   "cell_type": "code",
   "execution_count": 11,
   "metadata": {
    "collapsed": false,
    "deletable": true,
    "editable": true
   },
   "outputs": [
    {
     "data": {
      "text/plain": [
       "(0.19384867451653767, 0.99999999999999978, 4638.6813962276701)"
      ]
     },
     "execution_count": 11,
     "metadata": {},
     "output_type": "execute_result"
    },
    {
     "data": {
      "image/png": "[encoded data removed]",
      "text/plain": [
       "<matplotlib.figure.Figure at 0x7fba37b04eb8>"
      ]
     },
     "metadata": {},
     "output_type": "display_data"
    }
   ],
   "source": [
    "logs_projected_graph_words = np.log(degrees_projected_graph_words)\n",
    "plt.hist(logs_projected_graph_words, log=True)\n",
    "\n",
    "e_words, l_words, s_words = powerlaw.fit(degrees_projected_graph_words)\n",
    "e_words, l_words, s_words"
   ]
  },
  {
   "cell_type": "markdown",
   "metadata": {
    "deletable": true,
    "editable": true
   },
   "source": [
    "## Average path length de la red de palabras y usuarios y proyecciones"
   ]
  },
  {
   "cell_type": "code",
   "execution_count": 16,
   "metadata": {
    "collapsed": false,
    "deletable": true,
    "editable": true
   },
   "outputs": [
    {
     "name": "stdout",
     "output_type": "stream",
     "text": [
      "Componentes de la red de palabras y usuarios: 125\n",
      "Enlaces del componente gigante de la red de usuarios y palabras: 31685\n",
      "Diametro del componente gigante de la red de usuarios y palabras: 13\n",
      "Avg shortest path del componente gigante de la red de usuarios y palabras: 5.098959450209508\n",
      " \n",
      "Componentes de la proyección de usuarios: 125\n",
      "Enlaces del componente gigante de la red de usuarios: 260850\n",
      "Diametro del componente gigante de la red de usuarios: 6\n",
      "Avg shortest path del componente gigante de la red de usuarios: 2.10614504622125\n",
      " \n",
      "Componentes de la proyección de palabras: 125\n",
      "Enlaces del componente gigante de la red de palabras: 459216\n",
      "Diametro del componente gigante de la red de palabras: 6\n",
      "Avg shortest path del componente gigante de la red de palabras: 2.643181597626508\n"
     ]
    }
   ],
   "source": [
    "tweets_users_words_components = sorted(nx.connected_component_subgraphs(tweets_users_words_graph), key = len, reverse=True)\n",
    "giant_component = tweets_users_words_components[0]\n",
    "giant_component_edges = giant_component.edges()\n",
    "# giant_component_diameter = nx.diameter(giant_component) #= 13\n",
    "# giant_component_avg_shortest_path = nx.average_shortest_path_length(giant_component)\n",
    "print(\"Componentes de la red de palabras y usuarios:\",len(tweets_users_words_components))\n",
    "print(\"Enlaces del componente gigante de la red de usuarios y palabras:\", len(giant_component_edges))\n",
    "print(\"Diametro del componente gigante de la red de usuarios y palabras:\", giant_component_diameter)\n",
    "print(\"Avg shortest path del componente gigante de la red de usuarios y palabras:\", giant_component_avg_shortest_path)\n",
    "print(\" \")\n",
    "\n",
    "# giant_component_edges_file = open('giant_component_edges_file.txt', 'w')\n",
    "# print('Source\\tTarget\\tType', file=giant_component_edges_file)\n",
    "# for k, v in sorted(giant_component_edges):\n",
    "#     print(k+'\\t'+v+'\\tUndirected', file=giant_component_edges_file)\n",
    "    \n",
    "\n",
    "# print(nx.average_shortest_path_length(giant_component)) = 5.098959450209508\n",
    "# for component in tweets_users_words_components:\n",
    "#     print(len(component))\n",
    "\n",
    "projected_graph_users_components = sorted(nx.connected_component_subgraphs(projected_graph_users), key = len, reverse=True)\n",
    "print(\"Componentes de la proyección de usuarios:\", len(projected_graph_users_components))\n",
    "giant_component_users = projected_graph_users_components[0]\n",
    "giant_component_users_edges = giant_component_users.edges()\n",
    "# giant_component_users_avg_shortest_path = nx.average_shortest_path_length(giant_component_users)\n",
    "# giant_component_users_diameter = nx.diameter(giant_component_users)\n",
    "print(\"Enlaces del componente gigante de la red de usuarios:\", len(giant_component_users_edges))\n",
    "print(\"Diametro del componente gigante de la red de usuarios:\", giant_component_users_diameter)\n",
    "print(\"Avg shortest path del componente gigante de la red de usuarios:\", giant_component_users_avg_shortest_path)\n",
    "print(\" \")\n",
    "\n",
    "\n",
    "projected_graph_words_components = sorted(nx.connected_component_subgraphs(projected_graph_words), key = len, reverse=True)\n",
    "print(\"Componentes de la proyección de palabras:\", len(projected_graph_words_components))\n",
    "giant_component_words = projected_graph_words_components[0]\n",
    "giant_component_words_edges = giant_component_words.edges()\n",
    "# giant_component_words_avg_shortest_path = nx.average_shortest_path_length(giant_component_words)\n",
    "# giant_component_words_diameter = nx.diameter(giant_component_words)\n",
    "print(\"Enlaces del componente gigante de la red de palabras:\", len(giant_component_words_edges))\n",
    "print(\"Diametro del componente gigante de la red de palabras:\", giant_component_words_diameter)\n",
    "print(\"Avg shortest path del componente gigante de la red de palabras:\", giant_component_words_avg_shortest_path)"
   ]
  },
  {
   "cell_type": "markdown",
   "metadata": {
    "collapsed": false,
    "deletable": true,
    "editable": true
   },
   "source": [
    "## Coeficiente de Clustering"
   ]
  },
  {
   "cell_type": "code",
   "execution_count": 35,
   "metadata": {
    "collapsed": false,
    "deletable": true,
    "editable": true
   },
   "outputs": [
    {
     "name": "stdout",
     "output_type": "stream",
     "text": [
      "Promedio del coeficiente de clustering de la red de usuarios y palabras: 0.0\n",
      "Promedio del coeficiente de clustering de la red de usuarios: 0.5772418901565632\n",
      "Promedio del coeficiente de clustering de la red aleatoria de usuarios: 0.05742917398388801\n",
      "Promedio del coeficiente de clustering de la red de palabras: 0.8540640763704914\n",
      "Promedio del coeficiente de clustering de la red aleatoria de palabras: 0.005556848386865481\n"
     ]
    }
   ],
   "source": [
    "avg_clustering_tweets_users_words_graph = nx.average_clustering(tweets_users_words_graph)\n",
    "print(\"Promedio del coeficiente de clustering de la red de usuarios y palabras:\", avg_clustering_tweets_users_words_graph)\n",
    "\n",
    "avg_clustering_projected_graph_users = nx.average_clustering(projected_graph_users)\n",
    "print(\"Promedio del coeficiente de clustering de la red de usuarios:\", avg_clustering_projected_graph_users)\n",
    "N_users = len(projected_graph_users.nodes())\n",
    "edges_user = projected_graph_users.edges()\n",
    "p_users = (2*len(edges_user))/(N_users*(N_users-1))\n",
    "random_graph_users = nx.gnp_random_graph(N_users,p_users)\n",
    "avg_clustering_random_graph_users = nx.average_clustering(random_graph_users)\n",
    "print(\"Promedio del coeficiente de clustering de la red aleatoria de usuarios:\", avg_clustering_random_graph_users)\n",
    "\n",
    "avg_clustering_projected_graph_words = nx.average_clustering(projected_graph_words)\n",
    "print(\"Promedio del coeficiente de clustering de la red de palabras:\", avg_clustering_projected_graph_words)\n",
    "N_words = len(projected_graph_words.nodes())\n",
    "edges_words = projected_graph_words.edges()\n",
    "p_words = (2*len(edges_words))/(N_words*(N_words-1))\n",
    "random_graph_words = nx.gnp_random_graph(N_words,p_words)\n",
    "avg_clustering_random_graph_words = nx.average_clustering(random_graph_words)\n",
    "print(\"Promedio del coeficiente de clustering de la red aleatoria de palabras:\", avg_clustering_random_graph_words)"
   ]
  },
  {
   "cell_type": "markdown",
   "metadata": {
    "deletable": true,
    "editable": true
   },
   "source": [
    "## K-cores palabras y usuarios"
   ]
  },
  {
   "cell_type": "code",
   "execution_count": 43,
   "metadata": {
    "collapsed": false,
    "deletable": true,
    "editable": true
   },
   "outputs": [
    {
     "name": "stdout",
     "output_type": "stream",
     "text": [
      "35511\n"
     ]
    }
   ],
   "source": [
    "giant_component_words_k_cores = nx.k_core(giant_component_words)\n",
    "print(len(giant_component_words_k_cores.edges()))\n",
    "nx.write_gexf(giant_component_words_k_cores, \"giant_component_words_k_cores.gexf\")"
   ]
  },
  {
   "cell_type": "markdown",
   "metadata": {
    "deletable": true,
    "editable": true
   },
   "source": [
    "## Archivos con las redes"
   ]
  },
  {
   "cell_type": "code",
   "execution_count": 39,
   "metadata": {
    "collapsed": false,
    "deletable": true,
    "editable": true
   },
   "outputs": [],
   "source": [
    "def export_network_file(network_edges, file_name):\n",
    "    network_edges_file = open(file_name, 'w')\n",
    "    print('Source\\tTarget\\tType', file=network_edges_file)\n",
    "    for k, v in sorted(network_edges):\n",
    "        print(k+'\\t'+v+'\\tUndirected', file=network_edges_file)\n",
    "\n",
    "export_network_file(giant_component_users_edges, 'giant_component_users_edges_file.txt')\n",
    "export_network_file(giant_component_words_edges, 'giant_component_words_edges_file.txt')"
   ]
  }
 ],
 "metadata": {
  "kernelspec": {
   "display_name": "Python 3",
   "language": "python",
   "name": "python3"
  },
  "language_info": {
   "codemirror_mode": {
    "name": "ipython",
    "version": 3
   },
   "file_extension": ".py",
   "mimetype": "text/x-python",
   "name": "python",
   "nbconvert_exporter": "python",
   "pygments_lexer": "ipython3",
   "version": "3.5.2"
  }
 },
 "nbformat": 4,
 "nbformat_minor": 2
}
