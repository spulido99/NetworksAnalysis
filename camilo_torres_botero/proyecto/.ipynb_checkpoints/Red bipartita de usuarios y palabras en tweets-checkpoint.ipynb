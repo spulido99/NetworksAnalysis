{
 "cells": [
  {
   "cell_type": "markdown",
   "metadata": {
    "deletable": true,
    "editable": true
   },
   "source": [
    "# Red bipartita de usuarios y palabras"
   ]
  },
  {
   "cell_type": "code",
   "execution_count": 3,
   "metadata": {
    "collapsed": false,
    "deletable": true,
    "editable": true
   },
   "outputs": [],
   "source": [
    "import networkx as nx\n",
    "from networkx.algorithms import bipartite\n",
    "import matplotlib.pyplot as plt\n",
    "import seaborn as sns\n",
    "import numpy as np\n",
    "from scipy.stats import powerlaw\n",
    "%matplotlib inline\n",
    "sns.set()"
   ]
  },
  {
   "cell_type": "markdown",
   "metadata": {
    "deletable": true,
    "editable": true
   },
   "source": [
    "## Número de nodos y enlaces"
   ]
  },
  {
   "cell_type": "code",
   "execution_count": 4,
   "metadata": {
    "collapsed": false,
    "deletable": true,
    "editable": true
   },
   "outputs": [
    {
     "name": "stdout",
     "output_type": "stream",
     "text": [
      "Total de enlaces: 32159\n",
      "Total de nodos: 15924\n",
      "Total de nodos usuario: 3015\n",
      "Total de nodos de palabras: 12909\n"
     ]
    }
   ],
   "source": [
    "all_edges = set()\n",
    "with open('edges_file_caobanutresa_nouns_emojis_adjectives.txt') as f:\n",
    "    next(f)\n",
    "    for line in f:\n",
    "        edge = line.replace('\\n','').split('\\t')\n",
    "        all_edges.add((edge[0],edge[1]))\n",
    "\n",
    "total_count_edges = len(all_edges)\n",
    "all_nodes = set()\n",
    "users_nodes = set()\n",
    "words_nodes = set()\n",
    "\n",
    "for x,y in all_edges:\n",
    "    users_nodes.add(x)\n",
    "    words_nodes.add(y)\n",
    "    all_nodes.add(x)\n",
    "    all_nodes.add(y)\n",
    "    \n",
    "print(\"Total de enlaces:\", len(all_edges))\n",
    "print(\"Total de nodos:\", len(all_nodes))\n",
    "print(\"Total de nodos usuario:\", len(users_nodes))\n",
    "print(\"Total de nodos de palabras:\", len(words_nodes))"
   ]
  },
  {
   "cell_type": "markdown",
   "metadata": {
    "deletable": true,
    "editable": true
   },
   "source": [
    "## Proyecciones"
   ]
  },
  {
   "cell_type": "code",
   "execution_count": 19,
   "metadata": {
    "collapsed": false,
    "deletable": true,
    "editable": true
   },
   "outputs": [
    {
     "name": "stdout",
     "output_type": "stream",
     "text": [
      "Proyeccion usuarios total enlaces: 265056\n",
      "Proyeccion palabras total enlaces: 463633\n"
     ]
    }
   ],
   "source": [
    "projection_users = set()\n",
    "projection_words = set()\n",
    "for word in words_nodes:\n",
    "    possible_nodes = set()\n",
    "    for edge in all_edges:\n",
    "        if word in edge:\n",
    "            possible_nodes.add(edge[0])\n",
    "    for node1 in possible_nodes:\n",
    "        for node2 in possible_nodes:\n",
    "            if (node1,node2) not in projection_users and (node2,node1) not in projection_users:\n",
    "                projection_users.add((node1,node2)) if (node1 != node2) else 0\n",
    "                \n",
    "for user in users_nodes:\n",
    "    possible_nodes = set()\n",
    "    for edge in all_edges:\n",
    "        if user in edge:\n",
    "            possible_nodes.add(edge[1])\n",
    "    for node1 in possible_nodes:\n",
    "        for node2 in possible_nodes:\n",
    "            if (node1,node2) not in projection_words and (node2,node1) not in projection_words:\n",
    "                projection_words.add((node1,node2)) if (node1 != node2) else 0\n",
    "                \n",
    "print(\"Proyeccion usuarios total enlaces:\",len(projection_users))\n",
    "print(\"Proyeccion palabras total enlaces:\",len(projection_words))"
   ]
  },
  {
   "cell_type": "markdown",
   "metadata": {
    "deletable": true,
    "editable": true
   },
   "source": [
    "## Proyecciones usando NetworkX"
   ]
  },
  {
   "cell_type": "code",
   "execution_count": 5,
   "metadata": {
    "collapsed": false,
    "deletable": true,
    "editable": true
   },
   "outputs": [
    {
     "name": "stdout",
     "output_type": "stream",
     "text": [
      "Proyeccion grafo usuarios total enlaces: 265056\n",
      "Proyeccion grafo palabras total enlaces: 463633\n"
     ]
    }
   ],
   "source": [
    "tweets_users_words_graph = nx.Graph()\n",
    "tweets_users_words_graph.add_nodes_from(users_nodes, bipartite=0)\n",
    "tweets_users_words_graph.add_nodes_from(words_nodes, bipartite=1)\n",
    "tweets_users_words_graph.add_edges_from(all_edges)\n",
    "\n",
    "projected_graph_users = bipartite.projected_graph(tweets_users_words_graph, users_nodes)\n",
    "projected_graph_words = bipartite.projected_graph(tweets_users_words_graph, words_nodes)\n",
    "\n",
    "print(\"Proyeccion grafo usuarios total enlaces:\",len(projected_graph_users.edges()))\n",
    "print(\"Proyeccion grafo palabras total enlaces:\",len(projected_graph_words.edges()))"
   ]
  },
  {
   "cell_type": "markdown",
   "metadata": {
    "deletable": true,
    "editable": true
   },
   "source": [
    "## Distribución de grados para la red bipartita completa"
   ]
  },
  {
   "cell_type": "code",
   "execution_count": 6,
   "metadata": {
    "collapsed": false,
    "deletable": true,
    "editable": true
   },
   "outputs": [
    {
     "data": {
      "text/plain": [
       "<matplotlib.axes._subplots.AxesSubplot at 0x7f6fbe640a20>"
      ]
     },
     "execution_count": 6,
     "metadata": {},
     "output_type": "execute_result"
    },
    {
     "data": {
      "image/png": "[encoded data removed]",
      "text/plain": [
       "<matplotlib.figure.Figure at 0x7f6ffc1c7e48>"
      ]
     },
     "metadata": {},
     "output_type": "display_data"
    }
   ],
   "source": [
    "degrees_tweets_users_words_graph = list(tweets_users_words_graph.degree().values())\n",
    "sns.distplot(degrees_tweets_users_words_graph)"
   ]
  },
  {
   "cell_type": "markdown",
   "metadata": {
    "deletable": true,
    "editable": true
   },
   "source": [
    "## Distribución de grados para la red proyectada de usuarios"
   ]
  },
  {
   "cell_type": "code",
   "execution_count": 11,
   "metadata": {
    "collapsed": false,
    "deletable": true,
    "editable": true
   },
   "outputs": [
    {
     "data": {
      "text/plain": [
       "<matplotlib.axes._subplots.AxesSubplot at 0x7f6fba323d68>"
      ]
     },
     "execution_count": 11,
     "metadata": {},
     "output_type": "execute_result"
    },
    {
     "data": {
      "image/png": "[encoded data removed]",
      "text/plain": [
       "<matplotlib.figure.Figure at 0x7f6fba158320>"
      ]
     },
     "metadata": {},
     "output_type": "display_data"
    }
   ],
   "source": [
    "degrees_projected_graph_users = list(projected_graph_users.degree().values())\n",
    "sns.distplot(degrees_projected_graph_users)"
   ]
  },
  {
   "cell_type": "markdown",
   "metadata": {
    "deletable": true,
    "editable": true
   },
   "source": [
    "## Distribución de grados para la red proyectada de palabras"
   ]
  },
  {
   "cell_type": "code",
   "execution_count": 8,
   "metadata": {
    "collapsed": false,
    "deletable": true,
    "editable": true
   },
   "outputs": [
    {
     "data": {
      "text/plain": [
       "<matplotlib.axes._subplots.AxesSubplot at 0x7f6fba519be0>"
      ]
     },
     "execution_count": 8,
     "metadata": {},
     "output_type": "execute_result"
    },
    {
     "data": {
      "image/png": "[encoded data removed]",
      "text/plain": [
       "<matplotlib.figure.Figure at 0x7f6fba52cd30>"
      ]
     },
     "metadata": {},
     "output_type": "display_data"
    }
   ],
   "source": [
    "degrees_projected_graph_words = list(projected_graph_words.degree().values())\n",
    "sns.distplot(degrees_projected_graph_words)"
   ]
  },
  {
   "cell_type": "markdown",
   "metadata": {
    "deletable": true,
    "editable": true
   },
   "source": [
    "## Power Law Distribution para la red bipartita completa"
   ]
  },
  {
   "cell_type": "code",
   "execution_count": 9,
   "metadata": {
    "collapsed": false,
    "deletable": true,
    "editable": true
   },
   "outputs": [
    {
     "data": {
      "text/plain": [
       "(0.30575224789226124, 0.99999999999999989, 397.58427379755062)"
      ]
     },
     "execution_count": 9,
     "metadata": {},
     "output_type": "execute_result"
    },
    {
     "data": {
      "image/png": "[encoded data removed]",
      "text/plain": [
       "<matplotlib.figure.Figure at 0x7f6fba3e1908>"
      ]
     },
     "metadata": {},
     "output_type": "display_data"
    }
   ],
   "source": [
    "logs_tweets_users_words_graph = np.log(degrees_tweets_users_words_graph)\n",
    "plt.hist(logs_tweets_users_words_graph, log=True)\n",
    "\n",
    "e, l, s = powerlaw.fit(degrees_tweets_users_words_graph)\n",
    "e, l, s"
   ]
  },
  {
   "cell_type": "markdown",
   "metadata": {},
   "source": [
    "## Power Law Distribution para la red proyectada de usuarios"
   ]
  },
  {
   "cell_type": "code",
   "execution_count": 29,
   "metadata": {
    "collapsed": false
   },
   "outputs": [
    {
     "name": "stdout",
     "output_type": "stream",
     "text": [
      "degrees_tweets_users_words_graph: 3015\n",
      "logs_projected_graph_users: 3015\n"
     ]
    },
    {
     "name": "stderr",
     "output_type": "stream",
     "text": [
      "/usr/local/lib/python3.5/dist-packages/ipykernel/__main__.py:1: RuntimeWarning: divide by zero encountered in log\n",
      "  if __name__ == '__main__':\n",
      "/usr/local/lib/python3.5/dist-packages/ipykernel/__main__.py:6: RuntimeWarning: divide by zero encountered in log\n"
     ]
    }
   ],
   "source": [
    "logs_projected_graph_users = np.log(degrees_projected_graph_users)\n",
    "print(\"degrees_tweets_users_words_graph:\", len(degrees_projected_graph_users))\n",
    "print(\"logs_projected_graph_users:\", len(logs_projected_graph_users))\n",
    "\n",
    "for n in degrees_projected_graph_users:\n",
    "    log_value = np.log(n)\n",
    "    if np.isinf(log_value):\n",
    "        print(\"log_value\": log_value)\n",
    "        print(\"n:\", n)\n",
    "\n",
    "# plt.hist(logs_projected_graph_users, log=True)\n",
    "\n",
    "# e_users, l_users, s_users = powerlaw.fit(degrees_tweets_users_words_graph)\n",
    "# e_users, l_users, s_users"
   ]
  }
 ],
 "metadata": {
  "kernelspec": {
   "display_name": "Python 3",
   "language": "python",
   "name": "python3"
  },
  "language_info": {
   "codemirror_mode": {
    "name": "ipython",
    "version": 3
   },
   "file_extension": ".py",
   "mimetype": "text/x-python",
   "name": "python",
   "nbconvert_exporter": "python",
   "pygments_lexer": "ipython3",
   "version": "3.5.2"
  }
 },
 "nbformat": 4,
 "nbformat_minor": 2
}
