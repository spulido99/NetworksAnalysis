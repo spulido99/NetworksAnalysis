{
 "cells": [
  {
   "cell_type": "code",
   "execution_count": 15,
   "metadata": {
    "collapsed": false
   },
   "outputs": [],
   "source": [
    "import networkx as nx\n",
    "from networkx.algorithms import bipartite\n",
    "import matplotlib.pyplot as plt\n",
    "import seaborn as sns\n",
    "import numpy as np\n",
    "from scipy.stats import powerlaw\n",
    "%matplotlib inline\n",
    "sns.set()\n",
    "\n",
    "all_edges = set()\n",
    "with open('test_authors.txt') as f:\n",
    "    for line in f:\n",
    "        users = line.replace('\\n','').split(',')\n",
    "        for user1 in users:\n",
    "            for user2 in users:\n",
    "                if ((user1,user2) not in all_edges and (user2,user1) not in all_edges) and (user1 != user2):\n",
    "                    all_edges.add((user1,user2))\n",
    "    \n",
    "edges_file = open('test_users_network.txt', 'w')\n",
    "\n",
    "print('source\\ttarget', file=edges_file)\n",
    "for k, v in sorted(all_edges):\n",
    "    print(k+'\\t'+v, file=edges_file)"
   ]
  }
 ],
 "metadata": {
  "kernelspec": {
   "display_name": "Python 3",
   "language": "python",
   "name": "python3"
  },
  "language_info": {
   "codemirror_mode": {
    "name": "ipython",
    "version": 3
   },
   "file_extension": ".py",
   "mimetype": "text/x-python",
   "name": "python",
   "nbconvert_exporter": "python",
   "pygments_lexer": "ipython3",
   "version": "3.5.2"
  }
 },
 "nbformat": 4,
 "nbformat_minor": 2
}
