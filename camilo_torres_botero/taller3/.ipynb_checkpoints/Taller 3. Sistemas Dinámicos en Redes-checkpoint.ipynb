{
 "cells": [
  {
   "cell_type": "markdown",
   "metadata": {
    "deletable": true,
    "editable": true
   },
   "source": [
    "# Sistemas Dinámicos en Redes (Modelos Epidemiológicos)\n",
    "\n",
    "\n",
    "## Implementación Espacial\n",
    "\n",
    "Cree una población de 10.000 individuos en un espacio cuadrado (100 x 100). Cada individuo esta conectado por un enlace con los individuos adyacentes (los 8 alrededor)."
   ]
  },
  {
   "cell_type": "markdown",
   "metadata": {
    "deletable": true,
    "editable": true
   },
   "source": [
    "### Implementar el modelo epidemiológico SI\n",
    "\n",
    "Graficar la cantidad de Sanos y de Infectados en cada periodo de tiempo $t$"
   ]
  },
  {
   "cell_type": "code",
   "execution_count": null,
   "metadata": {
    "collapsed": true,
    "deletable": true,
    "editable": true
   },
   "outputs": [],
   "source": []
  },
  {
   "cell_type": "markdown",
   "metadata": {
    "deletable": true,
    "editable": true
   },
   "source": [
    "### Elija otro modelo Epidemiológico e implementelo\n",
    "\n",
    "Grafique la cantidad de Sanos, Infectados y resistentes para cada tiempo $t$ según corresponda al modelo"
   ]
  },
  {
   "cell_type": "code",
   "execution_count": null,
   "metadata": {
    "collapsed": true,
    "deletable": true,
    "editable": true
   },
   "outputs": [],
   "source": []
  },
  {
   "cell_type": "markdown",
   "metadata": {
    "deletable": true,
    "editable": true
   },
   "source": [
    "### Efectos de parametros e infectados iniciales\n",
    "Grafique con varios parametros y explique cómo la posición de diferentes infectados iniciales (i.e. ejecute varias veces) afecta el comportamiento en la transmisión de la enfermedad"
   ]
  },
  {
   "cell_type": "code",
   "execution_count": null,
   "metadata": {
    "collapsed": true,
    "deletable": true,
    "editable": true
   },
   "outputs": [],
   "source": []
  },
  {
   "cell_type": "markdown",
   "metadata": {
    "deletable": true,
    "editable": true
   },
   "source": [
    "## Red Social\n",
    "\n",
    "Utilizando una red social (bajada de SNAP o cualquier otro sitio) aplique el modelo epidemiológico SI y el otro modelo epidemiológico implementado.\n",
    "\n",
    "### Efectos de los parametros e infectados iniciales\n",
    "\n",
    "Grafique con varios parametros y explique cuales parametros de centralidad de los infectados iniciales afecta la dinámica del sistema (i.e. tiempo de transmisión, tiempo de enfermar a todas las personas, etc)"
   ]
  },
  {
   "cell_type": "code",
   "execution_count": null,
   "metadata": {
    "collapsed": true,
    "deletable": true,
    "editable": true
   },
   "outputs": [],
   "source": []
  }
 ],
 "metadata": {
  "anaconda-cloud": {},
  "hide_input": false,
  "kernelspec": {
   "display_name": "Python 3",
   "language": "python",
   "name": "python3"
  },
  "language_info": {
   "codemirror_mode": {
    "name": "ipython",
    "version": 3
   },
   "file_extension": ".py",
   "mimetype": "text/x-python",
   "name": "python",
   "nbconvert_exporter": "python",
   "pygments_lexer": "ipython3",
   "version": "3.5.2"
  },
  "toc": {
   "colors": {
    "hover_highlight": "#DAA520",
    "running_highlight": "#FF0000",
    "selected_highlight": "#FFD700"
   },
   "moveMenuLeft": true,
   "nav_menu": {
    "height": "31px",
    "width": "252px"
   },
   "navigate_menu": true,
   "number_sections": true,
   "sideBar": true,
   "threshold": 4,
   "toc_cell": false,
   "toc_section_display": "block",
   "toc_window_display": false
  }
 },
 "nbformat": 4,
 "nbformat_minor": 1
}
